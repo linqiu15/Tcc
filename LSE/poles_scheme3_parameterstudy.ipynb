{
 "cells": [
  {
   "cell_type": "code",
   "execution_count": 42,
   "id": "ffd27504",
   "metadata": {},
   "outputs": [],
   "source": [
    "using QuadGK,LaTeXStrings,LinearAlgebra,BenchmarkTools;\n",
    "using Plots,CSV,DataFrames;\n",
    "import NLsolve,Roots;\n",
    "import Optim;\n",
    "pyplot(frame=:box, minorticks=5, size=(500,350), fontfamily=\"serif\",titlefontsize=11\n",
    "    ,guidefontsize=12,tickfontsize=11,legendfontsize=9,\n",
    "    bg_color_legend = RGBA(1,1,1,0.15), markerstrokecolor= :auto);"
   ]
  },
  {
   "cell_type": "code",
   "execution_count": 2,
   "id": "99ba8064",
   "metadata": {},
   "outputs": [],
   "source": [
    "include(\"./libs/constants.jl\");\n",
    "include(\"./libs/pwa.jl\");\n",
    "include(\"./libs/potentials.jl\");"
   ]
  },
  {
   "cell_type": "code",
   "execution_count": 3,
   "id": "058f72d6",
   "metadata": {},
   "outputs": [
    {
     "data": {
      "text/plain": [
       "xsqrt1 (generic function with 1 method)"
      ]
     },
     "execution_count": 3,
     "metadata": {},
     "output_type": "execute_result"
    }
   ],
   "source": [
    "λf(x, y, z) = x^2 + y^2 + z^2 - 2 * x * y - 2 * x * z - 2 * y * z\n",
    "q0f(E, m1, m2, m3, m4) = abs(m3^2 - m4^2 - m1^2 + m2^2) / (2 * E)\n",
    "μf(m1, m2) = m1 * m2 / (m1 + m2)\n",
    "\n",
    "# redefine sqrt so that its cut is along the positive x axis\n",
    "function xsqrt(x)\n",
    "    imag(x) >=0 ? sqrt(x+0im) : -sqrt(x-0im)\n",
    "end\n",
    "xsqrt1(x)= (imag(x)<0&&real(x)>0) ? -xsqrt(x) : xsqrt(x)"
   ]
  },
  {
   "cell_type": "code",
   "execution_count": 4,
   "id": "677b1d49",
   "metadata": {},
   "outputs": [
    {
     "data": {
      "text/plain": [
       "qon_0 (generic function with 1 method)"
      ]
     },
     "execution_count": 4,
     "metadata": {},
     "output_type": "execute_result"
    }
   ],
   "source": [
    "function Γf(E,q,m1,m2,m3,m12)\n",
    "    E1=E+m12-sqrt(m12^2+q^2+0im)-sqrt(m3^2+q^2+0im)\n",
    "    μ=(m1*m2)/(m1+m2)\n",
    "    return (imag(E1)<0&&real(E1)>(m1+m2)) ? -xsqrt(2*μ*(E1-m1-m2)+0im) : xsqrt(2*μ*(E1-m1-m2)+0im)\n",
    "end\n",
    "\n",
    "function Γf3(E,q,m1,m2,m3,m12)\n",
    "    E1=E+m12-sqrt(m12^2+q^2+0im)-sqrt(m3^2+q^2+0im)\n",
    "    μ=(m1*m2)/(m1+m2)\n",
    "    return (imag(E1)<0&&real(E1)>(m1+m2)) ? -xsqrt(2*μ*(E1-m1-m2)+0im)^3 : xsqrt(2*μ*(E1-m1-m2)+0im)^3\n",
    "end\n",
    "\n",
    "function dΓf3(E,q,m1,m2,m3,m12)\n",
    "    E1=E+m12-sqrt(m12^2+q^2+0im)-sqrt(m3^2+q^2+0im)\n",
    "    μ=(m1*m2)/(m1+m2)\n",
    "    tmp=-3*μ*xsqrt(2*μ*(E1-m1-m2)+0im)*(q/sqrt(m12^2+q^2+0im)+q/sqrt(m3^2+q^2+0im))\n",
    "    return (imag(E1)<0&&real(E1)>(m1+m2)) ? -tmp : tmp\n",
    "end\n",
    "\n",
    "ΓDscf(E, p) = (ΓRDsc + g^2 * mDn / (6 * π * fπ^2 * mDsc) * Γf3(E, p, mDn, mπc, mDn,mDsc)\n",
    "                                   + g^2 * mDc / (12 * π * fπ^2 * mDsc) * Γf3(E, p, mDc, mπn, mDn,mDsc))\n",
    "\n",
    "ΓDsnf(E, p) = (ΓRDsn + g^2 * mDn / (12 * π * fπ^2 * mDsn) * Γf3(E, p, mDn, mπn, mDc,mDsn)\n",
    "                                   + g^2 * mDc / (6 * π * fπ^2 * mDsn) * (Γf3(E, p, mDc, mπc, mDc,mDsn) - Γf3(mDc + mDsn, 0, mDc, mπc, mDc,mDsn)))\n",
    "\n",
    "dΓDscf(E, p) = (g^2 * mDn / (6 * π * fπ^2 * mDsc) * dΓf3(E, p, mDn, mπc, mDn,mDsc)\n",
    "                                   + g^2 * mDc / (12 * π * fπ^2 * mDsc) * dΓf3(E, p, mDc, mπn, mDn,mDsc))\n",
    "\n",
    "dΓDsnf(E, p) = (g^2 * mDn / (12 * π * fπ^2 * mDsn) * dΓf3(E, p, mDn, mπn, mDc,mDsn)+ g^2 * mDc / (6 * π * fπ^2 * mDsn) * dΓf3(E, p, mDc, mπc, mDc,mDsn))\n",
    "\n",
    "function find_singular(E, den; pstart = [0.01, 0.01])\n",
    "    function f!(F, x)\n",
    "        pr, pi = x\n",
    "        tmp = den(E, pr + im * pi)\n",
    "        F[1] = real(tmp)\n",
    "        F[2] = imag(tmp)\n",
    "    end\n",
    "    sol = NLsolve.nlsolve((F, x) -> f!(F, x), pstart)\n",
    "    return sol.zero[1] + im * sol.zero[2]\n",
    "end\n",
    "qon_c(E)=find_singular(E, (E, p) -> E-mDn-mDsc - p^2 / (2 * μf(mDn, mDsc)) + im * ΓDscf(E, p) / 2; pstart = [reim(xsqrt1(E-mDn-mDsc + im * ΓDsc / 2))...])\n",
    "\n",
    "qon_0(E)=find_singular(E, (E, p) -> E-mDc-mDsn - p^2 / (2 * μf(mDc, mDsn)) + im * ΓDsnf(E, p) / 2; pstart = [reim(xsqrt1(E-mDc-mDsn + im * ΓDsn / 2))...])"
   ]
  },
  {
   "cell_type": "code",
   "execution_count": 5,
   "id": "1a523305",
   "metadata": {},
   "outputs": [],
   "source": [
    "xxx,www=gauss(128,0,1);\n",
    "\n",
    "qi=zeros(ComplexF64,2+length(xxx));\n",
    "wi=zeros(ComplexF64,length(xxx));\n",
    "len=length(xxx);\n",
    "sublen=length(qi);"
   ]
  },
  {
   "cell_type": "code",
   "execution_count": 6,
   "id": "98e2ca53",
   "metadata": {},
   "outputs": [
    {
     "data": {
      "text/plain": [
       "dΓsmc (generic function with 1 method)"
      ]
     },
     "execution_count": 6,
     "metadata": {},
     "output_type": "execute_result"
    }
   ],
   "source": [
    "Γsmc(t,Λ,ω,V0)=t+im*V0*(1-exp(-t/ω))*(1-exp((t-Λ)/ω))\n",
    "dΓsmc(t,Λ,ω,V0)=1+im*V0/ω*(exp(-t/ω)-exp((t-Λ)/ω))"
   ]
  },
  {
   "cell_type": "code",
   "execution_count": 7,
   "id": "a64009d9",
   "metadata": {},
   "outputs": [
    {
     "data": {
      "text/plain": [
       "dΓsmcx (generic function with 1 method)"
      ]
     },
     "execution_count": 7,
     "metadata": {},
     "output_type": "execute_result"
    }
   ],
   "source": [
    "Γsmcx(x,Λ,ω,V0)=Γsmc(Λ*x,Λ,ω,V0) #0~x~1\n",
    "dΓsmcx(x,Λ,ω,V0)=Λ*dΓsmc(Λ*x,Λ,ω,V0)"
   ]
  },
  {
   "cell_type": "markdown",
   "id": "f3828caa",
   "metadata": {},
   "source": [
    "# VGT"
   ]
  },
  {
   "cell_type": "code",
   "execution_count": 8,
   "id": "3fc4a0cf",
   "metadata": {},
   "outputs": [
    {
     "data": {
      "text/plain": [
       "getqw (generic function with 1 method)"
      ]
     },
     "execution_count": 8,
     "metadata": {},
     "output_type": "execute_result"
    }
   ],
   "source": [
    "function getqw(E,Λ;ω=0.1,V0=-0.1,qi=qi,wi=wi)\n",
    "    qi[1],qi[2]=qon_c(E),qon_0(E)\n",
    "    for i in eachindex(xxx)\n",
    "        qi[2+i]=Γsmcx(xxx[i],Λ,ω,V0)\n",
    "        wi[i]=dΓsmcx(xxx[i],Λ,ω,V0)*www[i]\n",
    "    end\n",
    "    nothing\n",
    "end"
   ]
  },
  {
   "cell_type": "code",
   "execution_count": 9,
   "id": "9c8ae18f",
   "metadata": {},
   "outputs": [],
   "source": [
    "getqw(mDn+mDsc-360e-6-im*24e-6,0.6)"
   ]
  },
  {
   "cell_type": "code",
   "execution_count": 10,
   "id": "4dc566c4",
   "metadata": {},
   "outputs": [
    {
     "data": {
      "image/png": "[encoded data removed]"
     },
     "execution_count": 10,
     "metadata": {},
     "output_type": "execute_result"
    }
   ],
   "source": [
    "scatter(real.(qi[1:end]),imag.(qi[1:end]))"
   ]
  },
  {
   "cell_type": "code",
   "execution_count": 9,
   "id": "b6da8ffd",
   "metadata": {},
   "outputs": [],
   "source": [
    "Vmat=zeros(ComplexF64,2*length(qi),2*length(qi));\n",
    "Gmat=zeros(ComplexF64,2*length(qi),2*length(qi));\n",
    "Tmat=zeros(ComplexF64,2*length(qi),2*length(qi));"
   ]
  },
  {
   "cell_type": "code",
   "execution_count": 10,
   "id": "a6c0a576",
   "metadata": {},
   "outputs": [
    {
     "data": {
      "text/plain": [
       "VMat! (generic function with 1 method)"
      ]
     },
     "execution_count": 10,
     "metadata": {},
     "output_type": "execute_result"
    }
   ],
   "source": [
    "function VMat!(E;Λ=0.5,Cv = 0.0,Cp=0.0,I=0,plist=qi,des=Vmat)\n",
    "    getqw(E,Λ)\n",
    "\n",
    "    for l in eachindex(plist)\n",
    "        for m in eachindex(plist)\n",
    "            i, j = 1, 1\n",
    "            des[sublen*(i-1)+l, sublen*(j-1)+m] = potential_DnDsc(E,plist[l], plist[m]; Cv=Cv,Cp=Cp,I=I)\n",
    "            i, j = 1, 2\n",
    "            des[sublen*(i-1)+l, sublen*(j-1)+m] = potential_DDscross(E,plist[l], plist[m];  Cv=Cv,Cp=Cp,I=I)\n",
    "            i, j = 2, 1\n",
    "            des[sublen*(i-1)+l, sublen*(j-1)+m] = potential_DDscross(E,plist[l], plist[m];  Cv=Cv,Cp=Cp,I=I)\n",
    "            i, j = 2, 2\n",
    "            des[sublen*(i-1)+l, sublen*(j-1)+m] = potential_DcDsn(E,plist[l], plist[m];  Cv=Cv,Cp=Cp,I=I)\n",
    "        end\n",
    "    end\n",
    "    return nothing\n",
    "end"
   ]
  },
  {
   "cell_type": "code",
   "execution_count": 13,
   "id": "6804290d",
   "metadata": {},
   "outputs": [],
   "source": [
    "VMat!(3.875)"
   ]
  },
  {
   "cell_type": "code",
   "execution_count": 14,
   "id": "0ca08305",
   "metadata": {},
   "outputs": [
    {
     "data": {
      "image/png": "[encoded data removed]"
     },
     "execution_count": 14,
     "metadata": {},
     "output_type": "execute_result"
    }
   ],
   "source": [
    "surface(collect(1:2*length(qi)),collect(1:2*length(qi)),[real(Vmat[x,y]) for y in 1:2*length(qi),x in 1:2*length(qi)])"
   ]
  },
  {
   "cell_type": "code",
   "execution_count": 15,
   "id": "e7d66ac7",
   "metadata": {},
   "outputs": [
    {
     "data": {
      "image/png": "[encoded data removed]"
     },
     "execution_count": 15,
     "metadata": {},
     "output_type": "execute_result"
    }
   ],
   "source": [
    "surface(collect(1:2*length(qi)),collect(1:2*length(qi)),[imag(Vmat[x,y]) for y in 1:2*length(qi),x in 1:2*length(qi)])"
   ]
  },
  {
   "cell_type": "code",
   "execution_count": 11,
   "id": "2e5bb78d",
   "metadata": {},
   "outputs": [
    {
     "data": {
      "text/plain": [
       "Gn (generic function with 1 method)"
      ]
     },
     "execution_count": 11,
     "metadata": {},
     "output_type": "execute_result"
    }
   ],
   "source": [
    "Gc(E,q)=1/(2π^2)/(E-mDn-mDsc-q^2/(2*μf(mDn,mDsc))+im*ΓDscf(E,q)/2)\n",
    "Gn(E,q)=1/(2π^2)/(E-mDc-mDsn-q^2/(2*μf(mDc,mDsn))+im*ΓDsnf(E,q)/2)"
   ]
  },
  {
   "cell_type": "code",
   "execution_count": 12,
   "id": "73babc2e",
   "metadata": {},
   "outputs": [
    {
     "data": {
      "text/plain": [
       "GMat! (generic function with 1 method)"
      ]
     },
     "execution_count": 12,
     "metadata": {},
     "output_type": "execute_result"
    }
   ],
   "source": [
    "function GMat!(E;Λ=0.5,qi=qi,wi=wi,des=Gmat)\n",
    "    getqw(E,Λ)\n",
    "    k1,k2=qi[1],qi[2]\n",
    "    \n",
    "    i=1\n",
    "    for j in eachindex(wi)\n",
    "        des[(i-1)*sublen+2+j,(i-1)*sublen+2+j]=wi[j]*qi[2+j]^2*Gc(E,qi[2+j])\n",
    "    end\n",
    "    \n",
    "    i=2\n",
    "    for j in eachindex(wi)\n",
    "        des[(i-1)*sublen+2+j,(i-1)*sublen+2+j]=wi[j]*qi[2+j]^2*Gn(E,qi[2+j])\n",
    "    end\n",
    "    \n",
    "    return nothing\n",
    "end"
   ]
  },
  {
   "cell_type": "code",
   "execution_count": 13,
   "id": "fd4be2ff",
   "metadata": {},
   "outputs": [
    {
     "data": {
      "text/plain": [
       "detVG (generic function with 1 method)"
      ]
     },
     "execution_count": 13,
     "metadata": {},
     "output_type": "execute_result"
    }
   ],
   "source": [
    "function detVG(E;Λ=0.5,Cv=0.0,Cp=0.0,I=0)\n",
    "    VMat!(E;Λ=Λ,Cv=Cv,Cp=Cp,I=I)\n",
    "    GMat!(E;Λ=Λ)\n",
    "    return det(LinearAlgebra.I-Vmat*Gmat)\n",
    "end"
   ]
  },
  {
   "cell_type": "code",
   "execution_count": 14,
   "id": "ef5acc0f",
   "metadata": {},
   "outputs": [
    {
     "data": {
      "text/plain": [
       "TMat! (generic function with 1 method)"
      ]
     },
     "execution_count": 14,
     "metadata": {},
     "output_type": "execute_result"
    }
   ],
   "source": [
    "function TMat!(E;Λ=0.5,Cv=0.0,Cp=0.0,I=0,des=Tmat)\n",
    "    VMat!(E;Λ=Λ,Cv=Cv,Cp=Cp,I=I)\n",
    "    GMat!(E;Λ=Λ)\n",
    "    des .=inv(LinearAlgebra.I-Vmat*Gmat)*Vmat\n",
    "    nothing\n",
    "end"
   ]
  },
  {
   "cell_type": "code",
   "execution_count": 20,
   "id": "b1db7cc6",
   "metadata": {},
   "outputs": [
    {
     "name": "stdout",
     "output_type": "stream",
     "text": [
      "  17.449 ms (2752 allocations: 2.60 MiB)\n"
     ]
    }
   ],
   "source": [
    "@btime TMat!(3.875)"
   ]
  },
  {
   "cell_type": "code",
   "execution_count": 21,
   "id": "60a3046d",
   "metadata": {},
   "outputs": [
    {
     "name": "stdout",
     "output_type": "stream",
     "text": [
      "0.00019742905203882927\n",
      "[0.3919058474670752]\n"
     ]
    }
   ],
   "source": [
    "let \n",
    "    function inv_abst(x;E=mDn+mDsc-273e-6,I=0)\n",
    "        TMat!(E;Λ=x[1],I=I)\n",
    "        return 1/abs(Tmat[1,1])\n",
    "    end\n",
    "    \n",
    "    tmpf(x)=inv_abst(x)\n",
    "    init_val=[0.5]\n",
    "    lower=[0.3]\n",
    "    upper=[1.2]\n",
    "    res=Optim.optimize(tmpf,lower,upper,init_val)\n",
    "    println(Optim.minimum(res))\n",
    "    println(Optim.minimizer(res))\n",
    "end"
   ]
  },
  {
   "cell_type": "code",
   "execution_count": 22,
   "id": "f0454295",
   "metadata": {},
   "outputs": [
    {
     "data": {
      "image/png": "[encoded data removed]"
     },
     "execution_count": 22,
     "metadata": {},
     "output_type": "execute_result"
    }
   ],
   "source": [
    "let Ev=collect(3.873:0.00002:3.877)\n",
    "    function tmpf(E)\n",
    "        TMat!(E;Λ=0.3919058474670752)\n",
    "        abs(Tmat[1,1])\n",
    "    end\n",
    "    resv=[tmpf(e) for e in Ev]\n",
    "    plot(Ev,resv,xlims=(3.873,3.877))\n",
    "    vline!([mDn+mDsc])\n",
    "    vline!([mDn+mDsc-273e-6])\n",
    "end"
   ]
  },
  {
   "cell_type": "markdown",
   "id": "66e6b45e",
   "metadata": {},
   "source": [
    "# Extract pole position"
   ]
  },
  {
   "cell_type": "code",
   "execution_count": 17,
   "id": "3309cd77",
   "metadata": {},
   "outputs": [
    {
     "data": {
      "text/plain": [
       "find_poles (generic function with 1 method)"
      ]
     },
     "execution_count": 17,
     "metadata": {},
     "output_type": "execute_result"
    }
   ],
   "source": [
    "function find_poles(pars)\n",
    "    _lam,_Cv,_Cp=pars\n",
    "    function f!(F, x)\n",
    "        e, γ = x\n",
    "        tmp = detVG(e + im * γ; Λ = _lam,Cv=_Cv,Cp=_Cp)\n",
    "        F[1] = real(tmp)\n",
    "        F[2] = imag(tmp)\n",
    "    end\n",
    "    tmp=NLsolve.nlsolve((F, x) -> f!(F, x), [mDn + mDsc - 333e-6, -24e-6])\n",
    "#     (tmp.zero[1]-mDn-mDsc)+im*tmp.zero[2]\n",
    "end"
   ]
  },
  {
   "cell_type": "code",
   "execution_count": 20,
   "id": "d96e9ee2",
   "metadata": {},
   "outputs": [
    {
     "data": {
      "text/plain": [
       "Results of Nonlinear Solver Algorithm\n",
       " * Algorithm: Trust-region with dogleg and autoscaling\n",
       " * Starting Point: [3.8747670000000003, -2.4e-5]\n",
       " * Zero: [3.874749574830407, -2.4598529270966908e-5]\n",
       " * Inf-norm of residuals: 0.000000\n",
       " * Iterations: 3\n",
       " * Convergence: true\n",
       "   * |x - x'| < 0.0e+00: false\n",
       "   * |f(x)| < 1.0e-08: true\n",
       " * Function Calls (f): 4\n",
       " * Jacobian Calls (df/dx): 4"
      ]
     },
     "execution_count": 20,
     "metadata": {},
     "output_type": "execute_result"
    },
    {
     "name": "stderr",
     "output_type": "stream",
     "text": [
      "WARNING: both Plots and LinearAlgebra export \"rotate!\"; uses of it in module Main must be qualified\n"
     ]
    }
   ],
   "source": [
    "find_poles([0.3961418693268329,0.0,0.0])"
   ]
  },
  {
   "cell_type": "code",
   "execution_count": 79,
   "id": "428c2ae8",
   "metadata": {},
   "outputs": [
    {
     "data": {
      "text/plain": [
       "-0.00035042516959338244"
      ]
     },
     "execution_count": 79,
     "metadata": {},
     "output_type": "execute_result"
    }
   ],
   "source": [
    "3.874749574830407-mDn-mDsc"
   ]
  },
  {
   "cell_type": "code",
   "execution_count": 35,
   "id": "042a9da0",
   "metadata": {},
   "outputs": [
    {
     "data": {
      "text/plain": [
       "1.1696187918772858e-11"
      ]
     },
     "execution_count": 35,
     "metadata": {},
     "output_type": "execute_result"
    }
   ],
   "source": [
    "abs(detVG(mDn+mDsc-0.00035042516959338244- im*2.4598529270966908e-5;Λ=0.3961418693268329))"
   ]
  },
  {
   "cell_type": "code",
   "execution_count": 36,
   "id": "d1cb6a08",
   "metadata": {},
   "outputs": [
    {
     "name": "stdout",
     "output_type": "stream",
     "text": [
      "  382.461 ms (63267 allocations: 42.01 MiB)\n"
     ]
    },
    {
     "data": {
      "text/plain": [
       "-0.00035042516959338244 - 2.4598529270966908e-5im"
      ]
     },
     "execution_count": 36,
     "metadata": {},
     "output_type": "execute_result"
    }
   ],
   "source": [
    "@btime find_poles([0.3961418693268329,0.0,0.0])"
   ]
  },
  {
   "cell_type": "markdown",
   "id": "1f27c420",
   "metadata": {},
   "source": [
    "# Parameters study"
   ]
  },
  {
   "cell_type": "markdown",
   "id": "e17d0b05",
   "metadata": {},
   "source": [
    "## version 1"
   ]
  },
  {
   "cell_type": "code",
   "execution_count": 19,
   "id": "4843ce4c",
   "metadata": {},
   "outputs": [
    {
     "data": {
      "text/plain": [
       "find_poles (generic function with 1 method)"
      ]
     },
     "execution_count": 19,
     "metadata": {},
     "output_type": "execute_result"
    }
   ],
   "source": [
    "function find_poles(pars)\n",
    "    _lam,_Cv,_Cp=pars\n",
    "    function f!(F, x)\n",
    "        e, γ = x\n",
    "        tmp = detVG(e + im * γ; Λ = _lam,Cv=_Cv,Cp=_Cp)\n",
    "        F[1] = real(tmp)\n",
    "        F[2] = imag(tmp)\n",
    "    end\n",
    "    tmp=NLsolve.nlsolve((F, x) -> f!(F, x), [mDn + mDsc - 333e-6, -24e-6];iterations=200)\n",
    "#     (tmp.zero[1]-mDn-mDsc)+im*tmp.zero[2]\n",
    "end"
   ]
  },
  {
   "cell_type": "code",
   "execution_count": 16,
   "id": "1e1e42c5",
   "metadata": {},
   "outputs": [
    {
     "data": {
      "text/plain": [
       "isparapro (generic function with 1 method)"
      ]
     },
     "execution_count": 16,
     "metadata": {},
     "output_type": "execute_result"
    }
   ],
   "source": [
    "function isparapro(Λ,Cv,Cp)\n",
    "    _sol=find_poles([Λ,Cv,Cp]) \n",
    "    if _sol.residual_norm < 1e-8 \n",
    "        r=_sol.zero[1]-mDn-mDsc\n",
    "        i=_sol.zero[2]\n",
    "        return (-400e-6<r&&r<-300e-6&&-35e-6<i&&i<-15e-6) ? true : false\n",
    "    end\n",
    "    return false\n",
    "end"
   ]
  },
  {
   "cell_type": "code",
   "execution_count": 18,
   "id": "d52d8542",
   "metadata": {},
   "outputs": [],
   "source": [
    "df_vec=[];"
   ]
  },
  {
   "cell_type": "code",
   "execution_count": 26,
   "id": "50663027",
   "metadata": {},
   "outputs": [
    {
     "name": "stdout",
     "output_type": "stream",
     "text": [
      "0.3 0.35 0.4 0.45 0.5 0.55 0.6 0.65 0.7 0.75 0.8 0.85 0.9 0.95 1.0 1.05 1.1 1.15 1.2 "
     ]
    }
   ],
   "source": [
    "for λ in 0.3:0.05:1.2\n",
    "    print(λ,\" \")\n",
    "    for cv in 0.0:0.05:1.0,cp in 0.0:0.05:1.0\n",
    "        if isparapro(λ,cv,cp)\n",
    "#         push!(df_paras,[λ,cv,cp])\n",
    "            push!(df_vec,[λ,cv,cp])\n",
    "        end\n",
    "    end\n",
    "end"
   ]
  },
  {
   "cell_type": "code",
   "execution_count": 40,
   "id": "b29ef05d",
   "metadata": {},
   "outputs": [],
   "source": [
    "df_paras=DataFrame(Λ=[df_vec[i][1] for i in 1:length(df_vec)],Cv=[df_vec[i][2] for i in 1:length(df_vec)],\n",
    "    Cp=[df_vec[i][3] for i in 1:length(df_vec)]);"
   ]
  },
  {
   "cell_type": "code",
   "execution_count": 41,
   "id": "3693f04d",
   "metadata": {},
   "outputs": [
    {
     "data": {
      "text/plain": [
       "\"./output/heatmap_new.csv\""
      ]
     },
     "execution_count": 41,
     "metadata": {},
     "output_type": "execute_result"
    }
   ],
   "source": [
    "CSV.write(\"./output/heatmap_new.csv\",df_paras)"
   ]
  },
  {
   "cell_type": "code",
   "execution_count": 36,
   "id": "0c1336ca",
   "metadata": {},
   "outputs": [
    {
     "data": {
      "application/vnd.plotly.v1+json": {
       "data": [
        {
         "colorbar": {
          "len": 0.8425821772278466,
          "title": "",
          "x": 0.778840769903762,
          "y": 0.5238095238095237
         },
         "colorscale": [
          [
           0,
           "rgba(0, 0, 4, 1.000)"
          ],
          [
           0.00392156862745098,
           "rgba(1, 0, 5, 1.000)"
          ],
          [
           0.00784313725490196,
           "rgba(1, 1, 6, 1.000)"
          ],
          [
           0.011764705882352941,
           "rgba(1, 1, 8, 1.000)"
          ],
          [
           0.01568627450980392,
           "rgba(2, 1, 10, 1.000)"
          ],
          [
           0.0196078431372549,
           "rgba(2, 2, 12, 1.000)"
          ],
          [
           0.023529411764705882,
           "rgba(2, 2, 14, 1.000)"
          ],
          [
           0.027450980392156862,
           "rgba(3, 2, 16, 1.000)"
          ],
          [
           0.03137254901960784,
           "rgba(4, 3, 18, 1.000)"
          ],
          [
           0.03529411764705882,
           "rgba(4, 3, 20, 1.000)"
          ],
          [
           0.0392156862745098,
           "rgba(5, 4, 23, 1.000)"
          ],
          [
           0.043137254901960784,
           "rgba(6, 4, 25, 1.000)"
          ],
          [
           0.047058823529411764,
           "rgba(7, 5, 27, 1.000)"
          ],
          [
           0.050980392156862744,
           "rgba(8, 5, 29, 1.000)"
          ],
          [
           0.054901960784313725,
           "rgba(9, 6, 31, 1.000)"
          ],
          [
           0.058823529411764705,
           "rgba(10, 7, 34, 1.000)"
          ],
          [
           0.06274509803921569,
           "rgba(11, 7, 36, 1.000)"
          ],
          [
           0.06666666666666667,
           "rgba(12, 8, 38, 1.000)"
          ],
          [
           0.07058823529411765,
           "rgba(13, 8, 41, 1.000)"
          ],
          [
           0.07450980392156863,
           "rgba(14, 9, 43, 1.000)"
          ],
          [
           0.0784313725490196,
           "rgba(16, 9, 45, 1.000)"
          ],
          [
           0.08235294117647059,
           "rgba(17, 10, 48, 1.000)"
          ],
          [
           0.08627450980392157,
           "rgba(18, 10, 50, 1.000)"
          ],
          [
           0.09019607843137255,
           "rgba(20, 11, 52, 1.000)"
          ],
          [
           0.09411764705882353,
           "rgba(21, 11, 55, 1.000)"
          ],
          [
           0.09803921568627451,
           "rgba(22, 11, 57, 1.000)"
          ],
          [
           0.10196078431372549,
           "rgba(24, 12, 60, 1.000)"
          ],
          [
           0.10588235294117647,
           "rgba(25, 12, 62, 1.000)"
          ],
          [
           0.10980392156862745,
           "rgba(27, 12, 65, 1.000)"
          ],
          [
           0.11372549019607843,
           "rgba(28, 12, 67, 1.000)"
          ],
          [
           0.11764705882352941,
           "rgba(30, 12, 69, 1.000)"
          ],
          [
           0.12156862745098039,
           "rgba(31, 12, 72, 1.000)"
          ],
          [
           0.12549019607843137,
           "rgba(33, 12, 74, 1.000)"
          ],
          [
           0.12941176470588237,
           "rgba(35, 12, 76, 1.000)"
          ],
          [
           0.13333333333333333,
           "rgba(36, 12, 79, 1.000)"
          ],
          [
           0.13725490196078433,
           "rgba(38, 12, 81, 1.000)"
          ],
          [
           0.1411764705882353,
           "rgba(40, 11, 83, 1.000)"
          ],
          [
           0.1450980392156863,
           "rgba(41, 11, 85, 1.000)"
          ],
          [
           0.14901960784313725,
           "rgba(43, 11, 87, 1.000)"
          ],
          [
           0.15294117647058825,
           "rgba(45, 11, 89, 1.000)"
          ],
          [
           0.1568627450980392,
           "rgba(47, 10, 91, 1.000)"
          ],
          [
           0.1607843137254902,
           "rgba(49, 10, 92, 1.000)"
          ],
          [
           0.16470588235294117,
           "rgba(50, 10, 94, 1.000)"
          ],
          [
           0.16862745098039217,
           "rgba(52, 10, 95, 1.000)"
          ],
          [
           0.17254901960784313,
           "rgba(54, 9, 97, 1.000)"
          ],
          [
           0.17647058823529413,
           "rgba(56, 9, 98, 1.000)"
          ],
          [
           0.1803921568627451,
           "rgba(57, 9, 99, 1.000)"
          ],
          [
           0.1843137254901961,
           "rgba(59, 9, 100, 1.000)"
          ],
          [
           0.18823529411764706,
           "rgba(61, 9, 101, 1.000)"
          ],
          [
           0.19215686274509805,
           "rgba(62, 9, 102, 1.000)"
          ],
          [
           0.19607843137254902,
           "rgba(64, 10, 103, 1.000)"
          ],
          [
           0.2,
           "rgba(66, 10, 104, 1.000)"
          ],
          [
           0.20392156862745098,
           "rgba(68, 10, 104, 1.000)"
          ],
          [
           0.20784313725490197,
           "rgba(69, 10, 105, 1.000)"
          ],
          [
           0.21176470588235294,
           "rgba(71, 11, 106, 1.000)"
          ],
          [
           0.21568627450980393,
           "rgba(73, 11, 106, 1.000)"
          ],
          [
           0.2196078431372549,
           "rgba(74, 12, 107, 1.000)"
          ],
          [
           0.2235294117647059,
           "rgba(76, 12, 107, 1.000)"
          ],
          [
           0.22745098039215686,
           "rgba(77, 13, 108, 1.000)"
          ],
          [
           0.23137254901960785,
           "rgba(79, 13, 108, 1.000)"
          ],
          [
           0.23529411764705882,
           "rgba(81, 14, 108, 1.000)"
          ],
          [
           0.23921568627450981,
           "rgba(82, 14, 109, 1.000)"
          ],
          [
           0.24313725490196078,
           "rgba(84, 15, 109, 1.000)"
          ],
          [
           0.24705882352941178,
           "rgba(85, 15, 109, 1.000)"
          ],
          [
           0.25098039215686274,
           "rgba(87, 16, 110, 1.000)"
          ],
          [
           0.2549019607843137,
           "rgba(89, 16, 110, 1.000)"
          ],
          [
           0.25882352941176473,
           "rgba(90, 17, 110, 1.000)"
          ],
          [
           0.2627450980392157,
           "rgba(92, 18, 110, 1.000)"
          ],
          [
           0.26666666666666666,
           "rgba(93, 18, 110, 1.000)"
          ],
          [
           0.27058823529411763,
           "rgba(95, 19, 110, 1.000)"
          ],
          [
           0.27450980392156865,
           "rgba(97, 19, 110, 1.000)"
          ],
          [
           0.2784313725490196,
           "rgba(98, 20, 110, 1.000)"
          ],
          [
           0.2823529411764706,
           "rgba(100, 21, 110, 1.000)"
          ],
          [
           0.28627450980392155,
           "rgba(101, 21, 110, 1.000)"
          ],
          [
           0.2901960784313726,
           "rgba(103, 22, 110, 1.000)"
          ],
          [
           0.29411764705882354,
           "rgba(105, 22, 110, 1.000)"
          ],
          [
           0.2980392156862745,
           "rgba(106, 23, 110, 1.000)"
          ],
          [
           0.30196078431372547,
           "rgba(108, 24, 110, 1.000)"
          ],
          [
           0.3058823529411765,
           "rgba(109, 24, 110, 1.000)"
          ],
          [
           0.30980392156862746,
           "rgba(111, 25, 110, 1.000)"
          ],
          [
           0.3137254901960784,
           "rgba(113, 25, 110, 1.000)"
          ],
          [
           0.3176470588235294,
           "rgba(114, 26, 110, 1.000)"
          ],
          [
           0.3215686274509804,
           "rgba(116, 26, 110, 1.000)"
          ],
          [
           0.3254901960784314,
           "rgba(117, 27, 110, 1.000)"
          ],
          [
           0.32941176470588235,
           "rgba(119, 28, 109, 1.000)"
          ],
          [
           0.3333333333333333,
           "rgba(120, 28, 109, 1.000)"
          ],
          [
           0.33725490196078434,
           "rgba(122, 29, 109, 1.000)"
          ],
          [
           0.3411764705882353,
           "rgba(124, 29, 109, 1.000)"
          ],
          [
           0.34509803921568627,
           "rgba(125, 30, 109, 1.000)"
          ],
          [
           0.34901960784313724,
           "rgba(127, 30, 108, 1.000)"
          ],
          [
           0.35294117647058826,
           "rgba(128, 31, 108, 1.000)"
          ],
          [
           0.3568627450980392,
           "rgba(130, 32, 108, 1.000)"
          ],
          [
           0.3607843137254902,
           "rgba(132, 32, 107, 1.000)"
          ],
          [
           0.36470588235294116,
           "rgba(133, 33, 107, 1.000)"
          ],
          [
           0.3686274509803922,
           "rgba(135, 33, 107, 1.000)"
          ],
          [
           0.37254901960784315,
           "rgba(136, 34, 106, 1.000)"
          ],
          [
           0.3764705882352941,
           "rgba(138, 34, 106, 1.000)"
          ],
          [
           0.3803921568627451,
           "rgba(140, 35, 105, 1.000)"
          ],
          [
           0.3843137254901961,
           "rgba(141, 35, 105, 1.000)"
          ],
          [
           0.38823529411764707,
           "rgba(143, 36, 105, 1.000)"
          ],
          [
           0.39215686274509803,
           "rgba(144, 37, 104, 1.000)"
          ],
          [
           0.396078431372549,
           "rgba(146, 37, 104, 1.000)"
          ],
          [
           0.4,
           "rgba(147, 38, 103, 1.000)"
          ],
          [
           0.403921568627451,
           "rgba(149, 38, 103, 1.000)"
          ],
          [
           0.40784313725490196,
           "rgba(151, 39, 102, 1.000)"
          ],
          [
           0.4117647058823529,
           "rgba(152, 39, 102, 1.000)"
          ],
          [
           0.41568627450980394,
           "rgba(154, 40, 101, 1.000)"
          ],
          [
           0.4196078431372549,
           "rgba(155, 41, 100, 1.000)"
          ],
          [
           0.4235294117647059,
           "rgba(157, 41, 100, 1.000)"
          ],
          [
           0.42745098039215684,
           "rgba(159, 42, 99, 1.000)"
          ],
          [
           0.43137254901960786,
           "rgba(160, 42, 99, 1.000)"
          ],
          [
           0.43529411764705883,
           "rgba(162, 43, 98, 1.000)"
          ],
          [
           0.4392156862745098,
           "rgba(163, 44, 97, 1.000)"
          ],
          [
           0.44313725490196076,
           "rgba(165, 44, 96, 1.000)"
          ],
          [
           0.4470588235294118,
           "rgba(166, 45, 96, 1.000)"
          ],
          [
           0.45098039215686275,
           "rgba(168, 46, 95, 1.000)"
          ],
          [
           0.4549019607843137,
           "rgba(169, 46, 94, 1.000)"
          ],
          [
           0.4588235294117647,
           "rgba(171, 47, 94, 1.000)"
          ],
          [
           0.4627450980392157,
           "rgba(173, 48, 93, 1.000)"
          ],
          [
           0.4666666666666667,
           "rgba(174, 48, 92, 1.000)"
          ],
          [
           0.47058823529411764,
           "rgba(176, 49, 91, 1.000)"
          ],
          [
           0.4745098039215686,
           "rgba(177, 50, 90, 1.000)"
          ],
          [
           0.47843137254901963,
           "rgba(179, 50, 90, 1.000)"
          ],
          [
           0.4823529411764706,
           "rgba(180, 51, 89, 1.000)"
          ],
          [
           0.48627450980392156,
           "rgba(182, 52, 88, 1.000)"
          ],
          [
           0.49019607843137253,
           "rgba(183, 53, 87, 1.000)"
          ],
          [
           0.49411764705882355,
           "rgba(185, 53, 86, 1.000)"
          ],
          [
           0.4980392156862745,
           "rgba(186, 54, 85, 1.000)"
          ],
          [
           0.5019607843137255,
           "rgba(188, 55, 84, 1.000)"
          ],
          [
           0.5058823529411764,
           "rgba(189, 56, 83, 1.000)"
          ],
          [
           0.5098039215686274,
           "rgba(191, 57, 82, 1.000)"
          ],
          [
           0.5137254901960784,
           "rgba(192, 58, 81, 1.000)"
          ],
          [
           0.5176470588235295,
           "rgba(193, 58, 80, 1.000)"
          ],
          [
           0.5215686274509804,
           "rgba(195, 59, 79, 1.000)"
          ],
          [
           0.5254901960784314,
           "rgba(196, 60, 78, 1.000)"
          ],
          [
           0.5294117647058824,
           "rgba(198, 61, 77, 1.000)"
          ],
          [
           0.5333333333333333,
           "rgba(199, 62, 76, 1.000)"
          ],
          [
           0.5372549019607843,
           "rgba(200, 63, 75, 1.000)"
          ],
          [
           0.5411764705882353,
           "rgba(202, 64, 74, 1.000)"
          ],
          [
           0.5450980392156862,
           "rgba(203, 65, 73, 1.000)"
          ],
          [
           0.5490196078431373,
           "rgba(204, 66, 72, 1.000)"
          ],
          [
           0.5529411764705883,
           "rgba(206, 67, 71, 1.000)"
          ],
          [
           0.5568627450980392,
           "rgba(207, 68, 70, 1.000)"
          ],
          [
           0.5607843137254902,
           "rgba(208, 69, 69, 1.000)"
          ],
          [
           0.5647058823529412,
           "rgba(210, 70, 68, 1.000)"
          ],
          [
           0.5686274509803921,
           "rgba(211, 71, 67, 1.000)"
          ],
          [
           0.5725490196078431,
           "rgba(212, 72, 66, 1.000)"
          ],
          [
           0.5764705882352941,
           "rgba(213, 74, 65, 1.000)"
          ],
          [
           0.5803921568627451,
           "rgba(215, 75, 63, 1.000)"
          ],
          [
           0.5843137254901961,
           "rgba(216, 76, 62, 1.000)"
          ],
          [
           0.5882352941176471,
           "rgba(217, 77, 61, 1.000)"
          ],
          [
           0.592156862745098,
           "rgba(218, 78, 60, 1.000)"
          ],
          [
           0.596078431372549,
           "rgba(219, 80, 59, 1.000)"
          ],
          [
           0.6,
           "rgba(221, 81, 58, 1.000)"
          ],
          [
           0.6039215686274509,
           "rgba(222, 82, 56, 1.000)"
          ],
          [
           0.6078431372549019,
           "rgba(223, 83, 55, 1.000)"
          ],
          [
           0.611764705882353,
           "rgba(224, 85, 54, 1.000)"
          ],
          [
           0.615686274509804,
           "rgba(225, 86, 53, 1.000)"
          ],
          [
           0.6196078431372549,
           "rgba(226, 87, 52, 1.000)"
          ],
          [
           0.6235294117647059,
           "rgba(227, 89, 51, 1.000)"
          ],
          [
           0.6274509803921569,
           "rgba(228, 90, 49, 1.000)"
          ],
          [
           0.6313725490196078,
           "rgba(229, 92, 48, 1.000)"
          ],
          [
           0.6352941176470588,
           "rgba(230, 93, 47, 1.000)"
          ],
          [
           0.6392156862745098,
           "rgba(231, 94, 46, 1.000)"
          ],
          [
           0.6431372549019608,
           "rgba(232, 96, 45, 1.000)"
          ],
          [
           0.6470588235294118,
           "rgba(233, 97, 43, 1.000)"
          ],
          [
           0.6509803921568628,
           "rgba(234, 99, 42, 1.000)"
          ],
          [
           0.6549019607843137,
           "rgba(235, 100, 41, 1.000)"
          ],
          [
           0.6588235294117647,
           "rgba(235, 102, 40, 1.000)"
          ],
          [
           0.6627450980392157,
           "rgba(236, 103, 38, 1.000)"
          ],
          [
           0.6666666666666666,
           "rgba(237, 105, 37, 1.000)"
          ],
          [
           0.6705882352941176,
           "rgba(238, 106, 36, 1.000)"
          ],
          [
           0.6745098039215687,
           "rgba(239, 108, 35, 1.000)"
          ],
          [
           0.6784313725490196,
           "rgba(239, 110, 33, 1.000)"
          ],
          [
           0.6823529411764706,
           "rgba(240, 111, 32, 1.000)"
          ],
          [
           0.6862745098039216,
           "rgba(241, 113, 31, 1.000)"
          ],
          [
           0.6901960784313725,
           "rgba(241, 115, 29, 1.000)"
          ],
          [
           0.6941176470588235,
           "rgba(242, 116, 28, 1.000)"
          ],
          [
           0.6980392156862745,
           "rgba(243, 118, 27, 1.000)"
          ],
          [
           0.7019607843137254,
           "rgba(243, 120, 25, 1.000)"
          ],
          [
           0.7058823529411765,
           "rgba(244, 121, 24, 1.000)"
          ],
          [
           0.7098039215686275,
           "rgba(245, 123, 23, 1.000)"
          ],
          [
           0.7137254901960784,
           "rgba(245, 125, 21, 1.000)"
          ],
          [
           0.7176470588235294,
           "rgba(246, 126, 20, 1.000)"
          ],
          [
           0.7215686274509804,
           "rgba(246, 128, 19, 1.000)"
          ],
          [
           0.7254901960784313,
           "rgba(247, 130, 18, 1.000)"
          ],
          [
           0.7294117647058823,
           "rgba(247, 132, 16, 1.000)"
          ],
          [
           0.7333333333333333,
           "rgba(248, 133, 15, 1.000)"
          ],
          [
           0.7372549019607844,
           "rgba(248, 135, 14, 1.000)"
          ],
          [
           0.7411764705882353,
           "rgba(248, 137, 12, 1.000)"
          ],
          [
           0.7450980392156863,
           "rgba(249, 139, 11, 1.000)"
          ],
          [
           0.7490196078431373,
           "rgba(249, 140, 10, 1.000)"
          ],
          [
           0.7529411764705882,
           "rgba(249, 142, 9, 1.000)"
          ],
          [
           0.7568627450980392,
           "rgba(250, 144, 8, 1.000)"
          ],
          [
           0.7607843137254902,
           "rgba(250, 146, 7, 1.000)"
          ],
          [
           0.7647058823529411,
           "rgba(250, 148, 7, 1.000)"
          ],
          [
           0.7686274509803922,
           "rgba(251, 150, 6, 1.000)"
          ],
          [
           0.7725490196078432,
           "rgba(251, 151, 6, 1.000)"
          ],
          [
           0.7764705882352941,
           "rgba(251, 153, 6, 1.000)"
          ],
          [
           0.7803921568627451,
           "rgba(251, 155, 6, 1.000)"
          ],
          [
           0.7843137254901961,
           "rgba(251, 157, 7, 1.000)"
          ],
          [
           0.788235294117647,
           "rgba(252, 159, 7, 1.000)"
          ],
          [
           0.792156862745098,
           "rgba(252, 161, 8, 1.000)"
          ],
          [
           0.796078431372549,
           "rgba(252, 163, 9, 1.000)"
          ],
          [
           0.8,
           "rgba(252, 165, 10, 1.000)"
          ],
          [
           0.803921568627451,
           "rgba(252, 166, 12, 1.000)"
          ],
          [
           0.807843137254902,
           "rgba(252, 168, 13, 1.000)"
          ],
          [
           0.8117647058823529,
           "rgba(252, 170, 15, 1.000)"
          ],
          [
           0.8156862745098039,
           "rgba(252, 172, 17, 1.000)"
          ],
          [
           0.8196078431372549,
           "rgba(252, 174, 18, 1.000)"
          ],
          [
           0.8235294117647058,
           "rgba(252, 176, 20, 1.000)"
          ],
          [
           0.8274509803921568,
           "rgba(252, 178, 22, 1.000)"
          ],
          [
           0.8313725490196079,
           "rgba(252, 180, 24, 1.000)"
          ],
          [
           0.8352941176470589,
           "rgba(251, 182, 26, 1.000)"
          ],
          [
           0.8392156862745098,
           "rgba(251, 184, 29, 1.000)"
          ],
          [
           0.8431372549019608,
           "rgba(251, 186, 31, 1.000)"
          ],
          [
           0.8470588235294118,
           "rgba(251, 188, 33, 1.000)"
          ],
          [
           0.8509803921568627,
           "rgba(251, 190, 35, 1.000)"
          ],
          [
           0.8549019607843137,
           "rgba(250, 192, 38, 1.000)"
          ],
          [
           0.8588235294117647,
           "rgba(250, 194, 40, 1.000)"
          ],
          [
           0.8627450980392157,
           "rgba(250, 196, 42, 1.000)"
          ],
          [
           0.8666666666666667,
           "rgba(250, 198, 45, 1.000)"
          ],
          [
           0.8705882352941177,
           "rgba(249, 199, 47, 1.000)"
          ],
          [
           0.8745098039215686,
           "rgba(249, 201, 50, 1.000)"
          ],
          [
           0.8784313725490196,
           "rgba(249, 203, 53, 1.000)"
          ],
          [
           0.8823529411764706,
           "rgba(248, 205, 55, 1.000)"
          ],
          [
           0.8862745098039215,
           "rgba(248, 207, 58, 1.000)"
          ],
          [
           0.8901960784313725,
           "rgba(247, 209, 61, 1.000)"
          ],
          [
           0.8941176470588236,
           "rgba(247, 211, 64, 1.000)"
          ],
          [
           0.8980392156862745,
           "rgba(246, 213, 67, 1.000)"
          ],
          [
           0.9019607843137255,
           "rgba(246, 215, 70, 1.000)"
          ],
          [
           0.9058823529411765,
           "rgba(245, 217, 73, 1.000)"
          ],
          [
           0.9098039215686274,
           "rgba(245, 219, 76, 1.000)"
          ],
          [
           0.9137254901960784,
           "rgba(244, 221, 79, 1.000)"
          ],
          [
           0.9176470588235294,
           "rgba(244, 223, 83, 1.000)"
          ],
          [
           0.9215686274509803,
           "rgba(244, 225, 86, 1.000)"
          ],
          [
           0.9254901960784314,
           "rgba(243, 227, 90, 1.000)"
          ],
          [
           0.9294117647058824,
           "rgba(243, 229, 93, 1.000)"
          ],
          [
           0.9333333333333333,
           "rgba(242, 230, 97, 1.000)"
          ],
          [
           0.9372549019607843,
           "rgba(242, 232, 101, 1.000)"
          ],
          [
           0.9411764705882353,
           "rgba(242, 234, 105, 1.000)"
          ],
          [
           0.9450980392156862,
           "rgba(241, 236, 109, 1.000)"
          ],
          [
           0.9490196078431372,
           "rgba(241, 237, 113, 1.000)"
          ],
          [
           0.9529411764705882,
           "rgba(241, 239, 117, 1.000)"
          ],
          [
           0.9568627450980393,
           "rgba(241, 241, 121, 1.000)"
          ],
          [
           0.9607843137254902,
           "rgba(242, 242, 125, 1.000)"
          ],
          [
           0.9647058823529412,
           "rgba(242, 244, 130, 1.000)"
          ],
          [
           0.9686274509803922,
           "rgba(243, 245, 134, 1.000)"
          ],
          [
           0.9725490196078431,
           "rgba(243, 246, 138, 1.000)"
          ],
          [
           0.9764705882352941,
           "rgba(244, 248, 142, 1.000)"
          ],
          [
           0.9803921568627451,
           "rgba(245, 249, 146, 1.000)"
          ],
          [
           0.984313725490196,
           "rgba(246, 250, 150, 1.000)"
          ],
          [
           0.9882352941176471,
           "rgba(248, 251, 154, 1.000)"
          ],
          [
           0.9921568627450981,
           "rgba(249, 252, 157, 1.000)"
          ],
          [
           0.996078431372549,
           "rgba(250, 253, 161, 1.000)"
          ],
          [
           1,
           "rgba(252, 255, 164, 1.000)"
          ]
         ],
         "name": "y1",
         "showlegend": false,
         "showscale": true,
         "type": "heatmap",
         "x": [
          0.05,
          0.05,
          0.05,
          0.05,
          0.05,
          0.05,
          0.05,
          0.07500000000000001,
          0.1,
          0.1,
          0.175,
          0.25,
          0.25,
          0.25,
          0.25,
          0.25,
          0.275,
          0.3,
          0.3,
          0.35,
          0.4,
          0.4,
          0.4,
          0.45,
          0.5,
          0.5,
          0.5,
          0.525,
          0.55,
          0.55,
          0.575,
          0.6,
          0.6,
          0.6,
          0.6,
          0.6,
          0.625,
          0.65,
          0.65,
          0.65,
          0.65,
          0.65,
          0.675,
          0.7,
          0.675,
          0.65,
          0.675,
          0.7,
          0.7,
          0.7,
          0.7,
          0.7,
          0.725,
          0.75,
          0.725,
          0.7,
          0.725,
          0.75,
          0.725,
          0.7,
          0.725,
          0.75,
          0.725,
          0.7,
          0.725,
          0.75,
          0.725,
          0.7,
          0.725,
          0.725,
          0.7,
          0.725,
          0.75,
          0.725,
          0.7,
          0.725,
          0.75,
          0.725,
          0.7,
          0.725,
          0.75,
          0.75
         ],
         "xaxis": "x",
         "y": [
          -0.024999999999999994,
          0.275,
          0.32499999999999996,
          0.375,
          0.42500000000000004,
          0.475,
          0.525,
          0.7250000000000001,
          0.925,
          0.975,
          0.625,
          0.275,
          0.32499999999999996,
          0.375,
          0.42500000000000004,
          0.475,
          0.7,
          0.925,
          0.975,
          0.7,
          0.42500000000000004,
          0.475,
          0.525,
          0.47500000000000003,
          0.42500000000000004,
          0.475,
          0.525,
          0.35000000000000003,
          0.175,
          0.225,
          0.525,
          0.825,
          0.875,
          0.525,
          0.175,
          0.225,
          0.5,
          0.775,
          0.825,
          0.575,
          0.32499999999999996,
          0.375,
          0.675,
          0.975,
          0.5,
          0.025,
          0.35000000000000003,
          0.675,
          0.55,
          0.42500000000000004,
          0.35,
          0.275,
          0.6,
          0.925,
          0.5499999999999999,
          0.175,
          0.5,
          0.825,
          0.475,
          0.125,
          0.45,
          0.775,
          0.42500000000000004,
          0.07500000000000001,
          0.39999999999999997,
          0.725,
          0.4,
          0.07500000000000001,
          0.39999999999999997,
          0.375,
          0.07500000000000001,
          0.375,
          0.675,
          0.375,
          0.07500000000000001,
          0.375,
          0.675,
          0.375,
          0.07500000000000001,
          0.375,
          0.675,
          1.025
         ],
         "yaxis": "y",
         "z": [
          0.4,
          0.4,
          0.4,
          0.4,
          0.4,
          0.4,
          0.4,
          0.4,
          0.4,
          0.4,
          0.45,
          0.45,
          0.45,
          0.45,
          0.45,
          0.45,
          0.45,
          0.45,
          0.45,
          0.5,
          0.5,
          0.5,
          0.5,
          0.55,
          0.55,
          0.55,
          0.55,
          0.6,
          0.6,
          0.6,
          0.6,
          0.6,
          0.6,
          0.65,
          0.65,
          0.65,
          0.65,
          0.65,
          0.65,
          0.7,
          0.7,
          0.7,
          0.7,
          0.7,
          0.75,
          0.75,
          0.75,
          0.75,
          0.8,
          0.8,
          0.85,
          0.85,
          0.85,
          0.85,
          0.9,
          0.9,
          0.9,
          0.9,
          0.95,
          0.95,
          0.95,
          0.95,
          1,
          1,
          1,
          1,
          1.05,
          1.05,
          1.05,
          1.1,
          1.1,
          1.1,
          1.1,
          1.15,
          1.15,
          1.15,
          1.15,
          1.2,
          1.2,
          1.2,
          1.2
         ],
         "zmax": 1.2,
         "zmin": 0.4
        }
       ],
       "layout": {
        "annotations": [
         {
          "font": {
           "color": "rgba(0, 0, 0, 1.000)",
           "family": "serif",
           "size": 15
          },
          "rotation": 0,
          "showarrow": false,
          "text": "Heatmap of Λ-Cv-Cp",
          "x": 0.5655555555555556,
          "xanchor": "center",
          "xref": "paper",
          "y": 1,
          "yanchor": "top",
          "yref": "paper"
         }
        ],
        "height": 350,
        "legend": {
         "bgcolor": "rgba(255, 255, 255, 0.150)",
         "bordercolor": "rgba(0, 0, 0, 1.000)",
         "borderwidth": 1,
         "font": {
          "color": "rgba(0, 0, 0, 1.000)",
          "family": "serif",
          "size": 13
         },
         "title": {
          "font": {
           "color": "rgba(0, 0, 0, 1.000)",
           "family": "serif",
           "size": 15
          },
          "text": ""
         },
         "tracegroupgap": 0,
         "traceorder": "normal",
         "x": 1,
         "xanchor": "auto",
         "y": 1,
         "yanchor": "auto"
        },
        "margin": {
         "b": 20,
         "l": 0,
         "r": 0,
         "t": 20
        },
        "paper_bgcolor": "rgba(255, 255, 255, 1.000)",
        "plot_bgcolor": "rgba(255, 255, 255, 1.000)",
        "showlegend": true,
        "width": 500,
        "xaxis": {
         "anchor": "y",
         "domain": [
          0.1389851268591426,
          0.778840769903762
         ],
         "gridcolor": "rgba(0, 0, 0, 0.100)",
         "gridwidth": 0.5,
         "linecolor": "rgba(0, 0, 0, 1.000)",
         "mirror": true,
         "range": [
          0.05,
          0.75
         ],
         "showgrid": true,
         "showline": true,
         "showticklabels": true,
         "tickangle": 0,
         "tickcolor": "rgb(0, 0, 0)",
         "tickfont": {
          "color": "rgba(0, 0, 0, 1.000)",
          "family": "serif",
          "size": 15
         },
         "tickmode": "array",
         "ticks": "inside",
         "ticktext": [
          "0.1",
          "0.2",
          "0.3",
          "0.4",
          "0.5",
          "0.6",
          "0.7"
         ],
         "tickvals": [
          0.1,
          0.2,
          0.30000000000000004,
          0.4,
          0.5,
          0.6000000000000001,
          0.7000000000000001
         ],
         "title": "Cv",
         "titlefont": {
          "color": "rgba(0, 0, 0, 1.000)",
          "family": "serif",
          "size": 17
         },
         "type": "-",
         "visible": true,
         "zeroline": false,
         "zerolinecolor": "rgba(0, 0, 0, 1.000)"
        },
        "yaxis": {
         "anchor": "x",
         "domain": [
          0.10251843519560044,
          0.945100612423447
         ],
         "gridcolor": "rgba(0, 0, 0, 0.100)",
         "gridwidth": 0.5,
         "linecolor": "rgba(0, 0, 0, 1.000)",
         "mirror": true,
         "range": [
          -0.024999999999999994,
          1.025
         ],
         "showgrid": true,
         "showline": true,
         "showticklabels": true,
         "tickangle": 0,
         "tickcolor": "rgb(0, 0, 0)",
         "tickfont": {
          "color": "rgba(0, 0, 0, 1.000)",
          "family": "serif",
          "size": 15
         },
         "tickmode": "array",
         "ticks": "inside",
         "ticktext": [
          "0.00",
          "0.25",
          "0.50",
          "0.75",
          "1.00"
         ],
         "tickvals": [
          0,
          0.25,
          0.5,
          0.75,
          1
         ],
         "title": "Cp",
         "titlefont": {
          "color": "rgba(0, 0, 0, 1.000)",
          "family": "serif",
          "size": 17
         },
         "type": "-",
         "visible": true,
         "zeroline": false,
         "zerolinecolor": "rgba(0, 0, 0, 1.000)"
        }
       }
      },
      "text/html": [
       "    <div id=\"cc2e4b7b-e2b3-4a6e-9b82-aa7dabb3b73d\" style=\"width:500px;height:350px;\"></div>\n",
       "    <script>\n",
       "        requirejs.config({\n",
       "        paths: {\n",
       "            Plotly: 'https://cdn.plot.ly/plotly-2.6.3.min'\n",
       "        }\n",
       "    });\n",
       "    require(['Plotly'], function (Plotly) {\n",
       "\n",
       "    Plotly.newPlot('cc2e4b7b-e2b3-4a6e-9b82-aa7dabb3b73d', [\n",
       "    {\n",
       "        \"xaxis\": \"x\",\n",
       "        \"colorbar\": {\n",
       "            \"y\": 0.5238095238095237,\n",
       "            \"title\": \"\",\n",
       "            \"len\": 0.8425821772278466,\n",
       "            \"x\": 0.778840769903762\n",
       "        },\n",
       "        \"colorscale\": [\n",
       "            [\n",
       "                0.0,\n",
       "                \"rgba(0, 0, 4, 1.000)\"\n",
       "            ],\n",
       "            [\n",
       "                0.00392156862745098,\n",
       "                \"rgba(1, 0, 5, 1.000)\"\n",
       "            ],\n",
       "            [\n",
       "                0.00784313725490196,\n",
       "                \"rgba(1, 1, 6, 1.000)\"\n",
       "            ],\n",
       "            [\n",
       "                0.011764705882352941,\n",
       "                \"rgba(1, 1, 8, 1.000)\"\n",
       "            ],\n",
       "            [\n",
       "                0.01568627450980392,\n",
       "                \"rgba(2, 1, 10, 1.000)\"\n",
       "            ],\n",
       "            [\n",
       "                0.0196078431372549,\n",
       "                \"rgba(2, 2, 12, 1.000)\"\n",
       "            ],\n",
       "            [\n",
       "                0.023529411764705882,\n",
       "                \"rgba(2, 2, 14, 1.000)\"\n",
       "            ],\n",
       "            [\n",
       "                0.027450980392156862,\n",
       "                \"rgba(3, 2, 16, 1.000)\"\n",
       "            ],\n",
       "            [\n",
       "                0.03137254901960784,\n",
       "                \"rgba(4, 3, 18, 1.000)\"\n",
       "            ],\n",
       "            [\n",
       "                0.03529411764705882,\n",
       "                \"rgba(4, 3, 20, 1.000)\"\n",
       "            ],\n",
       "            [\n",
       "                0.0392156862745098,\n",
       "                \"rgba(5, 4, 23, 1.000)\"\n",
       "            ],\n",
       "            [\n",
       "                0.043137254901960784,\n",
       "                \"rgba(6, 4, 25, 1.000)\"\n",
       "            ],\n",
       "            [\n",
       "                0.047058823529411764,\n",
       "                \"rgba(7, 5, 27, 1.000)\"\n",
       "            ],\n",
       "            [\n",
       "                0.050980392156862744,\n",
       "                \"rgba(8, 5, 29, 1.000)\"\n",
       "            ],\n",
       "            [\n",
       "                0.054901960784313725,\n",
       "                \"rgba(9, 6, 31, 1.000)\"\n",
       "            ],\n",
       "            [\n",
       "                0.058823529411764705,\n",
       "                \"rgba(10, 7, 34, 1.000)\"\n",
       "            ],\n",
       "            [\n",
       "                0.06274509803921569,\n",
       "                \"rgba(11, 7, 36, 1.000)\"\n",
       "            ],\n",
       "            [\n",
       "                0.06666666666666667,\n",
       "                \"rgba(12, 8, 38, 1.000)\"\n",
       "            ],\n",
       "            [\n",
       "                0.07058823529411765,\n",
       "                \"rgba(13, 8, 41, 1.000)\"\n",
       "            ],\n",
       "            [\n",
       "                0.07450980392156863,\n",
       "                \"rgba(14, 9, 43, 1.000)\"\n",
       "            ],\n",
       "            [\n",
       "                0.0784313725490196,\n",
       "                \"rgba(16, 9, 45, 1.000)\"\n",
       "            ],\n",
       "            [\n",
       "                0.08235294117647059,\n",
       "                \"rgba(17, 10, 48, 1.000)\"\n",
       "            ],\n",
       "            [\n",
       "                0.08627450980392157,\n",
       "                \"rgba(18, 10, 50, 1.000)\"\n",
       "            ],\n",
       "            [\n",
       "                0.09019607843137255,\n",
       "                \"rgba(20, 11, 52, 1.000)\"\n",
       "            ],\n",
       "            [\n",
       "                0.09411764705882353,\n",
       "                \"rgba(21, 11, 55, 1.000)\"\n",
       "            ],\n",
       "            [\n",
       "                0.09803921568627451,\n",
       "                \"rgba(22, 11, 57, 1.000)\"\n",
       "            ],\n",
       "            [\n",
       "                0.10196078431372549,\n",
       "                \"rgba(24, 12, 60, 1.000)\"\n",
       "            ],\n",
       "            [\n",
       "                0.10588235294117647,\n",
       "                \"rgba(25, 12, 62, 1.000)\"\n",
       "            ],\n",
       "            [\n",
       "                0.10980392156862745,\n",
       "                \"rgba(27, 12, 65, 1.000)\"\n",
       "            ],\n",
       "            [\n",
       "                0.11372549019607843,\n",
       "                \"rgba(28, 12, 67, 1.000)\"\n",
       "            ],\n",
       "            [\n",
       "                0.11764705882352941,\n",
       "                \"rgba(30, 12, 69, 1.000)\"\n",
       "            ],\n",
       "            [\n",
       "                0.12156862745098039,\n",
       "                \"rgba(31, 12, 72, 1.000)\"\n",
       "            ],\n",
       "            [\n",
       "                0.12549019607843137,\n",
       "                \"rgba(33, 12, 74, 1.000)\"\n",
       "            ],\n",
       "            [\n",
       "                0.12941176470588237,\n",
       "                \"rgba(35, 12, 76, 1.000)\"\n",
       "            ],\n",
       "            [\n",
       "                0.13333333333333333,\n",
       "                \"rgba(36, 12, 79, 1.000)\"\n",
       "            ],\n",
       "            [\n",
       "                0.13725490196078433,\n",
       "                \"rgba(38, 12, 81, 1.000)\"\n",
       "            ],\n",
       "            [\n",
       "                0.1411764705882353,\n",
       "                \"rgba(40, 11, 83, 1.000)\"\n",
       "            ],\n",
       "            [\n",
       "                0.1450980392156863,\n",
       "                \"rgba(41, 11, 85, 1.000)\"\n",
       "            ],\n",
       "            [\n",
       "                0.14901960784313725,\n",
       "                \"rgba(43, 11, 87, 1.000)\"\n",
       "            ],\n",
       "            [\n",
       "                0.15294117647058825,\n",
       "                \"rgba(45, 11, 89, 1.000)\"\n",
       "            ],\n",
       "            [\n",
       "                0.1568627450980392,\n",
       "                \"rgba(47, 10, 91, 1.000)\"\n",
       "            ],\n",
       "            [\n",
       "                0.1607843137254902,\n",
       "                \"rgba(49, 10, 92, 1.000)\"\n",
       "            ],\n",
       "            [\n",
       "                0.16470588235294117,\n",
       "                \"rgba(50, 10, 94, 1.000)\"\n",
       "            ],\n",
       "            [\n",
       "                0.16862745098039217,\n",
       "                \"rgba(52, 10, 95, 1.000)\"\n",
       "            ],\n",
       "            [\n",
       "                0.17254901960784313,\n",
       "                \"rgba(54, 9, 97, 1.000)\"\n",
       "            ],\n",
       "            [\n",
       "                0.17647058823529413,\n",
       "                \"rgba(56, 9, 98, 1.000)\"\n",
       "            ],\n",
       "            [\n",
       "                0.1803921568627451,\n",
       "                \"rgba(57, 9, 99, 1.000)\"\n",
       "            ],\n",
       "            [\n",
       "                0.1843137254901961,\n",
       "                \"rgba(59, 9, 100, 1.000)\"\n",
       "            ],\n",
       "            [\n",
       "                0.18823529411764706,\n",
       "                \"rgba(61, 9, 101, 1.000)\"\n",
       "            ],\n",
       "            [\n",
       "                0.19215686274509805,\n",
       "                \"rgba(62, 9, 102, 1.000)\"\n",
       "            ],\n",
       "            [\n",
       "                0.19607843137254902,\n",
       "                \"rgba(64, 10, 103, 1.000)\"\n",
       "            ],\n",
       "            [\n",
       "                0.2,\n",
       "                \"rgba(66, 10, 104, 1.000)\"\n",
       "            ],\n",
       "            [\n",
       "                0.20392156862745098,\n",
       "                \"rgba(68, 10, 104, 1.000)\"\n",
       "            ],\n",
       "            [\n",
       "                0.20784313725490197,\n",
       "                \"rgba(69, 10, 105, 1.000)\"\n",
       "            ],\n",
       "            [\n",
       "                0.21176470588235294,\n",
       "                \"rgba(71, 11, 106, 1.000)\"\n",
       "            ],\n",
       "            [\n",
       "                0.21568627450980393,\n",
       "                \"rgba(73, 11, 106, 1.000)\"\n",
       "            ],\n",
       "            [\n",
       "                0.2196078431372549,\n",
       "                \"rgba(74, 12, 107, 1.000)\"\n",
       "            ],\n",
       "            [\n",
       "                0.2235294117647059,\n",
       "                \"rgba(76, 12, 107, 1.000)\"\n",
       "            ],\n",
       "            [\n",
       "                0.22745098039215686,\n",
       "                \"rgba(77, 13, 108, 1.000)\"\n",
       "            ],\n",
       "            [\n",
       "                0.23137254901960785,\n",
       "                \"rgba(79, 13, 108, 1.000)\"\n",
       "            ],\n",
       "            [\n",
       "                0.23529411764705882,\n",
       "                \"rgba(81, 14, 108, 1.000)\"\n",
       "            ],\n",
       "            [\n",
       "                0.23921568627450981,\n",
       "                \"rgba(82, 14, 109, 1.000)\"\n",
       "            ],\n",
       "            [\n",
       "                0.24313725490196078,\n",
       "                \"rgba(84, 15, 109, 1.000)\"\n",
       "            ],\n",
       "            [\n",
       "                0.24705882352941178,\n",
       "                \"rgba(85, 15, 109, 1.000)\"\n",
       "            ],\n",
       "            [\n",
       "                0.25098039215686274,\n",
       "                \"rgba(87, 16, 110, 1.000)\"\n",
       "            ],\n",
       "            [\n",
       "                0.2549019607843137,\n",
       "                \"rgba(89, 16, 110, 1.000)\"\n",
       "            ],\n",
       "            [\n",
       "                0.25882352941176473,\n",
       "                \"rgba(90, 17, 110, 1.000)\"\n",
       "            ],\n",
       "            [\n",
       "                0.2627450980392157,\n",
       "                \"rgba(92, 18, 110, 1.000)\"\n",
       "            ],\n",
       "            [\n",
       "                0.26666666666666666,\n",
       "                \"rgba(93, 18, 110, 1.000)\"\n",
       "            ],\n",
       "            [\n",
       "                0.27058823529411763,\n",
       "                \"rgba(95, 19, 110, 1.000)\"\n",
       "            ],\n",
       "            [\n",
       "                0.27450980392156865,\n",
       "                \"rgba(97, 19, 110, 1.000)\"\n",
       "            ],\n",
       "            [\n",
       "                0.2784313725490196,\n",
       "                \"rgba(98, 20, 110, 1.000)\"\n",
       "            ],\n",
       "            [\n",
       "                0.2823529411764706,\n",
       "                \"rgba(100, 21, 110, 1.000)\"\n",
       "            ],\n",
       "            [\n",
       "                0.28627450980392155,\n",
       "                \"rgba(101, 21, 110, 1.000)\"\n",
       "            ],\n",
       "            [\n",
       "                0.2901960784313726,\n",
       "                \"rgba(103, 22, 110, 1.000)\"\n",
       "            ],\n",
       "            [\n",
       "                0.29411764705882354,\n",
       "                \"rgba(105, 22, 110, 1.000)\"\n",
       "            ],\n",
       "            [\n",
       "                0.2980392156862745,\n",
       "                \"rgba(106, 23, 110, 1.000)\"\n",
       "            ],\n",
       "            [\n",
       "                0.30196078431372547,\n",
       "                \"rgba(108, 24, 110, 1.000)\"\n",
       "            ],\n",
       "            [\n",
       "                0.3058823529411765,\n",
       "                \"rgba(109, 24, 110, 1.000)\"\n",
       "            ],\n",
       "            [\n",
       "                0.30980392156862746,\n",
       "                \"rgba(111, 25, 110, 1.000)\"\n",
       "            ],\n",
       "            [\n",
       "                0.3137254901960784,\n",
       "                \"rgba(113, 25, 110, 1.000)\"\n",
       "            ],\n",
       "            [\n",
       "                0.3176470588235294,\n",
       "                \"rgba(114, 26, 110, 1.000)\"\n",
       "            ],\n",
       "            [\n",
       "                0.3215686274509804,\n",
       "                \"rgba(116, 26, 110, 1.000)\"\n",
       "            ],\n",
       "            [\n",
       "                0.3254901960784314,\n",
       "                \"rgba(117, 27, 110, 1.000)\"\n",
       "            ],\n",
       "            [\n",
       "                0.32941176470588235,\n",
       "                \"rgba(119, 28, 109, 1.000)\"\n",
       "            ],\n",
       "            [\n",
       "                0.3333333333333333,\n",
       "                \"rgba(120, 28, 109, 1.000)\"\n",
       "            ],\n",
       "            [\n",
       "                0.33725490196078434,\n",
       "                \"rgba(122, 29, 109, 1.000)\"\n",
       "            ],\n",
       "            [\n",
       "                0.3411764705882353,\n",
       "                \"rgba(124, 29, 109, 1.000)\"\n",
       "            ],\n",
       "            [\n",
       "                0.34509803921568627,\n",
       "                \"rgba(125, 30, 109, 1.000)\"\n",
       "            ],\n",
       "            [\n",
       "                0.34901960784313724,\n",
       "                \"rgba(127, 30, 108, 1.000)\"\n",
       "            ],\n",
       "            [\n",
       "                0.35294117647058826,\n",
       "                \"rgba(128, 31, 108, 1.000)\"\n",
       "            ],\n",
       "            [\n",
       "                0.3568627450980392,\n",
       "                \"rgba(130, 32, 108, 1.000)\"\n",
       "            ],\n",
       "            [\n",
       "                0.3607843137254902,\n",
       "                \"rgba(132, 32, 107, 1.000)\"\n",
       "            ],\n",
       "            [\n",
       "                0.36470588235294116,\n",
       "                \"rgba(133, 33, 107, 1.000)\"\n",
       "            ],\n",
       "            [\n",
       "                0.3686274509803922,\n",
       "                \"rgba(135, 33, 107, 1.000)\"\n",
       "            ],\n",
       "            [\n",
       "                0.37254901960784315,\n",
       "                \"rgba(136, 34, 106, 1.000)\"\n",
       "            ],\n",
       "            [\n",
       "                0.3764705882352941,\n",
       "                \"rgba(138, 34, 106, 1.000)\"\n",
       "            ],\n",
       "            [\n",
       "                0.3803921568627451,\n",
       "                \"rgba(140, 35, 105, 1.000)\"\n",
       "            ],\n",
       "            [\n",
       "                0.3843137254901961,\n",
       "                \"rgba(141, 35, 105, 1.000)\"\n",
       "            ],\n",
       "            [\n",
       "                0.38823529411764707,\n",
       "                \"rgba(143, 36, 105, 1.000)\"\n",
       "            ],\n",
       "            [\n",
       "                0.39215686274509803,\n",
       "                \"rgba(144, 37, 104, 1.000)\"\n",
       "            ],\n",
       "            [\n",
       "                0.396078431372549,\n",
       "                \"rgba(146, 37, 104, 1.000)\"\n",
       "            ],\n",
       "            [\n",
       "                0.4,\n",
       "                \"rgba(147, 38, 103, 1.000)\"\n",
       "            ],\n",
       "            [\n",
       "                0.403921568627451,\n",
       "                \"rgba(149, 38, 103, 1.000)\"\n",
       "            ],\n",
       "            [\n",
       "                0.40784313725490196,\n",
       "                \"rgba(151, 39, 102, 1.000)\"\n",
       "            ],\n",
       "            [\n",
       "                0.4117647058823529,\n",
       "                \"rgba(152, 39, 102, 1.000)\"\n",
       "            ],\n",
       "            [\n",
       "                0.41568627450980394,\n",
       "                \"rgba(154, 40, 101, 1.000)\"\n",
       "            ],\n",
       "            [\n",
       "                0.4196078431372549,\n",
       "                \"rgba(155, 41, 100, 1.000)\"\n",
       "            ],\n",
       "            [\n",
       "                0.4235294117647059,\n",
       "                \"rgba(157, 41, 100, 1.000)\"\n",
       "            ],\n",
       "            [\n",
       "                0.42745098039215684,\n",
       "                \"rgba(159, 42, 99, 1.000)\"\n",
       "            ],\n",
       "            [\n",
       "                0.43137254901960786,\n",
       "                \"rgba(160, 42, 99, 1.000)\"\n",
       "            ],\n",
       "            [\n",
       "                0.43529411764705883,\n",
       "                \"rgba(162, 43, 98, 1.000)\"\n",
       "            ],\n",
       "            [\n",
       "                0.4392156862745098,\n",
       "                \"rgba(163, 44, 97, 1.000)\"\n",
       "            ],\n",
       "            [\n",
       "                0.44313725490196076,\n",
       "                \"rgba(165, 44, 96, 1.000)\"\n",
       "            ],\n",
       "            [\n",
       "                0.4470588235294118,\n",
       "                \"rgba(166, 45, 96, 1.000)\"\n",
       "            ],\n",
       "            [\n",
       "                0.45098039215686275,\n",
       "                \"rgba(168, 46, 95, 1.000)\"\n",
       "            ],\n",
       "            [\n",
       "                0.4549019607843137,\n",
       "                \"rgba(169, 46, 94, 1.000)\"\n",
       "            ],\n",
       "            [\n",
       "                0.4588235294117647,\n",
       "                \"rgba(171, 47, 94, 1.000)\"\n",
       "            ],\n",
       "            [\n",
       "                0.4627450980392157,\n",
       "                \"rgba(173, 48, 93, 1.000)\"\n",
       "            ],\n",
       "            [\n",
       "                0.4666666666666667,\n",
       "                \"rgba(174, 48, 92, 1.000)\"\n",
       "            ],\n",
       "            [\n",
       "                0.47058823529411764,\n",
       "                \"rgba(176, 49, 91, 1.000)\"\n",
       "            ],\n",
       "            [\n",
       "                0.4745098039215686,\n",
       "                \"rgba(177, 50, 90, 1.000)\"\n",
       "            ],\n",
       "            [\n",
       "                0.47843137254901963,\n",
       "                \"rgba(179, 50, 90, 1.000)\"\n",
       "            ],\n",
       "            [\n",
       "                0.4823529411764706,\n",
       "                \"rgba(180, 51, 89, 1.000)\"\n",
       "            ],\n",
       "            [\n",
       "                0.48627450980392156,\n",
       "                \"rgba(182, 52, 88, 1.000)\"\n",
       "            ],\n",
       "            [\n",
       "                0.49019607843137253,\n",
       "                \"rgba(183, 53, 87, 1.000)\"\n",
       "            ],\n",
       "            [\n",
       "                0.49411764705882355,\n",
       "                \"rgba(185, 53, 86, 1.000)\"\n",
       "            ],\n",
       "            [\n",
       "                0.4980392156862745,\n",
       "                \"rgba(186, 54, 85, 1.000)\"\n",
       "            ],\n",
       "            [\n",
       "                0.5019607843137255,\n",
       "                \"rgba(188, 55, 84, 1.000)\"\n",
       "            ],\n",
       "            [\n",
       "                0.5058823529411764,\n",
       "                \"rgba(189, 56, 83, 1.000)\"\n",
       "            ],\n",
       "            [\n",
       "                0.5098039215686274,\n",
       "                \"rgba(191, 57, 82, 1.000)\"\n",
       "            ],\n",
       "            [\n",
       "                0.5137254901960784,\n",
       "                \"rgba(192, 58, 81, 1.000)\"\n",
       "            ],\n",
       "            [\n",
       "                0.5176470588235295,\n",
       "                \"rgba(193, 58, 80, 1.000)\"\n",
       "            ],\n",
       "            [\n",
       "                0.5215686274509804,\n",
       "                \"rgba(195, 59, 79, 1.000)\"\n",
       "            ],\n",
       "            [\n",
       "                0.5254901960784314,\n",
       "                \"rgba(196, 60, 78, 1.000)\"\n",
       "            ],\n",
       "            [\n",
       "                0.5294117647058824,\n",
       "                \"rgba(198, 61, 77, 1.000)\"\n",
       "            ],\n",
       "            [\n",
       "                0.5333333333333333,\n",
       "                \"rgba(199, 62, 76, 1.000)\"\n",
       "            ],\n",
       "            [\n",
       "                0.5372549019607843,\n",
       "                \"rgba(200, 63, 75, 1.000)\"\n",
       "            ],\n",
       "            [\n",
       "                0.5411764705882353,\n",
       "                \"rgba(202, 64, 74, 1.000)\"\n",
       "            ],\n",
       "            [\n",
       "                0.5450980392156862,\n",
       "                \"rgba(203, 65, 73, 1.000)\"\n",
       "            ],\n",
       "            [\n",
       "                0.5490196078431373,\n",
       "                \"rgba(204, 66, 72, 1.000)\"\n",
       "            ],\n",
       "            [\n",
       "                0.5529411764705883,\n",
       "                \"rgba(206, 67, 71, 1.000)\"\n",
       "            ],\n",
       "            [\n",
       "                0.5568627450980392,\n",
       "                \"rgba(207, 68, 70, 1.000)\"\n",
       "            ],\n",
       "            [\n",
       "                0.5607843137254902,\n",
       "                \"rgba(208, 69, 69, 1.000)\"\n",
       "            ],\n",
       "            [\n",
       "                0.5647058823529412,\n",
       "                \"rgba(210, 70, 68, 1.000)\"\n",
       "            ],\n",
       "            [\n",
       "                0.5686274509803921,\n",
       "                \"rgba(211, 71, 67, 1.000)\"\n",
       "            ],\n",
       "            [\n",
       "                0.5725490196078431,\n",
       "                \"rgba(212, 72, 66, 1.000)\"\n",
       "            ],\n",
       "            [\n",
       "                0.5764705882352941,\n",
       "                \"rgba(213, 74, 65, 1.000)\"\n",
       "            ],\n",
       "            [\n",
       "                0.5803921568627451,\n",
       "                \"rgba(215, 75, 63, 1.000)\"\n",
       "            ],\n",
       "            [\n",
       "                0.5843137254901961,\n",
       "                \"rgba(216, 76, 62, 1.000)\"\n",
       "            ],\n",
       "            [\n",
       "                0.5882352941176471,\n",
       "                \"rgba(217, 77, 61, 1.000)\"\n",
       "            ],\n",
       "            [\n",
       "                0.592156862745098,\n",
       "                \"rgba(218, 78, 60, 1.000)\"\n",
       "            ],\n",
       "            [\n",
       "                0.596078431372549,\n",
       "                \"rgba(219, 80, 59, 1.000)\"\n",
       "            ],\n",
       "            [\n",
       "                0.6,\n",
       "                \"rgba(221, 81, 58, 1.000)\"\n",
       "            ],\n",
       "            [\n",
       "                0.6039215686274509,\n",
       "                \"rgba(222, 82, 56, 1.000)\"\n",
       "            ],\n",
       "            [\n",
       "                0.6078431372549019,\n",
       "                \"rgba(223, 83, 55, 1.000)\"\n",
       "            ],\n",
       "            [\n",
       "                0.611764705882353,\n",
       "                \"rgba(224, 85, 54, 1.000)\"\n",
       "            ],\n",
       "            [\n",
       "                0.615686274509804,\n",
       "                \"rgba(225, 86, 53, 1.000)\"\n",
       "            ],\n",
       "            [\n",
       "                0.6196078431372549,\n",
       "                \"rgba(226, 87, 52, 1.000)\"\n",
       "            ],\n",
       "            [\n",
       "                0.6235294117647059,\n",
       "                \"rgba(227, 89, 51, 1.000)\"\n",
       "            ],\n",
       "            [\n",
       "                0.6274509803921569,\n",
       "                \"rgba(228, 90, 49, 1.000)\"\n",
       "            ],\n",
       "            [\n",
       "                0.6313725490196078,\n",
       "                \"rgba(229, 92, 48, 1.000)\"\n",
       "            ],\n",
       "            [\n",
       "                0.6352941176470588,\n",
       "                \"rgba(230, 93, 47, 1.000)\"\n",
       "            ],\n",
       "            [\n",
       "                0.6392156862745098,\n",
       "                \"rgba(231, 94, 46, 1.000)\"\n",
       "            ],\n",
       "            [\n",
       "                0.6431372549019608,\n",
       "                \"rgba(232, 96, 45, 1.000)\"\n",
       "            ],\n",
       "            [\n",
       "                0.6470588235294118,\n",
       "                \"rgba(233, 97, 43, 1.000)\"\n",
       "            ],\n",
       "            [\n",
       "                0.6509803921568628,\n",
       "                \"rgba(234, 99, 42, 1.000)\"\n",
       "            ],\n",
       "            [\n",
       "                0.6549019607843137,\n",
       "                \"rgba(235, 100, 41, 1.000)\"\n",
       "            ],\n",
       "            [\n",
       "                0.6588235294117647,\n",
       "                \"rgba(235, 102, 40, 1.000)\"\n",
       "            ],\n",
       "            [\n",
       "                0.6627450980392157,\n",
       "                \"rgba(236, 103, 38, 1.000)\"\n",
       "            ],\n",
       "            [\n",
       "                0.6666666666666666,\n",
       "                \"rgba(237, 105, 37, 1.000)\"\n",
       "            ],\n",
       "            [\n",
       "                0.6705882352941176,\n",
       "                \"rgba(238, 106, 36, 1.000)\"\n",
       "            ],\n",
       "            [\n",
       "                0.6745098039215687,\n",
       "                \"rgba(239, 108, 35, 1.000)\"\n",
       "            ],\n",
       "            [\n",
       "                0.6784313725490196,\n",
       "                \"rgba(239, 110, 33, 1.000)\"\n",
       "            ],\n",
       "            [\n",
       "                0.6823529411764706,\n",
       "                \"rgba(240, 111, 32, 1.000)\"\n",
       "            ],\n",
       "            [\n",
       "                0.6862745098039216,\n",
       "                \"rgba(241, 113, 31, 1.000)\"\n",
       "            ],\n",
       "            [\n",
       "                0.6901960784313725,\n",
       "                \"rgba(241, 115, 29, 1.000)\"\n",
       "            ],\n",
       "            [\n",
       "                0.6941176470588235,\n",
       "                \"rgba(242, 116, 28, 1.000)\"\n",
       "            ],\n",
       "            [\n",
       "                0.6980392156862745,\n",
       "                \"rgba(243, 118, 27, 1.000)\"\n",
       "            ],\n",
       "            [\n",
       "                0.7019607843137254,\n",
       "                \"rgba(243, 120, 25, 1.000)\"\n",
       "            ],\n",
       "            [\n",
       "                0.7058823529411765,\n",
       "                \"rgba(244, 121, 24, 1.000)\"\n",
       "            ],\n",
       "            [\n",
       "                0.7098039215686275,\n",
       "                \"rgba(245, 123, 23, 1.000)\"\n",
       "            ],\n",
       "            [\n",
       "                0.7137254901960784,\n",
       "                \"rgba(245, 125, 21, 1.000)\"\n",
       "            ],\n",
       "            [\n",
       "                0.7176470588235294,\n",
       "                \"rgba(246, 126, 20, 1.000)\"\n",
       "            ],\n",
       "            [\n",
       "                0.7215686274509804,\n",
       "                \"rgba(246, 128, 19, 1.000)\"\n",
       "            ],\n",
       "            [\n",
       "                0.7254901960784313,\n",
       "                \"rgba(247, 130, 18, 1.000)\"\n",
       "            ],\n",
       "            [\n",
       "                0.7294117647058823,\n",
       "                \"rgba(247, 132, 16, 1.000)\"\n",
       "            ],\n",
       "            [\n",
       "                0.7333333333333333,\n",
       "                \"rgba(248, 133, 15, 1.000)\"\n",
       "            ],\n",
       "            [\n",
       "                0.7372549019607844,\n",
       "                \"rgba(248, 135, 14, 1.000)\"\n",
       "            ],\n",
       "            [\n",
       "                0.7411764705882353,\n",
       "                \"rgba(248, 137, 12, 1.000)\"\n",
       "            ],\n",
       "            [\n",
       "                0.7450980392156863,\n",
       "                \"rgba(249, 139, 11, 1.000)\"\n",
       "            ],\n",
       "            [\n",
       "                0.7490196078431373,\n",
       "                \"rgba(249, 140, 10, 1.000)\"\n",
       "            ],\n",
       "            [\n",
       "                0.7529411764705882,\n",
       "                \"rgba(249, 142, 9, 1.000)\"\n",
       "            ],\n",
       "            [\n",
       "                0.7568627450980392,\n",
       "                \"rgba(250, 144, 8, 1.000)\"\n",
       "            ],\n",
       "            [\n",
       "                0.7607843137254902,\n",
       "                \"rgba(250, 146, 7, 1.000)\"\n",
       "            ],\n",
       "            [\n",
       "                0.7647058823529411,\n",
       "                \"rgba(250, 148, 7, 1.000)\"\n",
       "            ],\n",
       "            [\n",
       "                0.7686274509803922,\n",
       "                \"rgba(251, 150, 6, 1.000)\"\n",
       "            ],\n",
       "            [\n",
       "                0.7725490196078432,\n",
       "                \"rgba(251, 151, 6, 1.000)\"\n",
       "            ],\n",
       "            [\n",
       "                0.7764705882352941,\n",
       "                \"rgba(251, 153, 6, 1.000)\"\n",
       "            ],\n",
       "            [\n",
       "                0.7803921568627451,\n",
       "                \"rgba(251, 155, 6, 1.000)\"\n",
       "            ],\n",
       "            [\n",
       "                0.7843137254901961,\n",
       "                \"rgba(251, 157, 7, 1.000)\"\n",
       "            ],\n",
       "            [\n",
       "                0.788235294117647,\n",
       "                \"rgba(252, 159, 7, 1.000)\"\n",
       "            ],\n",
       "            [\n",
       "                0.792156862745098,\n",
       "                \"rgba(252, 161, 8, 1.000)\"\n",
       "            ],\n",
       "            [\n",
       "                0.796078431372549,\n",
       "                \"rgba(252, 163, 9, 1.000)\"\n",
       "            ],\n",
       "            [\n",
       "                0.8,\n",
       "                \"rgba(252, 165, 10, 1.000)\"\n",
       "            ],\n",
       "            [\n",
       "                0.803921568627451,\n",
       "                \"rgba(252, 166, 12, 1.000)\"\n",
       "            ],\n",
       "            [\n",
       "                0.807843137254902,\n",
       "                \"rgba(252, 168, 13, 1.000)\"\n",
       "            ],\n",
       "            [\n",
       "                0.8117647058823529,\n",
       "                \"rgba(252, 170, 15, 1.000)\"\n",
       "            ],\n",
       "            [\n",
       "                0.8156862745098039,\n",
       "                \"rgba(252, 172, 17, 1.000)\"\n",
       "            ],\n",
       "            [\n",
       "                0.8196078431372549,\n",
       "                \"rgba(252, 174, 18, 1.000)\"\n",
       "            ],\n",
       "            [\n",
       "                0.8235294117647058,\n",
       "                \"rgba(252, 176, 20, 1.000)\"\n",
       "            ],\n",
       "            [\n",
       "                0.8274509803921568,\n",
       "                \"rgba(252, 178, 22, 1.000)\"\n",
       "            ],\n",
       "            [\n",
       "                0.8313725490196079,\n",
       "                \"rgba(252, 180, 24, 1.000)\"\n",
       "            ],\n",
       "            [\n",
       "                0.8352941176470589,\n",
       "                \"rgba(251, 182, 26, 1.000)\"\n",
       "            ],\n",
       "            [\n",
       "                0.8392156862745098,\n",
       "                \"rgba(251, 184, 29, 1.000)\"\n",
       "            ],\n",
       "            [\n",
       "                0.8431372549019608,\n",
       "                \"rgba(251, 186, 31, 1.000)\"\n",
       "            ],\n",
       "            [\n",
       "                0.8470588235294118,\n",
       "                \"rgba(251, 188, 33, 1.000)\"\n",
       "            ],\n",
       "            [\n",
       "                0.8509803921568627,\n",
       "                \"rgba(251, 190, 35, 1.000)\"\n",
       "            ],\n",
       "            [\n",
       "                0.8549019607843137,\n",
       "                \"rgba(250, 192, 38, 1.000)\"\n",
       "            ],\n",
       "            [\n",
       "                0.8588235294117647,\n",
       "                \"rgba(250, 194, 40, 1.000)\"\n",
       "            ],\n",
       "            [\n",
       "                0.8627450980392157,\n",
       "                \"rgba(250, 196, 42, 1.000)\"\n",
       "            ],\n",
       "            [\n",
       "                0.8666666666666667,\n",
       "                \"rgba(250, 198, 45, 1.000)\"\n",
       "            ],\n",
       "            [\n",
       "                0.8705882352941177,\n",
       "                \"rgba(249, 199, 47, 1.000)\"\n",
       "            ],\n",
       "            [\n",
       "                0.8745098039215686,\n",
       "                \"rgba(249, 201, 50, 1.000)\"\n",
       "            ],\n",
       "            [\n",
       "                0.8784313725490196,\n",
       "                \"rgba(249, 203, 53, 1.000)\"\n",
       "            ],\n",
       "            [\n",
       "                0.8823529411764706,\n",
       "                \"rgba(248, 205, 55, 1.000)\"\n",
       "            ],\n",
       "            [\n",
       "                0.8862745098039215,\n",
       "                \"rgba(248, 207, 58, 1.000)\"\n",
       "            ],\n",
       "            [\n",
       "                0.8901960784313725,\n",
       "                \"rgba(247, 209, 61, 1.000)\"\n",
       "            ],\n",
       "            [\n",
       "                0.8941176470588236,\n",
       "                \"rgba(247, 211, 64, 1.000)\"\n",
       "            ],\n",
       "            [\n",
       "                0.8980392156862745,\n",
       "                \"rgba(246, 213, 67, 1.000)\"\n",
       "            ],\n",
       "            [\n",
       "                0.9019607843137255,\n",
       "                \"rgba(246, 215, 70, 1.000)\"\n",
       "            ],\n",
       "            [\n",
       "                0.9058823529411765,\n",
       "                \"rgba(245, 217, 73, 1.000)\"\n",
       "            ],\n",
       "            [\n",
       "                0.9098039215686274,\n",
       "                \"rgba(245, 219, 76, 1.000)\"\n",
       "            ],\n",
       "            [\n",
       "                0.9137254901960784,\n",
       "                \"rgba(244, 221, 79, 1.000)\"\n",
       "            ],\n",
       "            [\n",
       "                0.9176470588235294,\n",
       "                \"rgba(244, 223, 83, 1.000)\"\n",
       "            ],\n",
       "            [\n",
       "                0.9215686274509803,\n",
       "                \"rgba(244, 225, 86, 1.000)\"\n",
       "            ],\n",
       "            [\n",
       "                0.9254901960784314,\n",
       "                \"rgba(243, 227, 90, 1.000)\"\n",
       "            ],\n",
       "            [\n",
       "                0.9294117647058824,\n",
       "                \"rgba(243, 229, 93, 1.000)\"\n",
       "            ],\n",
       "            [\n",
       "                0.9333333333333333,\n",
       "                \"rgba(242, 230, 97, 1.000)\"\n",
       "            ],\n",
       "            [\n",
       "                0.9372549019607843,\n",
       "                \"rgba(242, 232, 101, 1.000)\"\n",
       "            ],\n",
       "            [\n",
       "                0.9411764705882353,\n",
       "                \"rgba(242, 234, 105, 1.000)\"\n",
       "            ],\n",
       "            [\n",
       "                0.9450980392156862,\n",
       "                \"rgba(241, 236, 109, 1.000)\"\n",
       "            ],\n",
       "            [\n",
       "                0.9490196078431372,\n",
       "                \"rgba(241, 237, 113, 1.000)\"\n",
       "            ],\n",
       "            [\n",
       "                0.9529411764705882,\n",
       "                \"rgba(241, 239, 117, 1.000)\"\n",
       "            ],\n",
       "            [\n",
       "                0.9568627450980393,\n",
       "                \"rgba(241, 241, 121, 1.000)\"\n",
       "            ],\n",
       "            [\n",
       "                0.9607843137254902,\n",
       "                \"rgba(242, 242, 125, 1.000)\"\n",
       "            ],\n",
       "            [\n",
       "                0.9647058823529412,\n",
       "                \"rgba(242, 244, 130, 1.000)\"\n",
       "            ],\n",
       "            [\n",
       "                0.9686274509803922,\n",
       "                \"rgba(243, 245, 134, 1.000)\"\n",
       "            ],\n",
       "            [\n",
       "                0.9725490196078431,\n",
       "                \"rgba(243, 246, 138, 1.000)\"\n",
       "            ],\n",
       "            [\n",
       "                0.9764705882352941,\n",
       "                \"rgba(244, 248, 142, 1.000)\"\n",
       "            ],\n",
       "            [\n",
       "                0.9803921568627451,\n",
       "                \"rgba(245, 249, 146, 1.000)\"\n",
       "            ],\n",
       "            [\n",
       "                0.984313725490196,\n",
       "                \"rgba(246, 250, 150, 1.000)\"\n",
       "            ],\n",
       "            [\n",
       "                0.9882352941176471,\n",
       "                \"rgba(248, 251, 154, 1.000)\"\n",
       "            ],\n",
       "            [\n",
       "                0.9921568627450981,\n",
       "                \"rgba(249, 252, 157, 1.000)\"\n",
       "            ],\n",
       "            [\n",
       "                0.996078431372549,\n",
       "                \"rgba(250, 253, 161, 1.000)\"\n",
       "            ],\n",
       "            [\n",
       "                1.0,\n",
       "                \"rgba(252, 255, 164, 1.000)\"\n",
       "            ]\n",
       "        ],\n",
       "        \"yaxis\": \"y\",\n",
       "        \"showscale\": true,\n",
       "        \"x\": [\n",
       "            0.05,\n",
       "            0.05,\n",
       "            0.05,\n",
       "            0.05,\n",
       "            0.05,\n",
       "            0.05,\n",
       "            0.05,\n",
       "            0.07500000000000001,\n",
       "            0.1,\n",
       "            0.1,\n",
       "            0.175,\n",
       "            0.25,\n",
       "            0.25,\n",
       "            0.25,\n",
       "            0.25,\n",
       "            0.25,\n",
       "            0.275,\n",
       "            0.3,\n",
       "            0.3,\n",
       "            0.35,\n",
       "            0.4,\n",
       "            0.4,\n",
       "            0.4,\n",
       "            0.45,\n",
       "            0.5,\n",
       "            0.5,\n",
       "            0.5,\n",
       "            0.525,\n",
       "            0.55,\n",
       "            0.55,\n",
       "            0.575,\n",
       "            0.6,\n",
       "            0.6,\n",
       "            0.6,\n",
       "            0.6,\n",
       "            0.6,\n",
       "            0.625,\n",
       "            0.65,\n",
       "            0.65,\n",
       "            0.65,\n",
       "            0.65,\n",
       "            0.65,\n",
       "            0.675,\n",
       "            0.7,\n",
       "            0.675,\n",
       "            0.65,\n",
       "            0.675,\n",
       "            0.7,\n",
       "            0.7,\n",
       "            0.7,\n",
       "            0.7,\n",
       "            0.7,\n",
       "            0.725,\n",
       "            0.75,\n",
       "            0.725,\n",
       "            0.7,\n",
       "            0.725,\n",
       "            0.75,\n",
       "            0.725,\n",
       "            0.7,\n",
       "            0.725,\n",
       "            0.75,\n",
       "            0.725,\n",
       "            0.7,\n",
       "            0.725,\n",
       "            0.75,\n",
       "            0.725,\n",
       "            0.7,\n",
       "            0.725,\n",
       "            0.725,\n",
       "            0.7,\n",
       "            0.725,\n",
       "            0.75,\n",
       "            0.725,\n",
       "            0.7,\n",
       "            0.725,\n",
       "            0.75,\n",
       "            0.725,\n",
       "            0.7,\n",
       "            0.725,\n",
       "            0.75,\n",
       "            0.75\n",
       "        ],\n",
       "        \"showlegend\": false,\n",
       "        \"name\": \"y1\",\n",
       "        \"zmin\": 0.4,\n",
       "        \"z\": [\n",
       "            0.4,\n",
       "            0.4,\n",
       "            0.4,\n",
       "            0.4,\n",
       "            0.4,\n",
       "            0.4,\n",
       "            0.4,\n",
       "            0.4,\n",
       "            0.4,\n",
       "            0.4,\n",
       "            0.45,\n",
       "            0.45,\n",
       "            0.45,\n",
       "            0.45,\n",
       "            0.45,\n",
       "            0.45,\n",
       "            0.45,\n",
       "            0.45,\n",
       "            0.45,\n",
       "            0.5,\n",
       "            0.5,\n",
       "            0.5,\n",
       "            0.5,\n",
       "            0.55,\n",
       "            0.55,\n",
       "            0.55,\n",
       "            0.55,\n",
       "            0.6,\n",
       "            0.6,\n",
       "            0.6,\n",
       "            0.6,\n",
       "            0.6,\n",
       "            0.6,\n",
       "            0.65,\n",
       "            0.65,\n",
       "            0.65,\n",
       "            0.65,\n",
       "            0.65,\n",
       "            0.65,\n",
       "            0.7,\n",
       "            0.7,\n",
       "            0.7,\n",
       "            0.7,\n",
       "            0.7,\n",
       "            0.75,\n",
       "            0.75,\n",
       "            0.75,\n",
       "            0.75,\n",
       "            0.8,\n",
       "            0.8,\n",
       "            0.85,\n",
       "            0.85,\n",
       "            0.85,\n",
       "            0.85,\n",
       "            0.9,\n",
       "            0.9,\n",
       "            0.9,\n",
       "            0.9,\n",
       "            0.95,\n",
       "            0.95,\n",
       "            0.95,\n",
       "            0.95,\n",
       "            1.0,\n",
       "            1.0,\n",
       "            1.0,\n",
       "            1.0,\n",
       "            1.05,\n",
       "            1.05,\n",
       "            1.05,\n",
       "            1.1,\n",
       "            1.1,\n",
       "            1.1,\n",
       "            1.1,\n",
       "            1.15,\n",
       "            1.15,\n",
       "            1.15,\n",
       "            1.15,\n",
       "            1.2,\n",
       "            1.2,\n",
       "            1.2,\n",
       "            1.2\n",
       "        ],\n",
       "        \"zmax\": 1.2,\n",
       "        \"y\": [\n",
       "            -0.024999999999999994,\n",
       "            0.275,\n",
       "            0.32499999999999996,\n",
       "            0.375,\n",
       "            0.42500000000000004,\n",
       "            0.475,\n",
       "            0.525,\n",
       "            0.7250000000000001,\n",
       "            0.925,\n",
       "            0.975,\n",
       "            0.625,\n",
       "            0.275,\n",
       "            0.32499999999999996,\n",
       "            0.375,\n",
       "            0.42500000000000004,\n",
       "            0.475,\n",
       "            0.7,\n",
       "            0.925,\n",
       "            0.975,\n",
       "            0.7,\n",
       "            0.42500000000000004,\n",
       "            0.475,\n",
       "            0.525,\n",
       "            0.47500000000000003,\n",
       "            0.42500000000000004,\n",
       "            0.475,\n",
       "            0.525,\n",
       "            0.35000000000000003,\n",
       "            0.175,\n",
       "            0.225,\n",
       "            0.525,\n",
       "            0.825,\n",
       "            0.875,\n",
       "            0.525,\n",
       "            0.175,\n",
       "            0.225,\n",
       "            0.5,\n",
       "            0.775,\n",
       "            0.825,\n",
       "            0.575,\n",
       "            0.32499999999999996,\n",
       "            0.375,\n",
       "            0.675,\n",
       "            0.975,\n",
       "            0.5,\n",
       "            0.025,\n",
       "            0.35000000000000003,\n",
       "            0.675,\n",
       "            0.55,\n",
       "            0.42500000000000004,\n",
       "            0.35,\n",
       "            0.275,\n",
       "            0.6,\n",
       "            0.925,\n",
       "            0.5499999999999999,\n",
       "            0.175,\n",
       "            0.5,\n",
       "            0.825,\n",
       "            0.475,\n",
       "            0.125,\n",
       "            0.45,\n",
       "            0.775,\n",
       "            0.42500000000000004,\n",
       "            0.07500000000000001,\n",
       "            0.39999999999999997,\n",
       "            0.725,\n",
       "            0.4,\n",
       "            0.07500000000000001,\n",
       "            0.39999999999999997,\n",
       "            0.375,\n",
       "            0.07500000000000001,\n",
       "            0.375,\n",
       "            0.675,\n",
       "            0.375,\n",
       "            0.07500000000000001,\n",
       "            0.375,\n",
       "            0.675,\n",
       "            0.375,\n",
       "            0.07500000000000001,\n",
       "            0.375,\n",
       "            0.675,\n",
       "            1.025\n",
       "        ],\n",
       "        \"type\": \"heatmap\"\n",
       "    }\n",
       "]\n",
       ", {\n",
       "    \"showlegend\": true,\n",
       "    \"xaxis\": {\n",
       "        \"showticklabels\": true,\n",
       "        \"gridwidth\": 0.5,\n",
       "        \"tickvals\": [\n",
       "            0.1,\n",
       "            0.2,\n",
       "            0.30000000000000004,\n",
       "            0.4,\n",
       "            0.5,\n",
       "            0.6000000000000001,\n",
       "            0.7000000000000001\n",
       "        ],\n",
       "        \"range\": [\n",
       "            0.05,\n",
       "            0.75\n",
       "        ],\n",
       "        \"domain\": [\n",
       "            0.1389851268591426,\n",
       "            0.778840769903762\n",
       "        ],\n",
       "        \"mirror\": true,\n",
       "        \"tickangle\": 0,\n",
       "        \"showline\": true,\n",
       "        \"ticktext\": [\n",
       "            \"0.1\",\n",
       "            \"0.2\",\n",
       "            \"0.3\",\n",
       "            \"0.4\",\n",
       "            \"0.5\",\n",
       "            \"0.6\",\n",
       "            \"0.7\"\n",
       "        ],\n",
       "        \"zeroline\": false,\n",
       "        \"tickfont\": {\n",
       "            \"color\": \"rgba(0, 0, 0, 1.000)\",\n",
       "            \"family\": \"serif\",\n",
       "            \"size\": 15\n",
       "        },\n",
       "        \"zerolinecolor\": \"rgba(0, 0, 0, 1.000)\",\n",
       "        \"anchor\": \"y\",\n",
       "        \"visible\": true,\n",
       "        \"ticks\": \"inside\",\n",
       "        \"tickmode\": \"array\",\n",
       "        \"linecolor\": \"rgba(0, 0, 0, 1.000)\",\n",
       "        \"showgrid\": true,\n",
       "        \"title\": \"Cv\",\n",
       "        \"gridcolor\": \"rgba(0, 0, 0, 0.100)\",\n",
       "        \"titlefont\": {\n",
       "            \"color\": \"rgba(0, 0, 0, 1.000)\",\n",
       "            \"family\": \"serif\",\n",
       "            \"size\": 17\n",
       "        },\n",
       "        \"tickcolor\": \"rgb(0, 0, 0)\",\n",
       "        \"type\": \"-\"\n",
       "    },\n",
       "    \"paper_bgcolor\": \"rgba(255, 255, 255, 1.000)\",\n",
       "    \"annotations\": [\n",
       "        {\n",
       "            \"yanchor\": \"top\",\n",
       "            \"xanchor\": \"center\",\n",
       "            \"rotation\": -0.0,\n",
       "            \"y\": 1.0,\n",
       "            \"font\": {\n",
       "                \"color\": \"rgba(0, 0, 0, 1.000)\",\n",
       "                \"family\": \"serif\",\n",
       "                \"size\": 15\n",
       "            },\n",
       "            \"yref\": \"paper\",\n",
       "            \"showarrow\": false,\n",
       "            \"text\": \"Heatmap of Λ-Cv-Cp\",\n",
       "            \"xref\": \"paper\",\n",
       "            \"x\": 0.5655555555555556\n",
       "        }\n",
       "    ],\n",
       "    \"height\": 350,\n",
       "    \"margin\": {\n",
       "        \"l\": 0,\n",
       "        \"b\": 20,\n",
       "        \"r\": 0,\n",
       "        \"t\": 20\n",
       "    },\n",
       "    \"plot_bgcolor\": \"rgba(255, 255, 255, 1.000)\",\n",
       "    \"yaxis\": {\n",
       "        \"showticklabels\": true,\n",
       "        \"gridwidth\": 0.5,\n",
       "        \"tickvals\": [\n",
       "            0.0,\n",
       "            0.25,\n",
       "            0.5,\n",
       "            0.75,\n",
       "            1.0\n",
       "        ],\n",
       "        \"range\": [\n",
       "            -0.024999999999999994,\n",
       "            1.025\n",
       "        ],\n",
       "        \"domain\": [\n",
       "            0.10251843519560044,\n",
       "            0.945100612423447\n",
       "        ],\n",
       "        \"mirror\": true,\n",
       "        \"tickangle\": 0,\n",
       "        \"showline\": true,\n",
       "        \"ticktext\": [\n",
       "            \"0.00\",\n",
       "            \"0.25\",\n",
       "            \"0.50\",\n",
       "            \"0.75\",\n",
       "            \"1.00\"\n",
       "        ],\n",
       "        \"zeroline\": false,\n",
       "        \"tickfont\": {\n",
       "            \"color\": \"rgba(0, 0, 0, 1.000)\",\n",
       "            \"family\": \"serif\",\n",
       "            \"size\": 15\n",
       "        },\n",
       "        \"zerolinecolor\": \"rgba(0, 0, 0, 1.000)\",\n",
       "        \"anchor\": \"x\",\n",
       "        \"visible\": true,\n",
       "        \"ticks\": \"inside\",\n",
       "        \"tickmode\": \"array\",\n",
       "        \"linecolor\": \"rgba(0, 0, 0, 1.000)\",\n",
       "        \"showgrid\": true,\n",
       "        \"title\": \"Cp\",\n",
       "        \"gridcolor\": \"rgba(0, 0, 0, 0.100)\",\n",
       "        \"titlefont\": {\n",
       "            \"color\": \"rgba(0, 0, 0, 1.000)\",\n",
       "            \"family\": \"serif\",\n",
       "            \"size\": 17\n",
       "        },\n",
       "        \"tickcolor\": \"rgb(0, 0, 0)\",\n",
       "        \"type\": \"-\"\n",
       "    },\n",
       "    \"legend\": {\n",
       "        \"yanchor\": \"auto\",\n",
       "        \"xanchor\": \"auto\",\n",
       "        \"bordercolor\": \"rgba(0, 0, 0, 1.000)\",\n",
       "        \"bgcolor\": \"rgba(255, 255, 255, 0.150)\",\n",
       "        \"borderwidth\": 1,\n",
       "        \"tracegroupgap\": 0,\n",
       "        \"y\": 1.0,\n",
       "        \"font\": {\n",
       "            \"color\": \"rgba(0, 0, 0, 1.000)\",\n",
       "            \"family\": \"serif\",\n",
       "            \"size\": 13\n",
       "        },\n",
       "        \"title\": {\n",
       "            \"font\": {\n",
       "                \"color\": \"rgba(0, 0, 0, 1.000)\",\n",
       "                \"family\": \"serif\",\n",
       "                \"size\": 15\n",
       "            },\n",
       "            \"text\": \"\"\n",
       "        },\n",
       "        \"traceorder\": \"normal\",\n",
       "        \"x\": 1.0\n",
       "    },\n",
       "    \"width\": 500\n",
       "}\n",
       ");\n",
       "    });\n",
       "    </script>\n"
      ]
     },
     "execution_count": 36,
     "metadata": {},
     "output_type": "execute_result"
    }
   ],
   "source": [
    "plotly()\n",
    "heatmap(df_paras.Cv,df_paras.Cp,df_paras.Λ,xlabel=\"Cv\",ylabel=\"Cp\",title=\"Heatmap of Λ-Cv-Cp\")\n",
    "# savefig(\"./images/heatmap.png\")"
   ]
  },
  {
   "cell_type": "code",
   "execution_count": 104,
   "id": "c436f215",
   "metadata": {},
   "outputs": [],
   "source": [
    "df_paras=DataFrame(CSV.File(\"./output/heatmap_new.csv\", header = [\"Λ\", \"Cv\",\"Cp\"]));"
   ]
  },
  {
   "cell_type": "code",
   "execution_count": 37,
   "id": "9ce442b4",
   "metadata": {},
   "outputs": [],
   "source": [
    "using VegaLite;"
   ]
  },
  {
   "cell_type": "code",
   "execution_count": 39,
   "id": "ced57b93",
   "metadata": {},
   "outputs": [
    {
     "data": {
      "application/vnd.vegalite.v4+json": {
       "data": {
        "values": [
         {
          "color": 0.4,
          "x": 0.05,
          "y": 0.25
         },
         {
          "color": 0.4,
          "x": 0.05,
          "y": 0.3
         },
         {
          "color": 0.4,
          "x": 0.05,
          "y": 0.35
         },
         {
          "color": 0.4,
          "x": 0.05,
          "y": 0.4
         },
         {
          "color": 0.4,
          "x": 0.05,
          "y": 0.45
         },
         {
          "color": 0.4,
          "x": 0.05,
          "y": 0.5
         },
         {
          "color": 0.4,
          "x": 0.05,
          "y": 0.55
         },
         {
          "color": 0.4,
          "x": 0.1,
          "y": 0.9
         },
         {
          "color": 0.4,
          "x": 0.1,
          "y": 0.95
         },
         {
          "color": 0.4,
          "x": 0.1,
          "y": 1
         },
         {
          "color": 0.45,
          "x": 0.25,
          "y": 0.25
         },
         {
          "color": 0.45,
          "x": 0.25,
          "y": 0.3
         },
         {
          "color": 0.45,
          "x": 0.25,
          "y": 0.35
         },
         {
          "color": 0.45,
          "x": 0.25,
          "y": 0.4
         },
         {
          "color": 0.45,
          "x": 0.25,
          "y": 0.45
         },
         {
          "color": 0.45,
          "x": 0.25,
          "y": 0.5
         },
         {
          "color": 0.45,
          "x": 0.3,
          "y": 0.9
         },
         {
          "color": 0.45,
          "x": 0.3,
          "y": 0.95
         },
         {
          "color": 0.45,
          "x": 0.3,
          "y": 1
         },
         {
          "color": 0.5,
          "x": 0.4,
          "y": 0.4
         },
         {
          "color": 0.5,
          "x": 0.4,
          "y": 0.45
         },
         {
          "color": 0.5,
          "x": 0.4,
          "y": 0.5
         },
         {
          "color": 0.5,
          "x": 0.4,
          "y": 0.55
         },
         {
          "color": 0.55,
          "x": 0.5,
          "y": 0.4
         },
         {
          "color": 0.55,
          "x": 0.5,
          "y": 0.45
         },
         {
          "color": 0.55,
          "x": 0.5,
          "y": 0.5
         },
         {
          "color": 0.55,
          "x": 0.5,
          "y": 0.55
         },
         {
          "color": 0.6,
          "x": 0.55,
          "y": 0.15
         },
         {
          "color": 0.6,
          "x": 0.55,
          "y": 0.2
         },
         {
          "color": 0.6,
          "x": 0.55,
          "y": 0.25
         },
         {
          "color": 0.6,
          "x": 0.6,
          "y": 0.8
         },
         {
          "color": 0.6,
          "x": 0.6,
          "y": 0.85
         },
         {
          "color": 0.6,
          "x": 0.6,
          "y": 0.9
         },
         {
          "color": 0.65,
          "x": 0.6,
          "y": 0.15
         },
         {
          "color": 0.65,
          "x": 0.6,
          "y": 0.2
         },
         {
          "color": 0.65,
          "x": 0.6,
          "y": 0.25
         },
         {
          "color": 0.65,
          "x": 0.65,
          "y": 0.75
         },
         {
          "color": 0.65,
          "x": 0.65,
          "y": 0.8
         },
         {
          "color": 0.65,
          "x": 0.65,
          "y": 0.85
         },
         {
          "color": 0.7,
          "x": 0.65,
          "y": 0.3
         },
         {
          "color": 0.7,
          "x": 0.65,
          "y": 0.35
         },
         {
          "color": 0.7,
          "x": 0.65,
          "y": 0.4
         },
         {
          "color": 0.7,
          "x": 0.7,
          "y": 0.95
         },
         {
          "color": 0.7,
          "x": 0.7,
          "y": 1
         },
         {
          "color": 0.75,
          "x": 0.65,
          "y": 0
         },
         {
          "color": 0.75,
          "x": 0.65,
          "y": 0.05
         },
         {
          "color": 0.75,
          "x": 0.7,
          "y": 0.65
         },
         {
          "color": 0.75,
          "x": 0.7,
          "y": 0.7
         },
         {
          "color": 0.8,
          "x": 0.7,
          "y": 0.4
         },
         {
          "color": 0.8,
          "x": 0.7,
          "y": 0.45
         },
         {
          "color": 0.85,
          "x": 0.7,
          "y": 0.25
         },
         {
          "color": 0.85,
          "x": 0.7,
          "y": 0.3
         },
         {
          "color": 0.85,
          "x": 0.75,
          "y": 0.9
         },
         {
          "color": 0.85,
          "x": 0.75,
          "y": 0.95
         },
         {
          "color": 0.9,
          "x": 0.7,
          "y": 0.15
         },
         {
          "color": 0.9,
          "x": 0.7,
          "y": 0.2
         },
         {
          "color": 0.9,
          "x": 0.75,
          "y": 0.8
         },
         {
          "color": 0.9,
          "x": 0.75,
          "y": 0.85
         },
         {
          "color": 0.95,
          "x": 0.7,
          "y": 0.1
         },
         {
          "color": 0.95,
          "x": 0.7,
          "y": 0.15
         },
         {
          "color": 0.95,
          "x": 0.75,
          "y": 0.75
         },
         {
          "color": 0.95,
          "x": 0.75,
          "y": 0.8
         },
         {
          "color": 1,
          "x": 0.7,
          "y": 0.05
         },
         {
          "color": 1,
          "x": 0.7,
          "y": 0.1
         },
         {
          "color": 1,
          "x": 0.75,
          "y": 0.7
         },
         {
          "color": 1,
          "x": 0.75,
          "y": 0.75
         },
         {
          "color": 1.05,
          "x": 0.7,
          "y": 0.05
         },
         {
          "color": 1.05,
          "x": 0.7,
          "y": 0.1
         },
         {
          "color": 1.05,
          "x": 0.75,
          "y": 0.7
         },
         {
          "color": 1.1,
          "x": 0.7,
          "y": 0.05
         },
         {
          "color": 1.1,
          "x": 0.7,
          "y": 0.1
         },
         {
          "color": 1.1,
          "x": 0.75,
          "y": 0.65
         },
         {
          "color": 1.1,
          "x": 0.75,
          "y": 0.7
         },
         {
          "color": 1.15,
          "x": 0.7,
          "y": 0.05
         },
         {
          "color": 1.15,
          "x": 0.7,
          "y": 0.1
         },
         {
          "color": 1.15,
          "x": 0.75,
          "y": 0.65
         },
         {
          "color": 1.15,
          "x": 0.75,
          "y": 0.7
         },
         {
          "color": 1.2,
          "x": 0.7,
          "y": 0.05
         },
         {
          "color": 1.2,
          "x": 0.7,
          "y": 0.1
         },
         {
          "color": 1.2,
          "x": 0.75,
          "y": 0.65
         },
         {
          "color": 1.2,
          "x": 0.75,
          "y": 0.7
         }
        ]
       },
       "encoding": {
        "color": {
         "field": "color",
         "title": null,
         "type": "quantitative"
        },
        "x": {
         "field": "x",
         "title": null,
         "type": "quantitative"
        },
        "y": {
         "field": "y",
         "title": null,
         "type": "quantitative"
        }
       },
       "mark": "point"
      },
      "image/png": "[encoded data removed]",
      "image/svg+xml": [
       "<?xml version=\"1.0\" encoding=\"utf-8\"?>\n",
       "<!DOCTYPE svg PUBLIC \"-//W3C//DTD SVG 1.1//EN\" \"http://www.w3.org/Graphics/SVG/1.1/DTD/svg11.dtd\">\n",
       "<svg xmlns=\"http://www.w3.org/2000/svg\" xmlns:xlink=\"http://www.w3.org/1999/xlink\" version=\"1.1\" class=\"marks\" width=\"283\" height=\"232\" viewBox=\"0 0 283 232\"><rect width=\"283\" height=\"232\" fill=\"white\"/><g fill=\"none\" stroke-miterlimit=\"10\" transform=\"translate(27,10)\"><g class=\"mark-group role-frame root\" role=\"graphics-object\" aria-roledescription=\"group mark container\"><g transform=\"translate(0,0)\"><path class=\"background\" aria-hidden=\"true\" d=\"M0.5,0.5h200v200h-200Z\" stroke=\"#ddd\"/><g><g class=\"mark-group role-axis\" aria-hidden=\"true\"><g transform=\"translate(0.5,200.5)\"><path class=\"background\" aria-hidden=\"true\" d=\"M0,0h0v0h0Z\" pointer-events=\"none\"/><g><g class=\"mark-rule role-axis-grid\" pointer-events=\"none\"><line transform=\"translate(0,-200)\" x2=\"0\" y2=\"200\" stroke=\"#ddd\" stroke-width=\"1\" opacity=\"1\"/><line transform=\"translate(50,-200)\" x2=\"0\" y2=\"200\" stroke=\"#ddd\" stroke-width=\"1\" opacity=\"1\"/><line transform=\"translate(100,-200)\" x2=\"0\" y2=\"200\" stroke=\"#ddd\" stroke-width=\"1\" opacity=\"1\"/><line transform=\"translate(150,-200)\" x2=\"0\" y2=\"200\" stroke=\"#ddd\" stroke-width=\"1\" opacity=\"1\"/><line transform=\"translate(200,-200)\" x2=\"0\" y2=\"200\" stroke=\"#ddd\" stroke-width=\"1\" opacity=\"1\"/></g></g><path class=\"foreground\" aria-hidden=\"true\" d=\"\" pointer-events=\"none\" display=\"none\"/></g></g><g class=\"mark-group role-axis\" aria-hidden=\"true\"><g transform=\"translate(0.5,0.5)\"><path class=\"background\" aria-hidden=\"true\" d=\"M0,0h0v0h0Z\" pointer-events=\"none\"/><g><g class=\"mark-rule role-axis-grid\" pointer-events=\"none\"><line transform=\"translate(0,200)\" x2=\"200\" y2=\"0\" stroke=\"#ddd\" stroke-width=\"1\" opacity=\"1\"/><line transform=\"translate(0,160)\" x2=\"200\" y2=\"0\" stroke=\"#ddd\" stroke-width=\"1\" opacity=\"1\"/><line transform=\"translate(0,120)\" x2=\"200\" y2=\"0\" stroke=\"#ddd\" stroke-width=\"1\" opacity=\"1\"/><line transform=\"translate(0,80)\" x2=\"200\" y2=\"0\" stroke=\"#ddd\" stroke-width=\"1\" opacity=\"1\"/><line transform=\"translate(0,40)\" x2=\"200\" y2=\"0\" stroke=\"#ddd\" stroke-width=\"1\" opacity=\"1\"/><line transform=\"translate(0,0)\" x2=\"200\" y2=\"0\" stroke=\"#ddd\" stroke-width=\"1\" opacity=\"1\"/></g></g><path class=\"foreground\" aria-hidden=\"true\" d=\"\" pointer-events=\"none\" display=\"none\"/></g></g><g class=\"mark-group role-axis\" role=\"graphics-symbol\" aria-roledescription=\"axis\" aria-label=\"X-axis for a linear scale with values from 0.0 to 0.8\"><g transform=\"translate(0.5,200.5)\"><path class=\"background\" aria-hidden=\"true\" d=\"M0,0h0v0h0Z\" pointer-events=\"none\"/><g><g class=\"mark-rule role-axis-tick\" pointer-events=\"none\"><line transform=\"translate(0,0)\" x2=\"0\" y2=\"5\" stroke=\"#888\" stroke-width=\"1\" opacity=\"1\"/><line transform=\"translate(50,0)\" x2=\"0\" y2=\"5\" stroke=\"#888\" stroke-width=\"1\" opacity=\"1\"/><line transform=\"translate(100,0)\" x2=\"0\" y2=\"5\" stroke=\"#888\" stroke-width=\"1\" opacity=\"1\"/><line transform=\"translate(150,0)\" x2=\"0\" y2=\"5\" stroke=\"#888\" stroke-width=\"1\" opacity=\"1\"/><line transform=\"translate(200,0)\" x2=\"0\" y2=\"5\" stroke=\"#888\" stroke-width=\"1\" opacity=\"1\"/></g><g class=\"mark-text role-axis-label\" pointer-events=\"none\"><text text-anchor=\"start\" transform=\"translate(0,15)\" font-family=\"sans-serif\" font-size=\"10px\" fill=\"#000\" opacity=\"1\">0.0</text><text text-anchor=\"middle\" transform=\"translate(50,15)\" font-family=\"sans-serif\" font-size=\"10px\" fill=\"#000\" opacity=\"1\">0.2</text><text text-anchor=\"middle\" transform=\"translate(100,15)\" font-family=\"sans-serif\" font-size=\"10px\" fill=\"#000\" opacity=\"1\">0.4</text><text text-anchor=\"middle\" transform=\"translate(149.99999999999997,15)\" font-family=\"sans-serif\" font-size=\"10px\" fill=\"#000\" opacity=\"1\">0.6</text><text text-anchor=\"end\" transform=\"translate(200,15)\" font-family=\"sans-serif\" font-size=\"10px\" fill=\"#000\" opacity=\"1\">0.8</text></g><g class=\"mark-rule role-axis-domain\" pointer-events=\"none\"><line transform=\"translate(0,0)\" x2=\"200\" y2=\"0\" stroke=\"#888\" stroke-width=\"1\" opacity=\"1\"/></g></g><path class=\"foreground\" aria-hidden=\"true\" d=\"\" pointer-events=\"none\" display=\"none\"/></g></g><g class=\"mark-group role-axis\" role=\"graphics-symbol\" aria-roledescription=\"axis\" aria-label=\"Y-axis for a linear scale with values from 0.0 to 1.0\"><g transform=\"translate(0.5,0.5)\"><path class=\"background\" aria-hidden=\"true\" d=\"M0,0h0v0h0Z\" pointer-events=\"none\"/><g><g class=\"mark-rule role-axis-tick\" pointer-events=\"none\"><line transform=\"translate(0,200)\" x2=\"-5\" y2=\"0\" stroke=\"#888\" stroke-width=\"1\" opacity=\"1\"/><line transform=\"translate(0,160)\" x2=\"-5\" y2=\"0\" stroke=\"#888\" stroke-width=\"1\" opacity=\"1\"/><line transform=\"translate(0,120)\" x2=\"-5\" y2=\"0\" stroke=\"#888\" stroke-width=\"1\" opacity=\"1\"/><line transform=\"translate(0,80)\" x2=\"-5\" y2=\"0\" stroke=\"#888\" stroke-width=\"1\" opacity=\"1\"/><line transform=\"translate(0,40)\" x2=\"-5\" y2=\"0\" stroke=\"#888\" stroke-width=\"1\" opacity=\"1\"/><line transform=\"translate(0,0)\" x2=\"-5\" y2=\"0\" stroke=\"#888\" stroke-width=\"1\" opacity=\"1\"/></g><g class=\"mark-text role-axis-label\" pointer-events=\"none\"><text text-anchor=\"end\" transform=\"translate(-7,203)\" font-family=\"sans-serif\" font-size=\"10px\" fill=\"#000\" opacity=\"1\">0.0</text><text text-anchor=\"end\" transform=\"translate(-7,163)\" font-family=\"sans-serif\" font-size=\"10px\" fill=\"#000\" opacity=\"1\">0.2</text><text text-anchor=\"end\" transform=\"translate(-7,123)\" font-family=\"sans-serif\" font-size=\"10px\" fill=\"#000\" opacity=\"1\">0.4</text><text text-anchor=\"end\" transform=\"translate(-7,83)\" font-family=\"sans-serif\" font-size=\"10px\" fill=\"#000\" opacity=\"1\">0.6</text><text text-anchor=\"end\" transform=\"translate(-7,42.99999999999999)\" font-family=\"sans-serif\" font-size=\"10px\" fill=\"#000\" opacity=\"1\">0.8</text><text text-anchor=\"end\" transform=\"translate(-7,3)\" font-family=\"sans-serif\" font-size=\"10px\" fill=\"#000\" opacity=\"1\">1.0</text></g><g class=\"mark-rule role-axis-domain\" pointer-events=\"none\"><line transform=\"translate(0,200)\" x2=\"0\" y2=\"-200\" stroke=\"#888\" stroke-width=\"1\" opacity=\"1\"/></g></g><path class=\"foreground\" aria-hidden=\"true\" d=\"\" pointer-events=\"none\" display=\"none\"/></g></g><g class=\"mark-symbol role-mark marks\" role=\"graphics-object\" aria-roledescription=\"symbol mark container\"><path aria-label=\"x: 0.05; y: 0.25; color: 0.4\" role=\"graphics-symbol\" aria-roledescription=\"point\" transform=\"translate(12.5,150)\" d=\"M2.7386127875258306,0A2.7386127875258306,2.7386127875258306,0,1,1,-2.7386127875258306,0A2.7386127875258306,2.7386127875258306,0,1,1,2.7386127875258306,0\" stroke=\"rgb(207, 225, 242)\" stroke-width=\"2\" opacity=\"0.7\"/><path aria-label=\"x: 0.05; y: 0.3; color: 0.4\" role=\"graphics-symbol\" aria-roledescription=\"point\" transform=\"translate(12.5,140)\" d=\"M2.7386127875258306,0A2.7386127875258306,2.7386127875258306,0,1,1,-2.7386127875258306,0A2.7386127875258306,2.7386127875258306,0,1,1,2.7386127875258306,0\" stroke=\"rgb(207, 225, 242)\" stroke-width=\"2\" opacity=\"0.7\"/><path aria-label=\"x: 0.05; y: 0.35; color: 0.4\" role=\"graphics-symbol\" aria-roledescription=\"point\" transform=\"translate(12.5,130)\" d=\"M2.7386127875258306,0A2.7386127875258306,2.7386127875258306,0,1,1,-2.7386127875258306,0A2.7386127875258306,2.7386127875258306,0,1,1,2.7386127875258306,0\" stroke=\"rgb(207, 225, 242)\" stroke-width=\"2\" opacity=\"0.7\"/><path aria-label=\"x: 0.05; y: 0.4; color: 0.4\" role=\"graphics-symbol\" aria-roledescription=\"point\" transform=\"translate(12.5,120)\" d=\"M2.7386127875258306,0A2.7386127875258306,2.7386127875258306,0,1,1,-2.7386127875258306,0A2.7386127875258306,2.7386127875258306,0,1,1,2.7386127875258306,0\" stroke=\"rgb(207, 225, 242)\" stroke-width=\"2\" opacity=\"0.7\"/><path aria-label=\"x: 0.05; y: 0.45; color: 0.4\" role=\"graphics-symbol\" aria-roledescription=\"point\" transform=\"translate(12.5,110.00000000000001)\" d=\"M2.7386127875258306,0A2.7386127875258306,2.7386127875258306,0,1,1,-2.7386127875258306,0A2.7386127875258306,2.7386127875258306,0,1,1,2.7386127875258306,0\" stroke=\"rgb(207, 225, 242)\" stroke-width=\"2\" opacity=\"0.7\"/><path aria-label=\"x: 0.05; y: 0.5; color: 0.4\" role=\"graphics-symbol\" aria-roledescription=\"point\" transform=\"translate(12.5,100)\" d=\"M2.7386127875258306,0A2.7386127875258306,2.7386127875258306,0,1,1,-2.7386127875258306,0A2.7386127875258306,2.7386127875258306,0,1,1,2.7386127875258306,0\" stroke=\"rgb(207, 225, 242)\" stroke-width=\"2\" opacity=\"0.7\"/><path aria-label=\"x: 0.05; y: 0.55; color: 0.4\" role=\"graphics-symbol\" aria-roledescription=\"point\" transform=\"translate(12.5,89.99999999999999)\" d=\"M2.7386127875258306,0A2.7386127875258306,2.7386127875258306,0,1,1,-2.7386127875258306,0A2.7386127875258306,2.7386127875258306,0,1,1,2.7386127875258306,0\" stroke=\"rgb(207, 225, 242)\" stroke-width=\"2\" opacity=\"0.7\"/><path aria-label=\"x: 0.1; y: 0.9; color: 0.4\" role=\"graphics-symbol\" aria-roledescription=\"point\" transform=\"translate(25,19.999999999999996)\" d=\"M2.7386127875258306,0A2.7386127875258306,2.7386127875258306,0,1,1,-2.7386127875258306,0A2.7386127875258306,2.7386127875258306,0,1,1,2.7386127875258306,0\" stroke=\"rgb(207, 225, 242)\" stroke-width=\"2\" opacity=\"0.7\"/><path aria-label=\"x: 0.1; y: 0.95; color: 0.4\" role=\"graphics-symbol\" aria-roledescription=\"point\" transform=\"translate(25,10.000000000000009)\" d=\"M2.7386127875258306,0A2.7386127875258306,2.7386127875258306,0,1,1,-2.7386127875258306,0A2.7386127875258306,2.7386127875258306,0,1,1,2.7386127875258306,0\" stroke=\"rgb(207, 225, 242)\" stroke-width=\"2\" opacity=\"0.7\"/><path aria-label=\"x: 0.1; y: 1; color: 0.4\" role=\"graphics-symbol\" aria-roledescription=\"point\" transform=\"translate(25,0)\" d=\"M2.7386127875258306,0A2.7386127875258306,2.7386127875258306,0,1,1,-2.7386127875258306,0A2.7386127875258306,2.7386127875258306,0,1,1,2.7386127875258306,0\" stroke=\"rgb(207, 225, 242)\" stroke-width=\"2\" opacity=\"0.7\"/><path aria-label=\"x: 0.25; y: 0.25; color: 0.45\" role=\"graphics-symbol\" aria-roledescription=\"point\" transform=\"translate(62.5,150)\" d=\"M2.7386127875258306,0A2.7386127875258306,2.7386127875258306,0,1,1,-2.7386127875258306,0A2.7386127875258306,2.7386127875258306,0,1,1,2.7386127875258306,0\" stroke=\"rgb(196, 219, 238)\" stroke-width=\"2\" opacity=\"0.7\"/><path aria-label=\"x: 0.25; y: 0.3; color: 0.45\" role=\"graphics-symbol\" aria-roledescription=\"point\" transform=\"translate(62.5,140)\" d=\"M2.7386127875258306,0A2.7386127875258306,2.7386127875258306,0,1,1,-2.7386127875258306,0A2.7386127875258306,2.7386127875258306,0,1,1,2.7386127875258306,0\" stroke=\"rgb(196, 219, 238)\" stroke-width=\"2\" opacity=\"0.7\"/><path aria-label=\"x: 0.25; y: 0.35; color: 0.45\" role=\"graphics-symbol\" aria-roledescription=\"point\" transform=\"translate(62.5,130)\" d=\"M2.7386127875258306,0A2.7386127875258306,2.7386127875258306,0,1,1,-2.7386127875258306,0A2.7386127875258306,2.7386127875258306,0,1,1,2.7386127875258306,0\" stroke=\"rgb(196, 219, 238)\" stroke-width=\"2\" opacity=\"0.7\"/><path aria-label=\"x: 0.25; y: 0.4; color: 0.45\" role=\"graphics-symbol\" aria-roledescription=\"point\" transform=\"translate(62.5,120)\" d=\"M2.7386127875258306,0A2.7386127875258306,2.7386127875258306,0,1,1,-2.7386127875258306,0A2.7386127875258306,2.7386127875258306,0,1,1,2.7386127875258306,0\" stroke=\"rgb(196, 219, 238)\" stroke-width=\"2\" opacity=\"0.7\"/><path aria-label=\"x: 0.25; y: 0.45; color: 0.45\" role=\"graphics-symbol\" aria-roledescription=\"point\" transform=\"translate(62.5,110.00000000000001)\" d=\"M2.7386127875258306,0A2.7386127875258306,2.7386127875258306,0,1,1,-2.7386127875258306,0A2.7386127875258306,2.7386127875258306,0,1,1,2.7386127875258306,0\" stroke=\"rgb(196, 219, 238)\" stroke-width=\"2\" opacity=\"0.7\"/><path aria-label=\"x: 0.25; y: 0.5; color: 0.45\" role=\"graphics-symbol\" aria-roledescription=\"point\" transform=\"translate(62.5,100)\" d=\"M2.7386127875258306,0A2.7386127875258306,2.7386127875258306,0,1,1,-2.7386127875258306,0A2.7386127875258306,2.7386127875258306,0,1,1,2.7386127875258306,0\" stroke=\"rgb(196, 219, 238)\" stroke-width=\"2\" opacity=\"0.7\"/><path aria-label=\"x: 0.3; y: 0.9; color: 0.45\" role=\"graphics-symbol\" aria-roledescription=\"point\" transform=\"translate(74.99999999999999,19.999999999999996)\" d=\"M2.7386127875258306,0A2.7386127875258306,2.7386127875258306,0,1,1,-2.7386127875258306,0A2.7386127875258306,2.7386127875258306,0,1,1,2.7386127875258306,0\" stroke=\"rgb(196, 219, 238)\" stroke-width=\"2\" opacity=\"0.7\"/><path aria-label=\"x: 0.3; y: 0.95; color: 0.45\" role=\"graphics-symbol\" aria-roledescription=\"point\" transform=\"translate(74.99999999999999,10.000000000000009)\" d=\"M2.7386127875258306,0A2.7386127875258306,2.7386127875258306,0,1,1,-2.7386127875258306,0A2.7386127875258306,2.7386127875258306,0,1,1,2.7386127875258306,0\" stroke=\"rgb(196, 219, 238)\" stroke-width=\"2\" opacity=\"0.7\"/><path aria-label=\"x: 0.3; y: 1; color: 0.45\" role=\"graphics-symbol\" aria-roledescription=\"point\" transform=\"translate(74.99999999999999,0)\" d=\"M2.7386127875258306,0A2.7386127875258306,2.7386127875258306,0,1,1,-2.7386127875258306,0A2.7386127875258306,2.7386127875258306,0,1,1,2.7386127875258306,0\" stroke=\"rgb(196, 219, 238)\" stroke-width=\"2\" opacity=\"0.7\"/><path aria-label=\"x: 0.4; y: 0.4; color: 0.5\" role=\"graphics-symbol\" aria-roledescription=\"point\" transform=\"translate(100,120)\" d=\"M2.7386127875258306,0A2.7386127875258306,2.7386127875258306,0,1,1,-2.7386127875258306,0A2.7386127875258306,2.7386127875258306,0,1,1,2.7386127875258306,0\" stroke=\"rgb(185, 214, 234)\" stroke-width=\"2\" opacity=\"0.7\"/><path aria-label=\"x: 0.4; y: 0.45; color: 0.5\" role=\"graphics-symbol\" aria-roledescription=\"point\" transform=\"translate(100,110.00000000000001)\" d=\"M2.7386127875258306,0A2.7386127875258306,2.7386127875258306,0,1,1,-2.7386127875258306,0A2.7386127875258306,2.7386127875258306,0,1,1,2.7386127875258306,0\" stroke=\"rgb(185, 214, 234)\" stroke-width=\"2\" opacity=\"0.7\"/><path aria-label=\"x: 0.4; y: 0.5; color: 0.5\" role=\"graphics-symbol\" aria-roledescription=\"point\" transform=\"translate(100,100)\" d=\"M2.7386127875258306,0A2.7386127875258306,2.7386127875258306,0,1,1,-2.7386127875258306,0A2.7386127875258306,2.7386127875258306,0,1,1,2.7386127875258306,0\" stroke=\"rgb(185, 214, 234)\" stroke-width=\"2\" opacity=\"0.7\"/><path aria-label=\"x: 0.4; y: 0.55; color: 0.5\" role=\"graphics-symbol\" aria-roledescription=\"point\" transform=\"translate(100,89.99999999999999)\" d=\"M2.7386127875258306,0A2.7386127875258306,2.7386127875258306,0,1,1,-2.7386127875258306,0A2.7386127875258306,2.7386127875258306,0,1,1,2.7386127875258306,0\" stroke=\"rgb(185, 214, 234)\" stroke-width=\"2\" opacity=\"0.7\"/><path aria-label=\"x: 0.5; y: 0.4; color: 0.55\" role=\"graphics-symbol\" aria-roledescription=\"point\" transform=\"translate(125,120)\" d=\"M2.7386127875258306,0A2.7386127875258306,2.7386127875258306,0,1,1,-2.7386127875258306,0A2.7386127875258306,2.7386127875258306,0,1,1,2.7386127875258306,0\" stroke=\"rgb(171, 207, 230)\" stroke-width=\"2\" opacity=\"0.7\"/><path aria-label=\"x: 0.5; y: 0.45; color: 0.55\" role=\"graphics-symbol\" aria-roledescription=\"point\" transform=\"translate(125,110.00000000000001)\" d=\"M2.7386127875258306,0A2.7386127875258306,2.7386127875258306,0,1,1,-2.7386127875258306,0A2.7386127875258306,2.7386127875258306,0,1,1,2.7386127875258306,0\" stroke=\"rgb(171, 207, 230)\" stroke-width=\"2\" opacity=\"0.7\"/><path aria-label=\"x: 0.5; y: 0.5; color: 0.55\" role=\"graphics-symbol\" aria-roledescription=\"point\" transform=\"translate(125,100)\" d=\"M2.7386127875258306,0A2.7386127875258306,2.7386127875258306,0,1,1,-2.7386127875258306,0A2.7386127875258306,2.7386127875258306,0,1,1,2.7386127875258306,0\" stroke=\"rgb(171, 207, 230)\" stroke-width=\"2\" opacity=\"0.7\"/><path aria-label=\"x: 0.5; y: 0.55; color: 0.55\" role=\"graphics-symbol\" aria-roledescription=\"point\" transform=\"translate(125,89.99999999999999)\" d=\"M2.7386127875258306,0A2.7386127875258306,2.7386127875258306,0,1,1,-2.7386127875258306,0A2.7386127875258306,2.7386127875258306,0,1,1,2.7386127875258306,0\" stroke=\"rgb(171, 207, 230)\" stroke-width=\"2\" opacity=\"0.7\"/><path aria-label=\"x: 0.55; y: 0.15; color: 0.6\" role=\"graphics-symbol\" aria-roledescription=\"point\" transform=\"translate(137.5,170)\" d=\"M2.7386127875258306,0A2.7386127875258306,2.7386127875258306,0,1,1,-2.7386127875258306,0A2.7386127875258306,2.7386127875258306,0,1,1,2.7386127875258306,0\" stroke=\"rgb(156, 200, 226)\" stroke-width=\"2\" opacity=\"0.7\"/><path aria-label=\"x: 0.55; y: 0.2; color: 0.6\" role=\"graphics-symbol\" aria-roledescription=\"point\" transform=\"translate(137.5,160)\" d=\"M2.7386127875258306,0A2.7386127875258306,2.7386127875258306,0,1,1,-2.7386127875258306,0A2.7386127875258306,2.7386127875258306,0,1,1,2.7386127875258306,0\" stroke=\"rgb(156, 200, 226)\" stroke-width=\"2\" opacity=\"0.7\"/><path aria-label=\"x: 0.55; y: 0.25; color: 0.6\" role=\"graphics-symbol\" aria-roledescription=\"point\" transform=\"translate(137.5,150)\" d=\"M2.7386127875258306,0A2.7386127875258306,2.7386127875258306,0,1,1,-2.7386127875258306,0A2.7386127875258306,2.7386127875258306,0,1,1,2.7386127875258306,0\" stroke=\"rgb(156, 200, 226)\" stroke-width=\"2\" opacity=\"0.7\"/><path aria-label=\"x: 0.6; y: 0.8; color: 0.6\" role=\"graphics-symbol\" aria-roledescription=\"point\" transform=\"translate(149.99999999999997,39.99999999999999)\" d=\"M2.7386127875258306,0A2.7386127875258306,2.7386127875258306,0,1,1,-2.7386127875258306,0A2.7386127875258306,2.7386127875258306,0,1,1,2.7386127875258306,0\" stroke=\"rgb(156, 200, 226)\" stroke-width=\"2\" opacity=\"0.7\"/><path aria-label=\"x: 0.6; y: 0.85; color: 0.6\" role=\"graphics-symbol\" aria-roledescription=\"point\" transform=\"translate(149.99999999999997,30.000000000000004)\" d=\"M2.7386127875258306,0A2.7386127875258306,2.7386127875258306,0,1,1,-2.7386127875258306,0A2.7386127875258306,2.7386127875258306,0,1,1,2.7386127875258306,0\" stroke=\"rgb(156, 200, 226)\" stroke-width=\"2\" opacity=\"0.7\"/><path aria-label=\"x: 0.6; y: 0.9; color: 0.6\" role=\"graphics-symbol\" aria-roledescription=\"point\" transform=\"translate(149.99999999999997,19.999999999999996)\" d=\"M2.7386127875258306,0A2.7386127875258306,2.7386127875258306,0,1,1,-2.7386127875258306,0A2.7386127875258306,2.7386127875258306,0,1,1,2.7386127875258306,0\" stroke=\"rgb(156, 200, 226)\" stroke-width=\"2\" opacity=\"0.7\"/><path aria-label=\"x: 0.6; y: 0.15; color: 0.65\" role=\"graphics-symbol\" aria-roledescription=\"point\" transform=\"translate(149.99999999999997,170)\" d=\"M2.7386127875258306,0A2.7386127875258306,2.7386127875258306,0,1,1,-2.7386127875258306,0A2.7386127875258306,2.7386127875258306,0,1,1,2.7386127875258306,0\" stroke=\"rgb(140, 191, 221)\" stroke-width=\"2\" opacity=\"0.7\"/><path aria-label=\"x: 0.6; y: 0.2; color: 0.65\" role=\"graphics-symbol\" aria-roledescription=\"point\" transform=\"translate(149.99999999999997,160)\" d=\"M2.7386127875258306,0A2.7386127875258306,2.7386127875258306,0,1,1,-2.7386127875258306,0A2.7386127875258306,2.7386127875258306,0,1,1,2.7386127875258306,0\" stroke=\"rgb(140, 191, 221)\" stroke-width=\"2\" opacity=\"0.7\"/><path aria-label=\"x: 0.6; y: 0.25; color: 0.65\" role=\"graphics-symbol\" aria-roledescription=\"point\" transform=\"translate(149.99999999999997,150)\" d=\"M2.7386127875258306,0A2.7386127875258306,2.7386127875258306,0,1,1,-2.7386127875258306,0A2.7386127875258306,2.7386127875258306,0,1,1,2.7386127875258306,0\" stroke=\"rgb(140, 191, 221)\" stroke-width=\"2\" opacity=\"0.7\"/><path aria-label=\"x: 0.65; y: 0.75; color: 0.65\" role=\"graphics-symbol\" aria-roledescription=\"point\" transform=\"translate(162.5,50)\" d=\"M2.7386127875258306,0A2.7386127875258306,2.7386127875258306,0,1,1,-2.7386127875258306,0A2.7386127875258306,2.7386127875258306,0,1,1,2.7386127875258306,0\" stroke=\"rgb(140, 191, 221)\" stroke-width=\"2\" opacity=\"0.7\"/><path aria-label=\"x: 0.65; y: 0.8; color: 0.65\" role=\"graphics-symbol\" aria-roledescription=\"point\" transform=\"translate(162.5,39.99999999999999)\" d=\"M2.7386127875258306,0A2.7386127875258306,2.7386127875258306,0,1,1,-2.7386127875258306,0A2.7386127875258306,2.7386127875258306,0,1,1,2.7386127875258306,0\" stroke=\"rgb(140, 191, 221)\" stroke-width=\"2\" opacity=\"0.7\"/><path aria-label=\"x: 0.65; y: 0.85; color: 0.65\" role=\"graphics-symbol\" aria-roledescription=\"point\" transform=\"translate(162.5,30.000000000000004)\" d=\"M2.7386127875258306,0A2.7386127875258306,2.7386127875258306,0,1,1,-2.7386127875258306,0A2.7386127875258306,2.7386127875258306,0,1,1,2.7386127875258306,0\" stroke=\"rgb(140, 191, 221)\" stroke-width=\"2\" opacity=\"0.7\"/><path aria-label=\"x: 0.65; y: 0.3; color: 0.7\" role=\"graphics-symbol\" aria-roledescription=\"point\" transform=\"translate(162.5,140)\" d=\"M2.7386127875258306,0A2.7386127875258306,2.7386127875258306,0,1,1,-2.7386127875258306,0A2.7386127875258306,2.7386127875258306,0,1,1,2.7386127875258306,0\" stroke=\"rgb(123, 182, 217)\" stroke-width=\"2\" opacity=\"0.7\"/><path aria-label=\"x: 0.65; y: 0.35; color: 0.7\" role=\"graphics-symbol\" aria-roledescription=\"point\" transform=\"translate(162.5,130)\" d=\"M2.7386127875258306,0A2.7386127875258306,2.7386127875258306,0,1,1,-2.7386127875258306,0A2.7386127875258306,2.7386127875258306,0,1,1,2.7386127875258306,0\" stroke=\"rgb(123, 182, 217)\" stroke-width=\"2\" opacity=\"0.7\"/><path aria-label=\"x: 0.65; y: 0.4; color: 0.7\" role=\"graphics-symbol\" aria-roledescription=\"point\" transform=\"translate(162.5,120)\" d=\"M2.7386127875258306,0A2.7386127875258306,2.7386127875258306,0,1,1,-2.7386127875258306,0A2.7386127875258306,2.7386127875258306,0,1,1,2.7386127875258306,0\" stroke=\"rgb(123, 182, 217)\" stroke-width=\"2\" opacity=\"0.7\"/><path aria-label=\"x: 0.7; y: 0.95; color: 0.7\" role=\"graphics-symbol\" aria-roledescription=\"point\" transform=\"translate(174.99999999999997,10.000000000000009)\" d=\"M2.7386127875258306,0A2.7386127875258306,2.7386127875258306,0,1,1,-2.7386127875258306,0A2.7386127875258306,2.7386127875258306,0,1,1,2.7386127875258306,0\" stroke=\"rgb(123, 182, 217)\" stroke-width=\"2\" opacity=\"0.7\"/><path aria-label=\"x: 0.7; y: 1; color: 0.7\" role=\"graphics-symbol\" aria-roledescription=\"point\" transform=\"translate(174.99999999999997,0)\" d=\"M2.7386127875258306,0A2.7386127875258306,2.7386127875258306,0,1,1,-2.7386127875258306,0A2.7386127875258306,2.7386127875258306,0,1,1,2.7386127875258306,0\" stroke=\"rgb(123, 182, 217)\" stroke-width=\"2\" opacity=\"0.7\"/><path aria-label=\"x: 0.65; y: 0; color: 0.75\" role=\"graphics-symbol\" aria-roledescription=\"point\" transform=\"translate(162.5,200)\" d=\"M2.7386127875258306,0A2.7386127875258306,2.7386127875258306,0,1,1,-2.7386127875258306,0A2.7386127875258306,2.7386127875258306,0,1,1,2.7386127875258306,0\" stroke=\"rgb(107, 172, 212)\" stroke-width=\"2\" opacity=\"0.7\"/><path aria-label=\"x: 0.65; y: 0.05; color: 0.75\" role=\"graphics-symbol\" aria-roledescription=\"point\" transform=\"translate(162.5,190)\" d=\"M2.7386127875258306,0A2.7386127875258306,2.7386127875258306,0,1,1,-2.7386127875258306,0A2.7386127875258306,2.7386127875258306,0,1,1,2.7386127875258306,0\" stroke=\"rgb(107, 172, 212)\" stroke-width=\"2\" opacity=\"0.7\"/><path aria-label=\"x: 0.7; y: 0.65; color: 0.75\" role=\"graphics-symbol\" aria-roledescription=\"point\" transform=\"translate(174.99999999999997,70)\" d=\"M2.7386127875258306,0A2.7386127875258306,2.7386127875258306,0,1,1,-2.7386127875258306,0A2.7386127875258306,2.7386127875258306,0,1,1,2.7386127875258306,0\" stroke=\"rgb(107, 172, 212)\" stroke-width=\"2\" opacity=\"0.7\"/><path aria-label=\"x: 0.7; y: 0.7; color: 0.75\" role=\"graphics-symbol\" aria-roledescription=\"point\" transform=\"translate(174.99999999999997,60.00000000000001)\" d=\"M2.7386127875258306,0A2.7386127875258306,2.7386127875258306,0,1,1,-2.7386127875258306,0A2.7386127875258306,2.7386127875258306,0,1,1,2.7386127875258306,0\" stroke=\"rgb(107, 172, 212)\" stroke-width=\"2\" opacity=\"0.7\"/><path aria-label=\"x: 0.7; y: 0.4; color: 0.8\" role=\"graphics-symbol\" aria-roledescription=\"point\" transform=\"translate(174.99999999999997,120)\" d=\"M2.7386127875258306,0A2.7386127875258306,2.7386127875258306,0,1,1,-2.7386127875258306,0A2.7386127875258306,2.7386127875258306,0,1,1,2.7386127875258306,0\" stroke=\"rgb(91, 163, 207)\" stroke-width=\"2\" opacity=\"0.7\"/><path aria-label=\"x: 0.7; y: 0.45; color: 0.8\" role=\"graphics-symbol\" aria-roledescription=\"point\" transform=\"translate(174.99999999999997,110.00000000000001)\" d=\"M2.7386127875258306,0A2.7386127875258306,2.7386127875258306,0,1,1,-2.7386127875258306,0A2.7386127875258306,2.7386127875258306,0,1,1,2.7386127875258306,0\" stroke=\"rgb(91, 163, 207)\" stroke-width=\"2\" opacity=\"0.7\"/><path aria-label=\"x: 0.7; y: 0.25; color: 0.85\" role=\"graphics-symbol\" aria-roledescription=\"point\" transform=\"translate(174.99999999999997,150)\" d=\"M2.7386127875258306,0A2.7386127875258306,2.7386127875258306,0,1,1,-2.7386127875258306,0A2.7386127875258306,2.7386127875258306,0,1,1,2.7386127875258306,0\" stroke=\"rgb(77, 152, 201)\" stroke-width=\"2\" opacity=\"0.7\"/><path aria-label=\"x: 0.7; y: 0.3; color: 0.85\" role=\"graphics-symbol\" aria-roledescription=\"point\" transform=\"translate(174.99999999999997,140)\" d=\"M2.7386127875258306,0A2.7386127875258306,2.7386127875258306,0,1,1,-2.7386127875258306,0A2.7386127875258306,2.7386127875258306,0,1,1,2.7386127875258306,0\" stroke=\"rgb(77, 152, 201)\" stroke-width=\"2\" opacity=\"0.7\"/><path aria-label=\"x: 0.75; y: 0.9; color: 0.85\" role=\"graphics-symbol\" aria-roledescription=\"point\" transform=\"translate(187.5,19.999999999999996)\" d=\"M2.7386127875258306,0A2.7386127875258306,2.7386127875258306,0,1,1,-2.7386127875258306,0A2.7386127875258306,2.7386127875258306,0,1,1,2.7386127875258306,0\" stroke=\"rgb(77, 152, 201)\" stroke-width=\"2\" opacity=\"0.7\"/><path aria-label=\"x: 0.75; y: 0.95; color: 0.85\" role=\"graphics-symbol\" aria-roledescription=\"point\" transform=\"translate(187.5,10.000000000000009)\" d=\"M2.7386127875258306,0A2.7386127875258306,2.7386127875258306,0,1,1,-2.7386127875258306,0A2.7386127875258306,2.7386127875258306,0,1,1,2.7386127875258306,0\" stroke=\"rgb(77, 152, 201)\" stroke-width=\"2\" opacity=\"0.7\"/><path aria-label=\"x: 0.7; y: 0.15; color: 0.9\" role=\"graphics-symbol\" aria-roledescription=\"point\" transform=\"translate(174.99999999999997,170)\" d=\"M2.7386127875258306,0A2.7386127875258306,2.7386127875258306,0,1,1,-2.7386127875258306,0A2.7386127875258306,2.7386127875258306,0,1,1,2.7386127875258306,0\" stroke=\"rgb(64, 142, 196)\" stroke-width=\"2\" opacity=\"0.7\"/><path aria-label=\"x: 0.7; y: 0.2; color: 0.9\" role=\"graphics-symbol\" aria-roledescription=\"point\" transform=\"translate(174.99999999999997,160)\" d=\"M2.7386127875258306,0A2.7386127875258306,2.7386127875258306,0,1,1,-2.7386127875258306,0A2.7386127875258306,2.7386127875258306,0,1,1,2.7386127875258306,0\" stroke=\"rgb(64, 142, 196)\" stroke-width=\"2\" opacity=\"0.7\"/><path aria-label=\"x: 0.75; y: 0.8; color: 0.9\" role=\"graphics-symbol\" aria-roledescription=\"point\" transform=\"translate(187.5,39.99999999999999)\" d=\"M2.7386127875258306,0A2.7386127875258306,2.7386127875258306,0,1,1,-2.7386127875258306,0A2.7386127875258306,2.7386127875258306,0,1,1,2.7386127875258306,0\" stroke=\"rgb(64, 142, 196)\" stroke-width=\"2\" opacity=\"0.7\"/><path aria-label=\"x: 0.75; y: 0.85; color: 0.9\" role=\"graphics-symbol\" aria-roledescription=\"point\" transform=\"translate(187.5,30.000000000000004)\" d=\"M2.7386127875258306,0A2.7386127875258306,2.7386127875258306,0,1,1,-2.7386127875258306,0A2.7386127875258306,2.7386127875258306,0,1,1,2.7386127875258306,0\" stroke=\"rgb(64, 142, 196)\" stroke-width=\"2\" opacity=\"0.7\"/><path aria-label=\"x: 0.7; y: 0.1; color: 0.95\" role=\"graphics-symbol\" aria-roledescription=\"point\" transform=\"translate(174.99999999999997,180)\" d=\"M2.7386127875258306,0A2.7386127875258306,2.7386127875258306,0,1,1,-2.7386127875258306,0A2.7386127875258306,2.7386127875258306,0,1,1,2.7386127875258306,0\" stroke=\"rgb(52, 131, 190)\" stroke-width=\"2\" opacity=\"0.7\"/><path aria-label=\"x: 0.7; y: 0.15; color: 0.95\" role=\"graphics-symbol\" aria-roledescription=\"point\" transform=\"translate(174.99999999999997,170)\" d=\"M2.7386127875258306,0A2.7386127875258306,2.7386127875258306,0,1,1,-2.7386127875258306,0A2.7386127875258306,2.7386127875258306,0,1,1,2.7386127875258306,0\" stroke=\"rgb(52, 131, 190)\" stroke-width=\"2\" opacity=\"0.7\"/><path aria-label=\"x: 0.75; y: 0.75; color: 0.95\" role=\"graphics-symbol\" aria-roledescription=\"point\" transform=\"translate(187.5,50)\" d=\"M2.7386127875258306,0A2.7386127875258306,2.7386127875258306,0,1,1,-2.7386127875258306,0A2.7386127875258306,2.7386127875258306,0,1,1,2.7386127875258306,0\" stroke=\"rgb(52, 131, 190)\" stroke-width=\"2\" opacity=\"0.7\"/><path aria-label=\"x: 0.75; y: 0.8; color: 0.95\" role=\"graphics-symbol\" aria-roledescription=\"point\" transform=\"translate(187.5,39.99999999999999)\" d=\"M2.7386127875258306,0A2.7386127875258306,2.7386127875258306,0,1,1,-2.7386127875258306,0A2.7386127875258306,2.7386127875258306,0,1,1,2.7386127875258306,0\" stroke=\"rgb(52, 131, 190)\" stroke-width=\"2\" opacity=\"0.7\"/><path aria-label=\"x: 0.7; y: 0.05; color: 1\" role=\"graphics-symbol\" aria-roledescription=\"point\" transform=\"translate(174.99999999999997,190)\" d=\"M2.7386127875258306,0A2.7386127875258306,2.7386127875258306,0,1,1,-2.7386127875258306,0A2.7386127875258306,2.7386127875258306,0,1,1,2.7386127875258306,0\" stroke=\"rgb(41, 120, 184)\" stroke-width=\"2\" opacity=\"0.7\"/><path aria-label=\"x: 0.7; y: 0.1; color: 1\" role=\"graphics-symbol\" aria-roledescription=\"point\" transform=\"translate(174.99999999999997,180)\" d=\"M2.7386127875258306,0A2.7386127875258306,2.7386127875258306,0,1,1,-2.7386127875258306,0A2.7386127875258306,2.7386127875258306,0,1,1,2.7386127875258306,0\" stroke=\"rgb(41, 120, 184)\" stroke-width=\"2\" opacity=\"0.7\"/><path aria-label=\"x: 0.75; y: 0.7; color: 1\" role=\"graphics-symbol\" aria-roledescription=\"point\" transform=\"translate(187.5,60.00000000000001)\" d=\"M2.7386127875258306,0A2.7386127875258306,2.7386127875258306,0,1,1,-2.7386127875258306,0A2.7386127875258306,2.7386127875258306,0,1,1,2.7386127875258306,0\" stroke=\"rgb(41, 120, 184)\" stroke-width=\"2\" opacity=\"0.7\"/><path aria-label=\"x: 0.75; y: 0.75; color: 1\" role=\"graphics-symbol\" aria-roledescription=\"point\" transform=\"translate(187.5,50)\" d=\"M2.7386127875258306,0A2.7386127875258306,2.7386127875258306,0,1,1,-2.7386127875258306,0A2.7386127875258306,2.7386127875258306,0,1,1,2.7386127875258306,0\" stroke=\"rgb(41, 120, 184)\" stroke-width=\"2\" opacity=\"0.7\"/><path aria-label=\"x: 0.7; y: 0.05; color: 1.05\" role=\"graphics-symbol\" aria-roledescription=\"point\" transform=\"translate(174.99999999999997,190)\" d=\"M2.7386127875258306,0A2.7386127875258306,2.7386127875258306,0,1,1,-2.7386127875258306,0A2.7386127875258306,2.7386127875258306,0,1,1,2.7386127875258306,0\" stroke=\"rgb(30, 109, 176)\" stroke-width=\"2\" opacity=\"0.7\"/><path aria-label=\"x: 0.7; y: 0.1; color: 1.05\" role=\"graphics-symbol\" aria-roledescription=\"point\" transform=\"translate(174.99999999999997,180)\" d=\"M2.7386127875258306,0A2.7386127875258306,2.7386127875258306,0,1,1,-2.7386127875258306,0A2.7386127875258306,2.7386127875258306,0,1,1,2.7386127875258306,0\" stroke=\"rgb(30, 109, 176)\" stroke-width=\"2\" opacity=\"0.7\"/><path aria-label=\"x: 0.75; y: 0.7; color: 1.05\" role=\"graphics-symbol\" aria-roledescription=\"point\" transform=\"translate(187.5,60.00000000000001)\" d=\"M2.7386127875258306,0A2.7386127875258306,2.7386127875258306,0,1,1,-2.7386127875258306,0A2.7386127875258306,2.7386127875258306,0,1,1,2.7386127875258306,0\" stroke=\"rgb(30, 109, 176)\" stroke-width=\"2\" opacity=\"0.7\"/><path aria-label=\"x: 0.7; y: 0.05; color: 1.1\" role=\"graphics-symbol\" aria-roledescription=\"point\" transform=\"translate(174.99999999999997,190)\" d=\"M2.7386127875258306,0A2.7386127875258306,2.7386127875258306,0,1,1,-2.7386127875258306,0A2.7386127875258306,2.7386127875258306,0,1,1,2.7386127875258306,0\" stroke=\"rgb(21, 97, 167)\" stroke-width=\"2\" opacity=\"0.7\"/><path aria-label=\"x: 0.7; y: 0.1; color: 1.1\" role=\"graphics-symbol\" aria-roledescription=\"point\" transform=\"translate(174.99999999999997,180)\" d=\"M2.7386127875258306,0A2.7386127875258306,2.7386127875258306,0,1,1,-2.7386127875258306,0A2.7386127875258306,2.7386127875258306,0,1,1,2.7386127875258306,0\" stroke=\"rgb(21, 97, 167)\" stroke-width=\"2\" opacity=\"0.7\"/><path aria-label=\"x: 0.75; y: 0.65; color: 1.1\" role=\"graphics-symbol\" aria-roledescription=\"point\" transform=\"translate(187.5,70)\" d=\"M2.7386127875258306,0A2.7386127875258306,2.7386127875258306,0,1,1,-2.7386127875258306,0A2.7386127875258306,2.7386127875258306,0,1,1,2.7386127875258306,0\" stroke=\"rgb(21, 97, 167)\" stroke-width=\"2\" opacity=\"0.7\"/><path aria-label=\"x: 0.75; y: 0.7; color: 1.1\" role=\"graphics-symbol\" aria-roledescription=\"point\" transform=\"translate(187.5,60.00000000000001)\" d=\"M2.7386127875258306,0A2.7386127875258306,2.7386127875258306,0,1,1,-2.7386127875258306,0A2.7386127875258306,2.7386127875258306,0,1,1,2.7386127875258306,0\" stroke=\"rgb(21, 97, 167)\" stroke-width=\"2\" opacity=\"0.7\"/><path aria-label=\"x: 0.7; y: 0.05; color: 1.15\" role=\"graphics-symbol\" aria-roledescription=\"point\" transform=\"translate(174.99999999999997,190)\" d=\"M2.7386127875258306,0A2.7386127875258306,2.7386127875258306,0,1,1,-2.7386127875258306,0A2.7386127875258306,2.7386127875258306,0,1,1,2.7386127875258306,0\" stroke=\"rgb(15, 85, 157)\" stroke-width=\"2\" opacity=\"0.7\"/><path aria-label=\"x: 0.7; y: 0.1; color: 1.15\" role=\"graphics-symbol\" aria-roledescription=\"point\" transform=\"translate(174.99999999999997,180)\" d=\"M2.7386127875258306,0A2.7386127875258306,2.7386127875258306,0,1,1,-2.7386127875258306,0A2.7386127875258306,2.7386127875258306,0,1,1,2.7386127875258306,0\" stroke=\"rgb(15, 85, 157)\" stroke-width=\"2\" opacity=\"0.7\"/><path aria-label=\"x: 0.75; y: 0.65; color: 1.15\" role=\"graphics-symbol\" aria-roledescription=\"point\" transform=\"translate(187.5,70)\" d=\"M2.7386127875258306,0A2.7386127875258306,2.7386127875258306,0,1,1,-2.7386127875258306,0A2.7386127875258306,2.7386127875258306,0,1,1,2.7386127875258306,0\" stroke=\"rgb(15, 85, 157)\" stroke-width=\"2\" opacity=\"0.7\"/><path aria-label=\"x: 0.75; y: 0.7; color: 1.15\" role=\"graphics-symbol\" aria-roledescription=\"point\" transform=\"translate(187.5,60.00000000000001)\" d=\"M2.7386127875258306,0A2.7386127875258306,2.7386127875258306,0,1,1,-2.7386127875258306,0A2.7386127875258306,2.7386127875258306,0,1,1,2.7386127875258306,0\" stroke=\"rgb(15, 85, 157)\" stroke-width=\"2\" opacity=\"0.7\"/><path aria-label=\"x: 0.7; y: 0.05; color: 1.2\" role=\"graphics-symbol\" aria-roledescription=\"point\" transform=\"translate(174.99999999999997,190)\" d=\"M2.7386127875258306,0A2.7386127875258306,2.7386127875258306,0,1,1,-2.7386127875258306,0A2.7386127875258306,2.7386127875258306,0,1,1,2.7386127875258306,0\" stroke=\"rgb(10, 74, 144)\" stroke-width=\"2\" opacity=\"0.7\"/><path aria-label=\"x: 0.7; y: 0.1; color: 1.2\" role=\"graphics-symbol\" aria-roledescription=\"point\" transform=\"translate(174.99999999999997,180)\" d=\"M2.7386127875258306,0A2.7386127875258306,2.7386127875258306,0,1,1,-2.7386127875258306,0A2.7386127875258306,2.7386127875258306,0,1,1,2.7386127875258306,0\" stroke=\"rgb(10, 74, 144)\" stroke-width=\"2\" opacity=\"0.7\"/><path aria-label=\"x: 0.75; y: 0.65; color: 1.2\" role=\"graphics-symbol\" aria-roledescription=\"point\" transform=\"translate(187.5,70)\" d=\"M2.7386127875258306,0A2.7386127875258306,2.7386127875258306,0,1,1,-2.7386127875258306,0A2.7386127875258306,2.7386127875258306,0,1,1,2.7386127875258306,0\" stroke=\"rgb(10, 74, 144)\" stroke-width=\"2\" opacity=\"0.7\"/><path aria-label=\"x: 0.75; y: 0.7; color: 1.2\" role=\"graphics-symbol\" aria-roledescription=\"point\" transform=\"translate(187.5,60.00000000000001)\" d=\"M2.7386127875258306,0A2.7386127875258306,2.7386127875258306,0,1,1,-2.7386127875258306,0A2.7386127875258306,2.7386127875258306,0,1,1,2.7386127875258306,0\" stroke=\"rgb(10, 74, 144)\" stroke-width=\"2\" opacity=\"0.7\"/></g><g class=\"mark-group role-legend\" role=\"graphics-symbol\" aria-roledescription=\"legend\" aria-label=\"Gradient legend for stroke color with values from 0.4 to 1.2\"><g transform=\"translate(218,0)\"><path class=\"background\" aria-hidden=\"true\" d=\"M0,0h33v200h-33Z\" pointer-events=\"none\"/><g><g class=\"mark-group role-legend-entry\"><g transform=\"translate(0,0)\"><path class=\"background\" aria-hidden=\"true\" d=\"M0,0h0v0h0Z\" pointer-events=\"none\"/><g><g class=\"mark-rect role-legend-gradient\" pointer-events=\"none\"><path d=\"M0,0h16v200h-16Z\" fill=\"url(#gradient_0)\" stroke=\"#ddd\" stroke-width=\"0\" opacity=\"0.7\"/></g><g class=\"mark-text role-legend-label\" pointer-events=\"none\"><text text-anchor=\"start\" transform=\"translate(18,198)\" font-family=\"sans-serif\" font-size=\"10px\" fill=\"#000\" opacity=\"1\">0.4</text><text text-anchor=\"start\" transform=\"translate(18,153)\" font-family=\"sans-serif\" font-size=\"10px\" fill=\"#000\" opacity=\"1\">0.6</text><text text-anchor=\"start\" transform=\"translate(18,102.99999999999997)\" font-family=\"sans-serif\" font-size=\"10px\" fill=\"#000\" opacity=\"1\">0.8</text><text text-anchor=\"start\" transform=\"translate(18,53)\" font-family=\"sans-serif\" font-size=\"10px\" fill=\"#000\" opacity=\"1\">1.0</text><text text-anchor=\"start\" transform=\"translate(18,8)\" font-family=\"sans-serif\" font-size=\"10px\" fill=\"#000\" opacity=\"1\">1.2</text></g></g><path class=\"foreground\" aria-hidden=\"true\" d=\"\" pointer-events=\"none\" display=\"none\"/></g></g></g><path class=\"foreground\" aria-hidden=\"true\" d=\"\" pointer-events=\"none\" display=\"none\"/></g></g></g><path class=\"foreground\" aria-hidden=\"true\" d=\"\" display=\"none\"/></g></g></g><defs><linearGradient id=\"gradient_0\" x1=\"0\" x2=\"0\" y1=\"1\" y2=\"0\"><stop offset=\"0\" stop-color=\"rgb(207, 225, 242)\"/><stop offset=\"0.06249999999999999\" stop-color=\"rgb(196, 219, 238)\"/><stop offset=\"0.12499999999999999\" stop-color=\"rgb(185, 214, 234)\"/><stop offset=\"0.18750000000000006\" stop-color=\"rgb(171, 207, 230)\"/><stop offset=\"0.24999999999999997\" stop-color=\"rgb(156, 200, 226)\"/><stop offset=\"0.3125\" stop-color=\"rgb(140, 191, 221)\"/><stop offset=\"0.37499999999999994\" stop-color=\"rgb(123, 182, 217)\"/><stop offset=\"0.4375\" stop-color=\"rgb(107, 172, 212)\"/><stop offset=\"0.5000000000000001\" stop-color=\"rgb(91, 163, 207)\"/><stop offset=\"0.5625\" stop-color=\"rgb(77, 152, 201)\"/><stop offset=\"0.625\" stop-color=\"rgb(64, 142, 196)\"/><stop offset=\"0.6875\" stop-color=\"rgb(52, 131, 190)\"/><stop offset=\"0.75\" stop-color=\"rgb(41, 120, 184)\"/><stop offset=\"0.8125000000000001\" stop-color=\"rgb(30, 109, 176)\"/><stop offset=\"0.8750000000000001\" stop-color=\"rgb(21, 97, 167)\"/><stop offset=\"0.9374999999999999\" stop-color=\"rgb(15, 85, 157)\"/><stop offset=\"1\" stop-color=\"rgb(10, 74, 144)\"/></linearGradient></defs></svg>\n"
      ],
      "text/plain": [
       "@vlplot(\n",
       "    mark=\"point\",\n",
       "    encoding={\n",
       "        x={\n",
       "            field=\"x\",\n",
       "            title=nothing\n",
       "        },\n",
       "        y={\n",
       "            field=\"y\",\n",
       "            title=nothing\n",
       "        },\n",
       "        color={\n",
       "            field=\"color\",\n",
       "            title=nothing\n",
       "        }\n",
       "    },\n",
       "    data={\n",
       "        values=...\n",
       "    }\n",
       ")"
      ]
     },
     "execution_count": 39,
     "metadata": {},
     "output_type": "execute_result"
    }
   ],
   "source": [
    "@vlplot(:point,x=df_paras.Cv,y=df_paras.Cp,color=df_paras.Λ)"
   ]
  },
  {
   "cell_type": "code",
   "execution_count": 64,
   "id": "3550b085",
   "metadata": {},
   "outputs": [],
   "source": [
    "poles_paras=[];"
   ]
  },
  {
   "cell_type": "code",
   "execution_count": 60,
   "id": "5abb32b4",
   "metadata": {},
   "outputs": [
    {
     "data": {
      "text/plain": [
       "find_poles (generic function with 1 method)"
      ]
     },
     "execution_count": 60,
     "metadata": {},
     "output_type": "execute_result"
    }
   ],
   "source": [
    "function find_poles(pars)\n",
    "    _lam,_Cv,_Cp=pars\n",
    "    function f!(F, x)\n",
    "        e, γ = x\n",
    "        tmp = detVG(e + im * γ; Λ = _lam,Cv=_Cv,Cp=_Cp)\n",
    "        F[1] = real(tmp)\n",
    "        F[2] = imag(tmp)\n",
    "    end\n",
    "    tmp=NLsolve.nlsolve((F, x) -> f!(F, x), [mDn + mDsc - 333e-6, -24e-6])\n",
    "    return tmp.residual_norm < 1e-8 ? (tmp.zero[1]-mDn-mDsc)+im*tmp.zero[2] : NaN+im*NaN\n",
    "end"
   ]
  },
  {
   "cell_type": "code",
   "execution_count": 61,
   "id": "41286f82",
   "metadata": {},
   "outputs": [
    {
     "data": {
      "text/plain": [
       "-0.00030602615422870016 - 2.4672161991351374e-5im"
      ]
     },
     "execution_count": 61,
     "metadata": {},
     "output_type": "execute_result"
    }
   ],
   "source": [
    "find_poles([df_paras[1,1],df_paras[1,2],df_paras[1,3]])"
   ]
  },
  {
   "cell_type": "code",
   "execution_count": 65,
   "id": "6e45fd4d",
   "metadata": {},
   "outputs": [
    {
     "name": "stdout",
     "output_type": "stream",
     "text": [
      "1 2 3 4 5 6 7 8 9 10 11 12 13 14 15 16 17 18 19 20 21 22 23 24 25 26 27 28 29 30 31 32 33 34 35 36 37 38 39 40 41 42 43 44 45 46 47 48 49 50 51 52 53 54 55 56 57 58 59 60 61 62 63 64 65 66 67 68 69 70 71 72 73 74 75 76 77 78 79 80 81 "
     ]
    }
   ],
   "source": [
    "for i in 1:size(df_paras)[1]\n",
    "    print(i,\" \")\n",
    "    push!(poles_paras,find_poles([df_paras[i,1],df_paras[i,2],df_paras[i,3]]))\n",
    "end"
   ]
  },
  {
   "cell_type": "code",
   "execution_count": 68,
   "id": "8c52d354",
   "metadata": {},
   "outputs": [
    {
     "data": {
      "image/png": "[encoded data removed]"
     },
     "execution_count": 68,
     "metadata": {},
     "output_type": "execute_result"
    }
   ],
   "source": [
    "scatter(real.(poles_paras),imag.(poles_paras),xlims=(-500e-6,0),ylims=(-50e-6,50e-6))"
   ]
  },
  {
   "cell_type": "markdown",
   "id": "8f4668c3",
   "metadata": {},
   "source": [
    "## version 2"
   ]
  },
  {
   "cell_type": "code",
   "execution_count": 18,
   "id": "a5be34ee",
   "metadata": {},
   "outputs": [
    {
     "data": {
      "text/plain": [
       "find_poles (generic function with 1 method)"
      ]
     },
     "execution_count": 18,
     "metadata": {},
     "output_type": "execute_result"
    }
   ],
   "source": [
    "function find_poles(pars)\n",
    "    _lam,_Cv,_Cp=pars\n",
    "    function f!(F, x)\n",
    "        e, γ = x\n",
    "        tmp = detVG(e + im * γ; Λ = _lam,Cv=_Cv,Cp=_Cp)\n",
    "        F[1] = real(tmp)\n",
    "        F[2] = imag(tmp)\n",
    "    end\n",
    "    tmp=NLsolve.nlsolve((F, x) -> f!(F, x), [mDn + mDsc - 333e-6, -24e-6])\n",
    "    return tmp.residual_norm < 1e-8 ? (tmp.zero[1]-mDn-mDsc)+im*tmp.zero[2] : NaN+im*NaN\n",
    "end"
   ]
  },
  {
   "cell_type": "code",
   "execution_count": 19,
   "id": "0a9a1958",
   "metadata": {},
   "outputs": [
    {
     "data": {
      "text/plain": [
       "-0.00035042516959338244 - 2.4598529270966908e-5im"
      ]
     },
     "execution_count": 19,
     "metadata": {},
     "output_type": "execute_result"
    }
   ],
   "source": [
    "find_poles([0.3961418693268329,0.0,0.0])"
   ]
  },
  {
   "cell_type": "code",
   "execution_count": 20,
   "id": "83881083",
   "metadata": {},
   "outputs": [
    {
     "data": {
      "text/plain": [
       "Any[]"
      ]
     },
     "execution_count": 20,
     "metadata": {},
     "output_type": "execute_result"
    }
   ],
   "source": [
    "validpara=[]"
   ]
  },
  {
   "cell_type": "code",
   "execution_count": 84,
   "id": "089f827b",
   "metadata": {},
   "outputs": [],
   "source": [
    "# for λ in 0.3:0.01:1.2,cv in 0.0:0.01:1.0,cp in 0.0:0.01:1.0\n",
    "#     pole=find_poles([λ,cv,cp])\n",
    "#     if !isnan(pole)&&abs(real(pole)+350.4e-6)<18e-6&&abs(imag(pole)+24.6e-6)<0.5e-6\n",
    "#         push!(validpara,[λ,cv,cp])\n",
    "#     end\n",
    "# end"
   ]
  },
  {
   "cell_type": "markdown",
   "id": "b058fea0",
   "metadata": {},
   "source": [
    "## version 3"
   ]
  },
  {
   "cell_type": "code",
   "execution_count": 25,
   "id": "968c81d5",
   "metadata": {},
   "outputs": [],
   "source": [
    "using PyCall;\n",
    "piminuit=pyimport(\"iminuit\");"
   ]
  },
  {
   "cell_type": "code",
   "execution_count": 26,
   "id": "13c5ae88",
   "metadata": {},
   "outputs": [
    {
     "data": {
      "text/plain": [
       "find_poles (generic function with 1 method)"
      ]
     },
     "execution_count": 26,
     "metadata": {},
     "output_type": "execute_result"
    }
   ],
   "source": [
    "function find_poles(pars)\n",
    "    _lam,_Cv,_Cp=pars\n",
    "    function f!(F, x)\n",
    "        e, γ = x\n",
    "        tmp = detVG(e + im * γ; Λ = _lam,Cv=_Cv,Cp=_Cp)\n",
    "        F[1] = real(tmp)\n",
    "        F[2] = imag(tmp)\n",
    "    end\n",
    "    tmp=NLsolve.nlsolve((F, x) -> f!(F, x), [mDn + mDsc - 333e-6, -24e-6])\n",
    "    return tmp.residual_norm < 1e-8 ? (tmp.zero[1]-mDn-mDsc)+im*tmp.zero[2] : -1e-3-im*0.0\n",
    "end"
   ]
  },
  {
   "cell_type": "code",
   "execution_count": 58,
   "id": "2d9d4acd",
   "metadata": {},
   "outputs": [
    {
     "data": {
      "text/plain": [
       "fcn (generic function with 1 method)"
      ]
     },
     "execution_count": 58,
     "metadata": {},
     "output_type": "execute_result"
    }
   ],
   "source": [
    "function fcn(λ,cv,cp;r_best=-350.4e-6,i_best=-24.6e-6,r_err=18e-6,i_err=0.5e-6)\n",
    "    r_cal,i_cal=reim(find_poles([λ,cv,cp]))\n",
    "    return (r_cal-r_best)^2/r_err^2+(i_cal-i_best)^2/i_err^2\n",
    "end"
   ]
  },
  {
   "cell_type": "code",
   "execution_count": 59,
   "id": "627a75d1",
   "metadata": {},
   "outputs": [
    {
     "data": {
      "text/plain": [
       "1.06074484904353e-5"
      ]
     },
     "execution_count": 59,
     "metadata": {},
     "output_type": "execute_result"
    }
   ],
   "source": [
    "fcn(0.3961418693268329,0.0,0.0)"
   ]
  },
  {
   "cell_type": "code",
   "execution_count": 60,
   "id": "c1836ab8",
   "metadata": {},
   "outputs": [
    {
     "data": {
      "text/plain": [
       "true"
      ]
     },
     "execution_count": 60,
     "metadata": {},
     "output_type": "execute_result"
    }
   ],
   "source": [
    "let \n",
    "    global tmp_model=piminuit.Minuit(fcn,lam=0.5,cv=0.5,cp=0.5,name=(\"lam\",\"cv\",\"cp\"))\n",
    "    set!(tmp_model.limits,\"cp\",(0.0,1.0))\n",
    "    set!(tmp_model.limits,\"cv\",(0.0,1.0))\n",
    "    set!(tmp_model.fixed,\"lam\",true)\n",
    "end"
   ]
  },
  {
   "cell_type": "code",
   "execution_count": 61,
   "id": "fa2d82c8",
   "metadata": {},
   "outputs": [
    {
     "data": {
      "text/html": [
       "<table>\n",
       "    <tr>\n",
       "        <th colspan=\"5\" style=\"text-align:center\" title=\"Minimizer\"> Migrad </th>\n",
       "    </tr>\n",
       "    <tr>\n",
       "        <td colspan=\"2\" style=\"text-align:left\" title=\"Minimum value of function\"> FCN = 17.09 </td>\n",
       "        <td colspan=\"3\" style=\"text-align:center\" title=\"Total number of function and (optional) gradient evaluations\"> Nfcn = 421 </td>\n",
       "    </tr>\n",
       "    <tr>\n",
       "        <td colspan=\"2\" style=\"text-align:left\" title=\"Estimated distance to minimum and goal\"> EDM = 4.73e-05 (Goal: 0.0002) </td>\n",
       "        <td colspan=\"3\" style=\"text-align:center\" title=\"Total run time of algorithms\"> time = 190.5 sec </td>\n",
       "    </tr>\n",
       "    <tr>\n",
       "        <td colspan=\"2\" style=\"text-align:center;background-color:#92CCA6;color:black\"> Valid Minimum </td>\n",
       "        <td colspan=\"3\" style=\"text-align:center;background-color:#FFF79A;color:black\"> SOME Parameters at limit </td>\n",
       "    </tr>\n",
       "    <tr>\n",
       "        <td colspan=\"2\" style=\"text-align:center;background-color:#92CCA6;color:black\"> Below EDM threshold (goal x 10) </td>\n",
       "        <td colspan=\"3\" style=\"text-align:center;background-color:#92CCA6;color:black\"> Below call limit </td>\n",
       "    </tr>\n",
       "    <tr>\n",
       "        <td style=\"text-align:center;background-color:#92CCA6;color:black\"> Covariance </td>\n",
       "        <td style=\"text-align:center;background-color:#92CCA6;color:black\"> Hesse ok </td>\n",
       "        <td style=\"text-align:center;background-color:#92CCA6;color:black\" title=\"Is covariance matrix accurate?\"> Accurate </td>\n",
       "        <td style=\"text-align:center;background-color:#92CCA6;color:black\" title=\"Is covariance matrix positive definite?\"> Pos. def. </td>\n",
       "        <td style=\"text-align:center;background-color:#92CCA6;color:black\" title=\"Was positive definiteness enforced by Minuit?\"> Not forced </td>\n",
       "    </tr>\n",
       "</table><table>\n",
       "    <tr>\n",
       "        <td></td>\n",
       "        <th title=\"Variable name\"> Name </th>\n",
       "        <th title=\"Value of parameter\"> Value </th>\n",
       "        <th title=\"Hesse error\"> Hesse Error </th>\n",
       "        <th title=\"Minos lower error\"> Minos Error- </th>\n",
       "        <th title=\"Minos upper error\"> Minos Error+ </th>\n",
       "        <th title=\"Lower limit of the parameter\"> Limit- </th>\n",
       "        <th title=\"Upper limit of the parameter\"> Limit+ </th>\n",
       "        <th title=\"Is the parameter fixed in the fit\"> Fixed </th>\n",
       "    </tr>\n",
       "    <tr>\n",
       "        <th> 0 </th>\n",
       "        <td> lam </td>\n",
       "        <td> 0.500 </td>\n",
       "        <td> 0.005 </td>\n",
       "        <td>  </td>\n",
       "        <td>  </td>\n",
       "        <td>  </td>\n",
       "        <td>  </td>\n",
       "        <td> yes </td>\n",
       "    </tr>\n",
       "    <tr>\n",
       "        <th> 1 </th>\n",
       "        <td> cv </td>\n",
       "        <td> 0.369 </td>\n",
       "        <td> 0.006 </td>\n",
       "        <td>  </td>\n",
       "        <td>  </td>\n",
       "        <td> 0 </td>\n",
       "        <td> 1 </td>\n",
       "        <td>  </td>\n",
       "    </tr>\n",
       "    <tr>\n",
       "        <th> 2 </th>\n",
       "        <td> cp </td>\n",
       "        <td> 0 </td>\n",
       "        <td> 1 </td>\n",
       "        <td>  </td>\n",
       "        <td>  </td>\n",
       "        <td> 0 </td>\n",
       "        <td> 1 </td>\n",
       "        <td>  </td>\n",
       "    </tr>\n",
       "</table><table>\n",
       "    <tr>\n",
       "        <td></td>\n",
       "        <th> lam </th>\n",
       "        <th> cv </th>\n",
       "        <th> cp </th>\n",
       "    </tr>\n",
       "    <tr>\n",
       "        <th> lam </th>\n",
       "        <td> 0 </td>\n",
       "        <td style=\"background-color:rgb(250,250,250);color:black\"> 0 </td>\n",
       "        <td style=\"background-color:rgb(250,250,250);color:black\"> 0 </td>\n",
       "    </tr>\n",
       "    <tr>\n",
       "        <th> cv </th>\n",
       "        <td style=\"background-color:rgb(250,250,250);color:black\"> 0 </td>\n",
       "        <td> 3.04e-05 </td>\n",
       "        <td style=\"background-color:rgb(250,123,123);color:black\"> 0.000266 <strong>(0.848)</strong> </td>\n",
       "    </tr>\n",
       "    <tr>\n",
       "        <th> cp </th>\n",
       "        <td style=\"background-color:rgb(250,250,250);color:black\"> 0 </td>\n",
       "        <td style=\"background-color:rgb(250,123,123);color:black\"> 0.000266 <strong>(0.848)</strong> </td>\n",
       "        <td> 0.00324 </td>\n",
       "    </tr>\n",
       "</table>"
      ],
      "text/plain": [
       "PyObject <FMin algorithm='Migrad' edm=4.732978647392624e-05 edm_goal=0.0002 errordef=1.0 fval=17.092616585492433 has_accurate_covar=True has_covariance=True has_made_posdef_covar=False has_parameters_at_limit=True has_posdef_covar=True has_reached_call_limit=False has_valid_parameters=True hesse_failed=False is_above_max_edm=False is_valid=True nfcn=421 ngrad=0 reduced_chi2=nan time=190.49691470799917>\n",
       "(Param(number=0, name='lam', value=0.5, error=0.005, merror=None, is_const=False, is_fixed=True, lower_limit=None, upper_limit=None), Param(number=1, name='cv', value=0.3691804794959903, error=0.005516120487045806, merror=None, is_const=False, is_fixed=False, lower_limit=0.0, upper_limit=1.0), Param(number=2, name='cp', value=0.000286601099045658, error=0.9955641322341761, merror=None, is_const=False, is_fixed=False, lower_limit=0.0, upper_limit=1.0))\n",
       "[[0.00000000e+00 0.00000000e+00 0.00000000e+00]\n",
       " [0.00000000e+00 3.04289105e-05 2.66187794e-04]\n",
       " [0.00000000e+00 2.66187794e-04 3.23666994e-03]]"
      ]
     },
     "execution_count": 61,
     "metadata": {},
     "output_type": "execute_result"
    }
   ],
   "source": [
    "piminuit.Minuit.migrad(tmp_model) "
   ]
  },
  {
   "cell_type": "code",
   "execution_count": 65,
   "id": "0137a612",
   "metadata": {},
   "outputs": [
    {
     "data": {
      "text/plain": [
       "PyObject <ValueView lam=0.5 cv=0.3691804794959903 cp=0.000286601099045658>"
      ]
     },
     "execution_count": 65,
     "metadata": {},
     "output_type": "execute_result"
    }
   ],
   "source": [
    "tmp_model.values"
   ]
  },
  {
   "cell_type": "code",
   "execution_count": 63,
   "id": "1421e7bf",
   "metadata": {},
   "outputs": [
    {
     "data": {
      "text/plain": [
       "PyObject <ErrorView lam=0.005 cv=0.005516120487045806 cp=0.9955641322341761>"
      ]
     },
     "execution_count": 63,
     "metadata": {},
     "output_type": "execute_result"
    }
   ],
   "source": [
    "tmp_model.errors"
   ]
  },
  {
   "cell_type": "code",
   "execution_count": 47,
   "id": "52001dbc",
   "metadata": {},
   "outputs": [
    {
     "data": {
      "text/html": [
       "<table>\n",
       "    <tr>\n",
       "        <th colspan=\"5\" style=\"text-align:center\" title=\"Minimizer\"> Migrad </th>\n",
       "    </tr>\n",
       "    <tr>\n",
       "        <td colspan=\"2\" style=\"text-align:left\" title=\"Minimum value of function\"> FCN = 1.267e-05 </td>\n",
       "        <td colspan=\"3\" style=\"text-align:center\" title=\"Total number of function and (optional) gradient evaluations\"> Nfcn = 437 </td>\n",
       "    </tr>\n",
       "    <tr>\n",
       "        <td colspan=\"2\" style=\"text-align:left\" title=\"Estimated distance to minimum and goal\"> EDM = 1.15e-06 (Goal: 0.0002) </td>\n",
       "        <td colspan=\"3\" style=\"text-align:center\" title=\"Total run time of algorithms\"> time = 429.8 sec </td>\n",
       "    </tr>\n",
       "    <tr>\n",
       "        <td colspan=\"2\" style=\"text-align:center;background-color:#92CCA6;color:black\"> Valid Minimum </td>\n",
       "        <td colspan=\"3\" style=\"text-align:center;background-color:#FFF79A;color:black\"> SOME Parameters at limit </td>\n",
       "    </tr>\n",
       "    <tr>\n",
       "        <td colspan=\"2\" style=\"text-align:center;background-color:#92CCA6;color:black\"> Below EDM threshold (goal x 10) </td>\n",
       "        <td colspan=\"3\" style=\"text-align:center;background-color:#92CCA6;color:black\"> Below call limit </td>\n",
       "    </tr>\n",
       "    <tr>\n",
       "        <td style=\"text-align:center;background-color:#92CCA6;color:black\"> Covariance </td>\n",
       "        <td style=\"text-align:center;background-color:#92CCA6;color:black\"> Hesse ok </td>\n",
       "        <td style=\"text-align:center;background-color:#92CCA6;color:black\" title=\"Is covariance matrix accurate?\"> Accurate </td>\n",
       "        <td style=\"text-align:center;background-color:#92CCA6;color:black\" title=\"Is covariance matrix positive definite?\"> Pos. def. </td>\n",
       "        <td style=\"text-align:center;background-color:#92CCA6;color:black\" title=\"Was positive definiteness enforced by Minuit?\"> Not forced </td>\n",
       "    </tr>\n",
       "</table><table>\n",
       "    <tr>\n",
       "        <td></td>\n",
       "        <th title=\"Variable name\"> Name </th>\n",
       "        <th title=\"Value of parameter\"> Value </th>\n",
       "        <th title=\"Hesse error\"> Hesse Error </th>\n",
       "        <th title=\"Minos lower error\"> Minos Error- </th>\n",
       "        <th title=\"Minos upper error\"> Minos Error+ </th>\n",
       "        <th title=\"Lower limit of the parameter\"> Limit- </th>\n",
       "        <th title=\"Upper limit of the parameter\"> Limit+ </th>\n",
       "        <th title=\"Is the parameter fixed in the fit\"> Fixed </th>\n",
       "    </tr>\n",
       "    <tr>\n",
       "        <th> 0 </th>\n",
       "        <td> lam </td>\n",
       "        <td> 0.500 </td>\n",
       "        <td> 0.005 </td>\n",
       "        <td>  </td>\n",
       "        <td>  </td>\n",
       "        <td>  </td>\n",
       "        <td>  </td>\n",
       "        <td> yes </td>\n",
       "    </tr>\n",
       "    <tr>\n",
       "        <th> 1 </th>\n",
       "        <td> cv </td>\n",
       "        <td> 0.42 </td>\n",
       "        <td> 0.32 </td>\n",
       "        <td> -0.06 </td>\n",
       "        <td> 0.32 </td>\n",
       "        <td> 0 </td>\n",
       "        <td> 1 </td>\n",
       "        <td>  </td>\n",
       "    </tr>\n",
       "    <tr>\n",
       "        <th> 2 </th>\n",
       "        <td> cp </td>\n",
       "        <td> 0.7 </td>\n",
       "        <td> 0.6 </td>\n",
       "        <td> -0.7 </td>\n",
       "        <td> 0.6 </td>\n",
       "        <td> 0 </td>\n",
       "        <td> 1 </td>\n",
       "        <td>  </td>\n",
       "    </tr>\n",
       "</table><table>\n",
       "    <tr>\n",
       "        <td></td>\n",
       "        <th colspan=\"2\" style=\"text-align:center\" title=\"Parameter name\"> cv </th>\n",
       "        <th colspan=\"2\" style=\"text-align:center\" title=\"Parameter name\"> cp </th>\n",
       "    </tr>\n",
       "    <tr>\n",
       "        <th title=\"Lower and upper minos error of the parameter\"> Error </th>\n",
       "        <td> -0.06 </td>\n",
       "        <td> 0.32 </td>\n",
       "        <td> -0.7 </td>\n",
       "        <td> 0.6 </td>\n",
       "    </tr>\n",
       "    <tr>\n",
       "        <th title=\"Validity of lower/upper minos error\"> Valid </th>\n",
       "        <td style=\"background-color:#92CCA6;color:black\"> True </td>\n",
       "        <td style=\"background-color:#c15ef7;color:black\"> False </td>\n",
       "        <td style=\"background-color:#92CCA6;color:black\"> True </td>\n",
       "        <td style=\"background-color:#c15ef7;color:black\"> False </td>\n",
       "    </tr>\n",
       "    <tr>\n",
       "        <th title=\"Did scan hit limit of any parameter?\"> At Limit </th>\n",
       "        <td style=\"background-color:#92CCA6;color:black\"> False </td>\n",
       "        <td style=\"background-color:#92CCA6;color:black\"> False </td>\n",
       "        <td style=\"background-color:#c15ef7;color:black\"> True </td>\n",
       "        <td style=\"background-color:#92CCA6;color:black\"> False </td>\n",
       "    </tr>\n",
       "    <tr>\n",
       "        <th title=\"Did scan hit function call limit?\"> Max FCN </th>\n",
       "        <td style=\"background-color:#92CCA6;color:black\"> False </td>\n",
       "        <td style=\"background-color:#92CCA6;color:black\"> False </td>\n",
       "        <td style=\"background-color:#92CCA6;color:black\"> False </td>\n",
       "        <td style=\"background-color:#92CCA6;color:black\"> False </td>\n",
       "    </tr>\n",
       "    <tr>\n",
       "        <th title=\"New minimum found when doing scan?\"> New Min </th>\n",
       "        <td style=\"background-color:#92CCA6;color:black\"> False </td>\n",
       "        <td style=\"background-color:#92CCA6;color:black\"> False </td>\n",
       "        <td style=\"background-color:#92CCA6;color:black\"> False </td>\n",
       "        <td style=\"background-color:#92CCA6;color:black\"> False </td>\n",
       "    </tr>\n",
       "</table><table>\n",
       "    <tr>\n",
       "        <td></td>\n",
       "        <th> lam </th>\n",
       "        <th> cv </th>\n",
       "        <th> cp </th>\n",
       "    </tr>\n",
       "    <tr>\n",
       "        <th> lam </th>\n",
       "        <td> 0 </td>\n",
       "        <td style=\"background-color:rgb(250,250,250);color:black\"> 0 </td>\n",
       "        <td style=\"background-color:rgb(250,250,250);color:black\"> 0 </td>\n",
       "    </tr>\n",
       "    <tr>\n",
       "        <th> cv </th>\n",
       "        <td style=\"background-color:rgb(250,250,250);color:black\"> 0 </td>\n",
       "        <td> 0.123 </td>\n",
       "        <td style=\"background-color:rgb(250,100,100);color:black\"> 1.56 <strong>(1.000)</strong> </td>\n",
       "    </tr>\n",
       "    <tr>\n",
       "        <th> cp </th>\n",
       "        <td style=\"background-color:rgb(250,250,250);color:black\"> 0 </td>\n",
       "        <td style=\"background-color:rgb(250,100,100);color:black\"> 1.56 <strong>(1.000)</strong> </td>\n",
       "        <td> 19.8 </td>\n",
       "    </tr>\n",
       "</table>"
      ],
      "text/plain": [
       "PyObject <FMin algorithm='Migrad' edm=1.1508818829925e-06 edm_goal=0.0002 errordef=1.0 fval=1.2669690159957467e-05 has_accurate_covar=True has_covariance=True has_made_posdef_covar=False has_parameters_at_limit=True has_posdef_covar=True has_reached_call_limit=False has_valid_parameters=True hesse_failed=False is_above_max_edm=False is_valid=True nfcn=437 ngrad=0 reduced_chi2=nan time=429.82730937499946>\n",
       "(Param(number=0, name='lam', value=0.5, error=0.005, merror=None, is_const=False, is_fixed=True, lower_limit=None, upper_limit=None), Param(number=1, name='cv', value=0.4205328346027546, error=0.32173953248619214, merror=(-0.061424508100006006, 0.32173953248619214), is_const=False, is_fixed=False, lower_limit=0.0, upper_limit=1.0), Param(number=2, name='cp', value=0.7410692752139931, error=0.5639918937574209, merror=(-0.7410692752139931, 0.5639918937574209), is_const=False, is_fixed=False, lower_limit=0.0, upper_limit=1.0))\n",
       "<MErrors\n",
       "  <MError number=1 name='cv' lower=-0.061424508100006006 upper=0.32173953248619214 is_valid=False lower_valid=True upper_valid=False at_lower_limit=False at_upper_limit=False at_lower_max_fcn=False at_upper_max_fcn=False lower_new_min=False upper_new_min=False nfcn=175 min=0.4205328346027546>,\n",
       "  <MError number=2 name='cp' lower=-0.7410692752139931 upper=0.5639918937574209 is_valid=False lower_valid=True upper_valid=False at_lower_limit=True at_upper_limit=False at_lower_max_fcn=False at_upper_max_fcn=False lower_new_min=False upper_new_min=False nfcn=201 min=0.7410692752139931>\n",
       ">\n",
       "[[ 0.          0.          0.        ]\n",
       " [ 0.          0.12280955  1.55899215]\n",
       " [ 0.          1.55899215 19.79197967]]"
      ]
     },
     "execution_count": 47,
     "metadata": {},
     "output_type": "execute_result"
    }
   ],
   "source": [
    "piminuit.Minuit.minos(tmp_model) "
   ]
  },
  {
   "cell_type": "code",
   "execution_count": 67,
   "id": "19ab214c",
   "metadata": {},
   "outputs": [
    {
     "data": {
      "image/png": "[encoded data removed]"
     },
     "execution_count": 67,
     "metadata": {},
     "output_type": "execute_result"
    }
   ],
   "source": [
    "let Ev=collect(3.873:0.0001:3.877),Γv=collect(-100e-6:10e-6:100e-6)\n",
    "    resv=[1/abs(detVG(e+im*γ;Λ=0.5,Cv=0.3691804794959903,Cp=0.000286601099045658)) for γ in Γv,e in Ev]\n",
    "    contour(Ev,Γv,resv,fill=true)\n",
    "end"
   ]
  },
  {
   "cell_type": "code",
   "execution_count": 75,
   "id": "39a1bed0",
   "metadata": {},
   "outputs": [
    {
     "data": {
      "image/png": "[encoded data removed]"
     },
     "execution_count": 75,
     "metadata": {},
     "output_type": "execute_result"
    }
   ],
   "source": [
    "let Ev=collect(3.873:0.00002:3.877),Γv=collect(-30e-6:5e-6:10e-6)\n",
    "    function tmpf(E)\n",
    "        TMat!(E;Λ=0.5,Cv=0.3691804794959903,Cp=0.000286601099045658)\n",
    "        abs(Tmat[1,1])\n",
    "    end\n",
    "    resv=[real(tmpf(e+im*γ)) for γ in Γv,e in Ev]\n",
    "    surface(Ev,Γv,resv)\n",
    "end"
   ]
  },
  {
   "cell_type": "code",
   "execution_count": 66,
   "id": "35f48027",
   "metadata": {},
   "outputs": [
    {
     "data": {
      "text/plain": [
       "-0.0003104054121947364 - 2.2856750072814677e-5im"
      ]
     },
     "execution_count": 66,
     "metadata": {},
     "output_type": "execute_result"
    }
   ],
   "source": [
    "find_poles([0.5,0.3691804794959903,0.000286601099045658])"
   ]
  },
  {
   "cell_type": "markdown",
   "id": "d4cde90a",
   "metadata": {},
   "source": [
    "## version4"
   ]
  },
  {
   "cell_type": "code",
   "execution_count": 93,
   "id": "81a93616",
   "metadata": {},
   "outputs": [
    {
     "data": {
      "text/plain": [
       "detVGprod (generic function with 1 method)"
      ]
     },
     "execution_count": 93,
     "metadata": {},
     "output_type": "execute_result"
    }
   ],
   "source": [
    "function detVGprod(E;Λ=0.5,Cv=0.0,Cp=0.0,I=0)\n",
    "    VMat!(E;Λ=Λ,Cv=Cv,Cp=Cp,I=I)\n",
    "    GMat!(E;Λ=Λ)\n",
    "    tmp=det(LinearAlgebra.I-Vmat*Gmat)\n",
    "    return real(tmp)*imag(tmp)\n",
    "end"
   ]
  },
  {
   "cell_type": "code",
   "execution_count": 94,
   "id": "77a95576",
   "metadata": {},
   "outputs": [
    {
     "data": {
      "text/plain": [
       "findΛ (generic function with 2 methods)"
      ]
     },
     "execution_count": 94,
     "metadata": {},
     "output_type": "execute_result"
    }
   ],
   "source": [
    "function findΛ(cv,cp)\n",
    "    r_best,i_best=mDn+mDsc-350.4e-6,-24.6e-6\n",
    "    _roots=Roots.find_zeros(λ->detVGprod(r_best + im * i_best; Λ = λ,Cv=cv,Cp=cp),(0.3,1.2))\n",
    "end"
   ]
  },
  {
   "cell_type": "code",
   "execution_count": null,
   "id": "939a4527",
   "metadata": {},
   "outputs": [],
   "source": [
    "for cv in 0.0:0.05"
   ]
  },
  {
   "cell_type": "code",
   "execution_count": 109,
   "id": "f45560c8",
   "metadata": {},
   "outputs": [
    {
     "name": "stdout",
     "output_type": "stream",
     "text": [
      "  37.347 s (4135499 allocations: 3.58 GiB)\n"
     ]
    },
    {
     "data": {
      "text/plain": [
       "2-element Vector{Float64}:\n",
       " 0.5008802719273052\n",
       " 0.503024689163163"
      ]
     },
     "execution_count": 109,
     "metadata": {},
     "output_type": "execute_result"
    }
   ],
   "source": [
    "@btime findΛ(0.3691804794959903,0.000286601099045658)"
   ]
  },
  {
   "cell_type": "code",
   "execution_count": null,
   "id": "aff50c3f",
   "metadata": {},
   "outputs": [],
   "source": []
  }
 ],
 "metadata": {
  "@webio": {
   "lastCommId": null,
   "lastKernelId": null
  },
  "kernelspec": {
   "display_name": "Julia 1.8.0-rc1",
   "language": "julia",
   "name": "julia-1.8"
  },
  "language_info": {
   "file_extension": ".jl",
   "mimetype": "application/julia",
   "name": "julia",
   "version": "1.8.0"
  },
  "toc": {
   "base_numbering": 1,
   "nav_menu": {},
   "number_sections": true,
   "sideBar": true,
   "skip_h1_title": false,
   "title_cell": "Table of Contents",
   "title_sidebar": "Contents",
   "toc_cell": false,
   "toc_position": {},
   "toc_section_display": true,
   "toc_window_display": false
  }
 },
 "nbformat": 4,
 "nbformat_minor": 5
}
