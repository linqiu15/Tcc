{
 "cells": [
  {
   "cell_type": "code",
   "execution_count": 1,
   "id": "7e9bd47d",
   "metadata": {},
   "outputs": [
    {
     "data": {
      "text/plain": [
       "Plots.PyPlotBackend()"
      ]
     },
     "execution_count": 1,
     "metadata": {},
     "output_type": "execute_result"
    }
   ],
   "source": [
    "using QuadGK,LaTeXStrings,LinearAlgebra,BenchmarkTools;\n",
    "using Plots;\n",
    "using DataFrames;\n",
    "import NLsolve,Roots;\n",
    "# pyplot(frame=:box,size=(500,350));\n",
    "# set default values for the pyplot backend of Plots\n",
    "pyplot(frame=:box, minorticks=5, size=(500,350), titlefont = (11,\"serif\"), \n",
    "    guidefont = (12,\"serif\"), tickfont = (11,\"serif\"), legendfont= (9, \"serif\"),\n",
    "    bg_color_legend = RGBA(1,1,1,0.15), markerstrokecolor= :auto) \n",
    "# # mathtext.fontset; supported: ['dejavusans', 'dejavuserif', 'cm', 'stix', 'stixsans', 'custom']\n",
    "# PyPlot.matplotlib.rc(\"mathtext\", fontset=\"cm\")      \n",
    "# PyPlot.matplotlib.rc(\"font\", family=\"serif\", size=11)"
   ]
  },
  {
   "cell_type": "code",
   "execution_count": 35,
   "id": "c8fbc998",
   "metadata": {},
   "outputs": [],
   "source": [
    "include(\"./libs/constants.jl\");\n",
    "include(\"./libs/pwa.jl\");\n",
    "include(\"./libs/potential.jl\");"
   ]
  },
  {
   "cell_type": "code",
   "execution_count": 83,
   "id": "7f7a74be",
   "metadata": {},
   "outputs": [
    {
     "data": {
      "text/plain": [
       "potential_DDscross (generic function with 1 method)"
      ]
     },
     "execution_count": 83,
     "metadata": {},
     "output_type": "execute_result"
    }
   ],
   "source": [
    "# ----------------------------------------------------------DD*----------------------------------------------------#\n",
    "function potential_DnDsc(E,p, q; I=0, a=0, cl=:ss,a1=0.0)\n",
    "    q01, q02 = q0f(E, mDn, mDsc, mDn, mDsc), q0f(E, mDn, mDsc, mDsc, mDn)\n",
    "    res = zero(ComplexF64)\n",
    "    res += -β^2 * gV^2 * (1 - q01^2 / mρn^2) / sqrt(16) * pwa_central(p, q, mρn^2 - q01^2; cl=cl)\n",
    "    res += β^2 * gV^2 * (1 - q01^2 / mω^2) / sqrt(16) * pwa_central(p, q, mω^2 - q01^2; cl=cl)\n",
    "    res += -4 * gs^2 / sqrt(16) * pwa_central(p, q, mσ^2 - q01^2; cl=cl)\n",
    "#     res += -4 * g^2 / fπ^2 / sqrt(16) * (pwa_tensor_deform(p, q, mπc^2 - q02^2; cl=cl) - a1 / 3 * pwa_contact(p, q, mπc^2 - q02^2; cl=cl)) * (I - 1 / 2) * 2\n",
    "    res += real(-4 * g^2 / fπ^2 / sqrt(16) * (pwa_tensor_deform(p, q, mπc^2 - q02^2; cl=cl) - a1 / 3 * pwa_contact(p, q, mπc^2 - q02^2; cl=cl)) * (I - 1 / 2) * 2)\n",
    "    res += ((2 * sqrt(2) * gV * gλ)^2 / sqrt(16) * (pwa_tensor(p, q, mρc^2 - q02^2; cl=cl) + 2 * a / 3 * pwa_contact(p, q, mρc^2 - q02^2; cl=cl)\n",
    "                                                    -\n",
    "                                                    pwa_square(p, q, mρc^2 - q02^2; cl=cl)) * (I - 1 / 2) * 2)\n",
    "    res += -β^2 * gV^2 * (1 - q01^2 / mJψ^2) / sqrt(16) * pwa_central(p, q, mJψ^2 - q01^2; cl=cl) * (-2)\n",
    "    return res\n",
    "end\n",
    "\n",
    "function potential_DcDsn(E,p, q; I=0, a=0, cl=:ss,a1=0.0)\n",
    "    q01, q02 = q0f(E, mDc, mDsn, mDc, mDsn), q0f(E, mDc, mDsn, mDsn, mDc)\n",
    "    res = zero(ComplexF64)\n",
    "\n",
    "    res += -β^2 * gV^2 * (1 - q01^2 / mρn^2) / sqrt(16) * pwa_central(p, q, mρn^2 - q01^2; cl=cl)\n",
    "    res += β^2 * gV^2 * (1 - q01^2 / mω^2) / sqrt(16) * pwa_central(p, q, mω^2 - q01^2; cl=cl)\n",
    "    res += -4 * gs^2 / sqrt(16) * pwa_central(p, q, mσ^2 - q01^2; cl=cl)\n",
    "#     res += -4 * g^2 / fπ^2 / sqrt(16) * (pwa_tensor_deform(p, q, mπc^2 - q02^2; cl=cl) - a1 / 3 * pwa_contact(p, q, mπc^2 - q02^2; cl=cl)) * (I - 1 / 2) * 2\n",
    "    res += real(-4 * g^2 / fπ^2 / sqrt(16) * (pwa_tensor_deform(p, q, mπc^2 - q02^2; cl=cl) - a1 / 3 * pwa_contact(p, q, mπc^2 - q02^2; cl=cl)) * (I - 1 / 2) * 2)\n",
    "    res += ((2 * sqrt(2) * gV * gλ)^2 / sqrt(16) * (pwa_tensor(p, q, mρc^2 - q02^2; cl=cl) + 2 * a / 3 * pwa_contact(p, q, mρc^2 - q02^2; cl=cl)\n",
    "                                                    -\n",
    "                                                    pwa_square(p, q, mρc^2 - q02^2; cl=cl)) * (I - 1 / 2) * 2)\n",
    "    res += -β^2 * gV^2 * (1 - q01^2 / mJψ^2) / sqrt(16) * pwa_central(p, q, mJψ^2 - q01^2; cl=cl) * (-2)\n",
    "    return res\n",
    "end\n",
    "\n",
    "function potential_DDscross(E,p, q; I=0, a=0, cl=:ss,a1=0.0)\n",
    "    q01, q02 = q0f(E, mDn, mDsc, mDc, mDsn), q0f(E, mDn, mDsc, mDsn, mDc)\n",
    "    res = zero(ComplexF64)\n",
    "\n",
    "    res += 2 * β^2 * gV^2 * (1 - q01^2 / mρc^2) / sqrt(16) * pwa_central(p, q, mρc^2 - q01^2; cl=cl)\n",
    "#     res += 2 * g^2 / fπ^2 / sqrt(16) * (pwa_tensor_deform(p, q, mπn^2 - q02^2; cl=cl) - a1 / 3 * pwa_contact(p, q, mπn^2 - q02^2; cl=cl)) * (I - 1 / 2) * 2\n",
    "    res += real(2 * g^2 / fπ^2 / sqrt(16) * (pwa_tensor_deform(p, q, mπn^2 - q02^2; cl=cl) - a1 / 3 * pwa_contact(p, q, mπn^2 - q02^2; cl=cl)) * (I - 1 / 2) * 2)\n",
    "    res += -2 * g^2 / (3fπ^2) / sqrt(16) * (pwa_tensor(p, q, mη^2 - q02^2; cl=cl) - a / 3 * pwa_contact(p, q, mη^2 - q02^2; cl=cl)) * (I - 1 / 2) * 2\n",
    "    res += (-(2 * gV * gλ)^2 / sqrt(16) * (pwa_tensor(p, q, mρn^2 - q02^2; cl=cl) + 2 * a / 3 * pwa_contact(p, q, mρn^2 - q02^2; cl=cl)\n",
    "                                           -\n",
    "                                           pwa_square(p, q, mρn^2 - q02^2; cl=cl)) * (I - 1 / 2) * 2)\n",
    "    res += ((2 * gV * gλ)^2 / sqrt(16) * (pwa_tensor(p, q, mω^2 - q02^2; cl=cl) + 2 * a / 3 * pwa_contact(p, q, mω^2 - q02^2; cl=cl)\n",
    "                                          -\n",
    "                                          pwa_square(p, q, mω^2 - q02^2; cl=cl)) * (I - 1 / 2) * 2)\n",
    "    #ηc,J/ψ\n",
    "    res += 2 * g^2 / fπ^2 / sqrt(16) * (pwa_tensor(p, q, mηc^2 - q02^2; cl=cl) - a / 3 * pwa_contact(p, q, mηc^2 - q02^2; cl=cl)) * (-2) * (I - 1 / 2) * 2\n",
    "    res += (-(2 * gV * gλ)^2 / sqrt(16) * (pwa_tensor(p, q, mJψ^2 - q02^2; cl=cl) + 2 * a / 3 * pwa_contact(p, q, mJψ^2 - q02^2; cl=cl)\n",
    "                                           -\n",
    "                                           pwa_square(p, q, mJψ^2 - q02^2; cl=cl)) * (I - 1 / 2) * 2*(-2))\n",
    "    return res\n",
    "end"
   ]
  },
  {
   "cell_type": "code",
   "execution_count": 5,
   "id": "f54a274a",
   "metadata": {},
   "outputs": [
    {
     "data": {
      "text/plain": [
       "xsqrt1 (generic function with 1 method)"
      ]
     },
     "execution_count": 5,
     "metadata": {},
     "output_type": "execute_result"
    }
   ],
   "source": [
    "function quadgauss(f, x::T, w::T) where {T<:Vector{Float64}}\n",
    "    res = zero(f(x[1]))  # zero of the same type as f(x[1]), to avoid type instability\n",
    "    for i in eachindex(x)\n",
    "        res += f(x[i]) * w[i]\n",
    "    end\n",
    "    return res\n",
    "end\n",
    "\n",
    "λf(x, y, z) = x^2 + y^2 + z^2 - 2 * x * y - 2 * x * z - 2 * y * z\n",
    "q0f(E, m1, m2, m3, m4) = abs(m3^2 - m4^2 - m1^2 + m2^2) / (2 * E)\n",
    "μf(m1, m2) = m1 * m2 / (m1 + m2)\n",
    "\n",
    "# redefine sqrt so that its cut is along the positive x axis\n",
    "function xsqrt(x)\n",
    "    imag(x) >=0 ? sqrt(x+0im) : -sqrt(x-0im)\n",
    "end\n",
    "xsqrt1(x)= (imag(x)<0&&real(x)>0) ? -xsqrt(x) : xsqrt(x)"
   ]
  },
  {
   "cell_type": "markdown",
   "id": "463b32fc",
   "metadata": {},
   "source": [
    "# width of $D^*$"
   ]
  },
  {
   "cell_type": "code",
   "execution_count": 6,
   "id": "a4d9a8a1",
   "metadata": {},
   "outputs": [
    {
     "data": {
      "text/plain": [
       "dΓf3 (generic function with 1 method)"
      ]
     },
     "execution_count": 6,
     "metadata": {},
     "output_type": "execute_result"
    }
   ],
   "source": [
    "function Γf(E,q,m1,m2,m3,m12)\n",
    "    E1=E+m12-sqrt(m12^2+q^2+0im)-sqrt(m3^2+q^2+0im)\n",
    "    μ=(m1*m2)/(m1+m2)\n",
    "    return (imag(E1)<0&&real(E1)>(m1+m2)) ? -xsqrt(2*μ*(E1-m1-m2)+0im) : xsqrt(2*μ*(E1-m1-m2)+0im)\n",
    "end\n",
    "\n",
    "function Γf3(E,q,m1,m2,m3,m12)\n",
    "    E1=E+m12-sqrt(m12^2+q^2+0im)-sqrt(m3^2+q^2+0im)\n",
    "    μ=(m1*m2)/(m1+m2)\n",
    "    return (imag(E1)<0&&real(E1)>(m1+m2)) ? -xsqrt(2*μ*(E1-m1-m2)+0im)^3 : xsqrt(2*μ*(E1-m1-m2)+0im)^3\n",
    "end\n",
    "\n",
    "function dΓf3(E,q,m1,m2,m3,m12)\n",
    "    E1=E+m12-sqrt(m12^2+q^2+0im)-sqrt(m3^2+q^2+0im)\n",
    "    μ=(m1*m2)/(m1+m2)\n",
    "    tmp=-3*μ*xsqrt(2*μ*(E1-m1-m2)+0im)*(q/sqrt(m12^2+q^2+0im)+q/sqrt(m3^2+q^2+0im))\n",
    "    return (imag(E1)<0&&real(E1)>(m1+m2)) ? -tmp : tmp\n",
    "end"
   ]
  },
  {
   "cell_type": "code",
   "execution_count": 7,
   "id": "264380dc",
   "metadata": {},
   "outputs": [
    {
     "data": {
      "text/plain": [
       "dΓDsnf (generic function with 1 method)"
      ]
     },
     "execution_count": 7,
     "metadata": {},
     "output_type": "execute_result"
    }
   ],
   "source": [
    "ΓDscf(E, p) = (ΓRDsc + g^2 * mDn / (6 * π * fπ^2 * mDsc) * Γf3(E, p, mDn, mπc, mDn,mDsc)\n",
    "                                   + g^2 * mDc / (12 * π * fπ^2 * mDsc) * Γf3(E, p, mDc, mπn, mDn,mDsc))\n",
    "\n",
    "ΓDsnf(E, p) = (ΓRDsn + g^2 * mDn / (12 * π * fπ^2 * mDsn) * Γf3(E, p, mDn, mπn, mDc,mDsn)\n",
    "                                   + g^2 * mDc / (6 * π * fπ^2 * mDsn) * (Γf3(E, p, mDc, mπc, mDc,mDsn) - Γf3(mDc + mDsn, 0, mDc, mπc, mDc,mDsn)))\n",
    "\n",
    "dΓDscf(E, p) = (g^2 * mDn / (6 * π * fπ^2 * mDsc) * dΓf3(E, p, mDn, mπc, mDn,mDsc)\n",
    "                                   + g^2 * mDc / (12 * π * fπ^2 * mDsc) * dΓf3(E, p, mDc, mπn, mDn,mDsc))\n",
    "\n",
    "dΓDsnf(E, p) = (g^2 * mDn / (12 * π * fπ^2 * mDsn) * dΓf3(E, p, mDn, mπn, mDc,mDsn)+ g^2 * mDc / (6 * π * fπ^2 * mDsn) * dΓf3(E, p, mDc, mπc, mDc,mDsn))"
   ]
  },
  {
   "cell_type": "code",
   "execution_count": 8,
   "id": "e744fe0b",
   "metadata": {},
   "outputs": [
    {
     "data": {
      "text/plain": [
       "find_singular (generic function with 1 method)"
      ]
     },
     "execution_count": 8,
     "metadata": {},
     "output_type": "execute_result"
    }
   ],
   "source": [
    "function find_singular(E, den; pstart = [0.01, 0.01])\n",
    "    function f!(F, x)\n",
    "        pr, pi = x\n",
    "        tmp = den(E, pr + im * pi)\n",
    "        F[1] = real(tmp)\n",
    "        F[2] = imag(tmp)\n",
    "    end\n",
    "    sol = NLsolve.nlsolve((F, x) -> f!(F, x), pstart)\n",
    "    @assert sol.residual_norm < 1e-8 \"The on-shell momentum not found!\"\n",
    "    return sol.zero[1] + im * sol.zero[2]\n",
    "#     return sol.residual_norm < 1e-8 ? sol.zero[1] + im * sol.zero[2] : NaN+im*NaN\n",
    "end"
   ]
  },
  {
   "cell_type": "code",
   "execution_count": 9,
   "id": "3b791cff",
   "metadata": {},
   "outputs": [
    {
     "data": {
      "text/plain": [
       "qon_0 (generic function with 1 method)"
      ]
     },
     "execution_count": 9,
     "metadata": {},
     "output_type": "execute_result"
    }
   ],
   "source": [
    "qon_c(E)=find_singular(E, (E, p) -> E-mDn-mDsc - p^2 / (2 * μf(mDn, mDsc)) + im * ΓDscf(E, p) / 2; pstart = [reim(xsqrt1(E-mDn-mDsc + im * ΓDsc / 2))...])\n",
    "\n",
    "qon_0(E)=find_singular(E, (E, p) -> E-mDc-mDsn - p^2 / (2 * μf(mDc, mDsn)) + im * ΓDsnf(E, p) / 2; pstart = [reim(xsqrt1(E-mDc-mDsn + im * ΓDsn / 2))...])"
   ]
  },
  {
   "cell_type": "markdown",
   "id": "457a5c6c",
   "metadata": {},
   "source": [
    "# path deformation"
   ]
  },
  {
   "cell_type": "code",
   "execution_count": 10,
   "id": "54569562",
   "metadata": {},
   "outputs": [],
   "source": [
    "xxx,www=gauss(30,0,1);"
   ]
  },
  {
   "cell_type": "code",
   "execution_count": 11,
   "id": "ab8d3592",
   "metadata": {},
   "outputs": [
    {
     "data": {
      "text/plain": [
       "Einner (generic function with 1 method)"
      ]
     },
     "execution_count": 11,
     "metadata": {},
     "output_type": "execute_result"
    }
   ],
   "source": [
    "function Einner(E,q,m1,m2,m3,m12)\n",
    "    return E+m12-sqrt(m12^2+q^2+0im)-sqrt(m3^2+q^2+0im)\n",
    "end"
   ]
  },
  {
   "cell_type": "code",
   "execution_count": 12,
   "id": "0f23dcf6",
   "metadata": {},
   "outputs": [
    {
     "data": {
      "text/plain": [
       "find_qint (generic function with 1 method)"
      ]
     },
     "execution_count": 12,
     "metadata": {},
     "output_type": "execute_result"
    }
   ],
   "source": [
    "function find_qint(E,m1,m2,m3,m12;rtol=1e-6)\n",
    "    function f!(F,x)\n",
    "        q=x[1]+1.0im*x[2]\n",
    "        tmp=Einner(E,q,m1,m2,m3,m12)\n",
    "        F[1]=real(tmp)-m1-m2\n",
    "        F[2]=imag(tmp)-rtol\n",
    "    end\n",
    "    sol=NLsolve.nlsolve(f!,[0.1,-0.1])\n",
    "    return sol.zero[1]+im*sol.zero[2]\n",
    "end"
   ]
  },
  {
   "cell_type": "markdown",
   "id": "335cba53",
   "metadata": {},
   "source": [
    "$0\\sim 0.5$, $0.5\\sim 1$, $1\\sim\\infty$"
   ]
  },
  {
   "cell_type": "code",
   "execution_count": 13,
   "id": "3e3d2143",
   "metadata": {},
   "outputs": [],
   "source": [
    "f1(x)=0.5*x;\n",
    "f2(x)=0.5*(1-x)+1.0*x;\n",
    "f3(x)=1.0+tan(π/2*x);\n",
    "df3(x)=π/2/cos(π/2*x)^2;"
   ]
  },
  {
   "cell_type": "code",
   "execution_count": 14,
   "id": "5014c825",
   "metadata": {},
   "outputs": [
    {
     "data": {
      "text/plain": [
       "find_qw (generic function with 1 method)"
      ]
     },
     "execution_count": 14,
     "metadata": {},
     "output_type": "execute_result"
    }
   ],
   "source": [
    "function find_qw(E)\n",
    "    # wi is the one wrappered with g'(x)\n",
    "    qon=[qon_c(E),qon_0(E)]\n",
    "    if imag(E)>=0||(real(E)<=mDn+mDn+mπc)\n",
    "        qi=vcat(f1.(xxx),f2.(xxx),f3.(xxx))\n",
    "        wi=vcat(0.5 .*www,0.5 .*www,df3.(xxx) .*www)\n",
    "        return qon,qi,wi\n",
    "    end\n",
    "    # find closet DDπ\n",
    "    qint1,qint2=zeros(ComplexF64,2)\n",
    "    if real(E)>mDc+mDc+mπc\n",
    "        qint1=find_qint(E,mDc,mπc,mDc,mDsn)\n",
    "        qint2=find_qint(E,mDn,mπc,mDn,mDsc)\n",
    "    elseif real(E)>mDc+mDn+mπn\n",
    "        qint1=find_qint(E,mDc,mπn,mDn,mDsc)\n",
    "        qint2=find_qint(E,mDn,mπc,mDn,mDsc)\n",
    "    else\n",
    "        qint1=find_qint(E,mDn,mπc,mDn,mDsc)\n",
    "        qint2=2*real(qint1)\n",
    "    end\n",
    "    \n",
    "    @assert real(qint1)>0&&imag(qint1)<0 \"Wrong qint1 position!\"\n",
    "    @assert imag(qint2)>imag(qint1)&&imag(qint2)<=0&&real(qint2)>real(qint1) \"Wrong qint2 position!\"\n",
    "    println(qint1,qint2)\n",
    "    # get points\n",
    "    qint3=Roots.find_zero(x->imag(conj(qint2-qint1)*(x-qint1)),(0,Inf))\n",
    "    \n",
    "    qi=vcat(qint1 .*xxx,qint1 .+ ((qint3-qint1) .*xxx),qint3 .+(tan.(π/2 .*xxx)))\n",
    "    wi=vcat(qint1 .*www,(qint3-qint1) .*www,df3.(xxx) .*www)\n",
    "    return qon,qi,wi\n",
    "end"
   ]
  },
  {
   "cell_type": "code",
   "execution_count": 15,
   "id": "6d9eb066",
   "metadata": {},
   "outputs": [
    {
     "data": {
      "text/plain": [
       "find_qw1 (generic function with 1 method)"
      ]
     },
     "execution_count": 15,
     "metadata": {},
     "output_type": "execute_result"
    }
   ],
   "source": [
    "function find_qw1(E)\n",
    "    # wi is the one wrappered with g'(x)\n",
    "    qon=[qon_c(E),qon_0(E)]\n",
    "    if imag(E)>=0||(real(E)<=mDn+mDn+mπc)\n",
    "        qi=vcat(qon,f1.(xxx),f2.(xxx),f3.(xxx))\n",
    "        wi=vcat(0.5 .*www,0.5 .*www,df3.(xxx) .*www)\n",
    "        return qi,wi\n",
    "    end\n",
    "    # find closet DDπ\n",
    "    qint1,qint2=zeros(ComplexF64,2)\n",
    "    if real(E)>mDc+mDc+mπc\n",
    "        qint1=find_qint(E,mDc,mπc,mDc,mDsn)\n",
    "        qint2=find_qint(E,mDn,mπc,mDn,mDsc)\n",
    "    elseif real(E)>mDc+mDn+mπn\n",
    "        qint1=find_qint(E,mDc,mπn,mDn,mDsc)\n",
    "        qint2=find_qint(E,mDn,mπc,mDn,mDsc)\n",
    "    else\n",
    "        qint1=find_qint(E,mDn,mπc,mDn,mDsc)\n",
    "        qint2=2*real(qint1)\n",
    "    end\n",
    "    \n",
    "    @assert real(qint1)>0&&imag(qint1)<0 \"Wrong qint1 position!\"\n",
    "    @assert imag(qint2)>imag(qint1)&&imag(qint2)<=0&&real(qint2)>real(qint1) \"Wrong qint2 position!\"\n",
    "    \n",
    "    # get points on real axis\n",
    "    qint3=Roots.find_zero(x->imag(conj(qint2-qint1)*(x-qint1)),(0,Inf))\n",
    "    \n",
    "    qi=vcat(qon,qint1 .*xxx,qint1 .+ ((qint3-qint1) .*xxx),qint3 .+(tan.(π/2 .*xxx)))\n",
    "    wi=vcat(qint1 .*www,(qint3-qint1) .*www,df3.(xxx) .*www)\n",
    "    return qi,wi\n",
    "end"
   ]
  },
  {
   "cell_type": "code",
   "execution_count": 16,
   "id": "b3822559",
   "metadata": {},
   "outputs": [
    {
     "data": {
      "text/plain": [
       "VMat (generic function with 1 method)"
      ]
     },
     "execution_count": 16,
     "metadata": {},
     "output_type": "execute_result"
    }
   ],
   "source": [
    "function VMat(E;a = 0.0,a1=1.0)\n",
    "    vmat=zeros(ComplexF64,4,4)\n",
    "    k1,k2=qon_c(E),qon_0(E)\n",
    "    vmat[1,1] = potential_DnDsc(E,k1,k1; a = a,a1=a1, cl = :ss)\n",
    "    vmat[1,2] = potential_DnDsc(E,k1,k1; a = a,a1=a1, cl = :ds)\n",
    "    vmat[2,1] = potential_DnDsc(E,k1,k1; a = a,a1=a1,  cl = :sd)\n",
    "    vmat[2,2] = potential_DnDsc(E,k1,k1; a = a,a1=a1, cl = :dd)\n",
    "    vmat[1,3] = potential_DDscross(E,k2,k1; a = a,a1=a1,  cl = :ss)\n",
    "    vmat[1,4] = potential_DDscross(E,k2,k1; a = a,a1=a1,  cl = :ds)\n",
    "    vmat[2,3] = potential_DDscross(E,k2,k1; a = a,a1=a1,  cl = :sd)\n",
    "    vmat[2,4] = potential_DDscross(E,k2,k1; a = a,a1=a1,  cl = :dd)\n",
    "    vmat[3,1] = potential_DDscross(E,k1,k2; a = a,a1=a1,  cl = :ss)\n",
    "    vmat[3,2] = potential_DDscross(E,k1,k2; a = a,a1=a1,  cl = :ds)\n",
    "    vmat[4,1] = potential_DDscross(E,k1,k2; a = a,a1=a1,  cl = :sd)\n",
    "    vmat[4,2] = potential_DDscross(E,k1,k2; a = a,a1=a1,  cl = :dd)\n",
    "    vmat[3,3] = potential_DcDsn(E,k2,k2; a = a,a1=a1,  cl = :ss)\n",
    "    vmat[3,4] = potential_DcDsn(E,k2,k2; a = a,a1=a1,  cl = :ds)\n",
    "    vmat[4,3] = potential_DcDsn(E,k2,k2; a = a,a1=a1,  cl = :sd)\n",
    "    vmat[4,4] = potential_DcDsn(E,k2,k2; a = a,a1=a1,  cl = :dd)\n",
    "    return vmat\n",
    "end"
   ]
  },
  {
   "cell_type": "code",
   "execution_count": 79,
   "id": "07542f9f",
   "metadata": {},
   "outputs": [
    {
     "name": "stdout",
     "output_type": "stream",
     "text": [
      "ComplexF64[-4.909279577044898 + 0.25328772611370126im, -2.8452737445132716 - 1.5444543079318866im, 0.16237428872640638 + 0.009873131253347444im, 3.627367732720761 + 2.2531213161202137im]\n"
     ]
    },
    {
     "data": {
      "text/html": [
       "<div class=\"data-frame\"><p>4 rows × 4 columns</p><table class=\"data-frame\"><thead><tr><th></th><th>x1</th><th>x2</th><th>x3</th><th>x4</th></tr><tr><th></th><th title=\"ComplexF64\">Complex…</th><th title=\"ComplexF64\">Complex…</th><th title=\"ComplexF64\">Complex…</th><th title=\"ComplexF64\">Complex…</th></tr></thead><tbody><tr><th>1</th><td>-3.91853-0.0755669im</td><td>-1.63826+0.0357626im</td><td>1.1283+0.00329134im</td><td>0.235392-0.0122193im</td></tr><tr><th>2</th><td>-1.63826+0.0357626im</td><td>1.45806+2.09721im</td><td>2.51181+0.0242684im</td><td>-1.05116-2.76125im</td></tr><tr><th>3</th><td>1.1283+0.00329134im</td><td>2.51181+0.0242684im</td><td>0.946216-0.985918im</td><td>-2.44678-0.600039im</td></tr><tr><th>4</th><td>0.235392-0.0122193im</td><td>-1.05116-2.76125im</td><td>-2.44678-0.600039im</td><td>-2.45056-0.0638953im</td></tr></tbody></table></div>"
      ],
      "text/latex": [
       "\\begin{tabular}{r|cccc}\n",
       "\t& x1 & x2 & x3 & x4\\\\\n",
       "\t\\hline\n",
       "\t& Complex… & Complex… & Complex… & Complex…\\\\\n",
       "\t\\hline\n",
       "\t1 & -3.91853-0.0755669im & -1.63826+0.0357626im & 1.1283+0.00329134im & 0.235392-0.0122193im \\\\\n",
       "\t2 & -1.63826+0.0357626im & 1.45806+2.09721im & 2.51181+0.0242684im & -1.05116-2.76125im \\\\\n",
       "\t3 & 1.1283+0.00329134im & 2.51181+0.0242684im & 0.946216-0.985918im & -2.44678-0.600039im \\\\\n",
       "\t4 & 0.235392-0.0122193im & -1.05116-2.76125im & -2.44678-0.600039im & -2.45056-0.0638953im \\\\\n",
       "\\end{tabular}\n"
      ],
      "text/plain": [
       "\u001b[1m4×4 DataFrame\u001b[0m\n",
       "\u001b[1m Row \u001b[0m│\u001b[1m x1                    \u001b[0m\u001b[1m x2                   \u001b[0m\u001b[1m x3                    \u001b[0m\u001b[1m x4 \u001b[0m ⋯\n",
       "\u001b[1m     \u001b[0m│\u001b[90m Complex…              \u001b[0m\u001b[90m Complex…             \u001b[0m\u001b[90m Complex…              \u001b[0m\u001b[90m Com\u001b[0m ⋯\n",
       "─────┼──────────────────────────────────────────────────────────────────────────\n",
       "   1 │ -3.91853-0.0755669im   -1.63826+0.0357626im    1.1283+0.00329134im  0.2 ⋯\n",
       "   2 │ -1.63826+0.0357626im    1.45806+2.09721im     2.51181+0.0242684im   -1.\n",
       "   3 │   1.1283+0.00329134im   2.51181+0.0242684im  0.946216-0.985918im    -2.\n",
       "   4 │ 0.235392-0.0122193im   -1.05116-2.76125im    -2.44678-0.600039im    -2.\n",
       "\u001b[36m                                                                1 column omitted\u001b[0m"
      ]
     },
     "execution_count": 79,
     "metadata": {},
     "output_type": "execute_result"
    }
   ],
   "source": [
    "eigvals(VMat(mDn+mDsc-360e-6-im*24e-6))|>println\n",
    "DataFrame(VMat(mDn+mDsc-360e-6-im*24e-6),:auto) #only pion"
   ]
  },
  {
   "cell_type": "code",
   "execution_count": 80,
   "id": "1d21d4db",
   "metadata": {},
   "outputs": [
    {
     "name": "stdout",
     "output_type": "stream",
     "text": [
      "ComplexF64[-2.597943014696319 - 1.6916266236714248im, 0.10885346065622457 + 2.876112682806607im, 2.1535165635831826 - 0.21064219700194828im, 9.689555690958073 - 0.002015996577854673im]\n"
     ]
    },
    {
     "data": {
      "text/html": [
       "<div class=\"data-frame\"><p>4 rows × 4 columns</p><table class=\"data-frame\"><thead><tr><th></th><th>x1</th><th>x2</th><th>x3</th><th>x4</th></tr><tr><th></th><th title=\"ComplexF64\">Complex…</th><th title=\"ComplexF64\">Complex…</th><th title=\"ComplexF64\">Complex…</th><th title=\"ComplexF64\">Complex…</th></tr></thead><tbody><tr><th>1</th><td>2.74087-0.0755669im</td><td>-1.63826+0.0357626im</td><td>-2.2014+0.00329134im</td><td>0.235392-0.0122193im</td></tr><tr><th>2</th><td>-1.63826+0.0357626im</td><td>1.45806+2.09721im</td><td>2.51181+0.0242684im</td><td>-1.05116-2.76125im</td></tr><tr><th>3</th><td>-2.2014+0.00329134im</td><td>2.51181+0.0242684im</td><td>7.60561-0.985918im</td><td>-2.44678-0.600039im</td></tr><tr><th>4</th><td>0.235392-0.0122193im</td><td>-1.05116-2.76125im</td><td>-2.44678-0.600039im</td><td>-2.45056-0.0638953im</td></tr></tbody></table></div>"
      ],
      "text/latex": [
       "\\begin{tabular}{r|cccc}\n",
       "\t& x1 & x2 & x3 & x4\\\\\n",
       "\t\\hline\n",
       "\t& Complex… & Complex… & Complex… & Complex…\\\\\n",
       "\t\\hline\n",
       "\t1 & 2.74087-0.0755669im & -1.63826+0.0357626im & -2.2014+0.00329134im & 0.235392-0.0122193im \\\\\n",
       "\t2 & -1.63826+0.0357626im & 1.45806+2.09721im & 2.51181+0.0242684im & -1.05116-2.76125im \\\\\n",
       "\t3 & -2.2014+0.00329134im & 2.51181+0.0242684im & 7.60561-0.985918im & -2.44678-0.600039im \\\\\n",
       "\t4 & 0.235392-0.0122193im & -1.05116-2.76125im & -2.44678-0.600039im & -2.45056-0.0638953im \\\\\n",
       "\\end{tabular}\n"
      ],
      "text/plain": [
       "\u001b[1m4×4 DataFrame\u001b[0m\n",
       "\u001b[1m Row \u001b[0m│\u001b[1m x1                    \u001b[0m\u001b[1m x2                   \u001b[0m\u001b[1m x3                    \u001b[0m\u001b[1m x4 \u001b[0m ⋯\n",
       "\u001b[1m     \u001b[0m│\u001b[90m Complex…              \u001b[0m\u001b[90m Complex…             \u001b[0m\u001b[90m Complex…              \u001b[0m\u001b[90m Com\u001b[0m ⋯\n",
       "─────┼──────────────────────────────────────────────────────────────────────────\n",
       "   1 │  2.74087-0.0755669im   -1.63826+0.0357626im   -2.2014+0.00329134im  0.2 ⋯\n",
       "   2 │ -1.63826+0.0357626im    1.45806+2.09721im     2.51181+0.0242684im   -1.\n",
       "   3 │  -2.2014+0.00329134im   2.51181+0.0242684im   7.60561-0.985918im    -2.\n",
       "   4 │ 0.235392-0.0122193im   -1.05116-2.76125im    -2.44678-0.600039im    -2.\n",
       "\u001b[36m                                                                1 column omitted\u001b[0m"
      ]
     },
     "execution_count": 80,
     "metadata": {},
     "output_type": "execute_result"
    }
   ],
   "source": [
    "eigvals(VMat(mDn+mDsc-360e-6-im*24e-6;a1=0.0))|>println\n",
    "DataFrame(VMat(mDn+mDsc-360e-6-im*24e-6;a1=0.0),:auto) #only pion a1=0.0"
   ]
  },
  {
   "cell_type": "code",
   "execution_count": 81,
   "id": "b0f18100",
   "metadata": {},
   "outputs": [
    {
     "data": {
      "text/html": [
       "<div class=\"data-frame\"><p>4 rows × 4 columns</p><table class=\"data-frame\"><thead><tr><th></th><th>x1</th><th>x2</th><th>x3</th><th>x4</th></tr><tr><th></th><th title=\"Float64\">Float64</th><th title=\"Float64\">Float64</th><th title=\"Float64\">Float64</th><th title=\"Float64\">Float64</th></tr></thead><tbody><tr><th>1</th><td>-0.0755669</td><td>0.0357626</td><td>0.00329134</td><td>-0.0122193</td></tr><tr><th>2</th><td>0.0357626</td><td>2.09721</td><td>0.0242684</td><td>-2.76125</td></tr><tr><th>3</th><td>0.00329134</td><td>0.0242684</td><td>-0.985918</td><td>-0.600039</td></tr><tr><th>4</th><td>-0.0122193</td><td>-2.76125</td><td>-0.600039</td><td>-0.0638953</td></tr></tbody></table></div>"
      ],
      "text/latex": [
       "\\begin{tabular}{r|cccc}\n",
       "\t& x1 & x2 & x3 & x4\\\\\n",
       "\t\\hline\n",
       "\t& Float64 & Float64 & Float64 & Float64\\\\\n",
       "\t\\hline\n",
       "\t1 & -0.0755669 & 0.0357626 & 0.00329134 & -0.0122193 \\\\\n",
       "\t2 & 0.0357626 & 2.09721 & 0.0242684 & -2.76125 \\\\\n",
       "\t3 & 0.00329134 & 0.0242684 & -0.985918 & -0.600039 \\\\\n",
       "\t4 & -0.0122193 & -2.76125 & -0.600039 & -0.0638953 \\\\\n",
       "\\end{tabular}\n"
      ],
      "text/plain": [
       "\u001b[1m4×4 DataFrame\u001b[0m\n",
       "\u001b[1m Row \u001b[0m│\u001b[1m x1          \u001b[0m\u001b[1m x2         \u001b[0m\u001b[1m x3          \u001b[0m\u001b[1m x4         \u001b[0m\n",
       "\u001b[1m     \u001b[0m│\u001b[90m Float64     \u001b[0m\u001b[90m Float64    \u001b[0m\u001b[90m Float64     \u001b[0m\u001b[90m Float64    \u001b[0m\n",
       "─────┼──────────────────────────────────────────────────\n",
       "   1 │ -0.0755669    0.0357626   0.00329134  -0.0122193\n",
       "   2 │  0.0357626    2.09721     0.0242684   -2.76125\n",
       "   3 │  0.00329134   0.0242684  -0.985918    -0.600039\n",
       "   4 │ -0.0122193   -2.76125    -0.600039    -0.0638953"
      ]
     },
     "execution_count": 81,
     "metadata": {},
     "output_type": "execute_result"
    }
   ],
   "source": [
    "DataFrame(imag.(VMat(mDn+mDsc-360e-6-im*24e-6)),:auto) #only pion"
   ]
  },
  {
   "cell_type": "code",
   "execution_count": 31,
   "id": "3129b439",
   "metadata": {},
   "outputs": [
    {
     "name": "stdout",
     "output_type": "stream",
     "text": [
      "ComplexF64[-23.328231331064604 + 0.0027613476476365485im, -0.0003422674871873291 - 4.669224099685112e-5im, -4.3907410012592906e-5 - 2.7951566542527458e-6im, 22.28397923802713 - 0.00011990130029857331im]\n"
     ]
    },
    {
     "data": {
      "text/html": [
       "<div class=\"data-frame\"><p>4 rows × 4 columns</p><table class=\"data-frame\"><thead><tr><th></th><th>x1</th><th>x2</th><th>x3</th><th>x4</th></tr><tr><th></th><th title=\"ComplexF64\">Complex…</th><th title=\"ComplexF64\">Complex…</th><th title=\"ComplexF64\">Complex…</th><th title=\"ComplexF64\">Complex…</th></tr></thead><tbody><tr><th>1</th><td>-0.443667+0.00217668im</td><td>-0.011984+0.00063808im</td><td>22.8059-0.00144285im</td><td>0.00415166-0.000221007im</td></tr><tr><th>2</th><td>-0.011984+0.00063808im</td><td>-0.000305539-4.78034e-5im</td><td>0.0196219-5.17721e-5im</td><td>-8.49169e-5-1.07036e-5im</td></tr><tr><th>3</th><td>22.8059-0.00144285im</td><td>0.0196219-5.17721e-5im</td><td>-0.600547+0.000462496im</td><td>-0.0580097+0.000135932im</td></tr><tr><th>4</th><td>0.00415166-0.000221007im</td><td>-8.49169e-5-1.07036e-5im</td><td>-0.0580097+0.000135932im</td><td>-0.000119009+5.90519e-7im</td></tr></tbody></table></div>"
      ],
      "text/latex": [
       "\\begin{tabular}{r|cccc}\n",
       "\t& x1 & x2 & x3 & x4\\\\\n",
       "\t\\hline\n",
       "\t& Complex… & Complex… & Complex… & Complex…\\\\\n",
       "\t\\hline\n",
       "\t1 & -0.443667+0.00217668im & -0.011984+0.00063808im & 22.8059-0.00144285im & 0.00415166-0.000221007im \\\\\n",
       "\t2 & -0.011984+0.00063808im & -0.000305539-4.78034e-5im & 0.0196219-5.17721e-5im & -8.49169e-5-1.07036e-5im \\\\\n",
       "\t3 & 22.8059-0.00144285im & 0.0196219-5.17721e-5im & -0.600547+0.000462496im & -0.0580097+0.000135932im \\\\\n",
       "\t4 & 0.00415166-0.000221007im & -8.49169e-5-1.07036e-5im & -0.0580097+0.000135932im & -0.000119009+5.90519e-7im \\\\\n",
       "\\end{tabular}\n"
      ],
      "text/plain": [
       "\u001b[1m4×4 DataFrame\u001b[0m\n",
       "\u001b[1m Row \u001b[0m│\u001b[1m x1                       \u001b[0m\u001b[1m x2                        \u001b[0m\u001b[1m x3                \u001b[0m ⋯\n",
       "\u001b[1m     \u001b[0m│\u001b[90m Complex…                 \u001b[0m\u001b[90m Complex…                  \u001b[0m\u001b[90m Complex…          \u001b[0m ⋯\n",
       "─────┼──────────────────────────────────────────────────────────────────────────\n",
       "   1 │  -0.443667+0.00217668im      -0.011984+0.00063808im     22.8059-0.00144 ⋯\n",
       "   2 │  -0.011984+0.00063808im   -0.000305539-4.78034e-5im   0.0196219-5.17721\n",
       "   3 │    22.8059-0.00144285im      0.0196219-5.17721e-5im   -0.600547+0.00046\n",
       "   4 │ 0.00415166-0.000221007im   -8.49169e-5-1.07036e-5im  -0.0580097+0.00013\n",
       "\u001b[36m                                                               2 columns omitted\u001b[0m"
      ]
     },
     "execution_count": 31,
     "metadata": {},
     "output_type": "execute_result"
    }
   ],
   "source": [
    "eigvals(VMat(mDn+mDsc-360e-6-im*24e-6))|>println\n",
    "DataFrame(VMat(mDn+mDsc-360e-6-im*24e-6),:auto) #except pion"
   ]
  },
  {
   "cell_type": "code",
   "execution_count": 36,
   "id": "83e2e5bd",
   "metadata": {},
   "outputs": [
    {
     "name": "stdout",
     "output_type": "stream",
     "text": [
      "ComplexF64[-26.478921827283273 - 0.47621656275317814im, -2.4087265588144247 - 1.7032333108293425im, 1.7074687514327036 + 3.64296280980133im, 22.17073006661934 - 0.48909311171374636im]\n"
     ]
    },
    {
     "data": {
      "text/html": [
       "<div class=\"data-frame\"><p>4 rows × 4 columns</p><table class=\"data-frame\"><thead><tr><th></th><th>x1</th><th>x2</th><th>x3</th><th>x4</th></tr><tr><th></th><th title=\"ComplexF64\">Complex…</th><th title=\"ComplexF64\">Complex…</th><th title=\"ComplexF64\">Complex…</th><th title=\"ComplexF64\">Complex…</th></tr></thead><tbody><tr><th>1</th><td>-4.3622-0.0733902im</td><td>-1.65025+0.0364007im</td><td>23.9342+0.00184849im</td><td>0.239544-0.0124403im</td></tr><tr><th>2</th><td>-1.65025+0.0364007im</td><td>1.45775+2.09716im</td><td>2.53144+0.0242167im</td><td>-1.05125-2.76126im</td></tr><tr><th>3</th><td>23.9342+0.00184849im</td><td>2.53144+0.0242167im</td><td>0.345669-0.985456im</td><td>-2.50479-0.599903im</td></tr><tr><th>4</th><td>0.239544-0.0124403im</td><td>-1.05125-2.76126im</td><td>-2.50479-0.599903im</td><td>-2.45067-0.0638947im</td></tr></tbody></table></div>"
      ],
      "text/latex": [
       "\\begin{tabular}{r|cccc}\n",
       "\t& x1 & x2 & x3 & x4\\\\\n",
       "\t\\hline\n",
       "\t& Complex… & Complex… & Complex… & Complex…\\\\\n",
       "\t\\hline\n",
       "\t1 & -4.3622-0.0733902im & -1.65025+0.0364007im & 23.9342+0.00184849im & 0.239544-0.0124403im \\\\\n",
       "\t2 & -1.65025+0.0364007im & 1.45775+2.09716im & 2.53144+0.0242167im & -1.05125-2.76126im \\\\\n",
       "\t3 & 23.9342+0.00184849im & 2.53144+0.0242167im & 0.345669-0.985456im & -2.50479-0.599903im \\\\\n",
       "\t4 & 0.239544-0.0124403im & -1.05125-2.76126im & -2.50479-0.599903im & -2.45067-0.0638947im \\\\\n",
       "\\end{tabular}\n"
      ],
      "text/plain": [
       "\u001b[1m4×4 DataFrame\u001b[0m\n",
       "\u001b[1m Row \u001b[0m│\u001b[1m x1                    \u001b[0m\u001b[1m x2                   \u001b[0m\u001b[1m x3                    \u001b[0m\u001b[1m x4 \u001b[0m ⋯\n",
       "\u001b[1m     \u001b[0m│\u001b[90m Complex…              \u001b[0m\u001b[90m Complex…             \u001b[0m\u001b[90m Complex…              \u001b[0m\u001b[90m Com\u001b[0m ⋯\n",
       "─────┼──────────────────────────────────────────────────────────────────────────\n",
       "   1 │  -4.3622-0.0733902im   -1.65025+0.0364007im   23.9342+0.00184849im  0.2 ⋯\n",
       "   2 │ -1.65025+0.0364007im    1.45775+2.09716im     2.53144+0.0242167im   -1.\n",
       "   3 │  23.9342+0.00184849im   2.53144+0.0242167im  0.345669-0.985456im    -2.\n",
       "   4 │ 0.239544-0.0124403im   -1.05125-2.76126im    -2.50479-0.599903im    -2.\n",
       "\u001b[36m                                                                1 column omitted\u001b[0m"
      ]
     },
     "execution_count": 36,
     "metadata": {},
     "output_type": "execute_result"
    }
   ],
   "source": [
    "eigvals(VMat(mDn+mDsc-360e-6-im*24e-6))|>println\n",
    "DataFrame(VMat(mDn+mDsc-360e-6-im*24e-6),:auto) #full"
   ]
  },
  {
   "cell_type": "code",
   "execution_count": 37,
   "id": "60a94632",
   "metadata": {},
   "outputs": [
    {
     "name": "stdout",
     "output_type": "stream",
     "text": [
      "ComplexF64[-16.72264133916086 - 0.4151156503384496im, -2.3994050335870245 - 1.7065538204253528im, 1.9250673302552321 + 3.6037505969707904im, 25.50632347505916 - 0.5076613017019237im]\n"
     ]
    },
    {
     "data": {
      "text/html": [
       "<div class=\"data-frame\"><p>4 rows × 4 columns</p><table class=\"data-frame\"><thead><tr><th></th><th>x1</th><th>x2</th><th>x3</th><th>x4</th></tr><tr><th></th><th title=\"ComplexF64\">Complex…</th><th title=\"ComplexF64\">Complex…</th><th title=\"ComplexF64\">Complex…</th><th title=\"ComplexF64\">Complex…</th></tr></thead><tbody><tr><th>1</th><td>-4.3622-0.0733902im</td><td>-1.65025+0.0364007im</td><td>23.9342+0.00184849im</td><td>0.239544-0.0124403im</td></tr><tr><th>2</th><td>-1.65025+0.0364007im</td><td>1.45775+2.09716im</td><td>2.53144+0.0242167im</td><td>-1.05125-2.76126im</td></tr><tr><th>3</th><td>23.9342+0.00184849im</td><td>2.53144+0.0242167im</td><td>0.345669-0.985456im</td><td>-2.50479-0.599903im</td></tr><tr><th>4</th><td>0.239544-0.0124403im</td><td>-1.05125-2.76126im</td><td>-2.50479-0.599903im</td><td>-2.45067-0.0638947im</td></tr></tbody></table></div>"
      ],
      "text/latex": [
       "\\begin{tabular}{r|cccc}\n",
       "\t& x1 & x2 & x3 & x4\\\\\n",
       "\t\\hline\n",
       "\t& Complex… & Complex… & Complex… & Complex…\\\\\n",
       "\t\\hline\n",
       "\t1 & -4.3622-0.0733902im & -1.65025+0.0364007im & 23.9342+0.00184849im & 0.239544-0.0124403im \\\\\n",
       "\t2 & -1.65025+0.0364007im & 1.45775+2.09716im & 2.53144+0.0242167im & -1.05125-2.76126im \\\\\n",
       "\t3 & 23.9342+0.00184849im & 2.53144+0.0242167im & 0.345669-0.985456im & -2.50479-0.599903im \\\\\n",
       "\t4 & 0.239544-0.0124403im & -1.05125-2.76126im & -2.50479-0.599903im & -2.45067-0.0638947im \\\\\n",
       "\\end{tabular}\n"
      ],
      "text/plain": [
       "\u001b[1m4×4 DataFrame\u001b[0m\n",
       "\u001b[1m Row \u001b[0m│\u001b[1m x1                    \u001b[0m\u001b[1m x2                   \u001b[0m\u001b[1m x3                    \u001b[0m\u001b[1m x4 \u001b[0m ⋯\n",
       "\u001b[1m     \u001b[0m│\u001b[90m Complex…              \u001b[0m\u001b[90m Complex…             \u001b[0m\u001b[90m Complex…              \u001b[0m\u001b[90m Com\u001b[0m ⋯\n",
       "─────┼──────────────────────────────────────────────────────────────────────────\n",
       "   1 │  -4.3622-0.0733902im   -1.65025+0.0364007im   23.9342+0.00184849im  0.2 ⋯\n",
       "   2 │ -1.65025+0.0364007im    1.45775+2.09716im     2.53144+0.0242167im   -1.\n",
       "   3 │  23.9342+0.00184849im   2.53144+0.0242167im  0.345669-0.985456im    -2.\n",
       "   4 │ 0.239544-0.0124403im   -1.05125-2.76126im    -2.50479-0.599903im    -2.\n",
       "\u001b[36m                                                                1 column omitted\u001b[0m"
      ]
     },
     "execution_count": 37,
     "metadata": {},
     "output_type": "execute_result"
    }
   ],
   "source": [
    "eigvals(VMat(mDn+mDsc-360e-6-im*24e-6;a1=0.0))|>println\n",
    "DataFrame(VMat(mDn+mDsc-360e-6-im*24e-6),:auto) #full a1=0"
   ]
  },
  {
   "cell_type": "code",
   "execution_count": 39,
   "id": "b6a98c44",
   "metadata": {},
   "outputs": [
    {
     "name": "stdout",
     "output_type": "stream",
     "text": [
      "ComplexF64[-21.408936301013245 + 0.00170849296278003im, -0.000319553216457829 - 4.3676121734505194e-5im, 2.1085005944973747e-5 - 4.6975853984499e-6im, 24.25123038516807 - 0.0017216966621600683im]\n"
     ]
    },
    {
     "data": {
      "text/html": [
       "<div class=\"data-frame\"><p>4 rows × 4 columns</p><table class=\"data-frame\"><thead><tr><th></th><th>x1</th><th>x2</th><th>x3</th><th>x4</th></tr><tr><th></th><th title=\"ComplexF64\">Complex…</th><th title=\"ComplexF64\">Complex…</th><th title=\"ComplexF64\">Complex…</th><th title=\"ComplexF64\">Complex…</th></tr></thead><tbody><tr><th>1</th><td>1.42076-1.09321e-5im</td><td>0.0+0.0im</td><td>22.8301-0.00171509im</td><td>0.0+0.0im</td></tr><tr><th>2</th><td>0.0+0.0im</td><td>-0.000300772-4.839e-5im</td><td>0.0+0.0im</td><td>7.91845e-5-4.39856e-6im</td></tr><tr><th>3</th><td>22.8301-0.00171509im</td><td>0.0+0.0im</td><td>1.42154-2.2716e-6im</td><td>0.0+0.0im</td></tr><tr><th>4</th><td>0.0+0.0im</td><td>7.91845e-5-4.39856e-6im</td><td>0.0+0.0im</td><td>2.30373e-6+1.62943e-8im</td></tr></tbody></table></div>"
      ],
      "text/latex": [
       "\\begin{tabular}{r|cccc}\n",
       "\t& x1 & x2 & x3 & x4\\\\\n",
       "\t\\hline\n",
       "\t& Complex… & Complex… & Complex… & Complex…\\\\\n",
       "\t\\hline\n",
       "\t1 & 1.42076-1.09321e-5im & 0.0+0.0im & 22.8301-0.00171509im & 0.0+0.0im \\\\\n",
       "\t2 & 0.0+0.0im & -0.000300772-4.839e-5im & 0.0+0.0im & 7.91845e-5-4.39856e-6im \\\\\n",
       "\t3 & 22.8301-0.00171509im & 0.0+0.0im & 1.42154-2.2716e-6im & 0.0+0.0im \\\\\n",
       "\t4 & 0.0+0.0im & 7.91845e-5-4.39856e-6im & 0.0+0.0im & 2.30373e-6+1.62943e-8im \\\\\n",
       "\\end{tabular}\n"
      ],
      "text/plain": [
       "\u001b[1m4×4 DataFrame\u001b[0m\n",
       "\u001b[1m Row \u001b[0m│\u001b[1m x1                   \u001b[0m\u001b[1m x2                        \u001b[0m\u001b[1m x3                   \u001b[0m\u001b[1m \u001b[0m ⋯\n",
       "\u001b[1m     \u001b[0m│\u001b[90m Complex…             \u001b[0m\u001b[90m Complex…                  \u001b[0m\u001b[90m Complex…             \u001b[0m\u001b[90m \u001b[0m ⋯\n",
       "─────┼──────────────────────────────────────────────────────────────────────────\n",
       "   1 │ 1.42076-1.09321e-5im           0.0+0.0im         22.8301-0.00171509im   ⋯\n",
       "   2 │     0.0+0.0im         -0.000300772-4.839e-5im        0.0+0.0im\n",
       "   3 │ 22.8301-0.00171509im           0.0+0.0im         1.42154-2.2716e-6im\n",
       "   4 │     0.0+0.0im           7.91845e-5-4.39856e-6im      0.0+0.0im\n",
       "\u001b[36m                                                                1 column omitted\u001b[0m"
      ]
     },
     "execution_count": 39,
     "metadata": {},
     "output_type": "execute_result"
    }
   ],
   "source": [
    "eigvals(VMat(mDn+mDsc-360e-6-im*24e-6))|>println\n",
    "DataFrame(VMat(mDn+mDsc-360e-6-im*24e-6),:auto) #only \\rho,jpsi"
   ]
  },
  {
   "cell_type": "code",
   "execution_count": 17,
   "id": "fe454692",
   "metadata": {},
   "outputs": [
    {
     "data": {
      "text/plain": [
       "Gn (generic function with 1 method)"
      ]
     },
     "execution_count": 17,
     "metadata": {},
     "output_type": "execute_result"
    }
   ],
   "source": [
    "Gc(E,q)=1/(2π^2)/(E-mDn-mDsc-q^2/(2*μf(mDn,mDsc))+im*ΓDscf(E,q)/2)\n",
    "Gn(E,q)=1/(2π^2)/(E-mDc-mDsn-q^2/(2*μf(mDc,mDsn))+im*ΓDsnf(E,q)/2)"
   ]
  },
  {
   "cell_type": "code",
   "execution_count": 18,
   "id": "109a400f",
   "metadata": {},
   "outputs": [
    {
     "data": {
      "text/plain": [
       "GMat (generic function with 1 method)"
      ]
     },
     "execution_count": 18,
     "metadata": {},
     "output_type": "execute_result"
    }
   ],
   "source": [
    "function GMat(E;Λ1=0.5,Λ2=0.5)\n",
    "    qi,wi=find_qw1(E)\n",
    "    k1,k2,qau=qi[1],qi[2],qi[3:end]\n",
    "    μ1,μ2=μf(mDn,mDsc),μf(mDc,mDsn)\n",
    "    \n",
    "    g11=sum(broadcast(l->(l^2*exp(-2*l^2/Λ1^2)-k1^2*exp(-2*k1^2/Λ1^2))*Gc(E,l),qau) .*wi)+im/(2π)*k1^2*exp(-2*k1^2/Λ1^2)/(-k1/μ1+im*dΓDscf(E,k1)/2)\n",
    "    g33=sum(broadcast(l->(l^2*exp(-2*l^2/Λ2^2)-k2^2*exp(-2*k2^2/Λ2^2))*Gn(E,l),qau) .*wi)+im/(2π)*k2^2*exp(-2*k2^2/Λ2^2)/(-k2/μ2+im*dΓDsnf(E,k2)/2)\n",
    "    return diagm([g11,g11,g33,g33])\n",
    "end"
   ]
  },
  {
   "cell_type": "code",
   "execution_count": 19,
   "id": "c8217eba",
   "metadata": {},
   "outputs": [
    {
     "data": {
      "text/plain": [
       "TMat (generic function with 1 method)"
      ]
     },
     "execution_count": 19,
     "metadata": {},
     "output_type": "execute_result"
    }
   ],
   "source": [
    "function TMat(E;a = 0.0,a1=1.0,Λ1=0.5,Λ2=0.5)\n",
    "    vv=VMat(E;a=a,a1=a1)\n",
    "    gg=GMat(E;Λ1=Λ1,Λ2=Λ2)\n",
    "    return inv(LinearAlgebra.I-vv*gg)*vv\n",
    "end"
   ]
  },
  {
   "cell_type": "code",
   "execution_count": 20,
   "id": "1cb11383",
   "metadata": {},
   "outputs": [
    {
     "data": {
      "text/plain": [
       "detVG (generic function with 1 method)"
      ]
     },
     "execution_count": 20,
     "metadata": {},
     "output_type": "execute_result"
    }
   ],
   "source": [
    "function detVG(E;a = 0.0,a1=1.0,Λ1=0.5,Λ2=0.5)\n",
    "    vv=VMat(E;a=a,a1=a1)\n",
    "    gg=GMat(E;Λ1=Λ1,Λ2=Λ2)\n",
    "    return det(LinearAlgebra.I-vv*gg)\n",
    "end"
   ]
  },
  {
   "cell_type": "markdown",
   "id": "c573d20e",
   "metadata": {},
   "source": [
    "# optimization"
   ]
  },
  {
   "cell_type": "code",
   "execution_count": 41,
   "id": "69a83052",
   "metadata": {},
   "outputs": [],
   "source": [
    "using Optim;\n",
    "# import BlackBoxOptim;"
   ]
  },
  {
   "cell_type": "code",
   "execution_count": 42,
   "id": "27970983",
   "metadata": {},
   "outputs": [
    {
     "data": {
      "text/plain": [
       "absdet (generic function with 1 method)"
      ]
     },
     "execution_count": 42,
     "metadata": {},
     "output_type": "execute_result"
    }
   ],
   "source": [
    "function absdet(x;E=mDn+mDsc-360e-6-im*24e-6)\n",
    "    return abs(detVG(E;a=x[1],Λ1=x[2],Λ2=x[3]))\n",
    "end"
   ]
  },
  {
   "cell_type": "code",
   "execution_count": 43,
   "id": "3ba31ae9",
   "metadata": {},
   "outputs": [
    {
     "data": {
      "text/plain": [
       "inv_abst (generic function with 1 method)"
      ]
     },
     "execution_count": 43,
     "metadata": {},
     "output_type": "execute_result"
    }
   ],
   "source": [
    "function inv_abst(x;E=mDn+mDsc-360e-6-im*24e-6)\n",
    "    return 1/abs(TMat(E;a=x[1],Λ1=x[2],Λ2=x[3])[1,1])\n",
    "end"
   ]
  },
  {
   "cell_type": "code",
   "execution_count": 61,
   "id": "947a3151",
   "metadata": {},
   "outputs": [
    {
     "data": {
      "text/plain": [
       "plotdetvg (generic function with 1 method)"
      ]
     },
     "execution_count": 61,
     "metadata": {},
     "output_type": "execute_result"
    }
   ],
   "source": [
    "function plotdetvg(x)\n",
    "    Ev=collect(3.873:0.0001:3.877)\n",
    "    Γv=collect(-100e-6:5e-6:100e-6)#collect(-500e-6:10e-6:500e-6)\n",
    "    resv=[1/abs(detVG(e+im*γ;a=x[1],Λ1=x[2],Λ2=x[3])) for γ in Γv,e in Ev]\n",
    "    contour(Ev,Γv,resv,fill=true)\n",
    "    vline!([mDn+mDsc],ls=:dot)\n",
    "    vline!([mDc+mDsn],ls=:dot)\n",
    "end"
   ]
  },
  {
   "cell_type": "code",
   "execution_count": 45,
   "id": "d629d722",
   "metadata": {},
   "outputs": [
    {
     "data": {
      "text/plain": [
       "plottmatrix (generic function with 1 method)"
      ]
     },
     "execution_count": 45,
     "metadata": {},
     "output_type": "execute_result"
    }
   ],
   "source": [
    "function plottmatrix(x)\n",
    "    Ev=collect(3.873:0.00001:3.877)\n",
    "    resv=[abs(TMat(e;a=x[1],Λ1=x[2],Λ2=x[3])[1,1]) for e in Ev]\n",
    "    plot(Ev,resv)\n",
    "    vline!([mDn+mDsc],ls=:dot)\n",
    "    vline!([mDc+mDsn],ls=:dot)\n",
    "end"
   ]
  },
  {
   "cell_type": "code",
   "execution_count": 46,
   "id": "958feee3",
   "metadata": {},
   "outputs": [
    {
     "data": {
      "text/plain": [
       "searchminumum (generic function with 1 method)"
      ]
     },
     "execution_count": 46,
     "metadata": {},
     "output_type": "execute_result"
    }
   ],
   "source": [
    "function searchminumum(x)\n",
    "    loss(y)=abs(detVG(y[1]+im*y[2];a=x[1],Λ1=x[2],Λ2=x[3]))\n",
    "    init_val=[mDn+mDsc-360e-6,-24e-6]\n",
    "    lower=[mDn+mDsc-400e-6,-100e-6]\n",
    "    upper=[mDn+mDsc-200e-6,-10e-6]\n",
    "    res=Optim.optimize(loss,lower,upper,init_val)\n",
    "    return Optim.minimum(res),Optim.minimizer(res)\n",
    "end"
   ]
  },
  {
   "cell_type": "markdown",
   "id": "883d1b8f",
   "metadata": {},
   "source": [
    "## same $\\Lambda$ and a=0"
   ]
  },
  {
   "cell_type": "code",
   "execution_count": 84,
   "id": "91795a5f",
   "metadata": {},
   "outputs": [
    {
     "name": "stdout",
     "output_type": "stream",
     "text": [
      "0.0006897039843970853\n",
      "[0.6945451891051765]\n"
     ]
    },
    {
     "data": {
      "image/png": "[encoded data removed]"
     },
     "execution_count": 84,
     "metadata": {},
     "output_type": "execute_result"
    }
   ],
   "source": [
    "let \n",
    "    tmpf(x)=absdet([0.0,x[1],x[1]];E=mDn+mDsc-360e-6-im*24e-6)\n",
    "#     tmpf(x)=inv_abst([0.0,x[1],x[1]];E=mDn+mDsc-360e-6)\n",
    "    init_val=[0.6]\n",
    "    lower=[0.3]\n",
    "    upper=[1.0]\n",
    "    res=Optim.optimize(tmpf,lower,upper,init_val)\n",
    "    println(Optim.minimum(res))\n",
    "    println(Optim.minimizer(res))\n",
    "    \n",
    "    Λ=Optim.minimizer(res)[1]\n",
    "    p1=plotdetvg([0.0,Λ,Λ])\n",
    "    p2=plottmatrix([0.0,Λ,Λ])\n",
    "    plot(p1,p2,layout=(1,2),size=(900,350))\n",
    "end"
   ]
  },
  {
   "cell_type": "code",
   "execution_count": 68,
   "id": "71a97f90",
   "metadata": {},
   "outputs": [
    {
     "data": {
      "text/plain": [
       "(0.0006892997699338891, [3.8747390424973633, -2.356972271294093e-5])"
      ]
     },
     "execution_count": 68,
     "metadata": {},
     "output_type": "execute_result"
    }
   ],
   "source": [
    "searchminumum([0.0,0.6945451891051765,0.6945451891051765])"
   ]
  },
  {
   "cell_type": "markdown",
   "id": "fb3412df",
   "metadata": {},
   "source": [
    "## same $\\Lambda$ and 0-a-1"
   ]
  },
  {
   "cell_type": "code",
   "execution_count": 69,
   "id": "b1998399",
   "metadata": {},
   "outputs": [
    {
     "name": "stdout",
     "output_type": "stream",
     "text": [
      "0.00013658798554657957\n",
      "[0.9999999999670529, 0.8848809409439643]\n"
     ]
    },
    {
     "data": {
      "image/png": "[encoded data removed]"
     },
     "execution_count": 69,
     "metadata": {},
     "output_type": "execute_result"
    }
   ],
   "source": [
    "let \n",
    "    tmpf(x)=absdet([x[1],x[2],x[2]];E=mDn+mDsc-360e-6-im*24e-6)\n",
    "#     tmpf(x)=inv_abst([x[1],x[2],x[2]];E=mDn+mDsc-360e-6)\n",
    "    init_val=[0.01,0.5]\n",
    "    lower=[0.0,0.3]\n",
    "    upper=[1.0,1.0]\n",
    "    res=Optim.optimize(tmpf,lower,upper,init_val)\n",
    "    println(Optim.minimum(res))\n",
    "    println(Optim.minimizer(res))\n",
    "    \n",
    "    a,Λ=Optim.minimizer(res)\n",
    "    p1=plotdetvg([a,Λ, Λ])\n",
    "    p2=plottmatrix([a,Λ, Λ])\n",
    "    plot(p1,p2,layout=(1,2),size=(900,350))\n",
    "end"
   ]
  },
  {
   "cell_type": "code",
   "execution_count": 70,
   "id": "caf3dd24",
   "metadata": {},
   "outputs": [
    {
     "data": {
      "text/plain": [
       "(0.0001365723624380163, [3.8747399999903824, -2.400000138583937e-5])"
      ]
     },
     "execution_count": 70,
     "metadata": {},
     "output_type": "execute_result"
    }
   ],
   "source": [
    "searchminumum([0.9999999999670529, 0.8848809409439643,0.8848809409439643])"
   ]
  },
  {
   "cell_type": "code",
   "execution_count": null,
   "id": "9018dc5a",
   "metadata": {},
   "outputs": [],
   "source": []
  }
 ],
 "metadata": {
  "@webio": {
   "lastCommId": null,
   "lastKernelId": null
  },
  "kernelspec": {
   "display_name": "Julia 1.8.0-rc1",
   "language": "julia",
   "name": "julia-1.8"
  },
  "language_info": {
   "file_extension": ".jl",
   "mimetype": "application/julia",
   "name": "julia",
   "version": "1.8.0"
  },
  "toc": {
   "base_numbering": 1,
   "nav_menu": {},
   "number_sections": true,
   "sideBar": true,
   "skip_h1_title": false,
   "title_cell": "Table of Contents",
   "title_sidebar": "Contents",
   "toc_cell": false,
   "toc_position": {},
   "toc_section_display": true,
   "toc_window_display": false
  }
 },
 "nbformat": 4,
 "nbformat_minor": 5
}
