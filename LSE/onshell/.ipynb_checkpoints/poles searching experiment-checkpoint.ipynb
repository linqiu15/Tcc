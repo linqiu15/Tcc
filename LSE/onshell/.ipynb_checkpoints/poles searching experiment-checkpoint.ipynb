{
 "cells": [
  {
   "cell_type": "code",
   "execution_count": 1,
   "id": "7e9bd47d",
   "metadata": {},
   "outputs": [],
   "source": [
    "using QuadGK,LaTeXStrings,LinearAlgebra,BenchmarkTools;\n",
    "using Plots;\n",
    "using DataFrames;\n",
    "import NLsolve,Roots;\n",
    "pyplot(frame=:box, minorticks=5, size=(500,350), titlefont = (11,\"serif\"), \n",
    "    guidefont = (12,\"serif\"), tickfont = (11,\"serif\"), legendfont= (9, \"serif\"),\n",
    "    bg_color_legend = RGBA(1,1,1,0.15), markerstrokecolor= :auto);"
   ]
  },
  {
   "cell_type": "code",
   "execution_count": 2,
   "id": "c8fbc998",
   "metadata": {},
   "outputs": [],
   "source": [
    "include(\"./libs/constants.jl\");\n",
    "include(\"./libs/pwa.jl\");\n",
    "include(\"./libs/potential.jl\");"
   ]
  },
  {
   "cell_type": "code",
   "execution_count": 66,
   "id": "7f7a74be",
   "metadata": {},
   "outputs": [
    {
     "data": {
      "text/plain": [
       "potential_DDscross (generic function with 1 method)"
      ]
     },
     "execution_count": 66,
     "metadata": {},
     "output_type": "execute_result"
    }
   ],
   "source": [
    "# ----------------------------------------------------------DD*----------------------------------------------------#\n",
    "function potential_DnDsc(E,p, q; I=0, a=0,a1=0.0, cl=:ss)\n",
    "    q01, q02 = q0f(E, mDn, mDsc, mDn, mDsc), q0f(E, mDn, mDsc, mDsc, mDn)\n",
    "    res = zero(ComplexF64)\n",
    "    res += -β^2 * gV^2 * (1 - q01^2 / mρn^2) / sqrt(16) * pwa_central(p, q, mρn^2 - q01^2; cl=cl)\n",
    "    res += β^2 * gV^2 * (1 - q01^2 / mω^2) / sqrt(16) * pwa_central(p, q, mω^2 - q01^2; cl=cl)\n",
    "    res += -4 * gs^2 / sqrt(16) * pwa_central(p, q, mσ^2 - q01^2; cl=cl)\n",
    "#     res += -4 * g^2 / fπ^2 / sqrt(16) * (pwa_tensor_deform(p, q, mπc^2 - q02^2; cl=cl) - a1 / 3 * pwa_contact(p, q, mπc^2 - q02^2; cl=cl)) * (I - 1 / 2) * 2\n",
    "#     res += real(-4 * g^2 / fπ^2 / sqrt(16) * (pwa_tensor_deform(p, q, mπc^2 - q02^2; cl=cl) - a1 / 3 * pwa_contact(p, q, mπc^2 - q02^2; cl=cl)) * (I - 1 / 2) * 2)\n",
    "    res += ((2 * sqrt(2) * gV * gλ)^2 / sqrt(16) * (pwa_tensor(p, q, mρc^2 - q02^2; cl=cl) + 2 * a / 3 * pwa_contact(p, q, mρc^2 - q02^2; cl=cl)\n",
    "                                                    -\n",
    "                                                    pwa_square(p, q, mρc^2 - q02^2; cl=cl)) * (I - 1 / 2) * 2)\n",
    "    res += -β^2 * gV^2 * (1 - q01^2 / mJψ^2) / sqrt(16) * pwa_central(p, q, mJψ^2 - q01^2; cl=cl) * (-2)\n",
    "    return res\n",
    "end\n",
    "\n",
    "function potential_DcDsn(E,p, q; I=0, a=0,a1=0.0, cl=:ss)\n",
    "    q01, q02 = q0f(E, mDc, mDsn, mDc, mDsn), q0f(E, mDc, mDsn, mDsn, mDc)\n",
    "    res = zero(ComplexF64)\n",
    "\n",
    "    res += -β^2 * gV^2 * (1 - q01^2 / mρn^2) / sqrt(16) * pwa_central(p, q, mρn^2 - q01^2; cl=cl)\n",
    "    res += β^2 * gV^2 * (1 - q01^2 / mω^2) / sqrt(16) * pwa_central(p, q, mω^2 - q01^2; cl=cl)\n",
    "    res += -4 * gs^2 / sqrt(16) * pwa_central(p, q, mσ^2 - q01^2; cl=cl)\n",
    "#     res += -4 * g^2 / fπ^2 / sqrt(16) * (pwa_tensor_deform(p, q, mπc^2 - q02^2; cl=cl) - a1 / 3 * pwa_contact(p, q, mπc^2 - q02^2; cl=cl)) * (I - 1 / 2) * 2\n",
    "#     res += real(-4 * g^2 / fπ^2 / sqrt(16) * (pwa_tensor_deform(p, q, mπc^2 - q02^2; cl=cl) - a1 / 3 * pwa_contact(p, q, mπc^2 - q02^2; cl=cl)) * (I - 1 / 2) * 2)\n",
    "    res += ((2 * sqrt(2) * gV * gλ)^2 / sqrt(16) * (pwa_tensor(p, q, mρc^2 - q02^2; cl=cl) + 2 * a / 3 * pwa_contact(p, q, mρc^2 - q02^2; cl=cl)\n",
    "                                                    -\n",
    "                                                    pwa_square(p, q, mρc^2 - q02^2; cl=cl)) * (I - 1 / 2) * 2)\n",
    "    res += -β^2 * gV^2 * (1 - q01^2 / mJψ^2) / sqrt(16) * pwa_central(p, q, mJψ^2 - q01^2; cl=cl) * (-2)\n",
    "    return res\n",
    "end\n",
    "\n",
    "function potential_DDscross(E,p, q; I=0, a=0,a1=0.0, cl=:ss)\n",
    "    q01, q02 = q0f(E, mDn, mDsc, mDc, mDsn), q0f(E, mDn, mDsc, mDsn, mDc)\n",
    "    res = zero(ComplexF64)\n",
    "\n",
    "    res += 2 * β^2 * gV^2 * (1 - q01^2 / mρc^2) / sqrt(16) * pwa_central(p, q, mρc^2 - q01^2; cl=cl)\n",
    "#     res += 2 * g^2 / fπ^2 / sqrt(16) * (pwa_tensor_deform(p, q, mπn^2 - q02^2; cl=cl) - a1 / 3 * pwa_contact(p, q, mπn^2 - q02^2; cl=cl)) * (I - 1 / 2) * 2\n",
    "#     res += real(2 * g^2 / fπ^2 / sqrt(16) * (pwa_tensor_deform(p, q, mπn^2 - q02^2; cl=cl) - a1 / 3 * pwa_contact(p, q, mπn^2 - q02^2; cl=cl)) * (I - 1 / 2) * 2)\n",
    "    res += -2 * g^2 / (3fπ^2) / sqrt(16) * (pwa_tensor(p, q, mη^2 - q02^2; cl=cl) - a / 3 * pwa_contact(p, q, mη^2 - q02^2; cl=cl)) * (I - 1 / 2) * 2\n",
    "    res += (-(2 * gV * gλ)^2 / sqrt(16) * (pwa_tensor(p, q, mρn^2 - q02^2; cl=cl) + 2 * a / 3 * pwa_contact(p, q, mρn^2 - q02^2; cl=cl)\n",
    "                                           -\n",
    "                                           pwa_square(p, q, mρn^2 - q02^2; cl=cl)) * (I - 1 / 2) * 2)\n",
    "    res += ((2 * gV * gλ)^2 / sqrt(16) * (pwa_tensor(p, q, mω^2 - q02^2; cl=cl) + 2 * a / 3 * pwa_contact(p, q, mω^2 - q02^2; cl=cl)\n",
    "                                          -\n",
    "                                          pwa_square(p, q, mω^2 - q02^2; cl=cl)) * (I - 1 / 2) * 2)\n",
    "    #ηc,J/ψ\n",
    "    res += 2 * g^2 / fπ^2 / sqrt(16) * (pwa_tensor(p, q, mηc^2 - q02^2; cl=cl) - a / 3 * pwa_contact(p, q, mηc^2 - q02^2; cl=cl)) * (-2) * (I - 1 / 2) * 2\n",
    "    res += (-(2 * gV * gλ)^2 / sqrt(16) * (pwa_tensor(p, q, mJψ^2 - q02^2; cl=cl) + 2 * a / 3 * pwa_contact(p, q, mJψ^2 - q02^2; cl=cl)\n",
    "                                           -\n",
    "                                           pwa_square(p, q, mJψ^2 - q02^2; cl=cl)) * (I - 1 / 2) * 2*(-2))\n",
    "    return res\n",
    "end"
   ]
  },
  {
   "cell_type": "code",
   "execution_count": 3,
   "id": "f54a274a",
   "metadata": {},
   "outputs": [
    {
     "data": {
      "text/plain": [
       "xsqrt1 (generic function with 1 method)"
      ]
     },
     "execution_count": 3,
     "metadata": {},
     "output_type": "execute_result"
    }
   ],
   "source": [
    "function quadgauss(f, x::T, w::T) where {T<:Vector{Float64}}\n",
    "    res = zero(f(x[1]))  # zero of the same type as f(x[1]), to avoid type instability\n",
    "    for i in eachindex(x)\n",
    "        res += f(x[i]) * w[i]\n",
    "    end\n",
    "    return res\n",
    "end\n",
    "\n",
    "λf(x, y, z) = x^2 + y^2 + z^2 - 2 * x * y - 2 * x * z - 2 * y * z\n",
    "q0f(E, m1, m2, m3, m4) = abs(m3^2 - m4^2 - m1^2 + m2^2) / (2 * E)\n",
    "μf(m1, m2) = m1 * m2 / (m1 + m2)\n",
    "\n",
    "# redefine sqrt so that its cut is along the positive x axis\n",
    "function xsqrt(x)\n",
    "    imag(x) >=0 ? sqrt(x+0im) : -sqrt(x-0im)\n",
    "end\n",
    "xsqrt1(x)= (imag(x)<0&&real(x)>0) ? -xsqrt(x) : xsqrt(x)"
   ]
  },
  {
   "cell_type": "markdown",
   "id": "463b32fc",
   "metadata": {},
   "source": [
    "# width of $D^*$"
   ]
  },
  {
   "cell_type": "code",
   "execution_count": 4,
   "id": "a4d9a8a1",
   "metadata": {},
   "outputs": [
    {
     "data": {
      "text/plain": [
       "dΓf3 (generic function with 1 method)"
      ]
     },
     "execution_count": 4,
     "metadata": {},
     "output_type": "execute_result"
    }
   ],
   "source": [
    "function Γf(E,q,m1,m2,m3,m12)\n",
    "    E1=E+m12-sqrt(m12^2+q^2+0im)-sqrt(m3^2+q^2+0im)\n",
    "    μ=(m1*m2)/(m1+m2)\n",
    "    return (imag(E1)<0&&real(E1)>(m1+m2)) ? -xsqrt(2*μ*(E1-m1-m2)+0im) : xsqrt(2*μ*(E1-m1-m2)+0im)\n",
    "end\n",
    "\n",
    "function Γf3(E,q,m1,m2,m3,m12)\n",
    "    E1=E+m12-sqrt(m12^2+q^2+0im)-sqrt(m3^2+q^2+0im)\n",
    "    μ=(m1*m2)/(m1+m2)\n",
    "    return (imag(E1)<0&&real(E1)>(m1+m2)) ? -xsqrt(2*μ*(E1-m1-m2)+0im)^3 : xsqrt(2*μ*(E1-m1-m2)+0im)^3\n",
    "end\n",
    "\n",
    "function dΓf3(E,q,m1,m2,m3,m12)\n",
    "    E1=E+m12-sqrt(m12^2+q^2+0im)-sqrt(m3^2+q^2+0im)\n",
    "    μ=(m1*m2)/(m1+m2)\n",
    "    tmp=-3*μ*xsqrt(2*μ*(E1-m1-m2)+0im)*(q/sqrt(m12^2+q^2+0im)+q/sqrt(m3^2+q^2+0im))\n",
    "    return (imag(E1)<0&&real(E1)>(m1+m2)) ? -tmp : tmp\n",
    "end"
   ]
  },
  {
   "cell_type": "code",
   "execution_count": 5,
   "id": "264380dc",
   "metadata": {},
   "outputs": [
    {
     "data": {
      "text/plain": [
       "dΓDsnf (generic function with 1 method)"
      ]
     },
     "execution_count": 5,
     "metadata": {},
     "output_type": "execute_result"
    }
   ],
   "source": [
    "ΓDscf(E, p) = (ΓRDsc + g^2 * mDn / (6 * π * fπ^2 * mDsc) * Γf3(E, p, mDn, mπc, mDn,mDsc)\n",
    "                                   + g^2 * mDc / (12 * π * fπ^2 * mDsc) * Γf3(E, p, mDc, mπn, mDn,mDsc))\n",
    "\n",
    "ΓDsnf(E, p) = (ΓRDsn + g^2 * mDn / (12 * π * fπ^2 * mDsn) * Γf3(E, p, mDn, mπn, mDc,mDsn)\n",
    "                                   + g^2 * mDc / (6 * π * fπ^2 * mDsn) * (Γf3(E, p, mDc, mπc, mDc,mDsn) - Γf3(mDc + mDsn, 0, mDc, mπc, mDc,mDsn)))\n",
    "\n",
    "dΓDscf(E, p) = (g^2 * mDn / (6 * π * fπ^2 * mDsc) * dΓf3(E, p, mDn, mπc, mDn,mDsc)\n",
    "                                   + g^2 * mDc / (12 * π * fπ^2 * mDsc) * dΓf3(E, p, mDc, mπn, mDn,mDsc))\n",
    "\n",
    "dΓDsnf(E, p) = (g^2 * mDn / (12 * π * fπ^2 * mDsn) * dΓf3(E, p, mDn, mπn, mDc,mDsn)+ g^2 * mDc / (6 * π * fπ^2 * mDsn) * dΓf3(E, p, mDc, mπc, mDc,mDsn))"
   ]
  },
  {
   "cell_type": "code",
   "execution_count": 6,
   "id": "e744fe0b",
   "metadata": {},
   "outputs": [
    {
     "data": {
      "text/plain": [
       "find_singular (generic function with 1 method)"
      ]
     },
     "execution_count": 6,
     "metadata": {},
     "output_type": "execute_result"
    }
   ],
   "source": [
    "function find_singular(E, den; pstart = [0.01, 0.01])\n",
    "    function f!(F, x)\n",
    "        pr, pi = x\n",
    "        tmp = den(E, pr + im * pi)\n",
    "        F[1] = real(tmp)\n",
    "        F[2] = imag(tmp)\n",
    "    end\n",
    "    sol = NLsolve.nlsolve((F, x) -> f!(F, x), pstart)\n",
    "    @assert sol.residual_norm < 1e-8 \"The on-shell momentum not found!\"\n",
    "    return sol.zero[1] + im * sol.zero[2]\n",
    "#     return sol.residual_norm < 1e-8 ? sol.zero[1] + im * sol.zero[2] : NaN+im*NaN\n",
    "end"
   ]
  },
  {
   "cell_type": "code",
   "execution_count": 7,
   "id": "3b791cff",
   "metadata": {},
   "outputs": [
    {
     "data": {
      "text/plain": [
       "qon_0 (generic function with 1 method)"
      ]
     },
     "execution_count": 7,
     "metadata": {},
     "output_type": "execute_result"
    }
   ],
   "source": [
    "qon_c(E)=find_singular(E, (E, p) -> E-mDn-mDsc - p^2 / (2 * μf(mDn, mDsc)) + im * ΓDscf(E, p) / 2; pstart = [reim(xsqrt1(E-mDn-mDsc + im * ΓDsc / 2))...])\n",
    "\n",
    "qon_0(E)=find_singular(E, (E, p) -> E-mDc-mDsn - p^2 / (2 * μf(mDc, mDsn)) + im * ΓDsnf(E, p) / 2; pstart = [reim(xsqrt1(E-mDc-mDsn + im * ΓDsn / 2))...])"
   ]
  },
  {
   "cell_type": "markdown",
   "id": "457a5c6c",
   "metadata": {},
   "source": [
    "# path deformation"
   ]
  },
  {
   "cell_type": "code",
   "execution_count": 8,
   "id": "54569562",
   "metadata": {},
   "outputs": [],
   "source": [
    "xxx,www=gauss(30,0,1);"
   ]
  },
  {
   "cell_type": "code",
   "execution_count": 9,
   "id": "ab8d3592",
   "metadata": {},
   "outputs": [
    {
     "data": {
      "text/plain": [
       "Einner (generic function with 1 method)"
      ]
     },
     "execution_count": 9,
     "metadata": {},
     "output_type": "execute_result"
    }
   ],
   "source": [
    "function Einner(E,q,m1,m2,m3,m12)\n",
    "    return E+m12-sqrt(m12^2+q^2+0im)-sqrt(m3^2+q^2+0im)\n",
    "end"
   ]
  },
  {
   "cell_type": "code",
   "execution_count": 10,
   "id": "0f23dcf6",
   "metadata": {},
   "outputs": [
    {
     "data": {
      "text/plain": [
       "find_qint (generic function with 1 method)"
      ]
     },
     "execution_count": 10,
     "metadata": {},
     "output_type": "execute_result"
    }
   ],
   "source": [
    "function find_qint(E,m1,m2,m3,m12;rtol=1e-6)\n",
    "    function f!(F,x)\n",
    "        q=x[1]+1.0im*x[2]\n",
    "        tmp=Einner(E,q,m1,m2,m3,m12)\n",
    "        F[1]=real(tmp)-m1-m2\n",
    "        F[2]=imag(tmp)-rtol\n",
    "    end\n",
    "    sol=NLsolve.nlsolve(f!,[0.1,-0.1])\n",
    "    return sol.zero[1]+im*sol.zero[2]\n",
    "end"
   ]
  },
  {
   "cell_type": "markdown",
   "id": "335cba53",
   "metadata": {},
   "source": [
    "$0\\sim 0.5$, $0.5\\sim 1$, $1\\sim\\infty$"
   ]
  },
  {
   "cell_type": "code",
   "execution_count": 11,
   "id": "3e3d2143",
   "metadata": {},
   "outputs": [],
   "source": [
    "f1(x)=0.5*x;\n",
    "f2(x)=0.5*(1-x)+1.0*x;\n",
    "f3(x)=1.0+tan(π/2*x);\n",
    "df3(x)=π/2/cos(π/2*x)^2;"
   ]
  },
  {
   "cell_type": "code",
   "execution_count": 12,
   "id": "5014c825",
   "metadata": {},
   "outputs": [
    {
     "data": {
      "text/plain": [
       "find_qw (generic function with 1 method)"
      ]
     },
     "execution_count": 12,
     "metadata": {},
     "output_type": "execute_result"
    }
   ],
   "source": [
    "function find_qw(E)\n",
    "    # wi is the one wrappered with g'(x)\n",
    "    qon=[qon_c(E),qon_0(E)]\n",
    "    if imag(E)>=0||(real(E)<=mDn+mDn+mπc)\n",
    "        qi=vcat(f1.(xxx),f2.(xxx),f3.(xxx))\n",
    "        wi=vcat(0.5 .*www,0.5 .*www,df3.(xxx) .*www)\n",
    "        return qon,qi,wi\n",
    "    end\n",
    "    # find closet DDπ\n",
    "    qint1,qint2=zeros(ComplexF64,2)\n",
    "    if real(E)>mDc+mDc+mπc\n",
    "        qint1=find_qint(E,mDc,mπc,mDc,mDsn)\n",
    "        qint2=find_qint(E,mDn,mπc,mDn,mDsc)\n",
    "    elseif real(E)>mDc+mDn+mπn\n",
    "        qint1=find_qint(E,mDc,mπn,mDn,mDsc)\n",
    "        qint2=find_qint(E,mDn,mπc,mDn,mDsc)\n",
    "    else\n",
    "        qint1=find_qint(E,mDn,mπc,mDn,mDsc)\n",
    "        qint2=2*real(qint1)\n",
    "    end\n",
    "    \n",
    "    @assert real(qint1)>0&&imag(qint1)<0 \"Wrong qint1 position!\"\n",
    "    @assert imag(qint2)>imag(qint1)&&imag(qint2)<=0&&real(qint2)>real(qint1) \"Wrong qint2 position!\"\n",
    "    println(qint1,qint2)\n",
    "    # get points\n",
    "    qint3=Roots.find_zero(x->imag(conj(qint2-qint1)*(x-qint1)),(0,Inf))\n",
    "    \n",
    "    qi=vcat(qint1 .*xxx,qint1 .+ ((qint3-qint1) .*xxx),qint3 .+(tan.(π/2 .*xxx)))\n",
    "    wi=vcat(qint1 .*www,(qint3-qint1) .*www,df3.(xxx) .*www)\n",
    "    return qon,qi,wi\n",
    "end"
   ]
  },
  {
   "cell_type": "code",
   "execution_count": 13,
   "id": "6d9eb066",
   "metadata": {},
   "outputs": [
    {
     "data": {
      "text/plain": [
       "find_qw1 (generic function with 1 method)"
      ]
     },
     "execution_count": 13,
     "metadata": {},
     "output_type": "execute_result"
    }
   ],
   "source": [
    "function find_qw1(E)\n",
    "    # wi is the one wrappered with g'(x)\n",
    "    qon=[qon_c(E),qon_0(E)]\n",
    "    if imag(E)>=0||(real(E)<=mDn+mDn+mπc)\n",
    "        qi=vcat(qon,f1.(xxx),f2.(xxx),f3.(xxx))\n",
    "        wi=vcat(0.5 .*www,0.5 .*www,df3.(xxx) .*www)\n",
    "        return qi,wi\n",
    "    end\n",
    "    # find closet DDπ\n",
    "    qint1,qint2=zeros(ComplexF64,2)\n",
    "    if real(E)>mDc+mDc+mπc\n",
    "        qint1=find_qint(E,mDc,mπc,mDc,mDsn)\n",
    "        qint2=find_qint(E,mDn,mπc,mDn,mDsc)\n",
    "    elseif real(E)>mDc+mDn+mπn\n",
    "        qint1=find_qint(E,mDc,mπn,mDn,mDsc)\n",
    "        qint2=find_qint(E,mDn,mπc,mDn,mDsc)\n",
    "    else\n",
    "        qint1=find_qint(E,mDn,mπc,mDn,mDsc)\n",
    "        qint2=2*real(qint1)\n",
    "    end\n",
    "    \n",
    "    @assert real(qint1)>0&&imag(qint1)<0 \"Wrong qint1 position!\"\n",
    "    @assert imag(qint2)>imag(qint1)&&imag(qint2)<=0&&real(qint2)>real(qint1) \"Wrong qint2 position!\"\n",
    "    \n",
    "    # get points on real axis\n",
    "    qint3=Roots.find_zero(x->imag(conj(qint2-qint1)*(x-qint1)),(0,Inf))\n",
    "    \n",
    "#     println(qint1)\n",
    "#     println(qint2)\n",
    "#     println(qint3)\n",
    "    \n",
    "    qi=vcat(qon,qint1 .*xxx,qint1 .+ ((qint3-qint1) .*xxx),qint3 .+(tan.(π/2 .*xxx)))\n",
    "    wi=vcat(qint1 .*www,(qint3-qint1) .*www,df3.(xxx) .*www)\n",
    "    return qi,wi\n",
    "end"
   ]
  },
  {
   "cell_type": "code",
   "execution_count": 14,
   "id": "b3822559",
   "metadata": {},
   "outputs": [
    {
     "data": {
      "text/plain": [
       "VMat (generic function with 1 method)"
      ]
     },
     "execution_count": 14,
     "metadata": {},
     "output_type": "execute_result"
    }
   ],
   "source": [
    "function VMat(E;I=0,a = 0.0,a1=0.0)\n",
    "    vmat=zeros(ComplexF64,4,4)\n",
    "    k1,k2=qon_c(E),qon_0(E)\n",
    "    vmat[1,1] = potential_DnDsc(E,k1,k1;I=I, a = a,a1=a1, cl = :ss)\n",
    "    vmat[1,2] = potential_DnDsc(E,k1,k1;I=I, a = a,a1=a1, cl = :ds)\n",
    "    vmat[2,1] = potential_DnDsc(E,k1,k1;I=I, a = a,a1=a1,  cl = :sd)\n",
    "    vmat[2,2] = potential_DnDsc(E,k1,k1; I=I,a = a,a1=a1, cl = :dd)\n",
    "    vmat[1,3] = potential_DDscross(E,k2,k1;I=I, a = a,a1=a1,  cl = :ss)\n",
    "    vmat[1,4] = potential_DDscross(E,k2,k1;I=I, a = a,a1=a1,  cl = :ds)\n",
    "    vmat[2,3] = potential_DDscross(E,k2,k1;I=I, a = a,a1=a1,  cl = :sd)\n",
    "    vmat[2,4] = potential_DDscross(E,k2,k1;I=I, a = a,a1=a1,  cl = :dd)\n",
    "    vmat[3,1] = potential_DDscross(E,k1,k2;I=I, a = a,a1=a1,  cl = :ss)\n",
    "    vmat[3,2] = potential_DDscross(E,k1,k2;I=I, a = a,a1=a1,  cl = :ds)\n",
    "    vmat[4,1] = potential_DDscross(E,k1,k2;I=I, a = a,a1=a1,  cl = :sd)\n",
    "    vmat[4,2] = potential_DDscross(E,k1,k2;I=I, a = a,a1=a1,  cl = :dd)\n",
    "    vmat[3,3] = potential_DcDsn(E,k2,k2;I=I, a = a,a1=a1,  cl = :ss)\n",
    "    vmat[3,4] = potential_DcDsn(E,k2,k2;I=I, a = a,a1=a1,  cl = :ds)\n",
    "    vmat[4,3] = potential_DcDsn(E,k2,k2;I=I, a = a,a1=a1,  cl = :sd)\n",
    "    vmat[4,4] = potential_DcDsn(E,k2,k2;I=I, a = a,a1=a1,  cl = :dd)\n",
    "    return vmat\n",
    "end"
   ]
  },
  {
   "cell_type": "code",
   "execution_count": 15,
   "id": "7fd508cd",
   "metadata": {},
   "outputs": [
    {
     "name": "stdout",
     "output_type": "stream",
     "text": [
      "0.0006990917686079699 + 0.026383911589114288im\n",
      "6.632585092995444e-5 + 0.05770078015100248im\n"
     ]
    }
   ],
   "source": [
    "qon_c(mDn+mDsc-360e-6-im*24e-6)|>println\n",
    "qon_0(mDn+mDsc-360e-6-im*24e-6)|>println"
   ]
  },
  {
   "cell_type": "code",
   "execution_count": 65,
   "id": "6d78e583",
   "metadata": {},
   "outputs": [
    {
     "data": {
      "text/html": [
       "<div class=\"data-frame\"><p>4 rows × 4 columns</p><table class=\"data-frame\"><thead><tr><th></th><th>x1</th><th>x2</th><th>x3</th><th>x4</th></tr><tr><th></th><th title=\"ComplexF64\">Complex…</th><th title=\"ComplexF64\">Complex…</th><th title=\"ComplexF64\">Complex…</th><th title=\"ComplexF64\">Complex…</th></tr></thead><tbody><tr><th>1</th><td>-3.91492-0.130597im</td><td>-1.64056+0.0617656im</td><td>1.12821+0.00989606im</td><td>0.235548-0.0195946im</td></tr><tr><th>2</th><td>-1.64056+0.0617656im</td><td>-0.394785+0.0361903im</td><td>2.51148+0.0338519im</td><td>0.203016-0.0152884im</td></tr><tr><th>3</th><td>1.12821+0.00989606im</td><td>2.51148+0.0338519im</td><td>0.954418-0.980681im</td><td>-2.44256-0.603138im</td></tr><tr><th>4</th><td>0.235548-0.0195946im</td><td>0.203016-0.0152884im</td><td>-2.44256-0.603138im</td><td>-2.31852-0.173018im</td></tr></tbody></table></div>"
      ],
      "text/latex": [
       "\\begin{tabular}{r|cccc}\n",
       "\t& x1 & x2 & x3 & x4\\\\\n",
       "\t\\hline\n",
       "\t& Complex… & Complex… & Complex… & Complex…\\\\\n",
       "\t\\hline\n",
       "\t1 & -3.91492-0.130597im & -1.64056+0.0617656im & 1.12821+0.00989606im & 0.235548-0.0195946im \\\\\n",
       "\t2 & -1.64056+0.0617656im & -0.394785+0.0361903im & 2.51148+0.0338519im & 0.203016-0.0152884im \\\\\n",
       "\t3 & 1.12821+0.00989606im & 2.51148+0.0338519im & 0.954418-0.980681im & -2.44256-0.603138im \\\\\n",
       "\t4 & 0.235548-0.0195946im & 0.203016-0.0152884im & -2.44256-0.603138im & -2.31852-0.173018im \\\\\n",
       "\\end{tabular}\n"
      ],
      "text/plain": [
       "\u001b[1m4×4 DataFrame\u001b[0m\n",
       "\u001b[1m Row \u001b[0m│\u001b[1m x1                    \u001b[0m\u001b[1m x2                    \u001b[0m\u001b[1m x3                    \u001b[0m\u001b[1m x4\u001b[0m ⋯\n",
       "\u001b[1m     \u001b[0m│\u001b[90m Complex…              \u001b[0m\u001b[90m Complex…              \u001b[0m\u001b[90m Complex…              \u001b[0m\u001b[90m Co\u001b[0m ⋯\n",
       "─────┼──────────────────────────────────────────────────────────────────────────\n",
       "   1 │ -3.91492-0.130597im     -1.64056+0.0617656im   1.12821+0.00989606im  0. ⋯\n",
       "   2 │ -1.64056+0.0617656im   -0.394785+0.0361903im   2.51148+0.0338519im   0.\n",
       "   3 │  1.12821+0.00989606im    2.51148+0.0338519im  0.954418-0.980681im    -2\n",
       "   4 │ 0.235548-0.0195946im    0.203016-0.0152884im  -2.44256-0.603138im    -2\n",
       "\u001b[36m                                                                1 column omitted\u001b[0m"
      ]
     },
     "execution_count": 65,
     "metadata": {},
     "output_type": "execute_result"
    }
   ],
   "source": [
    "DataFrame(VMat(mDn+mDsc-360e-6-im*10e-6;a1=1.0),:auto)"
   ]
  },
  {
   "cell_type": "code",
   "execution_count": 19,
   "id": "44b07e45",
   "metadata": {},
   "outputs": [
    {
     "data": {
      "text/plain": [
       "4-element Vector{ComplexF64}:\n",
       " -16.835938861306605 - 0.5605691806532567im\n",
       " -2.1878420986391363 - 0.12691351195574463im\n",
       "  0.1070657574124192 + 0.006731790828410102im\n",
       "  25.506885033510997 - 0.5229314831586249im"
      ]
     },
     "execution_count": 19,
     "metadata": {},
     "output_type": "execute_result"
    }
   ],
   "source": [
    "eigvals(VMat(mDn+mDsc-360e-6-im*24e-6;a1=0.0))"
   ]
  },
  {
   "cell_type": "code",
   "execution_count": 17,
   "id": "9801ba89",
   "metadata": {},
   "outputs": [
    {
     "data": {
      "text/html": [
       "<div class=\"data-frame\"><p>4 rows × 4 columns</p><table class=\"data-frame\"><thead><tr><th></th><th>x1</th><th>x2</th><th>x3</th><th>x4</th></tr><tr><th></th><th title=\"ComplexF64\">Complex…</th><th title=\"ComplexF64\">Complex…</th><th title=\"ComplexF64\">Complex…</th><th title=\"ComplexF64\">Complex…</th></tr></thead><tbody><tr><th>1</th><td>10.114+0.390733im</td><td>0.817728-0.243323im</td><td>35.3446-0.0252469im</td><td>-0.0775485+0.0320593im</td></tr><tr><th>2</th><td>0.817728-0.243323im</td><td>0.0726396-0.0525344im</td><td>-2.73602-0.0522227im</td><td>-0.0670082+0.0276047im</td></tr><tr><th>3</th><td>35.3446-0.0252469im</td><td>-2.73602-0.0522227im</td><td>3.70444+1.15245im</td><td>2.56232+0.696334im</td></tr><tr><th>4</th><td>-0.0775485+0.0320593im</td><td>-0.0670082+0.0276047im</td><td>2.56232+0.696334im</td><td>2.48328+0.148172im</td></tr></tbody></table></div>"
      ],
      "text/latex": [
       "\\begin{tabular}{r|cccc}\n",
       "\t& x1 & x2 & x3 & x4\\\\\n",
       "\t\\hline\n",
       "\t& Complex… & Complex… & Complex… & Complex…\\\\\n",
       "\t\\hline\n",
       "\t1 & 10.114+0.390733im & 0.817728-0.243323im & 35.3446-0.0252469im & -0.0775485+0.0320593im \\\\\n",
       "\t2 & 0.817728-0.243323im & 0.0726396-0.0525344im & -2.73602-0.0522227im & -0.0670082+0.0276047im \\\\\n",
       "\t3 & 35.3446-0.0252469im & -2.73602-0.0522227im & 3.70444+1.15245im & 2.56232+0.696334im \\\\\n",
       "\t4 & -0.0775485+0.0320593im & -0.0670082+0.0276047im & 2.56232+0.696334im & 2.48328+0.148172im \\\\\n",
       "\\end{tabular}\n"
      ],
      "text/plain": [
       "\u001b[1m4×4 DataFrame\u001b[0m\n",
       "\u001b[1m Row \u001b[0m│\u001b[1m x1                     \u001b[0m\u001b[1m x2                     \u001b[0m\u001b[1m x3                   \u001b[0m\u001b[1m x\u001b[0m ⋯\n",
       "\u001b[1m     \u001b[0m│\u001b[90m Complex…               \u001b[0m\u001b[90m Complex…               \u001b[0m\u001b[90m Complex…             \u001b[0m\u001b[90m C\u001b[0m ⋯\n",
       "─────┼──────────────────────────────────────────────────────────────────────────\n",
       "   1 │     10.114+0.390733im     0.817728-0.243323im    35.3446-0.0252469im  - ⋯\n",
       "   2 │   0.817728-0.243323im    0.0726396-0.0525344im  -2.73602-0.0522227im  -\n",
       "   3 │    35.3446-0.0252469im    -2.73602-0.0522227im   3.70444+1.15245im\n",
       "   4 │ -0.0775485+0.0320593im  -0.0670082+0.0276047im   2.56232+0.696334im\n",
       "\u001b[36m                                                                1 column omitted\u001b[0m"
      ]
     },
     "execution_count": 17,
     "metadata": {},
     "output_type": "execute_result"
    }
   ],
   "source": [
    "DataFrame(VMat(3.875;a1=0.56600089205895,a=0.56600089205895,I=1),:auto)"
   ]
  },
  {
   "cell_type": "code",
   "execution_count": 18,
   "id": "64f761a2",
   "metadata": {},
   "outputs": [
    {
     "data": {
      "text/plain": [
       "4-element Vector{ComplexF64}:\n",
       " -28.91830221205853 + 0.7851869671509669im\n",
       " 0.2504529125756821 - 0.07803741277632162im\n",
       " 2.5456493774014857 + 0.1656799129863368im\n",
       "  42.49655405404082 + 0.7659958338825624im"
      ]
     },
     "execution_count": 18,
     "metadata": {},
     "output_type": "execute_result"
    }
   ],
   "source": [
    "eigvals(VMat(3.875;a1=0.56600089205895,a=0.56600089205895,I=1))"
   ]
  },
  {
   "cell_type": "code",
   "execution_count": 20,
   "id": "fe454692",
   "metadata": {},
   "outputs": [
    {
     "data": {
      "text/plain": [
       "Gn (generic function with 1 method)"
      ]
     },
     "execution_count": 20,
     "metadata": {},
     "output_type": "execute_result"
    }
   ],
   "source": [
    "Gc(E,q)=1/(2π^2)/(E-mDn-mDsc-q^2/(2*μf(mDn,mDsc))+im*ΓDscf(E,q)/2)\n",
    "Gn(E,q)=1/(2π^2)/(E-mDc-mDsn-q^2/(2*μf(mDc,mDsn))+im*ΓDsnf(E,q)/2)"
   ]
  },
  {
   "cell_type": "code",
   "execution_count": 35,
   "id": "109a400f",
   "metadata": {},
   "outputs": [
    {
     "data": {
      "text/plain": [
       "GMat (generic function with 1 method)"
      ]
     },
     "execution_count": 35,
     "metadata": {},
     "output_type": "execute_result"
    }
   ],
   "source": [
    "function GMat(E;Λ1=0.5,Λ2=0.5)\n",
    "    qi,wi=find_qw1(E)\n",
    "    k1,k2,qau=qi[1],qi[2],qi[3:end]\n",
    "    μ1,μ2=μf(mDn,mDsc),μf(mDc,mDsn)\n",
    "    \n",
    "    g11=sum(broadcast(l->(l^2*exp(-2*l^2/Λ1^2)-k1^2*exp(-2*k1^2/Λ1^2))*Gc(E,l),qau) .*wi)+im/(2π)*k1^2*exp(-2*k1^2/Λ1^2)/(-k1/μ1+im*dΓDscf(E,k1)/2)\n",
    "    g33=sum(broadcast(l->(l^2*exp(-2*l^2/Λ2^2)-k2^2*exp(-2*k2^2/Λ2^2))*Gn(E,l),qau) .*wi)+im/(2π)*k2^2*exp(-2*k2^2/Λ2^2)/(-k2/μ2+im*dΓDsnf(E,k2)/2)\n",
    "#     g11=quadgk(l->(l^2*exp(-2*l^2/Λ1^2)-k1^2*exp(-2*k1^2/Λ1^2))*Gc(E,l),0,Inf)[1]+im/(2π)*k1^2*exp(-2*k1^2/Λ1^2)/(-k1/μ1+im*dΓDscf(E,k1)/2)\n",
    "#     g33=quadgk(l->(l^2*exp(-2*l^2/Λ2^2)-k2^2*exp(-2*k2^2/Λ2^2))*Gn(E,l),0,Inf)[1]+im/(2π)*k2^2*exp(-2*k2^2/Λ2^2)/(-k2/μ2+im*dΓDsnf(E,k2)/2)\n",
    "    return diagm([g11,g11,g33,g33])\n",
    "end"
   ]
  },
  {
   "cell_type": "code",
   "execution_count": 22,
   "id": "de306f56",
   "metadata": {},
   "outputs": [
    {
     "data": {
      "text/plain": [
       "4×4 Matrix{ComplexF64}:\n",
       " -0.0272773+4.87286e-6im         0.0+0.0im         …         0.0+0.0im\n",
       "        0.0+0.0im         -0.0272773+4.87286e-6im            0.0+0.0im\n",
       "        0.0+0.0im                0.0+0.0im                   0.0+0.0im\n",
       "        0.0+0.0im                0.0+0.0im            -0.0237429+8.55332e-6im"
      ]
     },
     "execution_count": 22,
     "metadata": {},
     "output_type": "execute_result"
    }
   ],
   "source": [
    "GMat(mDn+mDsc-360e-6-im*24e-6) #quadrature"
   ]
  },
  {
   "cell_type": "code",
   "execution_count": 34,
   "id": "f4b33c0b",
   "metadata": {},
   "outputs": [
    {
     "data": {
      "text/plain": [
       "4×4 Matrix{ComplexF64}:\n",
       " -0.0272773+4.87283e-6im         0.0+0.0im         …         0.0+0.0im\n",
       "        0.0+0.0im         -0.0272773+4.87283e-6im            0.0+0.0im\n",
       "        0.0+0.0im                0.0+0.0im                   0.0+0.0im\n",
       "        0.0+0.0im                0.0+0.0im            -0.0237429+8.55332e-6im"
      ]
     },
     "execution_count": 34,
     "metadata": {},
     "output_type": "execute_result"
    }
   ],
   "source": [
    "GMat(mDn+mDsc-360e-6-im*24e-6) #quadgk"
   ]
  },
  {
   "cell_type": "code",
   "execution_count": 23,
   "id": "2dbbc432",
   "metadata": {},
   "outputs": [
    {
     "data": {
      "text/plain": [
       "4×4 Matrix{ComplexF64}:\n",
       " -0.0289192-0.000293611im  …         0.0+0.0im\n",
       "        0.0+0.0im                    0.0+0.0im\n",
       "        0.0+0.0im                    0.0+0.0im\n",
       "        0.0+0.0im             -0.0242296-3.63136e-5im"
      ]
     },
     "execution_count": 23,
     "metadata": {},
     "output_type": "execute_result"
    }
   ],
   "source": [
    "GMat(3.875)"
   ]
  },
  {
   "cell_type": "code",
   "execution_count": 32,
   "id": "0576ce9f",
   "metadata": {},
   "outputs": [
    {
     "data": {
      "text/plain": [
       "4×4 Matrix{ComplexF64}:\n",
       " -0.0289192-0.000293611im  …         0.0+0.0im\n",
       "        0.0+0.0im                    0.0+0.0im\n",
       "        0.0+0.0im                    0.0+0.0im\n",
       "        0.0+0.0im             -0.0242296-3.63136e-5im"
      ]
     },
     "execution_count": 32,
     "metadata": {},
     "output_type": "execute_result"
    }
   ],
   "source": [
    "GMat(3.875) #quadgk"
   ]
  },
  {
   "cell_type": "code",
   "execution_count": 53,
   "id": "c8217eba",
   "metadata": {},
   "outputs": [
    {
     "data": {
      "text/plain": [
       "TMat (generic function with 1 method)"
      ]
     },
     "execution_count": 53,
     "metadata": {},
     "output_type": "execute_result"
    }
   ],
   "source": [
    "# function TMat(E;a = 0.0,a1=1.0,Λ1=0.5,Λ2=0.5,I=0)\n",
    "function TMat(E;a = 0.0,a1=0.0,Λ1=0.5,Λ2=0.5,I=0)\n",
    "    vv=VMat(E;a=a,a1=a1,I=I)\n",
    "    gg=GMat(E;Λ1=Λ1,Λ2=Λ2)\n",
    "    return inv(LinearAlgebra.I-vv*gg)*vv\n",
    "end"
   ]
  },
  {
   "cell_type": "code",
   "execution_count": 54,
   "id": "1cb11383",
   "metadata": {},
   "outputs": [
    {
     "data": {
      "text/plain": [
       "detVG (generic function with 1 method)"
      ]
     },
     "execution_count": 54,
     "metadata": {},
     "output_type": "execute_result"
    }
   ],
   "source": [
    "# function detVG(E;a = 0.0,a1=1.0,Λ1=0.5,Λ2=0.5,I=0)\n",
    "function detVG(E;a = 0.0,a1=0.0,Λ1=0.5,Λ2=0.5,I=0)\n",
    "    vv=VMat(E;a=a,a1=a1,I=I)\n",
    "    gg=GMat(E;Λ1=Λ1,Λ2=Λ2)\n",
    "    return det(LinearAlgebra.I-vv*gg)\n",
    "end"
   ]
  },
  {
   "cell_type": "markdown",
   "id": "c573d20e",
   "metadata": {},
   "source": [
    "# optimization"
   ]
  },
  {
   "cell_type": "code",
   "execution_count": 38,
   "id": "69a83052",
   "metadata": {},
   "outputs": [],
   "source": [
    "using Optim;\n",
    "# import BlackBoxOptim;"
   ]
  },
  {
   "cell_type": "code",
   "execution_count": 39,
   "id": "27970983",
   "metadata": {},
   "outputs": [
    {
     "data": {
      "text/plain": [
       "absdet (generic function with 1 method)"
      ]
     },
     "execution_count": 39,
     "metadata": {},
     "output_type": "execute_result"
    }
   ],
   "source": [
    "function absdet(x;E=mDn+mDsc-360e-6-im*24e-6,I=0)\n",
    "    return abs(detVG(E;a=x[1],Λ1=x[2],Λ2=x[3],I=I))\n",
    "#     return abs(detVG(E;a=x[1],a1=x[1],Λ1=x[2],Λ2=x[3],I=I))\n",
    "end"
   ]
  },
  {
   "cell_type": "code",
   "execution_count": 40,
   "id": "3ba31ae9",
   "metadata": {},
   "outputs": [
    {
     "data": {
      "text/plain": [
       "inv_abst (generic function with 1 method)"
      ]
     },
     "execution_count": 40,
     "metadata": {},
     "output_type": "execute_result"
    }
   ],
   "source": [
    "function inv_abst(x;E=mDn+mDsc-360e-6-im*24e-6,I=0)\n",
    "    return 1/abs(TMat(E;a=x[1],Λ1=x[2],Λ2=x[3],I=I)[1,1])\n",
    "#     return 1/abs(TMat(E;a=x[1],a1=x[1],Λ1=x[2],Λ2=x[3],I=I)[1,1])\n",
    "end"
   ]
  },
  {
   "cell_type": "code",
   "execution_count": 41,
   "id": "947a3151",
   "metadata": {},
   "outputs": [
    {
     "data": {
      "text/plain": [
       "plotdetvg (generic function with 1 method)"
      ]
     },
     "execution_count": 41,
     "metadata": {},
     "output_type": "execute_result"
    }
   ],
   "source": [
    "function plotdetvg(x;I=0)\n",
    "    Ev=collect(3.873:0.0001:3.877)\n",
    "    Γv=collect(-300e-6:5e-6:300e-6)#collect(-500e-6:10e-6:500e-6)\n",
    "    resv=[1/abs(detVG(e+im*γ;a=x[1],Λ1=x[2],Λ2=x[3],I=I)) for γ in Γv,e in Ev]\n",
    "#     resv=[1/abs(detVG(e+im*γ;a=x[1],a1=x[1],Λ1=x[2],Λ2=x[3],I=I)) for γ in Γv,e in Ev]\n",
    "    contour(Ev,Γv,resv,fill=true)\n",
    "    vline!([mDn+mDsc],ls=:dot)\n",
    "    vline!([mDc+mDsn],ls=:dot)\n",
    "end"
   ]
  },
  {
   "cell_type": "code",
   "execution_count": 42,
   "id": "d629d722",
   "metadata": {},
   "outputs": [
    {
     "data": {
      "text/plain": [
       "plottmatrix (generic function with 1 method)"
      ]
     },
     "execution_count": 42,
     "metadata": {},
     "output_type": "execute_result"
    }
   ],
   "source": [
    "function plottmatrix(x;I=0)\n",
    "    Ev=collect(3.873:0.00001:3.877)\n",
    "    resv=[abs(TMat(e;a=x[1],Λ1=x[2],Λ2=x[3],I=I)[1,1]) for e in Ev]\n",
    "#     resv=[abs(TMat(e;a=x[1],a1=x[1],Λ1=x[2],Λ2=x[3],I=I)[1,1]) for e in Ev]\n",
    "    plot(Ev,resv)\n",
    "    vline!([mDn+mDsc],ls=:dot)\n",
    "    vline!([mDc+mDsn],ls=:dot)\n",
    "end"
   ]
  },
  {
   "cell_type": "code",
   "execution_count": 43,
   "id": "958feee3",
   "metadata": {},
   "outputs": [
    {
     "data": {
      "text/plain": [
       "searchminumum (generic function with 1 method)"
      ]
     },
     "execution_count": 43,
     "metadata": {},
     "output_type": "execute_result"
    }
   ],
   "source": [
    "function searchminumum(x)\n",
    "    loss(y)=abs(detVG(y[1]+im*y[2];a=x[1],Λ1=x[2],Λ2=x[3]))\n",
    "#     loss(y)=abs(detVG(y[1]+im*y[2];a=x[1],a1=x[1],Λ1=x[2],Λ2=x[3]))\n",
    "    init_val=[mDn+mDsc-360e-6,-24e-6]\n",
    "    lower=[mDn+mDsc-400e-6,-500e-6]\n",
    "    upper=[mDn+mDsc-200e-6,0]\n",
    "    res=Optim.optimize(loss,lower,upper,init_val)\n",
    "#     return Optim.minimum(res),Optim.minimizer(res)\n",
    "    return abs(Optim.minimizer(res)[2])\n",
    "end"
   ]
  },
  {
   "cell_type": "code",
   "execution_count": 44,
   "id": "35845dae",
   "metadata": {},
   "outputs": [
    {
     "data": {
      "text/plain": [
       "0.0001458554831612818"
      ]
     },
     "execution_count": 44,
     "metadata": {},
     "output_type": "execute_result"
    }
   ],
   "source": [
    "searchminumum([0.0,0.7,0.7])"
   ]
  },
  {
   "cell_type": "markdown",
   "id": "883d1b8f",
   "metadata": {},
   "source": [
    "## same $\\Lambda$ and a=0"
   ]
  },
  {
   "cell_type": "code",
   "execution_count": 58,
   "id": "91795a5f",
   "metadata": {},
   "outputs": [
    {
     "name": "stdout",
     "output_type": "stream",
     "text": [
      "0.004403513201504677\n",
      "[1.0195386785825924]\n"
     ]
    },
    {
     "data": {
      "image/png": "[encoded data removed]"
     },
     "execution_count": 58,
     "metadata": {},
     "output_type": "execute_result"
    }
   ],
   "source": [
    "let I=0\n",
    "#     tmpf(x)=absdet([0.0,x[1],x[1]];E=mDn+mDsc-360e-6-im*24e-6,I=I)\n",
    "    tmpf(x)=inv_abst([0.0,x[1],x[1]];E=mDn+mDsc-273e-6)\n",
    "    init_val=[0.6]\n",
    "    lower=[0.3]\n",
    "    upper=[1.5]\n",
    "    res=Optim.optimize(tmpf,lower,upper,init_val)\n",
    "    println(Optim.minimum(res))\n",
    "    println(Optim.minimizer(res))\n",
    "    \n",
    "    Λ=Optim.minimizer(res)[1]\n",
    "    p1=plotdetvg([0.0,Λ,Λ];I=I)\n",
    "    p2=plottmatrix([0.0,Λ,Λ];I=I)\n",
    "    plot(p1,p2,layout=(1,2),size=(900,350))\n",
    "end"
   ]
  },
  {
   "cell_type": "code",
   "execution_count": 56,
   "id": "44602534",
   "metadata": {},
   "outputs": [
    {
     "name": "stdout",
     "output_type": "stream",
     "text": [
      "0.00012059427588211004\n",
      "[1.0193665962868435]\n"
     ]
    },
    {
     "data": {
      "image/png": "[encoded data removed]"
     },
     "execution_count": 56,
     "metadata": {},
     "output_type": "execute_result"
    },
    {
     "name": "stderr",
     "output_type": "stream",
     "text": [
      "WARNING: both Plots and LinearAlgebra export \"rotate!\"; uses of it in module Main must be qualified\n"
     ]
    }
   ],
   "source": [
    "let I=0 #real pion\n",
    "#     tmpf(x)=absdet([0.0,x[1],x[1]];E=mDn+mDsc-360e-6-im*24e-6,I=I)\n",
    "    tmpf(x)=inv_abst([0.0,x[1],x[1]];E=mDn+mDsc-273e-6)\n",
    "    init_val=[0.6]\n",
    "    lower=[0.3]\n",
    "    upper=[1.5]\n",
    "    res=Optim.optimize(tmpf,lower,upper,init_val)\n",
    "    println(Optim.minimum(res))\n",
    "    println(Optim.minimizer(res))\n",
    "    \n",
    "    Λ=Optim.minimizer(res)[1]\n",
    "    p1=plotdetvg([0.0,Λ,Λ];I=I)\n",
    "    p2=plottmatrix([0.0,Λ,Λ];I=I)\n",
    "    plot(p1,p2,layout=(1,2),size=(900,350))\n",
    "end"
   ]
  },
  {
   "cell_type": "code",
   "execution_count": 67,
   "id": "59733935",
   "metadata": {},
   "outputs": [
    {
     "name": "stdout",
     "output_type": "stream",
     "text": [
      "0.00014609271178954916\n",
      "[0.7742673271648196]\n"
     ]
    },
    {
     "data": {
      "image/png": "[encoded data removed]"
     },
     "execution_count": 67,
     "metadata": {},
     "output_type": "execute_result"
    }
   ],
   "source": [
    "let I=0 #no pion\n",
    "#     tmpf(x)=absdet([0.0,x[1],x[1]];E=mDn+mDsc-360e-6-im*24e-6,I=I)\n",
    "    tmpf(x)=inv_abst([0.0,x[1],x[1]];E=mDn+mDsc-273e-6)\n",
    "    init_val=[0.6]\n",
    "    lower=[0.3]\n",
    "    upper=[1.5]\n",
    "    res=Optim.optimize(tmpf,lower,upper,init_val)\n",
    "    println(Optim.minimum(res))\n",
    "    println(Optim.minimizer(res))\n",
    "    \n",
    "    Λ=Optim.minimizer(res)[1]\n",
    "    p1=plotdetvg([0.0,Λ,Λ];I=I)\n",
    "    p2=plottmatrix([0.0,Λ,Λ];I=I)\n",
    "    plot(p1,p2,layout=(1,2),size=(900,350))\n",
    "end\n",
    "#0.7742673271648196"
   ]
  },
  {
   "cell_type": "markdown",
   "id": "fb3412df",
   "metadata": {},
   "source": [
    "## same $\\Lambda$ and 0-a-1"
   ]
  },
  {
   "cell_type": "code",
   "execution_count": 52,
   "id": "b1998399",
   "metadata": {},
   "outputs": [
    {
     "name": "stdout",
     "output_type": "stream",
     "text": [
      "0.00012325962580043024\n",
      "[0.9999999997816365, 0.8647522227193812]\n"
     ]
    },
    {
     "data": {
      "image/png": "[encoded data removed]"
     },
     "execution_count": 52,
     "metadata": {},
     "output_type": "execute_result"
    }
   ],
   "source": [
    "let \n",
    "#     tmpf(x)=absdet([x[1],x[2],x[2]];E=mDn+mDsc-360e-6-im*24e-6)\n",
    "    tmpf(x)=inv_abst([x[1],x[2],x[2]];E=mDn+mDsc-273e-6)\n",
    "    init_val=[0.01,0.5]\n",
    "    lower=[0.0,0.3]\n",
    "    upper=[1.0,1.0]\n",
    "    res=Optim.optimize(tmpf,lower,upper,init_val)\n",
    "    println(Optim.minimum(res))\n",
    "    println(Optim.minimizer(res))\n",
    "    \n",
    "    a,Λ=Optim.minimizer(res)\n",
    "    p1=plotdetvg([a,Λ, Λ])\n",
    "    p2=plottmatrix([a,Λ, Λ])\n",
    "    plot(p1,p2,layout=(1,2),size=(900,350))\n",
    "end"
   ]
  },
  {
   "cell_type": "code",
   "execution_count": null,
   "id": "22abdd93",
   "metadata": {},
   "outputs": [],
   "source": []
  }
 ],
 "metadata": {
  "@webio": {
   "lastCommId": null,
   "lastKernelId": null
  },
  "kernelspec": {
   "display_name": "Julia 1.8.0-rc1",
   "language": "julia",
   "name": "julia-1.8"
  },
  "language_info": {
   "file_extension": ".jl",
   "mimetype": "application/julia",
   "name": "julia",
   "version": "1.8.0"
  },
  "toc": {
   "base_numbering": 1,
   "nav_menu": {},
   "number_sections": true,
   "sideBar": true,
   "skip_h1_title": false,
   "title_cell": "Table of Contents",
   "title_sidebar": "Contents",
   "toc_cell": false,
   "toc_position": {},
   "toc_section_display": true,
   "toc_window_display": false
  }
 },
 "nbformat": 4,
 "nbformat_minor": 5
}
