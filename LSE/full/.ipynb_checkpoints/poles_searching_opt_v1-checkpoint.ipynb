{
 "cells": [
  {
   "cell_type": "code",
   "execution_count": 1,
   "id": "f5df3584",
   "metadata": {},
   "outputs": [],
   "source": [
    "using QuadGK,LaTeXStrings,LinearAlgebra,BenchmarkTools;\n",
    "using Plots;\n",
    "import NLsolve,Roots;\n",
    "pyplot(frame=:box,size=(500,350));"
   ]
  },
  {
   "cell_type": "code",
   "execution_count": 2,
   "id": "f2417faf",
   "metadata": {},
   "outputs": [],
   "source": [
    "include(\"./libs/constants.jl\");\n",
    "include(\"./libs/potential.jl\");"
   ]
  },
  {
   "cell_type": "code",
   "execution_count": 3,
   "id": "e334e17f",
   "metadata": {},
   "outputs": [],
   "source": [
    "# quadgk for pion-exchange\n",
    "include(\"./libs/pwa.jl\");"
   ]
  },
  {
   "cell_type": "markdown",
   "id": "75068172",
   "metadata": {},
   "source": [
    "the quadrature not good for 1/(z-z0)"
   ]
  },
  {
   "cell_type": "code",
   "execution_count": 3,
   "id": "4086027e",
   "metadata": {},
   "outputs": [],
   "source": [
    "# # quadrature for pion-exchange\n",
    "# include(\"./libs/pwa_quadrature.jl\");\n",
    "# using Main.pwaquadrature;"
   ]
  },
  {
   "cell_type": "code",
   "execution_count": 4,
   "id": "3489a35f",
   "metadata": {},
   "outputs": [
    {
     "data": {
      "text/plain": [
       "xsqrt1 (generic function with 1 method)"
      ]
     },
     "execution_count": 4,
     "metadata": {},
     "output_type": "execute_result"
    }
   ],
   "source": [
    "function quadgauss(f, x::T, w::T) where {T<:Vector{Float64}}\n",
    "    res = zero(f(x[1]))  # zero of the same type as f(x[1]), to avoid type instability\n",
    "    for i in eachindex(x)\n",
    "        res += f(x[i]) * w[i]\n",
    "    end\n",
    "    return res\n",
    "end\n",
    "\n",
    "λf(x, y, z) = x^2 + y^2 + z^2 - 2 * x * y - 2 * x * z - 2 * y * z\n",
    "q0f(E, m1, m2, m3, m4) = abs(m3^2 - m4^2 - m1^2 + m2^2) / (2 * E)\n",
    "μf(m1, m2) = m1 * m2 / (m1 + m2)\n",
    "\n",
    "# redefine sqrt so that its cut is along the positive x axis\n",
    "function xsqrt(x)\n",
    "    imag(x) >=0 ? sqrt(x+0im) : -sqrt(x-0im)\n",
    "end\n",
    "xsqrt1(x)= (imag(x)<0&&real(x)>0) ? -xsqrt(x) : xsqrt(x)"
   ]
  },
  {
   "cell_type": "markdown",
   "id": "0b66ea38",
   "metadata": {},
   "source": [
    "# width of $D^*$"
   ]
  },
  {
   "cell_type": "code",
   "execution_count": 5,
   "id": "ac8c7f89",
   "metadata": {},
   "outputs": [
    {
     "data": {
      "text/plain": [
       "dΓf3 (generic function with 1 method)"
      ]
     },
     "execution_count": 5,
     "metadata": {},
     "output_type": "execute_result"
    }
   ],
   "source": [
    "function Γf(E,q,m1,m2,m3,m12)\n",
    "    E1=E+m12-sqrt(m12^2+q^2+0im)-sqrt(m3^2+q^2+0im)\n",
    "    μ=(m1*m2)/(m1+m2)\n",
    "    return (imag(E1)<0&&real(E1)>(m1+m2)) ? -xsqrt(2*μ*(E1-m1-m2)+0im) : xsqrt(2*μ*(E1-m1-m2)+0im)\n",
    "end\n",
    "\n",
    "function Γf3(E,q,m1,m2,m3,m12)\n",
    "    E1=E+m12-sqrt(m12^2+q^2+0im)-sqrt(m3^2+q^2+0im)\n",
    "    μ=(m1*m2)/(m1+m2)\n",
    "    return (imag(E1)<0&&real(E1)>(m1+m2)) ? -xsqrt(2*μ*(E1-m1-m2)+0im)^3 : xsqrt(2*μ*(E1-m1-m2)+0im)^3\n",
    "end\n",
    "\n",
    "function dΓf3(E,q,m1,m2,m3,m12)\n",
    "    E1=E+m12-sqrt(m12^2+q^2+0im)-sqrt(m3^2+q^2+0im)\n",
    "    μ=(m1*m2)/(m1+m2)\n",
    "    tmp=-3*μ*xsqrt(2*μ*(E1-m1-m2)+0im)*(q/sqrt(m12^2+q^2+0im)+q/sqrt(m3^2+q^2+0im))\n",
    "    return (imag(E1)<0&&real(E1)>(m1+m2)) ? -tmp : tmp\n",
    "end"
   ]
  },
  {
   "cell_type": "code",
   "execution_count": 6,
   "id": "2eba42ca",
   "metadata": {},
   "outputs": [
    {
     "data": {
      "text/plain": [
       "dΓDsnf (generic function with 1 method)"
      ]
     },
     "execution_count": 6,
     "metadata": {},
     "output_type": "execute_result"
    }
   ],
   "source": [
    "ΓDscf(E, p) = (ΓRDsc + g^2 * mDn / (6 * π * fπ^2 * mDsc) * Γf3(E, p, mDn, mπc, mDn,mDsc)\n",
    "                                   + g^2 * mDc / (12 * π * fπ^2 * mDsc) * Γf3(E, p, mDc, mπn, mDn,mDsc))\n",
    "\n",
    "ΓDsnf(E, p) = (ΓRDsn + g^2 * mDn / (12 * π * fπ^2 * mDsn) * Γf3(E, p, mDn, mπn, mDc,mDsn)\n",
    "                                   + g^2 * mDc / (6 * π * fπ^2 * mDsn) * (Γf3(E, p, mDc, mπc, mDc,mDsn) - Γf3(mDc + mDsn, 0, mDc, mπc, mDc,mDsn)))\n",
    "\n",
    "dΓDscf(E, p) = (g^2 * mDn / (6 * π * fπ^2 * mDsc) * dΓf3(E, p, mDn, mπc, mDn,mDsc)\n",
    "                                   + g^2 * mDc / (12 * π * fπ^2 * mDsc) * dΓf3(E, p, mDc, mπn, mDn,mDsc))\n",
    "\n",
    "dΓDsnf(E, p) = (g^2 * mDn / (12 * π * fπ^2 * mDsn) * dΓf3(E, p, mDn, mπn, mDc,mDsn)+ g^2 * mDc / (6 * π * fπ^2 * mDsn) * dΓf3(E, p, mDc, mπc, mDc,mDsn))"
   ]
  },
  {
   "cell_type": "code",
   "execution_count": 7,
   "id": "2a468f91",
   "metadata": {},
   "outputs": [
    {
     "data": {
      "text/plain": [
       "find_singular (generic function with 1 method)"
      ]
     },
     "execution_count": 7,
     "metadata": {},
     "output_type": "execute_result"
    }
   ],
   "source": [
    "function find_singular(E, den; pstart = [0.01, 0.01])\n",
    "    function f!(F, x)\n",
    "        pr, pi = x\n",
    "        tmp = den(E, pr + im * pi)\n",
    "        F[1] = real(tmp)\n",
    "        F[2] = imag(tmp)\n",
    "    end\n",
    "    sol = NLsolve.nlsolve((F, x) -> f!(F, x), pstart)\n",
    "    return sol.zero[1] + im * sol.zero[2]\n",
    "end"
   ]
  },
  {
   "cell_type": "code",
   "execution_count": 8,
   "id": "920d8c40",
   "metadata": {},
   "outputs": [
    {
     "data": {
      "text/plain": [
       "qon_0 (generic function with 1 method)"
      ]
     },
     "execution_count": 8,
     "metadata": {},
     "output_type": "execute_result"
    }
   ],
   "source": [
    "qon_c(E)=find_singular(E, (E, p) -> E-mDn-mDsc - p^2 / (2 * μf(mDn, mDsc)) + im * ΓDscf(E, p) / 2; pstart = [reim(xsqrt1(E-mDn-mDsc + im * ΓDsc / 2))...])\n",
    "\n",
    "qon_0(E)=find_singular(E, (E, p) -> E-mDc-mDsn - p^2 / (2 * μf(mDc, mDsn)) + im * ΓDsnf(E, p) / 2; pstart = [reim(xsqrt1(E-mDc-mDsn + im * ΓDsn / 2))...])"
   ]
  },
  {
   "cell_type": "code",
   "execution_count": 9,
   "id": "1398765a",
   "metadata": {},
   "outputs": [
    {
     "name": "stdout",
     "output_type": "stream",
     "text": [
      "  6.344 μs (58 allocations: 4.08 KiB)\n"
     ]
    },
    {
     "data": {
      "text/plain": [
       "0.0009031406050093312 + 0.04613250749939164im"
      ]
     },
     "execution_count": 9,
     "metadata": {},
     "output_type": "execute_result"
    }
   ],
   "source": [
    "@btime qon_c(3.874)"
   ]
  },
  {
   "cell_type": "markdown",
   "id": "c0853416",
   "metadata": {},
   "source": [
    "# path deformation"
   ]
  },
  {
   "cell_type": "code",
   "execution_count": 9,
   "id": "552e3637",
   "metadata": {},
   "outputs": [],
   "source": [
    "xxx,www=gauss(50,0,1);"
   ]
  },
  {
   "cell_type": "code",
   "execution_count": 10,
   "id": "8761fbcb",
   "metadata": {},
   "outputs": [],
   "source": [
    "qi=zeros(ComplexF64,2+3*length(xxx));\n",
    "wi=zeros(ComplexF64,3*length(xxx));"
   ]
  },
  {
   "cell_type": "code",
   "execution_count": 11,
   "id": "3963aae6",
   "metadata": {},
   "outputs": [
    {
     "data": {
      "text/plain": [
       "Einner (generic function with 1 method)"
      ]
     },
     "execution_count": 11,
     "metadata": {},
     "output_type": "execute_result"
    }
   ],
   "source": [
    "function Einner(E,q,m1,m2,m3,m12)\n",
    "    return E+m12-sqrt(m12^2+q^2+0im)-sqrt(m3^2+q^2+0im)\n",
    "end"
   ]
  },
  {
   "cell_type": "code",
   "execution_count": 12,
   "id": "08b52243",
   "metadata": {},
   "outputs": [
    {
     "data": {
      "text/plain": [
       "find_qint (generic function with 1 method)"
      ]
     },
     "execution_count": 12,
     "metadata": {},
     "output_type": "execute_result"
    }
   ],
   "source": [
    "function find_qint(E,m1,m2,m3,m12;rtol=1e-6)\n",
    "    \n",
    "#     # method 1\n",
    "#     function f!(F,x)\n",
    "#         q=x[1]+1.0im*x[2]\n",
    "#         tmp=Einner(E,q,m1,m2,m3,m12)\n",
    "#         F[1]=real(tmp)-m1-m2\n",
    "#         F[2]=imag(tmp)-rtol\n",
    "#     end\n",
    "#     sol=NLsolve.nlsolve(f!,[0.1,-0.1])\n",
    "#     return sol.zero[1]+im*sol.zero[2]\n",
    "    \n",
    "    # method 2\n",
    "    Etmp=E+m12-m1-m2-im*rtol\n",
    "    qtmp=sqrt(λf(Etmp^2,m12^2,m3^2))/(2*Etmp)\n",
    "    return imag(qtmp)>0 ? -qtmp : qtmp\n",
    "end"
   ]
  },
  {
   "cell_type": "code",
   "execution_count": 13,
   "id": "5354d986",
   "metadata": {},
   "outputs": [
    {
     "data": {
      "text/plain": [
       "sol_qint3 (generic function with 1 method)"
      ]
     },
     "execution_count": 13,
     "metadata": {},
     "output_type": "execute_result"
    }
   ],
   "source": [
    "function sol_qint3(qint1,qint2)\n",
    "    \n",
    "#     # method 1\n",
    "#     sol=NLsolve.nlsolve((F,x)->F[1]=imag(conj(qint2-qint1)*(x[1]-qint1)),[1.0])\n",
    "#     return sol.zero[1]+im*sol.zero[2]\n",
    "    \n",
    "    # method 2\n",
    "    a,b=reim(qint1)\n",
    "    c,d=reim(qint2)\n",
    "    return b*(c-a)/(b-d)+a\n",
    "end"
   ]
  },
  {
   "cell_type": "markdown",
   "id": "2a5bfdd6",
   "metadata": {},
   "source": [
    "$0\\sim 0.5$, $0.5\\sim 1$, $1\\sim\\infty$"
   ]
  },
  {
   "cell_type": "code",
   "execution_count": 14,
   "id": "df998010",
   "metadata": {},
   "outputs": [],
   "source": [
    "f1(x)=0.5*x;\n",
    "f2(x)=0.5*(1-x)+1.0*x;\n",
    "f3(x)=1.0+tan(π/2*x);\n",
    "df3(x)=π/2/cos(π/2*x)^2;"
   ]
  },
  {
   "cell_type": "code",
   "execution_count": 15,
   "id": "2452cf17",
   "metadata": {},
   "outputs": [
    {
     "data": {
      "text/plain": [
       "find_qw (generic function with 1 method)"
      ]
     },
     "execution_count": 15,
     "metadata": {},
     "output_type": "execute_result"
    }
   ],
   "source": [
    "function find_qw(E;qi=qi,wi=wi,xxx=xxx,www=www)\n",
    "    \n",
    "    # wi is the one wrappered with g'(x)\n",
    "    qi[1],qi[2]=qon_c(E),qon_0(E)\n",
    "    len=length(xxx)\n",
    "    if imag(E)>=0||(real(E)<=mDn+mDn+mπc)\n",
    "        for i in eachindex(xxx)\n",
    "            qi[2+i]=f1(xxx[i])\n",
    "            qi[2+len+i]=f2(xxx[i])\n",
    "            qi[2+2*len+i]=f3(xxx[i])\n",
    "            wi[i]=0.5*www[i]\n",
    "            wi[i+len]=0.5*www[i]\n",
    "            wi[i+2*len]=df3(xxx[i])*www[i]\n",
    "        end\n",
    "        return nothing\n",
    "    end\n",
    "    \n",
    "    # find closet DDπ\n",
    "    qint1,qint2=zeros(ComplexF64,2)\n",
    "    if real(E)>mDc+mDc+mπc\n",
    "        qint1=find_qint(E,mDc,mπc,mDc,mDsn)\n",
    "        qint2=find_qint(E,mDn,mπc,mDn,mDsc)\n",
    "    elseif real(E)>mDc+mDn+mπn\n",
    "        qint1=find_qint(E,mDc,mπn,mDn,mDsc)\n",
    "        qint2=find_qint(E,mDn,mπc,mDn,mDsc)\n",
    "    else\n",
    "        qint1=find_qint(E,mDn,mπc,mDn,mDsc)\n",
    "        qint2=2*real(qint1)\n",
    "    end\n",
    "    \n",
    "    @assert real(qint1)>0&&imag(qint1)<0 \"Wrong qint1 position!\"\n",
    "    @assert imag(qint2)>imag(qint1)&&imag(qint2)<=0&&real(qint2)>real(qint1) \"Wrong qint2 position!\"\n",
    "    \n",
    "#     # get points on real axis\n",
    "#     # method1\n",
    "#     qint3=Roots.find_zero(x->imag(conj(qint2-qint1)*(x-qint1)),(0,1))\n",
    "    # method 2\n",
    "    qint3=sol_qint3(qint1,qint2)\n",
    "    \n",
    "    for i in eachindex(xxx)\n",
    "        qi[2+i]=qint1*xxx[i]\n",
    "        qi[2+len+i]=qint1+(qint3-qint1)*xxx[i]\n",
    "        qi[2+2*len+i]=qint3+tan(π/2*xxx[i])\n",
    "        wi[i]=qint1*www[i]\n",
    "        wi[i+len]=(qint3-qint1)*www[i]\n",
    "        wi[i+2*len]=df3(xxx[i])*www[i]\n",
    "    end\n",
    "    return nothing\n",
    "end"
   ]
  },
  {
   "cell_type": "code",
   "execution_count": 17,
   "id": "38c04580",
   "metadata": {},
   "outputs": [
    {
     "name": "stdout",
     "output_type": "stream",
     "text": [
      "  12.959 μs (117 allocations: 8.17 KiB)\n"
     ]
    }
   ],
   "source": [
    "@btime find_qw(3.875)"
   ]
  },
  {
   "cell_type": "markdown",
   "id": "b168f68e",
   "metadata": {},
   "source": [
    "# VGT"
   ]
  },
  {
   "cell_type": "code",
   "execution_count": 16,
   "id": "eef3be6f",
   "metadata": {},
   "outputs": [],
   "source": [
    "Vmat=zeros(ComplexF64,4*(2+3*length(xxx)),4*(2+3*length(xxx)));\n",
    "Gmat=zeros(ComplexF64,4*(2+3*length(xxx)),4*(2+3*length(xxx)));\n",
    "Tmat=zeros(ComplexF64,4*(2+3*length(xxx)),4*(2+3*length(xxx)));"
   ]
  },
  {
   "cell_type": "code",
   "execution_count": 17,
   "id": "d5c6c207",
   "metadata": {},
   "outputs": [
    {
     "data": {
      "text/plain": [
       "VMat! (generic function with 1 method)"
      ]
     },
     "execution_count": 17,
     "metadata": {},
     "output_type": "execute_result"
    }
   ],
   "source": [
    "function VMat!(E;a = 0.0,Λ1=0.5,Λ2=0.5,plist=qi,des=Vmat)\n",
    "    find_qw(E)\n",
    "    sublen=length(plist)\n",
    "\n",
    "    for l in eachindex(plist)\n",
    "        for m in eachindex(plist)\n",
    "            i, j = 1, 1\n",
    "            des[sublen*(i-1)+l, sublen*(j-1)+m] = (potential_DnDsc(E,plist[l], plist[m]; a = a, cl = :ss)*exp(-plist[l]^2/Λ1^2-plist[m]^2/Λ1^2))\n",
    "            i, j = 1, 2\n",
    "            des[sublen*(i-1)+l, sublen*(j-1)+m] = (potential_DnDsc(E,plist[l], plist[m]; a = a, cl = :ds)*exp(-plist[l]^2/Λ1^2-plist[m]^2/Λ1^2))\n",
    "            i, j = 2, 1\n",
    "            des[sublen*(i-1)+l, sublen*(j-1)+m] = (potential_DnDsc(E,plist[l], plist[m]; a = a,  cl = :sd)*exp(-plist[l]^2/Λ1^2-plist[m]^2/Λ1^2))\n",
    "            i, j = 2, 2\n",
    "            des[sublen*(i-1)+l, sublen*(j-1)+m] = (potential_DnDsc(E,plist[l], plist[m]; a = a, cl = :dd)*exp(-plist[l]^2/Λ1^2-plist[m]^2/Λ1^2))\n",
    "            i, j = 1, 3\n",
    "            des[sublen*(i-1)+l, sublen*(j-1)+m] = (potential_DDscross(E,plist[l], plist[m]; a = a,  cl = :ss)*exp(-plist[l]^2/Λ2^2-plist[m]^2/Λ1^2))\n",
    "            i, j = 1, 4\n",
    "            des[sublen*(i-1)+l, sublen*(j-1)+m] = (potential_DDscross(E,plist[l], plist[m]; a = a,  cl = :ds)*exp(-plist[l]^2/Λ2^2-plist[m]^2/Λ1^2))\n",
    "            i, j = 2, 3\n",
    "            des[sublen*(i-1)+l, sublen*(j-1)+m] = (potential_DDscross(E,plist[l], plist[m]; a = a,  cl = :sd)*exp(-plist[l]^2/Λ2^2-plist[m]^2/Λ1^2))\n",
    "            i, j = 2, 4\n",
    "            des[sublen*(i-1)+l, sublen*(j-1)+m] = (potential_DDscross(E,plist[l], plist[m]; a = a,  cl = :dd)*exp(-plist[l]^2/Λ2^2-plist[m]^2/Λ1^2))\n",
    "            i, j = 3, 1\n",
    "            des[sublen*(i-1)+l, sublen*(j-1)+m] = (potential_DDscross(E,plist[l], plist[m]; a = a,  cl = :ss)*exp(-plist[l]^2/Λ1^2-plist[m]^2/Λ2^2))\n",
    "            i, j = 3, 2\n",
    "            des[sublen*(i-1)+l, sublen*(j-1)+m] = (potential_DDscross(E,plist[l], plist[m]; a = a,  cl = :ds)*exp(-plist[l]^2/Λ1^2-plist[m]^2/Λ2^2))\n",
    "            i, j = 4, 1\n",
    "            des[sublen*(i-1)+l, sublen*(j-1)+m] = (potential_DDscross(E,plist[l], plist[m]; a = a,  cl = :sd)*exp(-plist[l]^2/Λ1^2-plist[m]^2/Λ2^2))\n",
    "            i, j = 4, 2\n",
    "            des[sublen*(i-1)+l, sublen*(j-1)+m] = (potential_DDscross(E,plist[l], plist[m]; a = a,  cl = :dd)*exp(-plist[l]^2/Λ1^2-plist[m]^2/Λ2^2))\n",
    "            i, j = 3, 3\n",
    "            des[sublen*(i-1)+l, sublen*(j-1)+m] = (potential_DcDsn(E,plist[l], plist[m]; a = a,  cl = :ss)*exp(-plist[l]^2/Λ2^2-plist[m]^2/Λ2^2))\n",
    "            i, j = 3, 4\n",
    "            des[sublen*(i-1)+l, sublen*(j-1)+m] = (potential_DcDsn(E,plist[l], plist[m]; a = a,  cl = :ds)*exp(-plist[l]^2/Λ2^2-plist[m]^2/Λ2^2))\n",
    "            i, j = 4, 3\n",
    "            des[sublen*(i-1)+l, sublen*(j-1)+m] = (potential_DcDsn(E,plist[l], plist[m]; a = a,  cl = :sd)*exp(-plist[l]^2/Λ2^2-plist[m]^2/Λ2^2))\n",
    "            i, j = 4, 4\n",
    "            des[sublen*(i-1)+l, sublen*(j-1)+m] = (potential_DcDsn(E,plist[l], plist[m]; a = a,  cl = :dd)*exp(-plist[l]^2/Λ2^2-plist[m]^2/Λ2^2))\n",
    "        end\n",
    "    end\n",
    "    return nothing\n",
    "end"
   ]
  },
  {
   "cell_type": "code",
   "execution_count": 20,
   "id": "c13bab63",
   "metadata": {},
   "outputs": [
    {
     "name": "stdout",
     "output_type": "stream",
     "text": [
      "  2.001 s (14186582 allocations: 668.69 MiB)\n"
     ]
    }
   ],
   "source": [
    "@btime VMat!(3.875)"
   ]
  },
  {
   "cell_type": "code",
   "execution_count": 21,
   "id": "c1d1fa22",
   "metadata": {},
   "outputs": [
    {
     "data": {
      "image/png": "[encoded data removed]"
     },
     "execution_count": 21,
     "metadata": {},
     "output_type": "execute_result"
    }
   ],
   "source": [
    "let Ev=collect(3.873:0.0001:mDn+mDsc-eps())\n",
    "    function tmpf(E)\n",
    "        VMat!(E)\n",
    "        Vmat[1,1]\n",
    "    end\n",
    "    \n",
    "    resv1=[tmpf(e+im*eps()) for e in Ev]\n",
    "    resv2=[tmpf(e-im*eps()) for e in Ev]\n",
    "    p1=plot(Ev,real.(resv1))\n",
    "    plot!(Ev,real.(resv2))\n",
    "    p2=plot(Ev,imag.(resv1))\n",
    "    plot!(Ev,imag.(resv2))\n",
    "    plot(p1,p2,layout=(1,2),size=(700,300))\n",
    "end"
   ]
  },
  {
   "cell_type": "code",
   "execution_count": 18,
   "id": "0bb57d8d",
   "metadata": {},
   "outputs": [
    {
     "data": {
      "text/plain": [
       "Gn (generic function with 1 method)"
      ]
     },
     "execution_count": 18,
     "metadata": {},
     "output_type": "execute_result"
    }
   ],
   "source": [
    "Gc(E,q)=1/(2π^2)/(E-mDn-mDsc-q^2/(2*μf(mDn,mDsc))+im*ΓDscf(E,q)/2)\n",
    "Gn(E,q)=1/(2π^2)/(E-mDc-mDsn-q^2/(2*μf(mDc,mDsn))+im*ΓDsnf(E,q)/2)"
   ]
  },
  {
   "cell_type": "code",
   "execution_count": 19,
   "id": "f64bba46",
   "metadata": {},
   "outputs": [
    {
     "data": {
      "text/plain": [
       "GMat! (generic function with 1 method)"
      ]
     },
     "execution_count": 19,
     "metadata": {},
     "output_type": "execute_result"
    }
   ],
   "source": [
    "function GMat!(E;qi=qi,wi=wi,des=Gmat)\n",
    "    find_qw(E)\n",
    "    sublen=length(qi)\n",
    "    μ1,μ2=μf(mDn,mDsc),μf(mDc,mDsn)\n",
    "    k1,k2=qi[1],qi[2]\n",
    "    \n",
    "    tmp=zero(ComplexF64)\n",
    "    \n",
    "    for i in 1:2\n",
    "        tmp=0.0+0.0im\n",
    "        for j in eachindex(wi)\n",
    "            tmp-=wi[j]*k1^2*Gc(E,qi[2+j])\n",
    "            des[(i-1)*sublen+2+j,(i-1)*sublen+2+j]=wi[j]*qi[2+j]^2*Gc(E,qi[2+j])\n",
    "        end\n",
    "        tmp+=im/(2π)*k1^2/(-k1/μ1+im*dΓDscf(E,k1)/2)\n",
    "        des[(i-1)*sublen+1,(i-1)*sublen+1]=tmp\n",
    "    end\n",
    "    \n",
    "    for i in 3:4\n",
    "        tmp=0.0+0.0im\n",
    "        for j in eachindex(wi)\n",
    "            tmp-=wi[j]*k2^2*Gn(E,qi[2+j])\n",
    "            des[(i-1)*sublen+2+j,(i-1)*sublen+2+j]=wi[j]*qi[2+j]^2*Gn(E,qi[2+j])\n",
    "        end\n",
    "        tmp+=im/(2π)*k2^2/(-k2/μ2+im*dΓDsnf(E,k2)/2)\n",
    "        des[(i-1)*sublen+2,(i-1)*sublen+2]=tmp\n",
    "    end\n",
    "    \n",
    "    return nothing\n",
    "end"
   ]
  },
  {
   "cell_type": "code",
   "execution_count": 24,
   "id": "07a9701a",
   "metadata": {},
   "outputs": [
    {
     "name": "stdout",
     "output_type": "stream",
     "text": [
      "  189.000 μs (118 allocations: 8.19 KiB)\n"
     ]
    }
   ],
   "source": [
    "@btime GMat!(3.875)"
   ]
  },
  {
   "cell_type": "code",
   "execution_count": 25,
   "id": "7228e3f8",
   "metadata": {},
   "outputs": [
    {
     "data": {
      "image/png": "[encoded data removed]"
     },
     "execution_count": 25,
     "metadata": {},
     "output_type": "execute_result"
    }
   ],
   "source": [
    "let Ev=collect(3.873:0.0001:mDn+mDsc-eps())\n",
    "    function tmpf(E)\n",
    "        GMat!(E)\n",
    "        Gmat[1,1]\n",
    "    end\n",
    "    resv1=[tmpf(e+im*eps()) for e in Ev]\n",
    "    resv2=[tmpf(e-im*eps()) for e in Ev]\n",
    "\n",
    "    p1=plot(Ev,real.(resv1))\n",
    "    plot!(Ev,real.(resv2))\n",
    "    p2=plot(Ev,imag.(resv1))\n",
    "    plot!(Ev,imag.(resv2))\n",
    "    plot(p1,p2,layout=(1,2),size=(700,300))\n",
    "end"
   ]
  },
  {
   "cell_type": "code",
   "execution_count": 26,
   "id": "7a4b27db",
   "metadata": {},
   "outputs": [
    {
     "data": {
      "image/png": "[encoded data removed]"
     },
     "execution_count": 26,
     "metadata": {},
     "output_type": "execute_result"
    }
   ],
   "source": [
    "let Ev=collect(3.873:0.0001:mDn+mDsc-eps())\n",
    "    function tmpf(E)\n",
    "        GMat!(E)\n",
    "        Gmat[2+2*length(qi),2+2*length(qi)]\n",
    "    end\n",
    "    resv1=[tmpf(e+im*eps()) for e in Ev]\n",
    "    resv2=[tmpf(e-im*eps()) for e in Ev]\n",
    "\n",
    "    p1=plot(Ev,real.(resv1))\n",
    "    plot!(Ev,real.(resv2))\n",
    "    p2=plot(Ev,imag.(resv1))\n",
    "    plot!(Ev,imag.(resv2))\n",
    "    plot(p1,p2,layout=(1,2),size=(700,300))\n",
    "end"
   ]
  },
  {
   "cell_type": "code",
   "execution_count": 20,
   "id": "3cf5aaaf",
   "metadata": {},
   "outputs": [
    {
     "data": {
      "text/plain": [
       "detVG (generic function with 1 method)"
      ]
     },
     "execution_count": 20,
     "metadata": {},
     "output_type": "execute_result"
    }
   ],
   "source": [
    "function detVG(E;a = 0.0,Λ1=0.5,Λ2=0.5)\n",
    "    VMat!(E;a=a,Λ1=Λ1,Λ2=Λ2)\n",
    "    GMat!(E)\n",
    "    return det(LinearAlgebra.I-Vmat*Gmat)\n",
    "end"
   ]
  },
  {
   "cell_type": "code",
   "execution_count": 21,
   "id": "d1d98567",
   "metadata": {},
   "outputs": [
    {
     "data": {
      "text/plain": [
       "TMat! (generic function with 1 method)"
      ]
     },
     "execution_count": 21,
     "metadata": {},
     "output_type": "execute_result"
    }
   ],
   "source": [
    "function TMat!(E;a = 0.0,Λ1=0.5,Λ2=0.5,des=Tmat)\n",
    "    VMat!(E;a=a,Λ1=Λ1,Λ2=Λ2)\n",
    "    GMat!(E)\n",
    "    des .=inv(LinearAlgebra.I-Vmat*Gmat)*Vmat\n",
    "    return nothing\n",
    "end"
   ]
  },
  {
   "cell_type": "code",
   "execution_count": 29,
   "id": "84e7c7d3",
   "metadata": {},
   "outputs": [
    {
     "name": "stdout",
     "output_type": "stream",
     "text": [
      "  2.034 s (14186711 allocations: 685.63 MiB)\n"
     ]
    },
    {
     "data": {
      "text/plain": [
       "-255.18801624947295 - 95.8681147806475im"
      ]
     },
     "execution_count": 29,
     "metadata": {},
     "output_type": "execute_result"
    }
   ],
   "source": [
    "@btime detVG(3.875)"
   ]
  },
  {
   "cell_type": "code",
   "execution_count": 30,
   "id": "b076e121",
   "metadata": {},
   "outputs": [
    {
     "name": "stdout",
     "output_type": "stream",
     "text": [
      "  2.077 s (14186717 allocations: 691.86 MiB)\n"
     ]
    }
   ],
   "source": [
    "@btime TMat!(3.875)"
   ]
  },
  {
   "cell_type": "code",
   "execution_count": 31,
   "id": "d165c07c",
   "metadata": {},
   "outputs": [
    {
     "data": {
      "image/png": "[encoded data removed]"
     },
     "execution_count": 31,
     "metadata": {},
     "output_type": "execute_result"
    }
   ],
   "source": [
    "let Ev=collect(3.873:0.0001:mDn+mDsc-eps())\n",
    "    function tmpf(E)\n",
    "        TMat!(E)\n",
    "        Tmat[1,1]\n",
    "    end\n",
    "    \n",
    "    resv1=[tmpf(e+im*eps()) for e in Ev]\n",
    "    resv2=[tmpf(e-im*eps()) for e in Ev]\n",
    "    p1=plot(Ev,real.(resv1))\n",
    "    plot!(Ev,real.(resv2))\n",
    "    p2=plot(Ev,imag.(resv1))\n",
    "    plot!(Ev,imag.(resv2))\n",
    "    plot(p1,p2,layout=(1,2),size=(700,300))\n",
    "end"
   ]
  },
  {
   "cell_type": "code",
   "execution_count": 32,
   "id": "7cce7762",
   "metadata": {},
   "outputs": [
    {
     "data": {
      "image/png": "[encoded data removed]"
     },
     "execution_count": 32,
     "metadata": {},
     "output_type": "execute_result"
    }
   ],
   "source": [
    "let Ev=collect(3.873:0.0001:mDn+mDsc-eps())\n",
    "    function tmpf(E)\n",
    "        TMat!(E)\n",
    "        Tmat[2+2*length(qi),2+2*length(qi)]\n",
    "    end\n",
    "    \n",
    "    resv1=[tmpf(e+im*eps()) for e in Ev]\n",
    "    resv2=[tmpf(e-im*eps()) for e in Ev]\n",
    "    p1=plot(Ev,real.(resv1))\n",
    "    plot!(Ev,real.(resv2))\n",
    "    p2=plot(Ev,imag.(resv1))\n",
    "    plot!(Ev,imag.(resv2))\n",
    "    plot(p1,p2,layout=(1,2),size=(700,300))\n",
    "end"
   ]
  },
  {
   "cell_type": "markdown",
   "id": "a967b09d",
   "metadata": {},
   "source": [
    "# parameters optimization"
   ]
  },
  {
   "cell_type": "code",
   "execution_count": 22,
   "id": "846bcff0",
   "metadata": {},
   "outputs": [],
   "source": [
    "using Optim;"
   ]
  },
  {
   "cell_type": "code",
   "execution_count": 26,
   "id": "dd40abb5",
   "metadata": {},
   "outputs": [
    {
     "data": {
      "text/plain": [
       "inv_abst (generic function with 1 method)"
      ]
     },
     "execution_count": 26,
     "metadata": {},
     "output_type": "execute_result"
    }
   ],
   "source": [
    "function inv_abst(x;E=mDn+mDsc-360e-6-im*24e-6)\n",
    "    TMat!(E;a=x[1],Λ1=x[2],Λ2=x[3])\n",
    "    return 1/abs(Tmat[1,1])\n",
    "end"
   ]
  },
  {
   "cell_type": "markdown",
   "id": "3b065758",
   "metadata": {},
   "source": [
    "## same $\\Lambda$ and a=0.0"
   ]
  },
  {
   "cell_type": "code",
   "execution_count": 28,
   "id": "dca03881",
   "metadata": {},
   "outputs": [
    {
     "name": "stdout",
     "output_type": "stream",
     "text": [
      "0.00021354332035352296\n",
      "[3.8446094251401406]\n"
     ]
    },
    {
     "name": "stderr",
     "output_type": "stream",
     "text": [
      "WARNING: both Plots and LinearAlgebra export \"rotate!\"; uses of it in module Main must be qualified\n"
     ]
    }
   ],
   "source": [
    "let \n",
    "    tmpf(x)=inv_abst([0.0,x[1],x[1]])\n",
    "    init_val=[0.6]\n",
    "    lower=[0.3]\n",
    "    upper=[5.0]\n",
    "    res=Optim.optimize(tmpf,lower,upper,init_val)\n",
    "    println(Optim.minimum(res))\n",
    "    println(Optim.minimizer(res))\n",
    "end"
   ]
  },
  {
   "cell_type": "code",
   "execution_count": 30,
   "id": "b830a01f",
   "metadata": {},
   "outputs": [
    {
     "data": {
      "image/png": "[encoded data removed]"
     },
     "execution_count": 30,
     "metadata": {},
     "output_type": "execute_result"
    }
   ],
   "source": [
    "let Ev=collect(3.873:0.00001:3.877)\n",
    "    function tmpf(E)\n",
    "        TMat!(E;a=0.0,Λ1=3.8446094251401406,Λ2=3.8446094251401406)\n",
    "        abs(Tmat[1,1])\n",
    "    end\n",
    "    resv=[tmpf(e) for e in Ev]\n",
    "    plot(Ev,resv)\n",
    "    vline!([mDn+mDsc])\n",
    "end"
   ]
  },
  {
   "cell_type": "markdown",
   "id": "47f8d990",
   "metadata": {},
   "source": [
    "## diff $\\Lambda$ and a=0.0"
   ]
  },
  {
   "cell_type": "code",
   "execution_count": 31,
   "id": "c344a9d2",
   "metadata": {},
   "outputs": [
    {
     "name": "stdout",
     "output_type": "stream",
     "text": [
      "0.047721221050880065\n",
      "[0.9999999995170264, 0.3000000018861579]\n"
     ]
    }
   ],
   "source": [
    "let \n",
    "    tmpf(x)=inv_abst([0.0,x[1],x[2]])\n",
    "    init_val=[0.5,0.5]\n",
    "    lower=[0.3,0.3]\n",
    "    upper=[1.0,1.0]\n",
    "    res=Optim.optimize(tmpf,lower,upper,init_val)\n",
    "    println(Optim.minimum(res))\n",
    "    println(Optim.minimizer(res))\n",
    "end"
   ]
  },
  {
   "cell_type": "code",
   "execution_count": 33,
   "id": "7ade7cab",
   "metadata": {},
   "outputs": [
    {
     "name": "stdout",
     "output_type": "stream",
     "text": [
      "0.05202018375731251\n",
      "[0.9999999996573111, 0.3000000026079811]\n"
     ]
    }
   ],
   "source": [
    "let \n",
    "    tmpf(x)=inv_abst([0.1,x[1],x[2]])\n",
    "    init_val=[0.5,0.5]\n",
    "    lower=[0.3,0.3]\n",
    "    upper=[1.0,1.0]\n",
    "    res=Optim.optimize(tmpf,lower,upper,init_val)\n",
    "    println(Optim.minimum(res))\n",
    "    println(Optim.minimizer(res))\n",
    "end"
   ]
  },
  {
   "cell_type": "markdown",
   "id": "7bfc8963",
   "metadata": {},
   "source": [
    "## no limits"
   ]
  },
  {
   "cell_type": "code",
   "execution_count": 32,
   "id": "dabb3928",
   "metadata": {},
   "outputs": [
    {
     "name": "stdout",
     "output_type": "stream",
     "text": [
      "0.047721221010374855\n",
      "[9.872563111956512e-11, 0.9999999999188284, 0.30000000031699964]\n"
     ]
    }
   ],
   "source": [
    "let \n",
    "    tmpf(x)=inv_abst([x[1],x[2],x[3]])\n",
    "    init_val=[0.01,0.5,0.5]\n",
    "    lower=[0.0,0.3,0.3]\n",
    "    upper=[1.0,1.0,1.0]\n",
    "    res=Optim.optimize(tmpf,lower,upper,init_val)\n",
    "    println(Optim.minimum(res))\n",
    "    println(Optim.minimizer(res))\n",
    "end"
   ]
  },
  {
   "cell_type": "code",
   "execution_count": null,
   "id": "3ffe5a20",
   "metadata": {},
   "outputs": [],
   "source": []
  }
 ],
 "metadata": {
  "@webio": {
   "lastCommId": null,
   "lastKernelId": null
  },
  "kernelspec": {
   "display_name": "Julia 1.8.0-rc1",
   "language": "julia",
   "name": "julia-1.8"
  },
  "language_info": {
   "file_extension": ".jl",
   "mimetype": "application/julia",
   "name": "julia",
   "version": "1.8.0"
  },
  "toc": {
   "base_numbering": 1,
   "nav_menu": {},
   "number_sections": true,
   "sideBar": true,
   "skip_h1_title": false,
   "title_cell": "Table of Contents",
   "title_sidebar": "Contents",
   "toc_cell": false,
   "toc_position": {},
   "toc_section_display": true,
   "toc_window_display": false
  }
 },
 "nbformat": 4,
 "nbformat_minor": 5
}
