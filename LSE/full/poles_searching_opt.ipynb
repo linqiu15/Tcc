{
 "cells": [
  {
   "cell_type": "code",
   "execution_count": 1,
   "id": "f5df3584",
   "metadata": {},
   "outputs": [],
   "source": [
    "using QuadGK,LaTeXStrings,LinearAlgebra,BenchmarkTools;\n",
    "using Plots;\n",
    "import NLsolve,Roots;\n",
    "pyplot(frame=:box,size=(500,350));"
   ]
  },
  {
   "cell_type": "code",
   "execution_count": 2,
   "id": "f2417faf",
   "metadata": {},
   "outputs": [],
   "source": [
    "include(\"./libs/constants.jl\");\n",
    "include(\"./libs/potential.jl\");"
   ]
  },
  {
   "cell_type": "code",
   "execution_count": 3,
   "id": "6060a712",
   "metadata": {},
   "outputs": [
    {
     "data": {
      "text/plain": [
       "potential_DDscross (generic function with 1 method)"
      ]
     },
     "execution_count": 3,
     "metadata": {},
     "output_type": "execute_result"
    }
   ],
   "source": [
    "# ----------------------------------------------------------DD*----------------------------------------------------#\n",
    "function potential_DnDsc(E,p, q; I=0, a=0,a1=1.0, cl=:ss)\n",
    "    q01, q02 = q0f(E, mDn, mDsc, mDn, mDsc), q0f(E, mDn, mDsc, mDsc, mDn)\n",
    "    res = zero(ComplexF64)\n",
    "#     res += -β^2 * gV^2 * (1 - q01^2 / mρn^2) / sqrt(16) * pwa_central(p, q, mρn^2 - q01^2; cl=cl)\n",
    "#     res += β^2 * gV^2 * (1 - q01^2 / mω^2) / sqrt(16) * pwa_central(p, q, mω^2 - q01^2; cl=cl)\n",
    "#     res += -4 * gs^2 / sqrt(16) * pwa_central(p, q, mσ^2 - q01^2; cl=cl)\n",
    "#     res += -4 * g^2 / fπ^2 / sqrt(16) * (pwa_tensor_deform(p, q, mπc^2 - q02^2; cl=cl) - a1 / 3 * pwa_contact(p, q, mπc^2 - q02^2; cl=cl)) * (I - 1 / 2) * 2\n",
    "#     res += ((2 * sqrt(2) * gV * gλ)^2 / sqrt(16) * (pwa_tensor(p, q, mρc^2 - q02^2; cl=cl) + 2 * a / 3 * pwa_contact(p, q, mρc^2 - q02^2; cl=cl)\n",
    "#                                                     -\n",
    "#                                                     pwa_square(p, q, mρc^2 - q02^2; cl=cl)) * (I - 1 / 2) * 2)\n",
    "    res += -β^2 * gV^2 * (1 - q01^2 / mJψ^2) / sqrt(16) * pwa_central(p, q, mJψ^2 - q01^2; cl=cl) * (-2)\n",
    "    return res\n",
    "end\n",
    "\n",
    "function potential_DcDsn(E,p, q; I=0, a=0,a1=1.0, cl=:ss)\n",
    "    q01, q02 = q0f(E, mDc, mDsn, mDc, mDsn), q0f(E, mDc, mDsn, mDsn, mDc)\n",
    "    res = zero(ComplexF64)\n",
    "\n",
    "#     res += -β^2 * gV^2 * (1 - q01^2 / mρn^2) / sqrt(16) * pwa_central(p, q, mρn^2 - q01^2; cl=cl)\n",
    "#     res += β^2 * gV^2 * (1 - q01^2 / mω^2) / sqrt(16) * pwa_central(p, q, mω^2 - q01^2; cl=cl)\n",
    "#     res += -4 * gs^2 / sqrt(16) * pwa_central(p, q, mσ^2 - q01^2; cl=cl)\n",
    "#     res += -4 * g^2 / fπ^2 / sqrt(16) * (pwa_tensor_deform(p, q, mπc^2 - q02^2; cl=cl) - a1 / 3 * pwa_contact(p, q, mπc^2 - q02^2; cl=cl)) * (I - 1 / 2) * 2\n",
    "#     res += ((2 * sqrt(2) * gV * gλ)^2 / sqrt(16) * (pwa_tensor(p, q, mρc^2 - q02^2; cl=cl) + 2 * a / 3 * pwa_contact(p, q, mρc^2 - q02^2; cl=cl)\n",
    "#                                                     -\n",
    "#                                                     pwa_square(p, q, mρc^2 - q02^2; cl=cl)) * (I - 1 / 2) * 2)\n",
    "    res += -β^2 * gV^2 * (1 - q01^2 / mJψ^2) / sqrt(16) * pwa_central(p, q, mJψ^2 - q01^2; cl=cl) * (-2)\n",
    "    return res\n",
    "end\n",
    "\n",
    "function potential_DDscross(E,p, q; I=0, a=0,a1=1.0, cl=:ss)\n",
    "    q01, q02 = q0f(E, mDn, mDsc, mDc, mDsn), q0f(E, mDn, mDsc, mDsn, mDc)\n",
    "    res = zero(ComplexF64)\n",
    "\n",
    "    res += 2 * β^2 * gV^2 * (1 - q01^2 / mρc^2) / sqrt(16) * pwa_central(p, q, mρc^2 - q01^2; cl=cl)\n",
    "#     res += 2 * g^2 / fπ^2 / sqrt(16) * (pwa_tensor_deform(p, q, mπn^2 - q02^2; cl=cl) - a1 / 3 * pwa_contact(p, q, mπn^2 - q02^2; cl=cl)) * (I - 1 / 2) * 2\n",
    "#     res += -2 * g^2 / (3fπ^2) / sqrt(16) * (pwa_tensor(p, q, mη^2 - q02^2; cl=cl) - a / 3 * pwa_contact(p, q, mη^2 - q02^2; cl=cl)) * (I - 1 / 2) * 2\n",
    "#     res += (-(2 * gV * gλ)^2 / sqrt(16) * (pwa_tensor(p, q, mρn^2 - q02^2; cl=cl) + 2 * a / 3 * pwa_contact(p, q, mρn^2 - q02^2; cl=cl)\n",
    "#                                            -\n",
    "#                                            pwa_square(p, q, mρn^2 - q02^2; cl=cl)) * (I - 1 / 2) * 2)\n",
    "#     res += ((2 * gV * gλ)^2 / sqrt(16) * (pwa_tensor(p, q, mω^2 - q02^2; cl=cl) + 2 * a / 3 * pwa_contact(p, q, mω^2 - q02^2; cl=cl)\n",
    "#                                           -\n",
    "#                                           pwa_square(p, q, mω^2 - q02^2; cl=cl)) * (I - 1 / 2) * 2)\n",
    "#     #ηc,J/ψ\n",
    "#     res += 2 * g^2 / fπ^2 / sqrt(16) * (pwa_tensor(p, q, mηc^2 - q02^2; cl=cl) - a / 3 * pwa_contact(p, q, mηc^2 - q02^2; cl=cl)) * (-2) * (I - 1 / 2) * 2\n",
    "#     res += (-(2 * gV * gλ)^2 / sqrt(16) * (pwa_tensor(p, q, mJψ^2 - q02^2; cl=cl) + 2 * a / 3 * pwa_contact(p, q, mJψ^2 - q02^2; cl=cl)\n",
    "#                                            -\n",
    "#                                            pwa_square(p, q, mJψ^2 - q02^2; cl=cl)) * (I - 1 / 2) * 2*(-2))\n",
    "    return res\n",
    "end"
   ]
  },
  {
   "cell_type": "code",
   "execution_count": 4,
   "id": "e334e17f",
   "metadata": {},
   "outputs": [],
   "source": [
    "# quadgk for pion-exchange\n",
    "include(\"./libs/pwa.jl\");"
   ]
  },
  {
   "cell_type": "markdown",
   "id": "75068172",
   "metadata": {},
   "source": [
    "the quadrature not good for 1/(z-z0)"
   ]
  },
  {
   "cell_type": "code",
   "execution_count": 3,
   "id": "4086027e",
   "metadata": {},
   "outputs": [],
   "source": [
    "# # quadrature for pion-exchange\n",
    "# include(\"./libs/pwa_quadrature.jl\");\n",
    "# using Main.pwaquadrature;"
   ]
  },
  {
   "cell_type": "code",
   "execution_count": 5,
   "id": "3489a35f",
   "metadata": {},
   "outputs": [
    {
     "data": {
      "text/plain": [
       "xsqrt1 (generic function with 1 method)"
      ]
     },
     "execution_count": 5,
     "metadata": {},
     "output_type": "execute_result"
    }
   ],
   "source": [
    "function quadgauss(f, x::T, w::T) where {T<:Vector{Float64}}\n",
    "    res = zero(f(x[1]))  # zero of the same type as f(x[1]), to avoid type instability\n",
    "    for i in eachindex(x)\n",
    "        res += f(x[i]) * w[i]\n",
    "    end\n",
    "    return res\n",
    "end\n",
    "\n",
    "λf(x, y, z) = x^2 + y^2 + z^2 - 2 * x * y - 2 * x * z - 2 * y * z\n",
    "q0f(E, m1, m2, m3, m4) = abs(m3^2 - m4^2 - m1^2 + m2^2) / (2 * E)\n",
    "μf(m1, m2) = m1 * m2 / (m1 + m2)\n",
    "\n",
    "# redefine sqrt so that its cut is along the positive x axis\n",
    "function xsqrt(x)\n",
    "    imag(x) >=0 ? sqrt(x+0im) : -sqrt(x-0im)\n",
    "end\n",
    "xsqrt1(x)= (imag(x)<0&&real(x)>0) ? -xsqrt(x) : xsqrt(x)"
   ]
  },
  {
   "cell_type": "markdown",
   "id": "0b66ea38",
   "metadata": {},
   "source": [
    "# width of $D^*$"
   ]
  },
  {
   "cell_type": "code",
   "execution_count": 6,
   "id": "ac8c7f89",
   "metadata": {},
   "outputs": [
    {
     "data": {
      "text/plain": [
       "dΓf3 (generic function with 1 method)"
      ]
     },
     "execution_count": 6,
     "metadata": {},
     "output_type": "execute_result"
    }
   ],
   "source": [
    "function Γf(E,q,m1,m2,m3,m12)\n",
    "    E1=E+m12-sqrt(m12^2+q^2+0im)-sqrt(m3^2+q^2+0im)\n",
    "    μ=(m1*m2)/(m1+m2)\n",
    "    return (imag(E1)<0&&real(E1)>(m1+m2)) ? -xsqrt(2*μ*(E1-m1-m2)+0im) : xsqrt(2*μ*(E1-m1-m2)+0im)\n",
    "end\n",
    "\n",
    "function Γf3(E,q,m1,m2,m3,m12)\n",
    "    E1=E+m12-sqrt(m12^2+q^2+0im)-sqrt(m3^2+q^2+0im)\n",
    "    μ=(m1*m2)/(m1+m2)\n",
    "    return (imag(E1)<0&&real(E1)>(m1+m2)) ? -xsqrt(2*μ*(E1-m1-m2)+0im)^3 : xsqrt(2*μ*(E1-m1-m2)+0im)^3\n",
    "end\n",
    "\n",
    "function dΓf3(E,q,m1,m2,m3,m12)\n",
    "    E1=E+m12-sqrt(m12^2+q^2+0im)-sqrt(m3^2+q^2+0im)\n",
    "    μ=(m1*m2)/(m1+m2)\n",
    "    tmp=-3*μ*xsqrt(2*μ*(E1-m1-m2)+0im)*(q/sqrt(m12^2+q^2+0im)+q/sqrt(m3^2+q^2+0im))\n",
    "    return (imag(E1)<0&&real(E1)>(m1+m2)) ? -tmp : tmp\n",
    "end"
   ]
  },
  {
   "cell_type": "code",
   "execution_count": 7,
   "id": "2eba42ca",
   "metadata": {},
   "outputs": [
    {
     "data": {
      "text/plain": [
       "dΓDsnf (generic function with 1 method)"
      ]
     },
     "execution_count": 7,
     "metadata": {},
     "output_type": "execute_result"
    }
   ],
   "source": [
    "ΓDscf(E, p) = (ΓRDsc + g^2 * mDn / (6 * π * fπ^2 * mDsc) * Γf3(E, p, mDn, mπc, mDn,mDsc)\n",
    "                                   + g^2 * mDc / (12 * π * fπ^2 * mDsc) * Γf3(E, p, mDc, mπn, mDn,mDsc))\n",
    "\n",
    "ΓDsnf(E, p) = (ΓRDsn + g^2 * mDn / (12 * π * fπ^2 * mDsn) * Γf3(E, p, mDn, mπn, mDc,mDsn)\n",
    "                                   + g^2 * mDc / (6 * π * fπ^2 * mDsn) * (Γf3(E, p, mDc, mπc, mDc,mDsn) - Γf3(mDc + mDsn, 0, mDc, mπc, mDc,mDsn)))\n",
    "\n",
    "dΓDscf(E, p) = (g^2 * mDn / (6 * π * fπ^2 * mDsc) * dΓf3(E, p, mDn, mπc, mDn,mDsc)\n",
    "                                   + g^2 * mDc / (12 * π * fπ^2 * mDsc) * dΓf3(E, p, mDc, mπn, mDn,mDsc))\n",
    "\n",
    "dΓDsnf(E, p) = (g^2 * mDn / (12 * π * fπ^2 * mDsn) * dΓf3(E, p, mDn, mπn, mDc,mDsn)+ g^2 * mDc / (6 * π * fπ^2 * mDsn) * dΓf3(E, p, mDc, mπc, mDc,mDsn))"
   ]
  },
  {
   "cell_type": "code",
   "execution_count": 8,
   "id": "2a468f91",
   "metadata": {},
   "outputs": [
    {
     "data": {
      "text/plain": [
       "find_singular (generic function with 1 method)"
      ]
     },
     "execution_count": 8,
     "metadata": {},
     "output_type": "execute_result"
    }
   ],
   "source": [
    "function find_singular(E, den; pstart = [0.01, 0.01])\n",
    "    function f!(F, x)\n",
    "        pr, pi = x\n",
    "        tmp = den(E, pr + im * pi)\n",
    "        F[1] = real(tmp)\n",
    "        F[2] = imag(tmp)\n",
    "    end\n",
    "    sol = NLsolve.nlsolve((F, x) -> f!(F, x), pstart)\n",
    "    return sol.zero[1] + im * sol.zero[2]\n",
    "end"
   ]
  },
  {
   "cell_type": "code",
   "execution_count": 9,
   "id": "920d8c40",
   "metadata": {},
   "outputs": [
    {
     "data": {
      "text/plain": [
       "qon_0 (generic function with 1 method)"
      ]
     },
     "execution_count": 9,
     "metadata": {},
     "output_type": "execute_result"
    }
   ],
   "source": [
    "qon_c(E)=find_singular(E, (E, p) -> E-mDn-mDsc - p^2 / (2 * μf(mDn, mDsc)) + im * ΓDscf(E, p) / 2; pstart = [reim(xsqrt1(E-mDn-mDsc + im * ΓDsc / 2))...])\n",
    "\n",
    "qon_0(E)=find_singular(E, (E, p) -> E-mDc-mDsn - p^2 / (2 * μf(mDc, mDsn)) + im * ΓDsnf(E, p) / 2; pstart = [reim(xsqrt1(E-mDc-mDsn + im * ΓDsn / 2))...])"
   ]
  },
  {
   "cell_type": "code",
   "execution_count": 10,
   "id": "1398765a",
   "metadata": {},
   "outputs": [
    {
     "name": "stdout",
     "output_type": "stream",
     "text": [
      "  7.431 μs (58 allocations: 4.08 KiB)\n"
     ]
    },
    {
     "data": {
      "text/plain": [
       "0.0009031406050093312 + 0.04613250749939164im"
      ]
     },
     "execution_count": 10,
     "metadata": {},
     "output_type": "execute_result"
    }
   ],
   "source": [
    "@btime qon_c(3.874)"
   ]
  },
  {
   "cell_type": "code",
   "execution_count": 11,
   "id": "3b611a8c",
   "metadata": {},
   "outputs": [
    {
     "name": "stdout",
     "output_type": "stream",
     "text": [
      "0.0006990917686079699 + 0.026383911589114288im\n",
      "6.632585092995444e-5 + 0.05770078015100248im\n"
     ]
    }
   ],
   "source": [
    "qon_c(mDn+mDsc-360e-6-im*24e-6)|>println\n",
    "qon_0(mDn+mDsc-360e-6-im*24e-6)|>println"
   ]
  },
  {
   "cell_type": "code",
   "execution_count": 11,
   "id": "5eb74cfb",
   "metadata": {},
   "outputs": [
    {
     "data": {
      "text/plain": [
       "ΓDsnf_ac (generic function with 1 method)"
      ]
     },
     "execution_count": 11,
     "metadata": {},
     "output_type": "execute_result"
    }
   ],
   "source": [
    "# Σf(E, p, μ, mi, mj, mk) = sqrt(2 * μf(mi, mj) * (E - mi - mj - mk - p^2 / (2 * μ)) + 0 * im)^3\n",
    "# function Σf_ac(E, p, μ, mi, mj, mk; rs::Integer = 1)\n",
    "#     res = zero(ComplexF64)\n",
    "#     if rs == 1\n",
    "#         res = Σf(E, p, μ, mi, mj, mk)\n",
    "#     elseif rs == 2\n",
    "#         if imag(E) == 0\n",
    "#             res = Σf(E, p, μ, mi, mj, mk)\n",
    "#         elseif imag(E) < 0 && real(E - mi - mj - mk - p^2 / (2 * μ)) > 0\n",
    "#             res = -Σf(E, p, μ, mi, mj, mk)\n",
    "#         elseif imag(E) < 0 && real(E - mi - mj - mk - p^2 / (2 * μ)) < 0\n",
    "#             res = Σf(E, p, μ, mi, mj, mk)\n",
    "#         else\n",
    "#             res = conj(Σf_ac(conj(E), p, μ, mi, mj, mk; rs = rs))\n",
    "#         end\n",
    "#     end\n",
    "#     return res\n",
    "# end\n",
    "# ΓDscf_ac(E, p; rs::Integer = 1) = (ΓRDsc + g^2 * mDn / (6 * π * fπ^2 * mDsc) * Σf_ac(E, p, μf(mDsc, mDn), mDn, mπc, mDn; rs = rs)\n",
    "#                                    + g^2 * mDc / (12 * π * fπ^2 * mDsc) * Σf_ac(E, p, μf(mDsc, mDn), mDc, mπn, mDn; rs = rs))\n",
    "\n",
    "# ΓDsnf_ac(E, p; rs::Integer = 1) = (ΓRDsn + g^2 * mDn / (12 * π * fπ^2 * mDsn) * Σf_ac(E, p, μf(mDc, mDsn), mDn, mπn, mDc; rs = rs)\n",
    "#                                    + g^2 * mDc / (6 * π * fπ^2 * mDsn) * (Σf_ac(E, p, μf(mDc, mDsn), mDc, mπc, mDc; rs = rs) - Σf_ac(mDc + mDsn, 0, μf(mDc, mDsn), mDc, mπc, mDc; rs = rs)))"
   ]
  },
  {
   "cell_type": "markdown",
   "id": "c0853416",
   "metadata": {},
   "source": [
    "# path deformation"
   ]
  },
  {
   "cell_type": "code",
   "execution_count": 12,
   "id": "552e3637",
   "metadata": {},
   "outputs": [],
   "source": [
    "xxx,www=gauss(30,0,1);"
   ]
  },
  {
   "cell_type": "code",
   "execution_count": 13,
   "id": "8761fbcb",
   "metadata": {},
   "outputs": [],
   "source": [
    "qi=zeros(ComplexF64,2+3*length(xxx));\n",
    "wi=zeros(ComplexF64,3*length(xxx));"
   ]
  },
  {
   "cell_type": "code",
   "execution_count": 14,
   "id": "3963aae6",
   "metadata": {},
   "outputs": [
    {
     "data": {
      "text/plain": [
       "Einner (generic function with 1 method)"
      ]
     },
     "execution_count": 14,
     "metadata": {},
     "output_type": "execute_result"
    }
   ],
   "source": [
    "function Einner(E,q,m1,m2,m3,m12)\n",
    "    return E+m12-sqrt(m12^2+q^2+0im)-sqrt(m3^2+q^2+0im)\n",
    "end"
   ]
  },
  {
   "cell_type": "code",
   "execution_count": 15,
   "id": "08b52243",
   "metadata": {},
   "outputs": [
    {
     "data": {
      "text/plain": [
       "find_qint (generic function with 1 method)"
      ]
     },
     "execution_count": 15,
     "metadata": {},
     "output_type": "execute_result"
    }
   ],
   "source": [
    "function find_qint(E,m1,m2,m3,m12;rtol=1e-6)\n",
    "    \n",
    "#     # method 1\n",
    "#     function f!(F,x)\n",
    "#         q=x[1]+1.0im*x[2]\n",
    "#         tmp=Einner(E,q,m1,m2,m3,m12)\n",
    "#         F[1]=real(tmp)-m1-m2\n",
    "#         F[2]=imag(tmp)-rtol\n",
    "#     end\n",
    "#     sol=NLsolve.nlsolve(f!,[0.1,-0.1])\n",
    "#     return sol.zero[1]+im*sol.zero[2]\n",
    "    \n",
    "    # method 2\n",
    "    Etmp=E+m12-m1-m2-im*rtol\n",
    "    qtmp=sqrt(λf(Etmp^2,m12^2,m3^2))/(2*Etmp)\n",
    "    return imag(qtmp)>0 ? -qtmp : qtmp\n",
    "end"
   ]
  },
  {
   "cell_type": "code",
   "execution_count": 16,
   "id": "5354d986",
   "metadata": {},
   "outputs": [
    {
     "data": {
      "text/plain": [
       "sol_qint3 (generic function with 1 method)"
      ]
     },
     "execution_count": 16,
     "metadata": {},
     "output_type": "execute_result"
    }
   ],
   "source": [
    "function sol_qint3(qint1,qint2)\n",
    "    \n",
    "#     # method 1\n",
    "#     sol=NLsolve.nlsolve((F,x)->F[1]=imag(conj(qint2-qint1)*(x[1]-qint1)),[1.0])\n",
    "#     return sol.zero[1]+im*sol.zero[2]\n",
    "    \n",
    "    # method 2\n",
    "    a,b=reim(qint1)\n",
    "    c,d=reim(qint2)\n",
    "    return b*(c-a)/(b-d)+a\n",
    "end"
   ]
  },
  {
   "cell_type": "markdown",
   "id": "2a5bfdd6",
   "metadata": {},
   "source": [
    "$0\\sim 0.5$, $0.5\\sim 1$, $1\\sim\\infty$"
   ]
  },
  {
   "cell_type": "code",
   "execution_count": 17,
   "id": "df998010",
   "metadata": {},
   "outputs": [],
   "source": [
    "f1(x)=0.5*x;\n",
    "f2(x)=0.5*(1-x)+1.0*x;\n",
    "f3(x)=1.0+tan(π/2*x);\n",
    "df3(x)=π/2/cos(π/2*x)^2;"
   ]
  },
  {
   "cell_type": "code",
   "execution_count": 18,
   "id": "2452cf17",
   "metadata": {},
   "outputs": [
    {
     "data": {
      "text/plain": [
       "find_qw (generic function with 1 method)"
      ]
     },
     "execution_count": 18,
     "metadata": {},
     "output_type": "execute_result"
    }
   ],
   "source": [
    "function find_qw(E;qi=qi,wi=wi,xxx=xxx,www=www)\n",
    "    \n",
    "    # wi is the one wrappered with g'(x)\n",
    "    qi[1],qi[2]=qon_c(E),qon_0(E)\n",
    "    len=length(xxx)\n",
    "    if imag(E)>=0||(real(E)<=mDn+mDn+mπc)\n",
    "        for i in eachindex(xxx)\n",
    "            qi[2+i]=f1(xxx[i])\n",
    "            qi[2+len+i]=f2(xxx[i])\n",
    "            qi[2+2*len+i]=f3(xxx[i])\n",
    "            wi[i]=0.5*www[i]\n",
    "            wi[i+len]=0.5*www[i]\n",
    "            wi[i+2*len]=df3(xxx[i])*www[i]\n",
    "        end\n",
    "        return nothing\n",
    "    end\n",
    "    \n",
    "    # find closet DDπ\n",
    "    qint1,qint2=zeros(ComplexF64,2)\n",
    "    if real(E)>mDc+mDc+mπc\n",
    "        qint1=find_qint(E,mDc,mπc,mDc,mDsn)\n",
    "        qint2=find_qint(E,mDn,mπc,mDn,mDsc)\n",
    "    elseif real(E)>mDc+mDn+mπn\n",
    "        qint1=find_qint(E,mDc,mπn,mDn,mDsc)\n",
    "        qint2=find_qint(E,mDn,mπc,mDn,mDsc)\n",
    "    else\n",
    "        qint1=find_qint(E,mDn,mπc,mDn,mDsc)\n",
    "        qint2=2*real(qint1)\n",
    "    end\n",
    "    \n",
    "    @assert real(qint1)>0&&imag(qint1)<0 \"Wrong qint1 position!\"\n",
    "    @assert imag(qint2)>imag(qint1)&&imag(qint2)<=0&&real(qint2)>real(qint1) \"Wrong qint2 position!\"\n",
    "    \n",
    "#     # get points on real axis\n",
    "#     # method1\n",
    "#     qint3=Roots.find_zero(x->imag(conj(qint2-qint1)*(x-qint1)),(0,1))\n",
    "    # method 2\n",
    "    qint3=sol_qint3(qint1,qint2)\n",
    "#     println(qint1)\n",
    "#     println(qint2)\n",
    "#     println(qint3)\n",
    "    \n",
    "    for i in eachindex(xxx)\n",
    "        qi[2+i]=qint1*xxx[i]\n",
    "        qi[2+len+i]=qint1+(qint3-qint1)*xxx[i]\n",
    "        qi[2+2*len+i]=qint3+tan(π/2*xxx[i])\n",
    "        wi[i]=qint1*www[i]\n",
    "        wi[i+len]=(qint3-qint1)*www[i]\n",
    "        wi[i+2*len]=df3(xxx[i])*www[i]\n",
    "    end\n",
    "    return nothing\n",
    "end"
   ]
  },
  {
   "cell_type": "code",
   "execution_count": 18,
   "id": "38c04580",
   "metadata": {},
   "outputs": [
    {
     "name": "stdout",
     "output_type": "stream",
     "text": [
      "  14.791 μs (117 allocations: 8.17 KiB)\n"
     ]
    }
   ],
   "source": [
    "@btime find_qw(3.875)"
   ]
  },
  {
   "cell_type": "markdown",
   "id": "b168f68e",
   "metadata": {},
   "source": [
    "# VGT"
   ]
  },
  {
   "cell_type": "code",
   "execution_count": 19,
   "id": "eef3be6f",
   "metadata": {},
   "outputs": [],
   "source": [
    "Vmat=zeros(ComplexF64,4*(2+3*length(xxx)),4*(2+3*length(xxx)));\n",
    "Gmat=zeros(ComplexF64,4*(2+3*length(xxx)),4*(2+3*length(xxx)));\n",
    "Tmat=zeros(ComplexF64,4*(2+3*length(xxx)),4*(2+3*length(xxx)));"
   ]
  },
  {
   "cell_type": "code",
   "execution_count": 20,
   "id": "d5c6c207",
   "metadata": {},
   "outputs": [
    {
     "data": {
      "text/plain": [
       "VMat! (generic function with 1 method)"
      ]
     },
     "execution_count": 20,
     "metadata": {},
     "output_type": "execute_result"
    }
   ],
   "source": [
    "function VMat!(E;a = 0.0,a1=0.0,Λ1=0.5,Λ2=0.5,I=0,plist=qi,des=Vmat) #checked 10.10\n",
    "    find_qw(E)\n",
    "    sublen=length(plist)\n",
    "\n",
    "    for l in eachindex(plist)\n",
    "        for m in eachindex(plist)\n",
    "            i, j = 1, 1\n",
    "            des[sublen*(i-1)+l, sublen*(j-1)+m] = (potential_DnDsc(E,plist[l], plist[m]; a = a,a1=a1,I=I, cl = :ss)*exp(-plist[l]^2/Λ1^2-plist[m]^2/Λ1^2))\n",
    "            i, j = 1, 2\n",
    "            des[sublen*(i-1)+l, sublen*(j-1)+m] = (potential_DnDsc(E,plist[l], plist[m]; a = a,a1=a1,I=I, cl = :ds)*exp(-plist[l]^2/Λ1^2-plist[m]^2/Λ1^2))\n",
    "            i, j = 2, 1\n",
    "            des[sublen*(i-1)+l, sublen*(j-1)+m] = (potential_DnDsc(E,plist[l], plist[m]; a = a,a1=a1,I=I,  cl = :sd)*exp(-plist[l]^2/Λ1^2-plist[m]^2/Λ1^2))\n",
    "            i, j = 2, 2\n",
    "            des[sublen*(i-1)+l, sublen*(j-1)+m] = (potential_DnDsc(E,plist[l], plist[m]; a = a,a1=a1,I=I, cl = :dd)*exp(-plist[l]^2/Λ1^2-plist[m]^2/Λ1^2))\n",
    "            i, j = 1, 3\n",
    "            des[sublen*(i-1)+l, sublen*(j-1)+m] = (potential_DDscross(E,plist[l], plist[m]; a = a,a1=a1,I=I,  cl = :ss)*exp(-plist[l]^2/Λ2^2-plist[m]^2/Λ1^2))\n",
    "            i, j = 1, 4\n",
    "            des[sublen*(i-1)+l, sublen*(j-1)+m] = (potential_DDscross(E,plist[l], plist[m]; a = a,a1=a1,I=I,  cl = :ds)*exp(-plist[l]^2/Λ2^2-plist[m]^2/Λ1^2))\n",
    "            i, j = 2, 3\n",
    "            des[sublen*(i-1)+l, sublen*(j-1)+m] = (potential_DDscross(E,plist[l], plist[m]; a = a,a1=a1,I=I,  cl = :sd)*exp(-plist[l]^2/Λ2^2-plist[m]^2/Λ1^2))\n",
    "            i, j = 2, 4\n",
    "            des[sublen*(i-1)+l, sublen*(j-1)+m] = (potential_DDscross(E,plist[l], plist[m]; a = a,a1=a1,I=I,  cl = :dd)*exp(-plist[l]^2/Λ2^2-plist[m]^2/Λ1^2))\n",
    "            i, j = 3, 1\n",
    "            des[sublen*(i-1)+l, sublen*(j-1)+m] = (potential_DDscross(E,plist[l], plist[m]; a = a,a1=a1,I=I,  cl = :ss)*exp(-plist[l]^2/Λ1^2-plist[m]^2/Λ2^2))\n",
    "            i, j = 3, 2\n",
    "            des[sublen*(i-1)+l, sublen*(j-1)+m] = (potential_DDscross(E,plist[l], plist[m]; a = a,a1=a1,I=I,  cl = :ds)*exp(-plist[l]^2/Λ1^2-plist[m]^2/Λ2^2))\n",
    "            i, j = 4, 1\n",
    "            des[sublen*(i-1)+l, sublen*(j-1)+m] = (potential_DDscross(E,plist[l], plist[m]; a = a,a1=a1,I=I,  cl = :sd)*exp(-plist[l]^2/Λ1^2-plist[m]^2/Λ2^2))\n",
    "            i, j = 4, 2\n",
    "            des[sublen*(i-1)+l, sublen*(j-1)+m] = (potential_DDscross(E,plist[l], plist[m]; a = a,a1=a1,I=I,  cl = :dd)*exp(-plist[l]^2/Λ1^2-plist[m]^2/Λ2^2))\n",
    "            i, j = 3, 3\n",
    "            des[sublen*(i-1)+l, sublen*(j-1)+m] = (potential_DcDsn(E,plist[l], plist[m]; a = a,a1=a1,I=I,  cl = :ss)*exp(-plist[l]^2/Λ2^2-plist[m]^2/Λ2^2))\n",
    "            i, j = 3, 4\n",
    "            des[sublen*(i-1)+l, sublen*(j-1)+m] = (potential_DcDsn(E,plist[l], plist[m]; a = a,a1=a1,I=I,  cl = :ds)*exp(-plist[l]^2/Λ2^2-plist[m]^2/Λ2^2))\n",
    "            i, j = 4, 3\n",
    "            des[sublen*(i-1)+l, sublen*(j-1)+m] = (potential_DcDsn(E,plist[l], plist[m]; a = a,a1=a1,I=I,  cl = :sd)*exp(-plist[l]^2/Λ2^2-plist[m]^2/Λ2^2))\n",
    "            i, j = 4, 4\n",
    "            des[sublen*(i-1)+l, sublen*(j-1)+m] = (potential_DcDsn(E,plist[l], plist[m]; a = a,a1=a1,I=I,  cl = :dd)*exp(-plist[l]^2/Λ2^2-plist[m]^2/Λ2^2))\n",
    "        end\n",
    "    end\n",
    "    return nothing\n",
    "end\n",
    "\n",
    "# function VMat!(E;a = 0.0,a1=0.0,Λ1=0.5,Λ2=0.5,I=0,plist=qi,des=Vmat) #checked 10.10\n",
    "#     find_qw(E)\n",
    "#     sublen=length(plist)\n",
    "\n",
    "#     for l in eachindex(plist)\n",
    "#         for m in eachindex(plist)\n",
    "#             i, j = 1, 1\n",
    "#             des[sublen*(i-1)+l, sublen*(j-1)+m] = (potential_DnDsc(E,plist[l], plist[m]; a = a,a1=a1,I=I, cl = :ss)*exp(-abs(plist[l])^2/Λ1^2-abs(plist[m])^2/Λ1^2))\n",
    "#             i, j = 1, 2\n",
    "#             des[sublen*(i-1)+l, sublen*(j-1)+m] = (potential_DnDsc(E,plist[l], plist[m]; a = a,a1=a1,I=I, cl = :ds)*exp(-abs(plist[l])^2/Λ1^2-abs(plist[m])^2/Λ1^2))\n",
    "#             i, j = 2, 1\n",
    "#             des[sublen*(i-1)+l, sublen*(j-1)+m] = (potential_DnDsc(E,plist[l], plist[m]; a = a,a1=a1,I=I,  cl = :sd)*exp(-abs(plist[l])^2/Λ1^2-abs(plist[m])^2/Λ1^2))\n",
    "#             i, j = 2, 2\n",
    "#             des[sublen*(i-1)+l, sublen*(j-1)+m] = (potential_DnDsc(E,plist[l], plist[m]; a = a,a1=a1,I=I, cl = :dd)*exp(-abs(plist[l])^2/Λ1^2-abs(plist[m])^2/Λ1^2))\n",
    "#             i, j = 1, 3\n",
    "#             des[sublen*(i-1)+l, sublen*(j-1)+m] = (potential_DDscross(E,plist[l], plist[m]; a = a,a1=a1,I=I,  cl = :ss)*exp(-abs(plist[l])^2/Λ2^2-abs(plist[m])^2/Λ1^2))\n",
    "#             i, j = 1, 4\n",
    "#             des[sublen*(i-1)+l, sublen*(j-1)+m] = (potential_DDscross(E,plist[l], plist[m]; a = a,a1=a1,I=I,  cl = :ds)*exp(-abs(plist[l])^2/Λ2^2-abs(plist[m])^2/Λ1^2))\n",
    "#             i, j = 2, 3\n",
    "#             des[sublen*(i-1)+l, sublen*(j-1)+m] = (potential_DDscross(E,plist[l], plist[m]; a = a,a1=a1,I=I,  cl = :sd)*exp(-abs(plist[l])^2/Λ2^2-abs(plist[m])^2/Λ1^2))\n",
    "#             i, j = 2, 4\n",
    "#             des[sublen*(i-1)+l, sublen*(j-1)+m] = (potential_DDscross(E,plist[l], plist[m]; a = a,a1=a1,I=I,  cl = :dd)*exp(-abs(plist[l])^2/Λ2^2-abs(plist[m])^2/Λ1^2))\n",
    "#             i, j = 3, 1\n",
    "#             des[sublen*(i-1)+l, sublen*(j-1)+m] = (potential_DDscross(E,plist[l], plist[m]; a = a,a1=a1,I=I,  cl = :ss)*exp(-abs(plist[l])^2/Λ1^2-abs(plist[m])^2/Λ2^2))\n",
    "#             i, j = 3, 2\n",
    "#             des[sublen*(i-1)+l, sublen*(j-1)+m] = (potential_DDscross(E,plist[l], plist[m]; a = a,a1=a1,I=I,  cl = :ds)*exp(-abs(plist[l])^2/Λ1^2-abs(plist[m])^2/Λ2^2))\n",
    "#             i, j = 4, 1\n",
    "#             des[sublen*(i-1)+l, sublen*(j-1)+m] = (potential_DDscross(E,plist[l], plist[m]; a = a,a1=a1,I=I,  cl = :sd)*exp(-abs(plist[l])^2/Λ1^2-abs(plist[m])^2/Λ2^2))\n",
    "#             i, j = 4, 2\n",
    "#             des[sublen*(i-1)+l, sublen*(j-1)+m] = (potential_DDscross(E,plist[l], plist[m]; a = a,a1=a1,I=I,  cl = :dd)*exp(-abs(plist[l])^2/Λ1^2-abs(plist[m])^2/Λ2^2))\n",
    "#             i, j = 3, 3\n",
    "#             des[sublen*(i-1)+l, sublen*(j-1)+m] = (potential_DcDsn(E,plist[l], plist[m]; a = a,a1=a1,I=I,  cl = :ss)*exp(-abs(plist[l])^2/Λ2^2-abs(plist[m])^2/Λ2^2))\n",
    "#             i, j = 3, 4\n",
    "#             des[sublen*(i-1)+l, sublen*(j-1)+m] = (potential_DcDsn(E,plist[l], plist[m]; a = a,a1=a1,I=I,  cl = :ds)*exp(-abs(plist[l])^2/Λ2^2-abs(plist[m])^2/Λ2^2))\n",
    "#             i, j = 4, 3\n",
    "#             des[sublen*(i-1)+l, sublen*(j-1)+m] = (potential_DcDsn(E,plist[l], plist[m]; a = a,a1=a1,I=I,  cl = :sd)*exp(-abs(plist[l])^2/Λ2^2-abs(plist[m])^2/Λ2^2))\n",
    "#             i, j = 4, 4\n",
    "#             des[sublen*(i-1)+l, sublen*(j-1)+m] = (potential_DcDsn(E,plist[l], plist[m]; a = a,a1=a1,I=I,  cl = :dd)*exp(-abs(plist[l])^2/Λ2^2-abs(plist[m])^2/Λ2^2))\n",
    "#         end\n",
    "#     end\n",
    "#     return nothing\n",
    "# end"
   ]
  },
  {
   "cell_type": "code",
   "execution_count": 20,
   "id": "c13bab63",
   "metadata": {},
   "outputs": [
    {
     "name": "stdout",
     "output_type": "stream",
     "text": [
      "  915.931 ms (5389842 allocations: 318.47 MiB)\n"
     ]
    }
   ],
   "source": [
    "@btime VMat!(3.875)"
   ]
  },
  {
   "cell_type": "code",
   "execution_count": 21,
   "id": "c1d1fa22",
   "metadata": {},
   "outputs": [
    {
     "data": {
      "image/png": "[encoded data removed]"
     },
     "execution_count": 21,
     "metadata": {},
     "output_type": "execute_result"
    }
   ],
   "source": [
    "let Ev=collect(3.873:0.0001:mDn+mDsc-eps())\n",
    "    function tmpf(E)\n",
    "        VMat!(E)\n",
    "        Vmat[1,1]\n",
    "    end\n",
    "    \n",
    "    resv1=[tmpf(e+im*eps()) for e in Ev]\n",
    "    resv2=[tmpf(e-im*eps()) for e in Ev]\n",
    "    p1=plot(Ev,real.(resv1))\n",
    "    plot!(Ev,real.(resv2))\n",
    "    p2=plot(Ev,imag.(resv1))\n",
    "    plot!(Ev,imag.(resv2))\n",
    "    plot(p1,p2,layout=(1,2),size=(700,300))\n",
    "end"
   ]
  },
  {
   "cell_type": "code",
   "execution_count": 23,
   "id": "ea68eed9",
   "metadata": {},
   "outputs": [
    {
     "data": {
      "image/png": "[encoded data removed]"
     },
     "execution_count": 23,
     "metadata": {},
     "output_type": "execute_result"
    }
   ],
   "source": [
    "let Ev=collect(3.873:0.0001:mDn+mDsc-eps())\n",
    "    function tmpf(E)\n",
    "        VMat!(E)\n",
    "        Vmat[2,1+2*length(qi)]\n",
    "    end\n",
    "    \n",
    "    resv1=[tmpf(e+im*eps()) for e in Ev]\n",
    "    resv2=[tmpf(e-im*eps()) for e in Ev]\n",
    "    p1=plot(Ev,real.(resv1))\n",
    "    plot!(Ev,real.(resv2))\n",
    "    p2=plot(Ev,imag.(resv1))\n",
    "    plot!(Ev,imag.(resv2))\n",
    "    plot(p1,p2,layout=(1,2),size=(700,300))\n",
    "end"
   ]
  },
  {
   "cell_type": "code",
   "execution_count": 53,
   "id": "ed6ef140",
   "metadata": {},
   "outputs": [
    {
     "data": {
      "image/png": "[encoded data removed]"
     },
     "execution_count": 53,
     "metadata": {},
     "output_type": "execute_result"
    }
   ],
   "source": [
    "VMat!(3.875;Λ1=0.5)\n",
    "plot(real.(vec(Vmat[1:1,3:length(qi)])),label=false)\n",
    "plot!(imag.(vec(Vmat[1:1,3:length(qi)])),label=false)"
   ]
  },
  {
   "cell_type": "code",
   "execution_count": 57,
   "id": "854f2765",
   "metadata": {},
   "outputs": [
    {
     "data": {
      "image/png": "[encoded data removed]"
     },
     "execution_count": 57,
     "metadata": {},
     "output_type": "execute_result"
    }
   ],
   "source": [
    "VMat!(3.875;Λ1=0.5)\n",
    "plot(real.(diag(Vmat)[3+length(qi):2*length(qi)]),label=false)\n",
    "plot!(imag.(diag(Vmat)[3+length(qi):2*length(qi)]),label=false)"
   ]
  },
  {
   "cell_type": "code",
   "execution_count": 60,
   "id": "d6045223",
   "metadata": {},
   "outputs": [
    {
     "data": {
      "text/plain": [
       "90-element Vector{ComplexF64}:\n",
       "      155913.95322913723 + 0.0im\n",
       "       4.849417368850508 + 0.0im\n",
       "   -0.033010786916781804 + 0.0im\n",
       "    0.000794225709159556 + 0.0im\n",
       " -0.00020751670241786916 + 0.0im\n",
       "   1.0288671643414412e-5 + 0.0im\n",
       "   2.2088857312450557e-6 + 0.0im\n",
       "     3.63078999366083e-8 + 0.0im\n",
       "    6.219958462559854e-7 + 0.0im\n",
       "   1.3118800613751027e-6 + 0.0im\n",
       "   2.5488972372270073e-6 + 0.0im\n",
       "    4.506529560772152e-6 + 0.0im\n",
       "    7.362292178771686e-6 + 0.0im\n",
       "                         ⋮\n",
       "  3.0241422642781783e-29 + 0.0im\n",
       "  1.1393690250630046e-36 + 0.0im\n",
       "  1.0858478484439438e-47 + 0.0im\n",
       "    6.49008468632186e-65 + 0.0im\n",
       "  1.3684201461133767e-93 + 0.0im\n",
       " 2.6675641774782002e-145 + 0.0im\n",
       "  9.727640164822447e-249 + 0.0im\n",
       "                     0.0 + 0.0im\n",
       "                     0.0 + 0.0im\n",
       "                     0.0 + 0.0im\n",
       "                     0.0 + 0.0im\n",
       "                     0.0 + 0.0im"
      ]
     },
     "execution_count": 60,
     "metadata": {},
     "output_type": "execute_result"
    }
   ],
   "source": [
    "diag(Vmat)[3+length(qi):2*length(qi)]"
   ]
  },
  {
   "cell_type": "code",
   "execution_count": 61,
   "id": "c4a5b961",
   "metadata": {},
   "outputs": [
    {
     "data": {
      "text/plain": [
       "90-element Vector{ComplexF64}:\n",
       "      1.4205433667677163 + 0.0im\n",
       "      1.4203560213776103 + 0.0im\n",
       "      1.4193860870685326 + 0.0im\n",
       "      1.4165866402174188 + 0.0im\n",
       "      1.4105344255624253 + 0.0im\n",
       "       1.399537766693325 + 0.0im\n",
       "      1.3817879806810425 + 0.0im\n",
       "      1.3555517236164676 + 0.0im\n",
       "      1.3193910906394846 + 0.0im\n",
       "      1.2723859437144758 + 0.0im\n",
       "      1.2143227594583081 + 0.0im\n",
       "      1.1458109624304036 + 0.0im\n",
       "       1.068294851210073 + 0.0im\n",
       "                         ⋮\n",
       "  4.6490276617512375e-28 + 0.0im\n",
       "  1.3940315997672466e-35 + 0.0im\n",
       "  1.0498217902063444e-46 + 0.0im\n",
       "   4.929297478074593e-64 + 0.0im\n",
       "   8.135552344197141e-93 + 0.0im\n",
       " 1.2412229368189067e-144 + 0.0im\n",
       "  3.558054323252316e-248 + 0.0im\n",
       "                     0.0 + 0.0im\n",
       "                     0.0 + 0.0im\n",
       "                     0.0 + 0.0im\n",
       "                     0.0 + 0.0im\n",
       "                     0.0 + 0.0im"
      ]
     },
     "execution_count": 61,
     "metadata": {},
     "output_type": "execute_result"
    }
   ],
   "source": [
    "diag(Vmat)[3:length(qi)]"
   ]
  },
  {
   "cell_type": "code",
   "execution_count": 67,
   "id": "33bbe32e",
   "metadata": {},
   "outputs": [
    {
     "name": "stdout",
     "output_type": "stream",
     "text": [
      "0.0007766289813376237 + 0.0im\n",
      "0.0007766289813376237 + 0.0im\n",
      "9.590789610000002\n"
     ]
    },
    {
     "data": {
      "text/plain": [
       "155914.7055501708 + 0.0im"
      ]
     },
     "execution_count": 67,
     "metadata": {},
     "output_type": "execute_result"
    }
   ],
   "source": [
    "potential_DnDsc(3.875,qi[3],qi[3];cl=:dd)"
   ]
  },
  {
   "cell_type": "code",
   "execution_count": 66,
   "id": "cd9fd92d",
   "metadata": {},
   "outputs": [
    {
     "data": {
      "text/plain": [
       "pwa_central (generic function with 1 method)"
      ]
     },
     "execution_count": 66,
     "metadata": {},
     "output_type": "execute_result"
    }
   ],
   "source": [
    "function pwa_central(p, q, usq; cl = :ss)\n",
    "    println(p)\n",
    "    println(q)\n",
    "    println(usq)\n",
    "    ξ = (p^2 + q^2 + usq) / (2 * p * q)\n",
    "    tmp = zero(ComplexF64)\n",
    "    if cl == :ss\n",
    "        if iszero(p) || iszero(q)\n",
    "            tmp = 1 / (p^2 + q^2 + usq)\n",
    "        else\n",
    "            tmp = -1 / (4 * p * q) *(log(1-ξ)-log(-1-ξ))\n",
    "        end\n",
    "    elseif cl == :dd\n",
    "        if iszero(p) || iszero(q)\n",
    "            tmp = 0\n",
    "        else\n",
    "            tmp = -1 / (8 * p * q) * (6 * ξ + (-1 + 3 * ξ^2) *(log(1-ξ)-log(-1-ξ)))\n",
    "        end\n",
    "    end\n",
    "    return tmp\n",
    "end"
   ]
  },
  {
   "cell_type": "code",
   "execution_count": 68,
   "id": "a6aee99f",
   "metadata": {},
   "outputs": [
    {
     "data": {
      "text/plain": [
       "(2.203098814490545e-16 + 0.0im, 0.0)"
      ]
     },
     "execution_count": 68,
     "metadata": {},
     "output_type": "execute_result"
    }
   ],
   "source": [
    "let p=0.0007766289813376237 + 0.0im,q=0.0007766289813376237 + 0.0im,usq=9.590789610000002\n",
    "    quadgk(z->1/4*(3z^2-1)/(p^2+q^2-2*p*q*z+usq),-1,1)\n",
    "end"
   ]
  },
  {
   "cell_type": "code",
   "execution_count": 75,
   "id": "8e85fce5",
   "metadata": {},
   "outputs": [
    {
     "data": {
      "text/plain": [
       "(0.00021572754360784892 + 0.0im, 3.360776938121337e-5)"
      ]
     },
     "execution_count": 75,
     "metadata": {},
     "output_type": "execute_result"
    }
   ],
   "source": [
    "let p=0.0007766289813376237 + 0.0im,q=0.0007766289813376237 + 0.0im,usq=9.590789610000002\n",
    "    ξ = (p^2 + q^2 + usq) / (2 * p * q)\n",
    "    quadgk(z->-1/(8*p*q)*(3z+3ξ+(3ξ^2-1)/(z-ξ)),-1,1)\n",
    "end"
   ]
  },
  {
   "cell_type": "code",
   "execution_count": 77,
   "id": "b5806337",
   "metadata": {},
   "outputs": [
    {
     "data": {
      "text/plain": [
       "(2.19932699810886503170211307110766351445964942888649562920339828391007119099494e-16, 1.670859878465200253145278173775560904493529582977301086635071132852133765523121e-18)"
      ]
     },
     "execution_count": 77,
     "metadata": {},
     "output_type": "execute_result"
    }
   ],
   "source": [
    "let p=BigFloat(0.0007766289813376237),q=BigFloat(0.0007766289813376237),usq=BigFloat(9.590789610000002)\n",
    "    ξ = BigFloat((p^2 + q^2 + usq) / (2 * p * q))\n",
    "    quadgk(z->-1/(8*p*q)*(3z+3ξ+(3ξ^2-1)/(z-ξ)),-1,1)\n",
    "end"
   ]
  },
  {
   "cell_type": "code",
   "execution_count": 71,
   "id": "3a812150",
   "metadata": {},
   "outputs": [
    {
     "name": "stdout",
     "output_type": "stream",
     "text": [
      "7.950551170087141e6 + 0.0im\n"
     ]
    },
    {
     "data": {
      "text/plain": [
       "11443.953079826395 - 0.0im"
      ]
     },
     "execution_count": 71,
     "metadata": {},
     "output_type": "execute_result"
    }
   ],
   "source": [
    "let p=0.0007766289813376237 + 0.0im,q=0.0007766289813376237 + 0.0im,usq=9.590789610000002\n",
    "    \n",
    "    ξ = (p^2 + q^2 + usq) / (2 * p * q)\n",
    "    println(ξ)\n",
    "    -1 / (8 * p * q) * (6 * ξ + (-1 + 3 * ξ^2) *(log(1-ξ)-log(-1-ξ)))\n",
    "end"
   ]
  },
  {
   "cell_type": "code",
   "execution_count": 79,
   "id": "fbc72f0c",
   "metadata": {},
   "outputs": [
    {
     "name": "stdout",
     "output_type": "stream",
     "text": [
      "7.950551170087141e6 + 0.0im\n"
     ]
    },
    {
     "data": {
      "text/plain": [
       "11443.953079826395 - 0.0im"
      ]
     },
     "execution_count": 79,
     "metadata": {},
     "output_type": "execute_result"
    }
   ],
   "source": [
    "let p=0.0007766289813376237 + 0.0im,q=0.0007766289813376237 + 0.0im,usq=9.590789610000002\n",
    "    \n",
    "    ξ = (p^2 + q^2 + usq) / (2 * p * q)\n",
    "    println(ξ)\n",
    "    -1 / (8 * p * q) * (6 * ξ + (-1 + 3 * ξ^2) *(log(1-ξ)-log(-1-ξ)))\n",
    "end"
   ]
  },
  {
   "cell_type": "code",
   "execution_count": 81,
   "id": "13fd5430",
   "metadata": {},
   "outputs": [
    {
     "name": "stdout",
     "output_type": "stream",
     "text": [
      "7.950551170087140984833240509033203125e+06\n"
     ]
    },
    {
     "data": {
      "text/plain": [
       "2.199327191781943749787738925700574924161133241973812550557363012337833254868025e-16 - 0.0im"
      ]
     },
     "execution_count": 81,
     "metadata": {},
     "output_type": "execute_result"
    }
   ],
   "source": [
    "let p=0.0007766289813376237 + 0.0im,q=0.0007766289813376237 + 0.0im,usq=9.590789610000002\n",
    "    \n",
    "    ξ = BigFloat((p^2 + q^2 + usq) / (2 * p * q))\n",
    "    println(ξ)\n",
    "    -1 / (8 * p * q) * (6 * ξ + (-1 + 3 * ξ^2) *(log((ξ-1)/(ξ+1))))\n",
    "end"
   ]
  },
  {
   "cell_type": "code",
   "execution_count": 78,
   "id": "43a4674f",
   "metadata": {},
   "outputs": [
    {
     "name": "stdout",
     "output_type": "stream",
     "text": [
      "7.950551170087140337789962292043305930493605779978933346737523937424530851639073e+06\n"
     ]
    },
    {
     "data": {
      "text/plain": [
       "2.199327191781944315072781159168004537108394822664630834899515387612385674105915e-16"
      ]
     },
     "execution_count": 78,
     "metadata": {},
     "output_type": "execute_result"
    }
   ],
   "source": [
    "let p=BigFloat(0.0007766289813376237),q=BigFloat(0.0007766289813376237),usq=BigFloat(9.590789610000002)\n",
    "    \n",
    "    ξ = BigFloat((p^2 + q^2 + usq) / (2 * p * q))\n",
    "    println(ξ)\n",
    "    -1 / (8 * p * q) * (6 * ξ + (-1 + 3 * ξ^2) *(log(ξ-1)-log(1+ξ)))\n",
    "end"
   ]
  },
  {
   "cell_type": "code",
   "execution_count": 72,
   "id": "bda9b3f4",
   "metadata": {},
   "outputs": [
    {
     "name": "stdout",
     "output_type": "stream",
     "text": [
      "7.950551170087141e6 + 0.0im\n"
     ]
    },
    {
     "data": {
      "text/plain": [
       "2661.3477021623303 - 0.0im"
      ]
     },
     "execution_count": 72,
     "metadata": {},
     "output_type": "execute_result"
    }
   ],
   "source": [
    "let p=0.0007766289813376237 + 0.0im,q=0.0007766289813376237 + 0.0im,usq=9.590789610000002\n",
    "    \n",
    "    ξ = (p^2 + q^2 + usq) / (2 * p * q)\n",
    "    println(ξ)\n",
    "    -1 / (8 * p * q) * (6 * ξ + (-1 + 3 * ξ^2) *(log(-(1-ξ)/(1+ξ))))\n",
    "end"
   ]
  },
  {
   "cell_type": "code",
   "execution_count": 21,
   "id": "0bb57d8d",
   "metadata": {},
   "outputs": [
    {
     "data": {
      "text/plain": [
       "Gn (generic function with 1 method)"
      ]
     },
     "execution_count": 21,
     "metadata": {},
     "output_type": "execute_result"
    }
   ],
   "source": [
    "Gc(E,q)=1/(2π^2)/(E-mDn-mDsc-q^2/(2*μf(mDn,mDsc))+im*ΓDscf(E,q)/2)\n",
    "Gn(E,q)=1/(2π^2)/(E-mDc-mDsn-q^2/(2*μf(mDc,mDsn))+im*ΓDsnf(E,q)/2)"
   ]
  },
  {
   "cell_type": "code",
   "execution_count": 22,
   "id": "f64bba46",
   "metadata": {},
   "outputs": [
    {
     "data": {
      "text/plain": [
       "GMat! (generic function with 1 method)"
      ]
     },
     "execution_count": 22,
     "metadata": {},
     "output_type": "execute_result"
    }
   ],
   "source": [
    "function GMat!(E;qi=qi,wi=wi,des=Gmat)\n",
    "    find_qw(E)\n",
    "    sublen=length(qi)\n",
    "    μ1,μ2=μf(mDn,mDsc),μf(mDc,mDsn)\n",
    "    k1,k2=qi[1],qi[2]\n",
    "    \n",
    "    tmp=zero(ComplexF64)\n",
    "    \n",
    "    for i in 1:2\n",
    "        tmp=0.0+0.0im\n",
    "        for j in eachindex(wi)\n",
    "            tmp+=-wi[j]*k1^2*Gc(E,qi[2+j])\n",
    "            des[(i-1)*sublen+2+j,(i-1)*sublen+2+j]=wi[j]*qi[2+j]^2*Gc(E,qi[2+j])\n",
    "        end\n",
    "        tmp+=im/(2π)*k1^2/(-k1/μ1+im*dΓDscf(E,k1)/2)\n",
    "        des[(i-1)*sublen+1,(i-1)*sublen+1]=tmp\n",
    "    end\n",
    "    \n",
    "    for i in 3:4\n",
    "        tmp=0.0+0.0im\n",
    "        for j in eachindex(wi)\n",
    "            tmp-=wi[j]*k2^2*Gn(E,qi[2+j])\n",
    "            des[(i-1)*sublen+2+j,(i-1)*sublen+2+j]=wi[j]*qi[2+j]^2*Gn(E,qi[2+j])\n",
    "        end\n",
    "        tmp+=im/(2π)*k2^2/(-k2/μ2+im*dΓDsnf(E,k2)/2)\n",
    "        des[(i-1)*sublen+2,(i-1)*sublen+2]=tmp\n",
    "    end\n",
    "    \n",
    "    return nothing\n",
    "end"
   ]
  },
  {
   "cell_type": "code",
   "execution_count": 23,
   "id": "07a9701a",
   "metadata": {},
   "outputs": [
    {
     "name": "stdout",
     "output_type": "stream",
     "text": [
      "  107.375 μs (118 allocations: 8.19 KiB)\n"
     ]
    }
   ],
   "source": [
    "@btime GMat!(3.875)"
   ]
  },
  {
   "cell_type": "code",
   "execution_count": 24,
   "id": "7228e3f8",
   "metadata": {},
   "outputs": [
    {
     "data": {
      "image/png": "[encoded data removed]"
     },
     "execution_count": 24,
     "metadata": {},
     "output_type": "execute_result"
    }
   ],
   "source": [
    "let Ev=collect(3.873:0.0001:mDn+mDsc-eps())\n",
    "    function tmpf(E)\n",
    "        GMat!(E)\n",
    "        Gmat[1,1]\n",
    "    end\n",
    "    resv1=[tmpf(e+im*eps()) for e in Ev]\n",
    "    resv2=[tmpf(e-im*eps()) for e in Ev]\n",
    "\n",
    "    p1=plot(Ev,real.(resv1))\n",
    "    plot!(Ev,real.(resv2))\n",
    "    p2=plot(Ev,imag.(resv1))\n",
    "    plot!(Ev,imag.(resv2))\n",
    "    plot(p1,p2,layout=(1,2),size=(700,300))\n",
    "end"
   ]
  },
  {
   "cell_type": "code",
   "execution_count": 25,
   "id": "7a4b27db",
   "metadata": {},
   "outputs": [
    {
     "data": {
      "image/png": "[encoded data removed]"
     },
     "execution_count": 25,
     "metadata": {},
     "output_type": "execute_result"
    }
   ],
   "source": [
    "let Ev=collect(3.873:0.0001:mDn+mDsc-eps())\n",
    "    function tmpf(E)\n",
    "        GMat!(E)\n",
    "        Gmat[2+2*length(qi),2+2*length(qi)]\n",
    "    end\n",
    "    resv1=[tmpf(e+im*eps()) for e in Ev]\n",
    "    resv2=[tmpf(e-im*eps()) for e in Ev]\n",
    "\n",
    "    p1=plot(Ev,real.(resv1))\n",
    "    plot!(Ev,real.(resv2))\n",
    "    p2=plot(Ev,imag.(resv1))\n",
    "    plot!(Ev,imag.(resv2))\n",
    "    plot(p1,p2,layout=(1,2),size=(700,300))\n",
    "end"
   ]
  },
  {
   "cell_type": "code",
   "execution_count": 23,
   "id": "3cf5aaaf",
   "metadata": {},
   "outputs": [
    {
     "data": {
      "text/plain": [
       "detVG (generic function with 1 method)"
      ]
     },
     "execution_count": 23,
     "metadata": {},
     "output_type": "execute_result"
    }
   ],
   "source": [
    "function detVG(E;a = 0.0,a1=0.0,Λ1=0.5,Λ2=0.5,I=0)\n",
    "    VMat!(E;a=a,a1=a1,Λ1=Λ1,Λ2=Λ2,I=I)\n",
    "    GMat!(E)\n",
    "    return det(LinearAlgebra.I-Vmat*Gmat)\n",
    "end"
   ]
  },
  {
   "cell_type": "code",
   "execution_count": 24,
   "id": "d1d98567",
   "metadata": {},
   "outputs": [
    {
     "data": {
      "text/plain": [
       "TMat! (generic function with 1 method)"
      ]
     },
     "execution_count": 24,
     "metadata": {},
     "output_type": "execute_result"
    }
   ],
   "source": [
    "function TMat!(E;a = 0.0,a1=0.0,Λ1=0.5,Λ2=0.5,I=0,des=Tmat)\n",
    "    VMat!(E;a=a,a1=a1,Λ1=Λ1,Λ2=Λ2,I=I)\n",
    "    GMat!(E)\n",
    "    des .=inv(LinearAlgebra.I-Vmat*Gmat)*Vmat\n",
    "    return nothing\n",
    "end"
   ]
  },
  {
   "cell_type": "code",
   "execution_count": 28,
   "id": "84e7c7d3",
   "metadata": {},
   "outputs": [
    {
     "name": "stdout",
     "output_type": "stream",
     "text": [
      "  52.221 ms (248 allocations: 6.22 MiB)\n"
     ]
    },
    {
     "data": {
      "text/plain": [
       "0.8847530544632297 + 0.011217133255251565im"
      ]
     },
     "execution_count": 28,
     "metadata": {},
     "output_type": "execute_result"
    }
   ],
   "source": [
    "@btime detVG(3.875)"
   ]
  },
  {
   "cell_type": "code",
   "execution_count": 29,
   "id": "b076e121",
   "metadata": {},
   "outputs": [
    {
     "name": "stdout",
     "output_type": "stream",
     "text": [
      "  62.176 ms (254 allocations: 8.64 MiB)\n"
     ]
    }
   ],
   "source": [
    "@btime TMat!(3.875)"
   ]
  },
  {
   "cell_type": "code",
   "execution_count": 30,
   "id": "d165c07c",
   "metadata": {},
   "outputs": [
    {
     "data": {
      "image/png": "[encoded data removed]"
     },
     "execution_count": 30,
     "metadata": {},
     "output_type": "execute_result"
    }
   ],
   "source": [
    "let Ev=collect(3.873:0.0001:mDn+mDsc-eps())\n",
    "    function tmpf(E)\n",
    "        TMat!(E)\n",
    "        Tmat[1,1]\n",
    "    end\n",
    "    \n",
    "    resv1=[tmpf(e+im*eps()) for e in Ev]\n",
    "    resv2=[tmpf(e-im*eps()) for e in Ev]\n",
    "    p1=plot(Ev,real.(resv1))\n",
    "    plot!(Ev,real.(resv2))\n",
    "    p2=plot(Ev,imag.(resv1))\n",
    "    plot!(Ev,imag.(resv2))\n",
    "    plot(p1,p2,layout=(1,2),size=(700,300))\n",
    "end"
   ]
  },
  {
   "cell_type": "code",
   "execution_count": 31,
   "id": "7cce7762",
   "metadata": {},
   "outputs": [
    {
     "data": {
      "image/png": "[encoded data removed]"
     },
     "execution_count": 31,
     "metadata": {},
     "output_type": "execute_result"
    }
   ],
   "source": [
    "let Ev=collect(3.873:0.0001:mDn+mDsc-eps())\n",
    "    function tmpf(E)\n",
    "        TMat!(E)\n",
    "        Tmat[2+2*length(qi),2+2*length(qi)]\n",
    "    end\n",
    "    \n",
    "    resv1=[tmpf(e+im*eps()) for e in Ev]\n",
    "    resv2=[tmpf(e-im*eps()) for e in Ev]\n",
    "    p1=plot(Ev,real.(resv1))\n",
    "    plot!(Ev,real.(resv2))\n",
    "    p2=plot(Ev,imag.(resv1))\n",
    "    plot!(Ev,imag.(resv2))\n",
    "    plot(p1,p2,layout=(1,2),size=(700,300))\n",
    "end"
   ]
  },
  {
   "cell_type": "markdown",
   "id": "a967b09d",
   "metadata": {},
   "source": [
    "# parameters optimization"
   ]
  },
  {
   "cell_type": "code",
   "execution_count": 25,
   "id": "846bcff0",
   "metadata": {},
   "outputs": [],
   "source": [
    "using Optim;"
   ]
  },
  {
   "cell_type": "code",
   "execution_count": 27,
   "id": "dd40abb5",
   "metadata": {},
   "outputs": [
    {
     "data": {
      "text/plain": [
       "inv_abst (generic function with 1 method)"
      ]
     },
     "execution_count": 27,
     "metadata": {},
     "output_type": "execute_result"
    }
   ],
   "source": [
    "function inv_abst(x;E=mDn+mDsc-273e-6,I=0)\n",
    "    TMat!(E;a=x[1],a1=1.0,Λ1=x[2],Λ2=x[3],I=I)\n",
    "    return 1/abs(Tmat[1,1])\n",
    "end"
   ]
  },
  {
   "cell_type": "code",
   "execution_count": 30,
   "id": "7ef1455c",
   "metadata": {},
   "outputs": [
    {
     "data": {
      "text/plain": [
       "absdet (generic function with 1 method)"
      ]
     },
     "execution_count": 30,
     "metadata": {},
     "output_type": "execute_result"
    }
   ],
   "source": [
    "function absdet(x;E=mDn+mDsc-360e-6-im*24e-6,I=0)\n",
    "    abs(detVG(E;a=x[1],a1=1.0,Λ1=x[2],Λ2=x[3],I=I))\n",
    "end"
   ]
  },
  {
   "cell_type": "markdown",
   "id": "1e6cab47",
   "metadata": {},
   "source": [
    "## Test1:no pion"
   ]
  },
  {
   "cell_type": "markdown",
   "id": "3b065758",
   "metadata": {},
   "source": [
    "### same $\\Lambda$ and a=0.0"
   ]
  },
  {
   "cell_type": "code",
   "execution_count": 34,
   "id": "dca03881",
   "metadata": {},
   "outputs": [
    {
     "name": "stdout",
     "output_type": "stream",
     "text": [
      "0.13255043781168485\n",
      "[1.9750831364810006]\n"
     ]
    }
   ],
   "source": [
    "let \n",
    "#     tmpf(x)=inv_abst([0.0,x[1],x[1]])\n",
    "    tmpf(x)=absdet([0.0,x[1],x[1]];I=1)\n",
    "    init_val=[0.6]\n",
    "    lower=[0.3]\n",
    "    upper=[2.0]\n",
    "    res=Optim.optimize(tmpf,lower,upper,init_val)\n",
    "    println(Optim.minimum(res))\n",
    "    println(Optim.minimizer(res))\n",
    "end"
   ]
  },
  {
   "cell_type": "code",
   "execution_count": 38,
   "id": "b830a01f",
   "metadata": {},
   "outputs": [
    {
     "data": {
      "image/png": "[encoded data removed]"
     },
     "execution_count": 38,
     "metadata": {},
     "output_type": "execute_result"
    }
   ],
   "source": [
    "let Ev=collect(3.873:0.00001:3.877)\n",
    "    function tmpf(E)\n",
    "        TMat!(E;a=0.0,Λ1=1.8561901643569838,Λ2=1.8561901643569838,I=0)\n",
    "        abs(Tmat[1,1])\n",
    "    end\n",
    "    resv=[tmpf(e) for e in Ev]\n",
    "    plot(Ev,resv)\n",
    "    vline!([mDn+mDsc])\n",
    "end"
   ]
  },
  {
   "cell_type": "code",
   "execution_count": 52,
   "id": "357e6e48",
   "metadata": {},
   "outputs": [
    {
     "name": "stdout",
     "output_type": "stream",
     "text": [
      "0.00017663497155851723\n",
      "[1.557322675517814]\n"
     ]
    }
   ],
   "source": [
    "let \n",
    "    tmpf(x)=inv_abst([0.0,x[1],x[1]];I=0)\n",
    "    init_val=[0.6]\n",
    "    lower=[0.3]\n",
    "    upper=[2.0]\n",
    "    res=Optim.optimize(tmpf,lower,upper,init_val)\n",
    "    println(Optim.minimum(res))\n",
    "    println(Optim.minimizer(res))\n",
    "end\n",
    "#0.9561618779271188 : jpsi&I=1\n",
    "#0.858478497469796 : no jpsi&I=1\n",
    "#1.557322675517814 : no jpsi&I=0\n",
    "#1.8561901643569838 : jpsi&I=0"
   ]
  },
  {
   "cell_type": "code",
   "execution_count": 48,
   "id": "d783b8d7",
   "metadata": {},
   "outputs": [
    {
     "data": {
      "image/png": "[encoded data removed]"
     },
     "execution_count": 48,
     "metadata": {},
     "output_type": "execute_result"
    }
   ],
   "source": [
    "let Ev=collect(3.873:0.00005:3.877)\n",
    "    function tmpf(E)\n",
    "        TMat!(E;a=0.0,Λ1=0.858478497469796,Λ2=0.858478497469796,I=1)\n",
    "        abs(Tmat[1,1])\n",
    "    end\n",
    "    resv=[tmpf(e) for e in Ev]\n",
    "    plot(Ev,resv)\n",
    "    vline!([mDn+mDsc])\n",
    "end"
   ]
  },
  {
   "cell_type": "markdown",
   "id": "47f8d990",
   "metadata": {},
   "source": [
    "### same $\\Lambda$ and 0-a-1"
   ]
  },
  {
   "cell_type": "code",
   "execution_count": 55,
   "id": "c344a9d2",
   "metadata": {},
   "outputs": [
    {
     "name": "stdout",
     "output_type": "stream",
     "text": [
      "0.00017276235890662588\n",
      "[0.9999999997589334, 0.8949795727882751]\n"
     ]
    }
   ],
   "source": [
    "let \n",
    "    tmpf(x)=inv_abst([x[1],x[2],x[2]];I=0)\n",
    "    init_val=[0.01,0.5]\n",
    "    lower=[0.0,0.3]\n",
    "    upper=[1.0,2.0]\n",
    "    res=Optim.optimize(tmpf,lower,upper,init_val)\n",
    "    println(Optim.minimum(res))\n",
    "    println(Optim.minimizer(res))\n",
    "end"
   ]
  },
  {
   "cell_type": "code",
   "execution_count": null,
   "id": "37a5c332",
   "metadata": {},
   "outputs": [],
   "source": [
    "0.8584784976360713"
   ]
  },
  {
   "cell_type": "code",
   "execution_count": 50,
   "id": "ce9ce81d",
   "metadata": {},
   "outputs": [
    {
     "data": {
      "image/png": "[encoded data removed]"
     },
     "execution_count": 50,
     "metadata": {},
     "output_type": "execute_result"
    }
   ],
   "source": [
    "let Ev=collect(3.873:0.00005:3.877)\n",
    "    function tmpf(E)\n",
    "        TMat!(E;a=0.9999999997589334,Λ1=0.8949795727882751,Λ2=0.8949795727882751,I=0)\n",
    "        abs(Tmat[1,1])\n",
    "    end\n",
    "    resv=[tmpf(e) for e in Ev]\n",
    "    plot(Ev,resv)\n",
    "    vline!([mDn+mDsc])\n",
    "end"
   ]
  },
  {
   "cell_type": "markdown",
   "id": "b04d3493",
   "metadata": {},
   "source": [
    "# Test"
   ]
  },
  {
   "cell_type": "code",
   "execution_count": 81,
   "id": "13b185b0",
   "metadata": {},
   "outputs": [
    {
     "data": {
      "text/plain": [
       "potential_DDscross (generic function with 1 method)"
      ]
     },
     "execution_count": 81,
     "metadata": {},
     "output_type": "execute_result"
    }
   ],
   "source": [
    "# ----------------------------------------------------------DD*----------------------------------------------------#\n",
    "function potential_DnDsc(E,p, q; I=0, a=0,a1=1.0, cl=:ss)\n",
    "    q01, q02 = q0f(E, mDn, mDsc, mDn, mDsc), q0f(E, mDn, mDsc, mDsc, mDn)\n",
    "    res = zero(ComplexF64)\n",
    "#     res += -β^2 * gV^2 * (1 - q01^2 / mρn^2) / sqrt(16) * pwa_central(p, q, mρn^2 - q01^2; cl=cl)\n",
    "#     res += β^2 * gV^2 * (1 - q01^2 / mω^2) / sqrt(16) * pwa_central(p, q, mω^2 - q01^2; cl=cl)\n",
    "#     res += -4 * gs^2 / sqrt(16) * pwa_central(p, q, mσ^2 - q01^2; cl=cl)\n",
    "#     res += -4 * g^2 / fπ^2 / sqrt(16) * (pwa_tensor_deform(p, q, mπc^2 - q02^2; cl=cl) - a1 / 3 * pwa_contact(p, q, mπc^2 - q02^2; cl=cl)) * (I - 1 / 2) * 2\n",
    "#     res += ((2 * sqrt(2) * gV * gλ)^2 / sqrt(16) * (pwa_tensor(p, q, mρc^2 - q02^2; cl=cl) + 2 * a / 3 * pwa_contact(p, q, mρc^2 - q02^2; cl=cl)\n",
    "#                                                     -\n",
    "#                                                     pwa_square(p, q, mρc^2 - q02^2; cl=cl)) * (I - 1 / 2) * 2)\n",
    "    res += -β^2 * gV^2 * (1 - q01^2 / mJψ^2) / sqrt(16) * pwa_central(p, q, mJψ^2 - q01^2; cl=cl) * (-2)\n",
    "    return res\n",
    "end\n",
    "\n",
    "function potential_DcDsn(E,p, q; I=0, a=0,a1=1.0, cl=:ss)\n",
    "    q01, q02 = q0f(E, mDc, mDsn, mDc, mDsn), q0f(E, mDc, mDsn, mDsn, mDc)\n",
    "    res = zero(ComplexF64)\n",
    "\n",
    "    res += -β^2 * gV^2 * (1 - q01^2 / mρn^2) / sqrt(16) * pwa_central(p, q, mρn^2 - q01^2; cl=cl)\n",
    "    res += β^2 * gV^2 * (1 - q01^2 / mω^2) / sqrt(16) * pwa_central(p, q, mω^2 - q01^2; cl=cl)\n",
    "    res += -4 * gs^2 / sqrt(16) * pwa_central(p, q, mσ^2 - q01^2; cl=cl)\n",
    "#     res += -4 * g^2 / fπ^2 / sqrt(16) * (pwa_tensor_deform(p, q, mπc^2 - q02^2; cl=cl) - a1 / 3 * pwa_contact(p, q, mπc^2 - q02^2; cl=cl)) * (I - 1 / 2) * 2\n",
    "#     res += ((2 * sqrt(2) * gV * gλ)^2 / sqrt(16) * (pwa_tensor(p, q, mρc^2 - q02^2; cl=cl) + 2 * a / 3 * pwa_contact(p, q, mρc^2 - q02^2; cl=cl)\n",
    "#                                                     -\n",
    "#                                                     pwa_square(p, q, mρc^2 - q02^2; cl=cl)) * (I - 1 / 2) * 2)\n",
    "#     res += -β^2 * gV^2 * (1 - q01^2 / mJψ^2) / sqrt(16) * pwa_central(p, q, mJψ^2 - q01^2; cl=cl) * (-2)\n",
    "    return res\n",
    "end\n",
    "\n",
    "function potential_DDscross(E,p, q; I=0, a=0,a1=1.0, cl=:ss)\n",
    "    q01, q02 = q0f(E, mDn, mDsc, mDc, mDsn), q0f(E, mDn, mDsc, mDsn, mDc)\n",
    "    res = zero(ComplexF64)\n",
    "\n",
    "    res += 2 * β^2 * gV^2 * (1 - q01^2 / mρc^2) / sqrt(16) * pwa_central(p, q, mρc^2 - q01^2; cl=cl)\n",
    "#     res += 2 * g^2 / fπ^2 / sqrt(16) * (pwa_tensor_deform(p, q, mπn^2 - q02^2; cl=cl) - a1 / 3 * pwa_contact(p, q, mπn^2 - q02^2; cl=cl)) * (I - 1 / 2) * 2\n",
    "#     res += -2 * g^2 / (3fπ^2) / sqrt(16) * (pwa_tensor(p, q, mη^2 - q02^2; cl=cl) - a / 3 * pwa_contact(p, q, mη^2 - q02^2; cl=cl)) * (I - 1 / 2) * 2\n",
    "#     res += (-(2 * gV * gλ)^2 / sqrt(16) * (pwa_tensor(p, q, mρn^2 - q02^2; cl=cl) + 2 * a / 3 * pwa_contact(p, q, mρn^2 - q02^2; cl=cl)\n",
    "#                                            -\n",
    "#                                            pwa_square(p, q, mρn^2 - q02^2; cl=cl)) * (I - 1 / 2) * 2)\n",
    "#     res += ((2 * gV * gλ)^2 / sqrt(16) * (pwa_tensor(p, q, mω^2 - q02^2; cl=cl) + 2 * a / 3 * pwa_contact(p, q, mω^2 - q02^2; cl=cl)\n",
    "#                                           -\n",
    "#                                           pwa_square(p, q, mω^2 - q02^2; cl=cl)) * (I - 1 / 2) * 2)\n",
    "#     #ηc,J/ψ\n",
    "#     res += 2 * g^2 / fπ^2 / sqrt(16) * (pwa_tensor(p, q, mηc^2 - q02^2; cl=cl) - a / 3 * pwa_contact(p, q, mηc^2 - q02^2; cl=cl)) * (-2) * (I - 1 / 2) * 2\n",
    "#     res += (-(2 * gV * gλ)^2 / sqrt(16) * (pwa_tensor(p, q, mJψ^2 - q02^2; cl=cl) + 2 * a / 3 * pwa_contact(p, q, mJψ^2 - q02^2; cl=cl)\n",
    "#                                            -\n",
    "#                                            pwa_square(p, q, mJψ^2 - q02^2; cl=cl)) * (I - 1 / 2) * 2*(-2))\n",
    "    return res\n",
    "end"
   ]
  },
  {
   "cell_type": "code",
   "execution_count": 45,
   "id": "042f06e8",
   "metadata": {},
   "outputs": [
    {
     "data": {
      "image/png": "[encoded data removed]"
     },
     "execution_count": 45,
     "metadata": {},
     "output_type": "execute_result"
    }
   ],
   "source": [
    "let E=3.875,p=qon_c(E)\n",
    "    plot(q->real(potential_DnDsc(E,p, q; I=0, a=0,a1=0.0, cl=:ss)),0,2)\n",
    "    plot!(q->imag(potential_DnDsc(E,p, q; I=0, a=0,a1=0.0, cl=:ss)),0,2)\n",
    "    hline!([real(potential_DnDsc(E,p, p; I=0, a=0,a1=0.0, cl=:ss))])\n",
    "    hline!([imag(potential_DnDsc(E,p, p; I=0, a=0,a1=0.0, cl=:ss))])\n",
    "end"
   ]
  },
  {
   "cell_type": "code",
   "execution_count": 46,
   "id": "3ffe5a20",
   "metadata": {},
   "outputs": [
    {
     "data": {
      "image/png": "[encoded data removed]"
     },
     "execution_count": 46,
     "metadata": {},
     "output_type": "execute_result"
    }
   ],
   "source": [
    "let E=3.875,p=qon_c(E),Λ=0.5\n",
    "    plot(q->real(potential_DnDsc(E,p, q; I=0, a=0,a1=0.0, cl=:ss)*exp(-p^2/Λ^2-q^2/Λ^2)),0,2)\n",
    "    plot!(q->imag(potential_DnDsc(E,p, q; I=0, a=0,a1=0.0, cl=:ss)*exp(-p^2/Λ^2-q^2/Λ^2)),0,2)\n",
    "end"
   ]
  },
  {
   "cell_type": "code",
   "execution_count": 47,
   "id": "c520c8a5",
   "metadata": {},
   "outputs": [
    {
     "data": {
      "image/png": "[encoded data removed]"
     },
     "execution_count": 47,
     "metadata": {},
     "output_type": "execute_result"
    }
   ],
   "source": [
    "let E=mDn+mDsc-360e-6-im*24e-6,p=qon_c(E),Λ=0.5\n",
    "    plot(q->real(potential_DnDsc(E,p, q; I=0, a=0,a1=0.0, cl=:ss)*exp(-p^2/Λ^2-q^2/Λ^2)),0,2)\n",
    "    plot!(q->imag(potential_DnDsc(E,p, q; I=0, a=0,a1=0.0, cl=:ss)*exp(-p^2/Λ^2-q^2/Λ^2)),0,2)\n",
    "end"
   ]
  },
  {
   "cell_type": "code",
   "execution_count": 52,
   "id": "3956d136",
   "metadata": {},
   "outputs": [
    {
     "data": {
      "image/png": "[encoded data removed]"
     },
     "execution_count": 52,
     "metadata": {},
     "output_type": "execute_result"
    }
   ],
   "source": [
    "let E=3.875,p=qon_c(E),Λ=0.5\n",
    "    plot(broadcast(q->real(potential_DnDsc(E,p, q; I=0, a=0,a1=0.0, cl=:ss)*exp(-p^2/Λ^2-q^2/Λ^2)),qi[3:end]))\n",
    "    plot!(broadcast(q->imag(potential_DnDsc(E,p, q; I=0, a=0,a1=0.0, cl=:ss)*exp(-p^2/Λ^2-q^2/Λ^2)),qi[3:end]))\n",
    "end"
   ]
  },
  {
   "cell_type": "code",
   "execution_count": null,
   "id": "0facaafd",
   "metadata": {},
   "outputs": [],
   "source": []
  }
 ],
 "metadata": {
  "@webio": {
   "lastCommId": null,
   "lastKernelId": null
  },
  "kernelspec": {
   "display_name": "Julia 1.8.0-rc1",
   "language": "julia",
   "name": "julia-1.8"
  },
  "language_info": {
   "file_extension": ".jl",
   "mimetype": "application/julia",
   "name": "julia",
   "version": "1.8.0"
  },
  "toc": {
   "base_numbering": 1,
   "nav_menu": {},
   "number_sections": true,
   "sideBar": true,
   "skip_h1_title": false,
   "title_cell": "Table of Contents",
   "title_sidebar": "Contents",
   "toc_cell": false,
   "toc_position": {
    "height": "calc(100% - 180px)",
    "left": "10px",
    "top": "150px",
    "width": "165px"
   },
   "toc_section_display": true,
   "toc_window_display": false
  }
 },
 "nbformat": 4,
 "nbformat_minor": 5
}
