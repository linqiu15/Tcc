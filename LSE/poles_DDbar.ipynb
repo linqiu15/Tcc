{
 "cells": [
  {
   "cell_type": "code",
   "execution_count": 1,
   "id": "79c460b0",
   "metadata": {},
   "outputs": [],
   "source": [
    "using QuadGK,LaTeXStrings,LinearAlgebra,BenchmarkTools;\n",
    "using Plots;\n",
    "using CSV,DataFrames;\n",
    "import NLsolve,Roots;\n",
    "pyplot(frame=:box,size=(500,350));"
   ]
  },
  {
   "cell_type": "code",
   "execution_count": 2,
   "id": "24be46f7",
   "metadata": {},
   "outputs": [],
   "source": [
    "include(\"./libs/constants.jl\");\n",
    "include(\"./libs/pwa.jl\");\n",
    "include(\"./libs/potentials.jl\");"
   ]
  },
  {
   "cell_type": "code",
   "execution_count": 3,
   "id": "49f1211b",
   "metadata": {},
   "outputs": [
    {
     "data": {
      "text/plain": [
       "xsqrt (generic function with 1 method)"
      ]
     },
     "execution_count": 3,
     "metadata": {},
     "output_type": "execute_result"
    }
   ],
   "source": [
    "λf(x, y, z) = x^2 + y^2 + z^2 - 2 * x * y - 2 * x * z - 2 * y * z\n",
    "q0f(E, m1, m2, m3, m4) = abs(m3^2 - m4^2 - m1^2 + m2^2) / (2 * E)\n",
    "μf(m1, m2) = m1 * m2 / (m1 + m2)\n",
    "\n",
    "# redefine sqrt so that its cut is along the positive x axis\n",
    "function xsqrt(x)\n",
    "    imag(x) >=0 ? sqrt(x+0im) : -sqrt(x-0im)\n",
    "end"
   ]
  },
  {
   "cell_type": "markdown",
   "id": "3bb1966f",
   "metadata": {},
   "source": [
    "# VGT"
   ]
  },
  {
   "cell_type": "code",
   "execution_count": 4,
   "id": "515f7f30",
   "metadata": {},
   "outputs": [
    {
     "data": {
      "text/plain": [
       "qon_c (generic function with 1 method)"
      ]
     },
     "execution_count": 4,
     "metadata": {},
     "output_type": "execute_result"
    }
   ],
   "source": [
    "qon_0(E)=xsqrt(2*μf(mDn,mDn)*(E-mDn-mDn))\n",
    "qon_c(E)=xsqrt(2*μf(mDc,mDc)*(E-mDc-mDc))"
   ]
  },
  {
   "cell_type": "code",
   "execution_count": 5,
   "id": "da66e887",
   "metadata": {},
   "outputs": [],
   "source": [
    "xxx,www=gauss(50,0,1);"
   ]
  },
  {
   "cell_type": "code",
   "execution_count": 6,
   "id": "f912d1de",
   "metadata": {},
   "outputs": [],
   "source": [
    "qi=zeros(ComplexF64,length(xxx)+2);\n",
    "wi=zeros(ComplexF64,length(xxx));\n",
    "len=length(xxx);\n",
    "sublen=length(qi);"
   ]
  },
  {
   "cell_type": "code",
   "execution_count": 7,
   "id": "4e398a13",
   "metadata": {},
   "outputs": [
    {
     "data": {
      "text/plain": [
       "find_qw (generic function with 1 method)"
      ]
     },
     "execution_count": 7,
     "metadata": {},
     "output_type": "execute_result"
    }
   ],
   "source": [
    "function find_qw(E,Λ;rs=1,qi=qi,wi=wi)\n",
    "    qi[1],qi[2]=qon_0(E)*(-1)^(rs+1),qon_c(E)\n",
    "    for i in eachindex(xxx)\n",
    "        qi[i+2]=Λ*xxx[i]\n",
    "        wi[i]=Λ*www[i]\n",
    "    end\n",
    "    nothing\n",
    "end"
   ]
  },
  {
   "cell_type": "code",
   "execution_count": 8,
   "id": "f5472d9a",
   "metadata": {},
   "outputs": [],
   "source": [
    "Vmat=zeros(ComplexF64,2*sublen,2*sublen);\n",
    "Gmat=zeros(ComplexF64,2*sublen,2*sublen);\n",
    "Tmat=zeros(ComplexF64,2*sublen,2*sublen);"
   ]
  },
  {
   "cell_type": "code",
   "execution_count": 9,
   "id": "3641d2a4",
   "metadata": {},
   "outputs": [
    {
     "data": {
      "text/plain": [
       "VMat! (generic function with 1 method)"
      ]
     },
     "execution_count": 9,
     "metadata": {},
     "output_type": "execute_result"
    }
   ],
   "source": [
    "function VMat!(E;rs=1,Λ=0.5,plist=qi,des=Vmat)\n",
    "    find_qw(E,Λ;rs=rs)\n",
    "\n",
    "    for l in eachindex(plist)\n",
    "        for m in eachindex(plist)\n",
    "            i,j=0,0\n",
    "            des[i*sublen+l, j*sublen+m] = potential_DDbarn(E,plist[l], plist[m])\n",
    "            i,j=0,1\n",
    "            des[i*sublen+l, j*sublen+m] = potential_DDbarcross(E,plist[l], plist[m])\n",
    "            i,j=1,0\n",
    "            des[i*sublen+l, j*sublen+m] = potential_DDbarcross(E,plist[l], plist[m])\n",
    "            i,j=1,1\n",
    "            des[i*sublen+l, j*sublen+m] = potential_DDbarc(E,plist[l], plist[m])\n",
    "        end\n",
    "    end\n",
    "    return nothing\n",
    "end"
   ]
  },
  {
   "cell_type": "code",
   "execution_count": 10,
   "id": "fcee24bc",
   "metadata": {},
   "outputs": [
    {
     "data": {
      "text/plain": [
       "Gc (generic function with 1 method)"
      ]
     },
     "execution_count": 10,
     "metadata": {},
     "output_type": "execute_result"
    }
   ],
   "source": [
    "Gn(E,q)=1/(2π^2)/(E-mDn-mDn-q^2/(2*μf(mDn,mDn)))\n",
    "Gc(E,q)=1/(2π^2)/(E-mDc-mDc-q^2/(2*μf(mDc,mDc)))"
   ]
  },
  {
   "cell_type": "code",
   "execution_count": 11,
   "id": "9408349b",
   "metadata": {},
   "outputs": [
    {
     "data": {
      "text/plain": [
       "GMat! (generic function with 1 method)"
      ]
     },
     "execution_count": 11,
     "metadata": {},
     "output_type": "execute_result"
    }
   ],
   "source": [
    "function GMat!(E;rs=1,Λ=0.5,qi=qi,wi=wi,des=Gmat)\n",
    "    find_qw(E,Λ;rs=rs)\n",
    "    μ1,μ2=μf(mDn,mDn),μf(mDc,mDc)\n",
    "    k1,k2=qi[1],qi[2]\n",
    "    \n",
    "    tmp=zero(ComplexF64)\n",
    "    \n",
    "    for j in eachindex(wi)\n",
    "        des[2+j,2+j]=wi[j]*qi[2+j]^2*Gn(E,qi[2+j])\n",
    "        tmp+=-wi[j]*k1^2*Gn(E,qi[2+j])\n",
    "    end\n",
    "    des[1,1]=tmp+μ1*k1/(2π^2)*(log((Λ+k1)/(Λ-k1))-im*π)\n",
    "    \n",
    "    tmp=0.0+0.0im\n",
    "    for j in eachindex(wi)\n",
    "        des[sublen+2+j,sublen+2+j]=wi[j]*qi[2+j]^2*Gc(E,qi[2+j])\n",
    "        tmp+=-wi[j]*k2^2*Gc(E,qi[2+j])\n",
    "    end\n",
    "    des[2+sublen,2+sublen]=tmp+μ2*k2/(2π^2)*(log((Λ+k2)/(Λ-k2))-im*π)\n",
    "    \n",
    "    return nothing\n",
    "end"
   ]
  },
  {
   "cell_type": "code",
   "execution_count": 12,
   "id": "e455817e",
   "metadata": {},
   "outputs": [
    {
     "data": {
      "text/plain": [
       "detVG (generic function with 1 method)"
      ]
     },
     "execution_count": 12,
     "metadata": {},
     "output_type": "execute_result"
    }
   ],
   "source": [
    "function detVG(E;rs=1,Λ=0.5)\n",
    "    VMat!(E;rs=rs,Λ=Λ)\n",
    "    GMat!(E;rs=rs,Λ=Λ)\n",
    "    return det(LinearAlgebra.I-Vmat*Gmat)\n",
    "end"
   ]
  },
  {
   "cell_type": "code",
   "execution_count": 13,
   "id": "d5866abf",
   "metadata": {},
   "outputs": [
    {
     "data": {
      "text/plain": [
       "TMat! (generic function with 1 method)"
      ]
     },
     "execution_count": 13,
     "metadata": {},
     "output_type": "execute_result"
    }
   ],
   "source": [
    "function TMat!(E;rs=1,Λ=0.5,des=Tmat)\n",
    "    VMat!(E;rs=rs,Λ=Λ)\n",
    "    GMat!(E;rs=rs,Λ=Λ)\n",
    "    des .=inv(LinearAlgebra.I-Vmat*Gmat)*Vmat\n",
    "    nothing\n",
    "end"
   ]
  },
  {
   "cell_type": "markdown",
   "id": "9eaa5499",
   "metadata": {},
   "source": [
    "# Parameter study"
   ]
  },
  {
   "cell_type": "code",
   "execution_count": 14,
   "id": "bf8b4524",
   "metadata": {},
   "outputs": [
    {
     "data": {
      "text/plain": [
       "find_poles (generic function with 1 method)"
      ]
     },
     "execution_count": 14,
     "metadata": {},
     "output_type": "execute_result"
    }
   ],
   "source": [
    "function find_poles(pars)\n",
    "    _rs,_lam=pars\n",
    "    function f!(F, x)\n",
    "        e, γ = x\n",
    "        tmp = detVG(e + im * γ; Λ = _lam,rs = _rs)\n",
    "        F[1] = real(tmp)\n",
    "        F[2] = imag(tmp)\n",
    "    end\n",
    "    tmp=NLsolve.nlsolve((F, x) -> f!(F, x), [mDn + mDn - 1e-3, 0.0])\n",
    "    return tmp.residual_norm <1e-8 ? (tmp.zero[1]-mDn-mDn)+im*tmp.zero[2] : NaN+im*NaN\n",
    "end"
   ]
  },
  {
   "cell_type": "code",
   "execution_count": 18,
   "id": "13764563",
   "metadata": {},
   "outputs": [
    {
     "data": {
      "text/plain": [
       "-0.0002951132084145769 - 4.733390109663075e-20im"
      ]
     },
     "execution_count": 18,
     "metadata": {},
     "output_type": "execute_result"
    }
   ],
   "source": [
    "find_poles([1,0.35])"
   ]
  },
  {
   "cell_type": "code",
   "execution_count": 15,
   "id": "2e9bea80",
   "metadata": {},
   "outputs": [
    {
     "data": {
      "text/plain": [
       "-0.002318438538596368 + 4.033258011958369e-20im"
      ]
     },
     "execution_count": 15,
     "metadata": {},
     "output_type": "execute_result"
    }
   ],
   "source": [
    "find_poles([1,0.4])"
   ]
  },
  {
   "cell_type": "code",
   "execution_count": 15,
   "id": "abc9f349",
   "metadata": {},
   "outputs": [
    {
     "data": {
      "text/plain": [
       "-0.01748696919977588 + 1.6015009005021375e-18im"
      ]
     },
     "execution_count": 15,
     "metadata": {},
     "output_type": "execute_result"
    }
   ],
   "source": [
    "find_poles([1,0.55])"
   ]
  },
  {
   "cell_type": "code",
   "execution_count": 23,
   "id": "e0c8ab29",
   "metadata": {},
   "outputs": [
    {
     "data": {
      "text/plain": [
       "-0.04322924870675138 + 1.863443692484591e-17im"
      ]
     },
     "execution_count": 23,
     "metadata": {},
     "output_type": "execute_result"
    }
   ],
   "source": [
    "find_poles([1,0.7])"
   ]
  },
  {
   "cell_type": "code",
   "execution_count": 17,
   "id": "a90a6c85",
   "metadata": {},
   "outputs": [
    {
     "data": {
      "text/plain": [
       "-6.638735498285477e-12 + 1.9175348317749362e-17im"
      ]
     },
     "execution_count": 17,
     "metadata": {},
     "output_type": "execute_result"
    }
   ],
   "source": [
    "detVG(mDn+mDn-0.002318438538596368 + 4.033258011958369e-20im;rs=1,Λ=0.4)"
   ]
  },
  {
   "cell_type": "code",
   "execution_count": 18,
   "id": "8b5f82ad",
   "metadata": {},
   "outputs": [
    {
     "data": {
      "text/plain": [
       "-0.00869215590294646 + 1.9449301146603262e-17im"
      ]
     },
     "execution_count": 18,
     "metadata": {},
     "output_type": "execute_result"
    }
   ],
   "source": [
    "let\n",
    "    v11=@view Vmat[1:sublen,1:sublen]\n",
    "    v12=@view Vmat[1:sublen,1+sublen:2*sublen]\n",
    "    g11=@view Gmat[1:sublen,1:sublen]\n",
    "    g22=@view Gmat[1+sublen:2*sublen,1+sublen:2*sublen]\n",
    "    det(LinearAlgebra.I-v11*g11-v12*g22)\n",
    "end"
   ]
  },
  {
   "cell_type": "code",
   "execution_count": 18,
   "id": "27732711",
   "metadata": {},
   "outputs": [
    {
     "data": {
      "text/plain": [
       "0.7592287349674851 - 2.609732084446329e-17im"
      ]
     },
     "execution_count": 18,
     "metadata": {},
     "output_type": "execute_result"
    }
   ],
   "source": [
    "let\n",
    "    v11=@view Vmat[1:sublen,1:sublen]\n",
    "    v12=@view Vmat[1:sublen,1+sublen:2*sublen]\n",
    "    g11=@view Gmat[1:sublen,1:sublen]\n",
    "    g22=@view Gmat[1+sublen:2*sublen,1+sublen:2*sublen]\n",
    "    det(LinearAlgebra.I-v11*g11+v12*g22)\n",
    "end"
   ]
  },
  {
   "cell_type": "markdown",
   "id": "20a2293a",
   "metadata": {},
   "source": [
    "## poles"
   ]
  },
  {
   "cell_type": "code",
   "execution_count": 19,
   "id": "bcb9f86d",
   "metadata": {},
   "outputs": [],
   "source": [
    "Λv=collect(0.3:0.05:1.2);"
   ]
  },
  {
   "cell_type": "code",
   "execution_count": 20,
   "id": "43d593a8",
   "metadata": {},
   "outputs": [],
   "source": [
    "poles_rs1=[find_poles([1,λ]) for λ in Λv];\n",
    "poles_rs2=[find_poles([2,λ]) for λ in Λv];"
   ]
  },
  {
   "cell_type": "code",
   "execution_count": 21,
   "id": "6805055b",
   "metadata": {},
   "outputs": [
    {
     "data": {
      "image/png": "[encoded data removed]"
     },
     "execution_count": 21,
     "metadata": {},
     "output_type": "execute_result"
    }
   ],
   "source": [
    "plot(xlabel=\"Λ[GeV]\",ylabel=L\"E_B[GeV]\",title=L\"LSE\\ solution\\ of\\ D\\bar{D}(I=0)\")\n",
    "plot!(Λv,real.(poles_rs1),label=\"RSI:bound\")\n",
    "plot!(Λv,real.(poles_rs2),label=\"RSII:virtual\")"
   ]
  },
  {
   "cell_type": "markdown",
   "id": "a5dafd00",
   "metadata": {},
   "source": [
    "# Parameters from $T_{cc}^+$"
   ]
  },
  {
   "cell_type": "code",
   "execution_count": 18,
   "id": "b4673c37",
   "metadata": {},
   "outputs": [
    {
     "data": {
      "text/html": [
       "<div><div style = \"float: left;\"><span>21×5 DataFrame</span></div><div style = \"clear: both;\"></div></div><div class = \"data-frame\" style = \"overflow-x: scroll;\"><table class = \"data-frame\" style = \"margin-bottom: 6px;\"><thead><tr class = \"header\"><th class = \"rowNumber\" style = \"font-weight: bold; text-align: right;\">Row</th><th style = \"text-align: left;\">Λ</th><th style = \"text-align: left;\">cv</th><th style = \"text-align: left;\">cp</th><th style = \"text-align: left;\">chi2</th><th style = \"text-align: left;\">δΛ</th></tr><tr class = \"subheader headerLastRow\"><th class = \"rowNumber\" style = \"font-weight: bold; text-align: right;\"></th><th title = \"Float64\" style = \"text-align: left;\">Float64</th><th title = \"Float64\" style = \"text-align: left;\">Float64</th><th title = \"Float64\" style = \"text-align: left;\">Float64</th><th title = \"Float64\" style = \"text-align: left;\">Float64</th><th title = \"Float64\" style = \"text-align: left;\">Float64</th></tr></thead><tbody><tr><td class = \"rowNumber\" style = \"font-weight: bold; text-align: right;\">1</td><td style = \"text-align: right;\">0.396144</td><td style = \"text-align: right;\">0.0</td><td style = \"text-align: right;\">0.0</td><td style = \"text-align: right;\">14.6907</td><td style = \"text-align: right;\">0.0010708</td></tr><tr><td class = \"rowNumber\" style = \"font-weight: bold; text-align: right;\">2</td><td style = \"text-align: right;\">0.406574</td><td style = \"text-align: right;\">0.05</td><td style = \"text-align: right;\">0.0</td><td style = \"text-align: right;\">14.7925</td><td style = \"text-align: right;\">9.35406e-6</td></tr><tr><td class = \"rowNumber\" style = \"font-weight: bold; text-align: right;\">3</td><td style = \"text-align: right;\">0.418013</td><td style = \"text-align: right;\">0.1</td><td style = \"text-align: right;\">0.0</td><td style = \"text-align: right;\">14.8565</td><td style = \"text-align: right;\">0.00106976</td></tr><tr><td class = \"rowNumber\" style = \"font-weight: bold; text-align: right;\">4</td><td style = \"text-align: right;\">0.427908</td><td style = \"text-align: right;\">0.15</td><td style = \"text-align: right;\">0.0</td><td style = \"text-align: right;\">16.0446</td><td style = \"text-align: right;\">0.00091588</td></tr><tr><td class = \"rowNumber\" style = \"font-weight: bold; text-align: right;\">5</td><td style = \"text-align: right;\">0.443976</td><td style = \"text-align: right;\">0.2</td><td style = \"text-align: right;\">0.0</td><td style = \"text-align: right;\">14.967</td><td style = \"text-align: right;\">0.00103724</td></tr><tr><td class = \"rowNumber\" style = \"font-weight: bold; text-align: right;\">6</td><td style = \"text-align: right;\">0.458998</td><td style = \"text-align: right;\">0.25</td><td style = \"text-align: right;\">0.0</td><td style = \"text-align: right;\">15.0305</td><td style = \"text-align: right;\">3.87699e-5</td></tr><tr><td class = \"rowNumber\" style = \"font-weight: bold; text-align: right;\">7</td><td style = \"text-align: right;\">0.475823</td><td style = \"text-align: right;\">0.3</td><td style = \"text-align: right;\">0.0</td><td style = \"text-align: right;\">15.0499</td><td style = \"text-align: right;\">0.00108523</td></tr><tr><td class = \"rowNumber\" style = \"font-weight: bold; text-align: right;\">8</td><td style = \"text-align: right;\">0.491791</td><td style = \"text-align: right;\">0.35</td><td style = \"text-align: right;\">0.0</td><td style = \"text-align: right;\">16.1788</td><td style = \"text-align: right;\">0.00103412</td></tr><tr><td class = \"rowNumber\" style = \"font-weight: bold; text-align: right;\">9</td><td style = \"text-align: right;\">0.513466</td><td style = \"text-align: right;\">0.4</td><td style = \"text-align: right;\">0.0</td><td style = \"text-align: right;\">16.2047</td><td style = \"text-align: right;\">0.00128803</td></tr><tr><td class = \"rowNumber\" style = \"font-weight: bold; text-align: right;\">10</td><td style = \"text-align: right;\">0.539005</td><td style = \"text-align: right;\">0.45</td><td style = \"text-align: right;\">0.0</td><td style = \"text-align: right;\">16.0857</td><td style = \"text-align: right;\">0.00128303</td></tr><tr><td class = \"rowNumber\" style = \"font-weight: bold; text-align: right;\">11</td><td style = \"text-align: right;\">0.574055</td><td style = \"text-align: right;\">0.5</td><td style = \"text-align: right;\">0.0</td><td style = \"text-align: right;\">14.8931</td><td style = \"text-align: right;\">0.000119612</td></tr><tr><td class = \"rowNumber\" style = \"font-weight: bold; text-align: right;\">12</td><td style = \"text-align: right;\">0.60894</td><td style = \"text-align: right;\">0.55</td><td style = \"text-align: right;\">0.0</td><td style = \"text-align: right;\">16.1296</td><td style = \"text-align: right;\">0.00172532</td></tr><tr><td class = \"rowNumber\" style = \"font-weight: bold; text-align: right;\">13</td><td style = \"text-align: right;\">0.661921</td><td style = \"text-align: right;\">0.6</td><td style = \"text-align: right;\">0.0</td><td style = \"text-align: right;\">16.2679</td><td style = \"text-align: right;\">0.000523199</td></tr><tr><td class = \"rowNumber\" style = \"font-weight: bold; text-align: right;\">14</td><td style = \"text-align: right;\">0.756395</td><td style = \"text-align: right;\">0.65</td><td style = \"text-align: right;\">0.0</td><td style = \"text-align: right;\">15.1383</td><td style = \"text-align: right;\">0.000428152</td></tr><tr><td class = \"rowNumber\" style = \"font-weight: bold; text-align: right;\">15</td><td style = \"text-align: right;\">1.42863</td><td style = \"text-align: right;\">0.7</td><td style = \"text-align: right;\">0.0</td><td style = \"text-align: right;\">14.7328</td><td style = \"text-align: right;\">0.0330566</td></tr><tr><td class = \"rowNumber\" style = \"font-weight: bold; text-align: right;\">16</td><td style = \"text-align: right;\">1.81211</td><td style = \"text-align: right;\">0.75</td><td style = \"text-align: right;\">0.0</td><td style = \"text-align: right;\">21.5649</td><td style = \"text-align: right;\">2.15192e-5</td></tr><tr><td class = \"rowNumber\" style = \"font-weight: bold; text-align: right;\">17</td><td style = \"text-align: right;\">0.443536</td><td style = \"text-align: right;\">0.8</td><td style = \"text-align: right;\">0.0</td><td style = \"text-align: right;\">77.6402</td><td style = \"text-align: right;\">0.00146886</td></tr><tr><td class = \"rowNumber\" style = \"font-weight: bold; text-align: right;\">18</td><td style = \"text-align: right;\">2.01867</td><td style = \"text-align: right;\">0.85</td><td style = \"text-align: right;\">0.0</td><td style = \"text-align: right;\">18.9657</td><td style = \"text-align: right;\">0.00451773</td></tr><tr><td class = \"rowNumber\" style = \"font-weight: bold; text-align: right;\">19</td><td style = \"text-align: right;\">0.831884</td><td style = \"text-align: right;\">0.9</td><td style = \"text-align: right;\">0.0</td><td style = \"text-align: right;\">76.9442</td><td style = \"text-align: right;\">0.00600471</td></tr><tr><td class = \"rowNumber\" style = \"font-weight: bold; text-align: right;\">20</td><td style = \"text-align: right;\">0.437352</td><td style = \"text-align: right;\">0.95</td><td style = \"text-align: right;\">0.0</td><td style = \"text-align: right;\">77.592</td><td style = \"text-align: right;\">0.0135878</td></tr><tr><td class = \"rowNumber\" style = \"font-weight: bold; text-align: right;\">21</td><td style = \"text-align: right;\">0.455124</td><td style = \"text-align: right;\">1.0</td><td style = \"text-align: right;\">0.0</td><td style = \"text-align: right;\">77.5427</td><td style = \"text-align: right;\">0.00238734</td></tr></tbody></table></div>"
      ],
      "text/latex": [
       "\\begin{tabular}{r|ccccc}\n",
       "\t& Λ & cv & cp & chi2 & δΛ\\\\\n",
       "\t\\hline\n",
       "\t& Float64 & Float64 & Float64 & Float64 & Float64\\\\\n",
       "\t\\hline\n",
       "\t1 & 0.396144 & 0.0 & 0.0 & 14.6907 & 0.0010708 \\\\\n",
       "\t2 & 0.406574 & 0.05 & 0.0 & 14.7925 & 9.35406e-6 \\\\\n",
       "\t3 & 0.418013 & 0.1 & 0.0 & 14.8565 & 0.00106976 \\\\\n",
       "\t4 & 0.427908 & 0.15 & 0.0 & 16.0446 & 0.00091588 \\\\\n",
       "\t5 & 0.443976 & 0.2 & 0.0 & 14.967 & 0.00103724 \\\\\n",
       "\t6 & 0.458998 & 0.25 & 0.0 & 15.0305 & 3.87699e-5 \\\\\n",
       "\t7 & 0.475823 & 0.3 & 0.0 & 15.0499 & 0.00108523 \\\\\n",
       "\t8 & 0.491791 & 0.35 & 0.0 & 16.1788 & 0.00103412 \\\\\n",
       "\t9 & 0.513466 & 0.4 & 0.0 & 16.2047 & 0.00128803 \\\\\n",
       "\t10 & 0.539005 & 0.45 & 0.0 & 16.0857 & 0.00128303 \\\\\n",
       "\t11 & 0.574055 & 0.5 & 0.0 & 14.8931 & 0.000119612 \\\\\n",
       "\t12 & 0.60894 & 0.55 & 0.0 & 16.1296 & 0.00172532 \\\\\n",
       "\t13 & 0.661921 & 0.6 & 0.0 & 16.2679 & 0.000523199 \\\\\n",
       "\t14 & 0.756395 & 0.65 & 0.0 & 15.1383 & 0.000428152 \\\\\n",
       "\t15 & 1.42863 & 0.7 & 0.0 & 14.7328 & 0.0330566 \\\\\n",
       "\t16 & 1.81211 & 0.75 & 0.0 & 21.5649 & 2.15192e-5 \\\\\n",
       "\t17 & 0.443536 & 0.8 & 0.0 & 77.6402 & 0.00146886 \\\\\n",
       "\t18 & 2.01867 & 0.85 & 0.0 & 18.9657 & 0.00451773 \\\\\n",
       "\t19 & 0.831884 & 0.9 & 0.0 & 76.9442 & 0.00600471 \\\\\n",
       "\t20 & 0.437352 & 0.95 & 0.0 & 77.592 & 0.0135878 \\\\\n",
       "\t21 & 0.455124 & 1.0 & 0.0 & 77.5427 & 0.00238734 \\\\\n",
       "\\end{tabular}\n"
      ],
      "text/plain": [
       "\u001b[1m21×5 DataFrame\u001b[0m\n",
       "\u001b[1m Row \u001b[0m│\u001b[1m Λ        \u001b[0m\u001b[1m cv      \u001b[0m\u001b[1m cp      \u001b[0m\u001b[1m chi2    \u001b[0m\u001b[1m δΛ          \u001b[0m\n",
       "     │\u001b[90m Float64  \u001b[0m\u001b[90m Float64 \u001b[0m\u001b[90m Float64 \u001b[0m\u001b[90m Float64 \u001b[0m\u001b[90m Float64     \u001b[0m\n",
       "─────┼──────────────────────────────────────────────────\n",
       "   1 │ 0.396144     0.0       0.0  14.6907  0.0010708\n",
       "   2 │ 0.406574     0.05      0.0  14.7925  9.35406e-6\n",
       "   3 │ 0.418013     0.1       0.0  14.8565  0.00106976\n",
       "   4 │ 0.427908     0.15      0.0  16.0446  0.00091588\n",
       "   5 │ 0.443976     0.2       0.0  14.967   0.00103724\n",
       "   6 │ 0.458998     0.25      0.0  15.0305  3.87699e-5\n",
       "   7 │ 0.475823     0.3       0.0  15.0499  0.00108523\n",
       "   8 │ 0.491791     0.35      0.0  16.1788  0.00103412\n",
       "   9 │ 0.513466     0.4       0.0  16.2047  0.00128803\n",
       "  10 │ 0.539005     0.45      0.0  16.0857  0.00128303\n",
       "  11 │ 0.574055     0.5       0.0  14.8931  0.000119612\n",
       "  12 │ 0.60894      0.55      0.0  16.1296  0.00172532\n",
       "  13 │ 0.661921     0.6       0.0  16.2679  0.000523199\n",
       "  14 │ 0.756395     0.65      0.0  15.1383  0.000428152\n",
       "  15 │ 1.42863      0.7       0.0  14.7328  0.0330566\n",
       "  16 │ 1.81211      0.75      0.0  21.5649  2.15192e-5\n",
       "  17 │ 0.443536     0.8       0.0  77.6402  0.00146886\n",
       "  18 │ 2.01867      0.85      0.0  18.9657  0.00451773\n",
       "  19 │ 0.831884     0.9       0.0  76.9442  0.00600471\n",
       "  20 │ 0.437352     0.95      0.0  77.592   0.0135878\n",
       "  21 │ 0.455124     1.0       0.0  77.5427  0.00238734"
      ]
     },
     "execution_count": 18,
     "metadata": {},
     "output_type": "execute_result"
    }
   ],
   "source": [
    "df_tcc_cv=DataFrame(CSV.File(\"./output/df_cv.csv\", header = [\"Λ\", \"cv\",\"cp\",\"chi2\",\"δΛ\"]))"
   ]
  },
  {
   "cell_type": "code",
   "execution_count": 19,
   "id": "c027b507",
   "metadata": {},
   "outputs": [
    {
     "data": {
      "text/plain": [
       "Any[]"
      ]
     },
     "execution_count": 19,
     "metadata": {},
     "output_type": "execute_result"
    }
   ],
   "source": [
    "poles_rs1=[]"
   ]
  },
  {
   "cell_type": "code",
   "execution_count": 21,
   "id": "29ee38f9",
   "metadata": {},
   "outputs": [],
   "source": [
    "for i in 1:16\n",
    "    push!(poles_rs1,find_poles([1,df_tcc_cv.Λ[i]]))\n",
    "end"
   ]
  },
  {
   "cell_type": "code",
   "execution_count": 22,
   "id": "33c4039a",
   "metadata": {},
   "outputs": [
    {
     "data": {
      "text/plain": [
       "32-element Vector{Any}:\n",
       " -0.002099350779234843 - 3.979229904549488e-20im\n",
       " -0.002714578764483555 + 3.1568450679604396e-19im\n",
       "  -0.00346996292372026 - 5.44064775962091e-19im\n",
       " -0.004188992080810916 + 1.2915017638987446e-18im\n",
       " -0.005481181024835635 - 2.3544796280717063e-19im\n",
       " -0.006823469779182911 - 9.46948445028562e-19im\n",
       " -0.008474819258636579 + 8.807818559918033e-20im\n",
       " -0.010181416563668666 - 6.033749652281689e-19im\n",
       " -0.012707401835470922 + 1.5702536734443146e-18im\n",
       "  -0.01598156171190812 + 2.402993602134794e-18im\n",
       " -0.020975173108729095 + 1.502259167247342e-18im\n",
       "  -0.02649028636299322 - 3.408989967694543e-18im\n",
       "  -0.03583773194599038 - 2.8405222341310983e-18im\n",
       "                       ⋮\n",
       " -0.005481181024835635 - 2.3544796280717063e-19im\n",
       " -0.006823469779182911 - 9.46948445028562e-19im\n",
       " -0.008474819258636579 + 8.807818559918033e-20im\n",
       " -0.010181416563668666 - 6.033749652281689e-19im\n",
       " -0.012707401835470922 + 1.5702536734443146e-18im\n",
       "  -0.01598156171190812 + 2.402993602134794e-18im\n",
       " -0.020975173108729095 + 1.502259167247342e-18im\n",
       "  -0.02649028636299322 - 3.408989967694543e-18im\n",
       "  -0.03583773194599038 - 2.8405222341310983e-18im\n",
       "  -0.05512353757516353 + 8.059743831568888e-18im\n",
       "    -0.250732695140818 + 6.262669845694764e-17im\n",
       "    -0.380200064906663 - 2.8692576078000326e-18im"
      ]
     },
     "execution_count": 22,
     "metadata": {},
     "output_type": "execute_result"
    }
   ],
   "source": [
    "poles_rs1"
   ]
  },
  {
   "cell_type": "code",
   "execution_count": null,
   "id": "adc67bfb",
   "metadata": {},
   "outputs": [],
   "source": []
  }
 ],
 "metadata": {
  "@webio": {
   "lastCommId": null,
   "lastKernelId": null
  },
  "kernelspec": {
   "display_name": "Julia 1.8.0-rc1",
   "language": "julia",
   "name": "julia-1.8"
  },
  "language_info": {
   "file_extension": ".jl",
   "mimetype": "application/julia",
   "name": "julia",
   "version": "1.8.0"
  },
  "toc": {
   "base_numbering": 1,
   "nav_menu": {},
   "number_sections": true,
   "sideBar": true,
   "skip_h1_title": false,
   "title_cell": "Table of Contents",
   "title_sidebar": "Contents",
   "toc_cell": false,
   "toc_position": {},
   "toc_section_display": true,
   "toc_window_display": false
  }
 },
 "nbformat": 4,
 "nbformat_minor": 5
}
