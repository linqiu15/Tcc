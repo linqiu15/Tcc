{
 "cells": [
  {
   "cell_type": "code",
   "execution_count": 6,
   "id": "05d824b5",
   "metadata": {},
   "outputs": [],
   "source": [
    "using QuadGK,Plots,LaTeXStrings;\n",
    "using NLsolve;"
   ]
  },
  {
   "cell_type": "code",
   "execution_count": 2,
   "id": "224b83d3",
   "metadata": {},
   "outputs": [],
   "source": [
    "include(\"./LSE/onshell/libs/constants.jl\");"
   ]
  },
  {
   "cell_type": "code",
   "execution_count": 3,
   "id": "82a514f7",
   "metadata": {},
   "outputs": [
    {
     "data": {
      "text/plain": [
       "Dπ (generic function with 1 method)"
      ]
     },
     "execution_count": 3,
     "metadata": {},
     "output_type": "execute_result"
    }
   ],
   "source": [
    "function Dπ(M,p,q,z;mπ=mπc,mi=mDn,mj=mDn,mis=mDsn,mjs=mDsn)\n",
    "    return (-1/(2mπ)*(1/(mi+mj+mπ+p^2/(2*mi)+q^2/(2mj)+(p^2+q^2-2*p*q*z)/(2mπ)-M-im*eps())+1/(mis+mjs+mπ+p^2/(2*mis)+q^2/(2mjs)+(p^2+q^2-2*p*q*z)/(2mπ)-M-im*eps())))\n",
    "end"
   ]
  },
  {
   "cell_type": "code",
   "execution_count": 4,
   "id": "833023d6",
   "metadata": {},
   "outputs": [
    {
     "data": {
      "text/plain": [
       "integral (generic function with 1 method)"
      ]
     },
     "execution_count": 4,
     "metadata": {},
     "output_type": "execute_result"
    }
   ],
   "source": [
    "function integral(f)\n",
    "    res=zero(ComplexF64)\n",
    "    res+=quadgk(f,-1,-1-1000im)[1]\n",
    "    res+=quadgk(f,-1-1000im,1-1000im)[1]\n",
    "    res+=quadgk(f,1-1000im,1)[1]\n",
    "    return res \n",
    "end"
   ]
  },
  {
   "cell_type": "code",
   "execution_count": 5,
   "id": "1db664eb",
   "metadata": {},
   "outputs": [
    {
     "data": {
      "text/plain": [
       "integranddd (generic function with 1 method)"
      ]
     },
     "execution_count": 5,
     "metadata": {},
     "output_type": "execute_result"
    }
   ],
   "source": [
    "function integrandss(M,p,q,z)\n",
    "    return (p^2+q^2-2*p*q*z)*Dπ(M,p,q,z)\n",
    "end\n",
    "\n",
    "function integrandsd(M,p,q,z)\n",
    "    return (1/2*p^2*(3z^2-1)+q^2-2*p*q*z)*Dπ(M,p,q,z)\n",
    "end\n",
    "\n",
    "function integrandds(M,p,q,z)\n",
    "    return (p^2+1/2*q^2*(3z^2-1)-2*p*q*z)*Dπ(M,p,q,z)\n",
    "end\n",
    "\n",
    "function integranddd(M,p,q,z)\n",
    "    return (2(p^2+q^2)*(3z^2-1)-p*q*z*(9*z^2-1))*Dπ(M,p,q,z)\n",
    "end"
   ]
  },
  {
   "cell_type": "code",
   "execution_count": 11,
   "id": "dff5cb27",
   "metadata": {},
   "outputs": [
    {
     "data": {
      "text/plain": [
       "qon_0 (generic function with 1 method)"
      ]
     },
     "execution_count": 11,
     "metadata": {},
     "output_type": "execute_result"
    }
   ],
   "source": [
    "λf(x, y, z) = x^2 + y^2 + z^2 - 2 * x * y - 2 * x * z - 2 * y * z\n",
    "q0f(E, m1, m2, m3, m4) = abs(m3^2 - m4^2 - m1^2 + m2^2) / (2 * E)\n",
    "μf(m1, m2) = m1 * m2 / (m1 + m2)\n",
    "\n",
    "# redefine sqrt so that its cut is along the positive x axis\n",
    "function xsqrt(x)\n",
    "    imag(x) >=0 ? sqrt(x+0im) : -sqrt(x-0im)\n",
    "end\n",
    "xsqrt1(x)= (imag(x)<0&&real(x)>0) ? -xsqrt(x) : xsqrt(x)\n",
    "\n",
    "function Γf3(E,q,m1,m2,m3,m12)\n",
    "    E1=E+m12-sqrt(m12^2+q^2+0im)-sqrt(m3^2+q^2+0im)\n",
    "    μ=(m1*m2)/(m1+m2)\n",
    "    return (imag(E1)<0&&real(E1)>(m1+m2)) ? -xsqrt(2*μ*(E1-m1-m2)+0im)^3 : xsqrt(2*μ*(E1-m1-m2)+0im)^3\n",
    "end\n",
    "\n",
    "ΓDscf(E, p) = (ΓRDsc + g^2 * mDn / (6 * π * fπ^2 * mDsc) * Γf3(E, p, mDn, mπc, mDn,mDsc)\n",
    "                                   + g^2 * mDc / (12 * π * fπ^2 * mDsc) * Γf3(E, p, mDc, mπn, mDn,mDsc))\n",
    "\n",
    "ΓDsnf(E, p) = (ΓRDsn + g^2 * mDn / (12 * π * fπ^2 * mDsn) * Γf3(E, p, mDn, mπn, mDc,mDsn)\n",
    "                                   + g^2 * mDc / (6 * π * fπ^2 * mDsn) * (Γf3(E, p, mDc, mπc, mDc,mDsn) - Γf3(mDc + mDsn, 0, mDc, mπc, mDc,mDsn)))\n",
    "\n",
    "function find_singular(E, den; pstart = [0.01, 0.01])\n",
    "    function f!(F, x)\n",
    "        pr, pi = x\n",
    "        tmp = den(E, pr + im * pi)\n",
    "        F[1] = real(tmp)\n",
    "        F[2] = imag(tmp)\n",
    "    end\n",
    "    sol = NLsolve.nlsolve((F, x) -> f!(F, x), pstart)\n",
    "    @assert sol.residual_norm < 1e-8 \"The on-shell momentum not found!\"\n",
    "    return sol.zero[1] + im * sol.zero[2]\n",
    "#     return sol.residual_norm < 1e-8 ? sol.zero[1] + im * sol.zero[2] : NaN+im*NaN\n",
    "end\n",
    "\n",
    "qon_c(E)=find_singular(E, (E, p) -> E-mDn-mDsc - p^2 / (2 * μf(mDn, mDsc)) + im * ΓDscf(E, p) / 2; pstart = [reim(xsqrt1(E-mDn-mDsc + im * ΓDsc / 2))...])\n",
    "\n",
    "qon_0(E)=find_singular(E, (E, p) -> E-mDc-mDsn - p^2 / (2 * μf(mDc, mDsn)) + im * ΓDsnf(E, p) / 2; pstart = [reim(xsqrt1(E-mDc-mDsn + im * ΓDsn / 2))...])"
   ]
  },
  {
   "cell_type": "code",
   "execution_count": 12,
   "id": "3b787f5d",
   "metadata": {},
   "outputs": [
    {
     "name": "stdout",
     "output_type": "stream",
     "text": [
      "0.0029372246221008136 + 0.014184313944713145im\n",
      "0.002937224622071771 + 0.014184313944707129im\n"
     ]
    }
   ],
   "source": [
    "qon_c(3.875+im*eps())|>println\n",
    "qon_c(3.875-im*eps())|>println"
   ]
  },
  {
   "cell_type": "code",
   "execution_count": 13,
   "id": "7883ecf1",
   "metadata": {},
   "outputs": [
    {
     "data": {
      "text/plain": [
       "integranddd (generic function with 2 methods)"
      ]
     },
     "execution_count": 13,
     "metadata": {},
     "output_type": "execute_result"
    }
   ],
   "source": [
    "function integrandss(M,z)\n",
    "    p=qon_c(M)\n",
    "    return integrandss(M,p,p,z)\n",
    "end\n",
    "function integrandsd(M,z)\n",
    "    p=qon_c(M)\n",
    "    return integrandsd(M,p,p,z)\n",
    "end\n",
    "function integrandds(M,z)\n",
    "    p=qon_c(M)\n",
    "    return integrandds(M,p,p,z)\n",
    "end\n",
    "function integranddd(M,z)\n",
    "    p=qon_c(M)\n",
    "    return integranddd(M,p,p,z)\n",
    "end"
   ]
  },
  {
   "cell_type": "code",
   "execution_count": 14,
   "id": "a466b81c",
   "metadata": {},
   "outputs": [
    {
     "data": {
      "text/plain": [
       "-0.10505131218484731 + 0.038904563859477666im"
      ]
     },
     "execution_count": 14,
     "metadata": {},
     "output_type": "execute_result"
    }
   ],
   "source": [
    "integrandss(3.875,0.5)"
   ]
  },
  {
   "cell_type": "code",
   "execution_count": null,
   "id": "e365c16c",
   "metadata": {},
   "outputs": [],
   "source": []
  }
 ],
 "metadata": {
  "kernelspec": {
   "display_name": "Julia 1.8.0-rc1",
   "language": "julia",
   "name": "julia-1.8"
  },
  "language_info": {
   "file_extension": ".jl",
   "mimetype": "application/julia",
   "name": "julia",
   "version": "1.8.0"
  },
  "toc": {
   "base_numbering": 1,
   "nav_menu": {},
   "number_sections": true,
   "sideBar": true,
   "skip_h1_title": false,
   "title_cell": "Table of Contents",
   "title_sidebar": "Contents",
   "toc_cell": false,
   "toc_position": {},
   "toc_section_display": true,
   "toc_window_display": false
  }
 },
 "nbformat": 4,
 "nbformat_minor": 5
}
